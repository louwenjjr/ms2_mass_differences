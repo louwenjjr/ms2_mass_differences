{
 "cells": [
  {
   "cell_type": "markdown",
   "id": "front-address",
   "metadata": {},
   "source": [
    "# Summary\n",
    "This notebook is used to transform mass difference (MD) 'documents' created in notebook 1 and normally processed SpectrumDocuments from the AllPositive dataset into lists of spectrum presence/absence per MD/fragment so Jaccard index can be used to assess correlation between MDs and fragments. Instead of binary presence/absence we will try also a weighted Jaccard using: in-spectrum counts, highest intensity, and transformed intensities.\n",
    "\n",
    "Each MD/fragment will be represented by two lists: the spectra it occurs in and the intensities/counts in the spectra (linked lists). A MD/fragment will be a tuple of (MD/fragment, [spectrum_A,], [intensity_spectrum_A,]). From this we can calculate Jaccard similarities and put these in a matrix:\n",
    "\n",
    "```\n",
    "    fragment0 →\n",
    "MD0 Jaccard0,0\n",
    "↓\n",
    "```"
   ]
  },
  {
   "cell_type": "code",
   "execution_count": 57,
   "id": "coral-marker",
   "metadata": {},
   "outputs": [],
   "source": [
    "import os\n",
    "import numpy as np\n",
    "import pandas as pd\n",
    "from matplotlib import pyplot as plt\n",
    "import pickle\n",
    "\n",
    "data_path = \"/mnt/scratch/louwe015/Mass_differences/data/\""
   ]
  },
  {
   "cell_type": "markdown",
   "id": "congressional-gallery",
   "metadata": {},
   "source": [
    "## Determine AllPositive version; default is version 2"
   ]
  },
  {
   "cell_type": "code",
   "execution_count": 58,
   "id": "funded-greek",
   "metadata": {},
   "outputs": [
    {
     "name": "stdout",
     "output_type": "stream",
     "text": [
      "ALL_GNPS_210125_positive_cleaned_by_matchms_and_lookups\n"
     ]
    }
   ],
   "source": [
    "all_pos_version1 = False\n",
    "if all_pos_version1:\n",
    "    all_pos = \"gnps_positive_ionmode_cleaned_by_matchms_and_lookups\"\n",
    "else:\n",
    "    all_pos = \"ALL_GNPS_210125_positive_cleaned_by_matchms_and_lookups\"\n",
    "\n",
    "print(all_pos)"
   ]
  },
  {
   "cell_type": "markdown",
   "id": "prescription-domestic",
   "metadata": {},
   "source": [
    "## Load SpectrumDocuments\n"
   ]
  },
  {
   "cell_type": "code",
   "execution_count": 59,
   "id": "nuclear-theorem",
   "metadata": {},
   "outputs": [],
   "source": [
    "# load processed SpectrumDocuments file\n",
    "documents_file = os.path.join(data_path, all_pos + \"_processed_documents.pickle\")\n",
    "if os.path.exists(documents_file):\n",
    "    with open(documents_file, 'rb') as inf:\n",
    "        documents_spectrums_processed = pickle.load(inf)  # list of SpectrumDocuments\n",
    "else:\n",
    "    print(\"error\")"
   ]
  },
  {
   "cell_type": "code",
   "execution_count": 60,
   "id": "incident-architect",
   "metadata": {},
   "outputs": [
    {
     "name": "stdout",
     "output_type": "stream",
     "text": [
      "115344\n"
     ]
    }
   ],
   "source": [
    "print(len(documents_spectrums_processed))"
   ]
  },
  {
   "cell_type": "code",
   "execution_count": 61,
   "id": "north-carnival",
   "metadata": {},
   "outputs": [
    {
     "data": {
      "text/plain": [
       "(['peak@289.29',\n",
       "  'peak@295.55',\n",
       "  'peak@298.49',\n",
       "  'peak@317.32',\n",
       "  'peak@319.66',\n",
       "  'peak@324.48',\n",
       "  'peak@325.32',\n",
       "  'peak@339.79',\n",
       "  'peak@343.95',\n",
       "  'peak@347.02'],\n",
       " [0.010552985325490535,\n",
       "  0.029439271284186348,\n",
       "  0.005133920104431129,\n",
       "  0.02451463199929891,\n",
       "  0.011254076070961894,\n",
       "  0.010517669187192538,\n",
       "  0.012737353879477793,\n",
       "  0.021117742697080402,\n",
       "  0.023667044680146968,\n",
       "  0.018287219612752002])"
      ]
     },
     "execution_count": 61,
     "metadata": {},
     "output_type": "execute_result"
    }
   ],
   "source": [
    "documents_spectrums_processed[0].words[:10], documents_spectrums_processed[0].weights[:10]"
   ]
  },
  {
   "cell_type": "markdown",
   "id": "assumed-frost",
   "metadata": {},
   "source": [
    "## Get spectrum occurrence per fragment/neutral loss"
   ]
  },
  {
   "cell_type": "code",
   "execution_count": 62,
   "id": "verified-louisville",
   "metadata": {},
   "outputs": [],
   "source": [
    "# get per_fragment spectrum occurrence\n",
    "per_fragment_spec_occ_dict = {}  # dict of {frag: [[spectra_names], [intensities]]}\n",
    "for i, doc in enumerate(documents_spectrums_processed):\n",
    "    spec_name = str(i)\n",
    "    for word, intensity in zip(doc.words, doc.weights):\n",
    "        if word in per_fragment_spec_occ_dict:\n",
    "            per_fragment_spec_occ_dict[word][0].append(spec_name)\n",
    "            per_fragment_spec_occ_dict[word][1].append(intensity)\n",
    "        else:\n",
    "            per_fragment_spec_occ_dict[word] = []\n",
    "            per_fragment_spec_occ_dict[word].append([spec_name])\n",
    "            per_fragment_spec_occ_dict[word].append([intensity])"
   ]
  },
  {
   "cell_type": "code",
   "execution_count": 63,
   "id": "cutting-quantity",
   "metadata": {},
   "outputs": [
    {
     "name": "stdout",
     "output_type": "stream",
     "text": [
      "Number of fragments (and neutral losses): 115913\n"
     ]
    }
   ],
   "source": [
    "print(\"Number of fragments (and neutral losses):\", len(per_fragment_spec_occ_dict.keys()))"
   ]
  },
  {
   "cell_type": "code",
   "execution_count": 64,
   "id": "excess-england",
   "metadata": {},
   "outputs": [],
   "source": [
    "# get the occurrence per fragment\n",
    "fragment_occurrences = [len(vals[0]) for vals in per_fragment_spec_occ_dict.values()]"
   ]
  },
  {
   "cell_type": "code",
   "execution_count": 65,
   "id": "atomic-illness",
   "metadata": {},
   "outputs": [
    {
     "name": "stdout",
     "output_type": "stream",
     "text": [
      "Ten highest fragment occurences: [24287, 24611, 24865, 24954, 26422, 27304, 29530, 29722, 31573, 32752]\n"
     ]
    },
    {
     "data": {
      "image/png": "[encoded data removed]",
      "text/plain": [
       "<Figure size 432x288 with 1 Axes>"
      ]
     },
     "metadata": {
      "needs_background": "light"
     },
     "output_type": "display_data"
    },
    {
     "name": "stdout",
     "output_type": "stream",
     "text": [
      "110916 fragments and neutral losses left after filtering for occurrence between 0 and 500\n"
     ]
    },
    {
     "data": {
      "image/png": "[encoded data removed]",
      "text/plain": [
       "<Figure size 432x288 with 1 Axes>"
      ]
     },
     "metadata": {
      "needs_background": "light"
     },
     "output_type": "display_data"
    }
   ],
   "source": [
    "sorted_fragment_occurrences = sorted(fragment_occurrences)\n",
    "print(\"Ten highest fragment occurences:\", sorted_fragment_occurrences[-10:])\n",
    "plt.subplots(0)\n",
    "plt.hist(fragment_occurrences, bins = 500)\n",
    "plt.show()\n",
    "\n",
    "cut_max = 500\n",
    "cut_min = 0\n",
    "filtered_fragment_occurrences = [occ for occ in fragment_occurrences if occ >= cut_min and occ < cut_max]\n",
    "print(f\"{len(filtered_fragment_occurrences)} fragments and neutral losses left after filtering for occurrence between {cut_min} and {cut_max}\")\n",
    "plt.subplots(1)\n",
    "plt.hist(filtered_fragment_occurrences, bins = cut_max - cut_min)\n",
    "plt.show()"
   ]
  },
  {
   "cell_type": "code",
   "execution_count": 66,
   "id": "distinct-exposure",
   "metadata": {},
   "outputs": [
    {
     "data": {
      "text/plain": [
       "2778"
      ]
     },
     "execution_count": 66,
     "metadata": {},
     "output_type": "execute_result"
    }
   ],
   "source": [
    "len(per_fragment_spec_occ_dict[\"peak@163.06\"][0])  # hexose?"
   ]
  },
  {
   "cell_type": "code",
   "execution_count": 67,
   "id": "immediate-saskatchewan",
   "metadata": {},
   "outputs": [
    {
     "name": "stdout",
     "output_type": "stream",
     "text": [
      "Filtering out fragments above 115344 occurrence.\n",
      "115913 fragments + neutral losses left after filtering\n"
     ]
    }
   ],
   "source": [
    "# there are only a few thousands of fragments that are removed if filtering for max occ of 500, so leave that for now\n",
    "\n",
    "cut_max = len(documents_spectrums_processed)\n",
    "print(f\"Filtering out fragments above {cut_max} occurrence.\")\n",
    "per_fragment_spec_occ_dict_filtered = {key:val for key, val in per_fragment_spec_occ_dict.items() if len(val[0]) < cut_max}\n",
    "print(f\"{len(per_fragment_spec_occ_dict_filtered)} fragments + neutral losses left after filtering\")"
   ]
  },
  {
   "cell_type": "markdown",
   "id": "excellent-basics",
   "metadata": {},
   "source": [
    "## Get spectrum occurrence per MD"
   ]
  },
  {
   "cell_type": "code",
   "execution_count": 68,
   "id": "opposite-plasma",
   "metadata": {},
   "outputs": [
    {
     "name": "stdout",
     "output_type": "stream",
     "text": [
      "115344\n"
     ]
    }
   ],
   "source": [
    "# load md documents\n",
    "md_documents_filtered_file = os.path.join(data_path, all_pos + \"_mass_difference_documents_filtered.pickle\")\n",
    "if os.path.exists(md_documents_filtered_file):\n",
    "    with open(md_documents_filtered_file, 'rb') as inf:\n",
    "        md_documents_filtered = pickle.load(inf)  # list of list of tuples 'documents'\n",
    "    print(len(md_documents_filtered))\n",
    "else:\n",
    "    print(\"error\")"
   ]
  },
  {
   "cell_type": "code",
   "execution_count": 69,
   "id": "handed-hampton",
   "metadata": {},
   "outputs": [],
   "source": [
    "per_md_spec_occ_dict = {}  # dict of {frag: [[spectra_names], [[intensities]]]}\n",
    "for i, doc in enumerate(md_documents_filtered):\n",
    "    spec_name = str(i)\n",
    "    for tup in doc:\n",
    "        word = tup[0]\n",
    "        intensity = tup[1]\n",
    "        if word in per_md_spec_occ_dict:\n",
    "            per_md_spec_occ_dict[word][0].append(spec_name)\n",
    "            per_md_spec_occ_dict[word][1].append(intensity)\n",
    "        else:\n",
    "            per_md_spec_occ_dict[word] = []\n",
    "            per_md_spec_occ_dict[word].append([spec_name])\n",
    "            per_md_spec_occ_dict[word].append([intensity])"
   ]
  },
  {
   "cell_type": "code",
   "execution_count": 88,
   "id": "regional-carbon",
   "metadata": {},
   "outputs": [
    {
     "name": "stdout",
     "output_type": "stream",
     "text": [
      "Number of MDs: 61348\n"
     ]
    }
   ],
   "source": [
    "print(\"Number of MDs:\", len(per_md_spec_occ_dict))"
   ]
  },
  {
   "cell_type": "code",
   "execution_count": 70,
   "id": "thirty-hungary",
   "metadata": {},
   "outputs": [
    {
     "data": {
      "text/plain": [
       "4072"
      ]
     },
     "execution_count": 70,
     "metadata": {},
     "output_type": "execute_result"
    }
   ],
   "source": [
    "len(per_md_spec_occ_dict.get('162.05')[0])  # hexose"
   ]
  },
  {
   "cell_type": "code",
   "execution_count": 71,
   "id": "appropriate-opera",
   "metadata": {},
   "outputs": [
    {
     "data": {
      "text/plain": [
       "35070"
      ]
     },
     "execution_count": 71,
     "metadata": {},
     "output_type": "execute_result"
    }
   ],
   "source": [
    "# i know from notebook 1 that this is the highest occurring MD, should be 26111 for allpos1, 35070 for allpos2\n",
    "len(per_md_spec_occ_dict.get('42.01')[0])"
   ]
  },
  {
   "cell_type": "markdown",
   "id": "hybrid-content",
   "metadata": {},
   "source": [
    "## Turning spectra occurrence dicts into lists\n",
    "Lists of [(md/fragment, [spectra_names], [intensities])]"
   ]
  },
  {
   "cell_type": "code",
   "execution_count": 72,
   "id": "indoor-netherlands",
   "metadata": {},
   "outputs": [
    {
     "data": {
      "text/plain": [
       "('912.67',\n",
       " ['100648',\n",
       "  '100649',\n",
       "  '101508',\n",
       "  '101509',\n",
       "  '104784',\n",
       "  '104785',\n",
       "  '108288',\n",
       "  '108289'],\n",
       " [[0.38525427999999995],\n",
       "  [0.32867342],\n",
       "  [0.53449456],\n",
       "  [0.36059795],\n",
       "  [0.052871440000000006],\n",
       "  [0.07313484499999999],\n",
       "  [0.105346225],\n",
       "  [0.14332695]])"
      ]
     },
     "execution_count": 72,
     "metadata": {},
     "output_type": "execute_result"
    }
   ],
   "source": [
    "# mass differences\n",
    "per_md_spec_occ = [(key, val[0], val[1]) for key, val in per_md_spec_occ_dict.items()]\n",
    "per_md_spec_occ.sort(key=lambda x: float(x[0]))\n",
    "per_md_spec_occ[-1]"
   ]
  },
  {
   "cell_type": "code",
   "execution_count": 73,
   "id": "alternate-spokesman",
   "metadata": {},
   "outputs": [
    {
     "data": {
      "text/plain": [
       "('peak@1000.00',\n",
       " ['700', '1057', '1099', '66447'],\n",
       " [0.01429215889741276, 0.8959261189460379, 0.8959261189460379, 0.004])"
      ]
     },
     "execution_count": 73,
     "metadata": {},
     "output_type": "execute_result"
    }
   ],
   "source": [
    "per_fragment_spec_occ = [(key, val[0], val[1]) for key, val in per_fragment_spec_occ_dict_filtered.items()]\n",
    "per_fragment_spec_occ.sort(key=lambda x: float(x[0].split(\"@\")[-1]))\n",
    "per_fragment_spec_occ[-1]"
   ]
  },
  {
   "cell_type": "markdown",
   "id": "going-proof",
   "metadata": {},
   "source": [
    "## Prospecting of how to calculate the jaccard similarity for all the pairs"
   ]
  },
  {
   "cell_type": "code",
   "execution_count": 74,
   "id": "regional-subject",
   "metadata": {},
   "outputs": [
    {
     "data": {
      "text/plain": [
       "7111030724"
      ]
     },
     "execution_count": 74,
     "metadata": {},
     "output_type": "execute_result"
    }
   ],
   "source": [
    "# number of operations\n",
    "len(per_fragment_spec_occ) * len(per_md_spec_occ)"
   ]
  },
  {
   "cell_type": "code",
   "execution_count": 75,
   "id": "numerical-durham",
   "metadata": {},
   "outputs": [
    {
     "data": {
      "text/plain": [
       "5914683376"
      ]
     },
     "execution_count": 75,
     "metadata": {},
     "output_type": "execute_result"
    }
   ],
   "source": [
    "# number of operations without losses\n",
    "len([0 for tup in per_fragment_spec_occ if not 'loss' in tup[0]])* len(per_md_spec_occ)"
   ]
  },
  {
   "cell_type": "code",
   "execution_count": 76,
   "id": "inner-raleigh",
   "metadata": {},
   "outputs": [],
   "source": [
    "# do some multiprocessing approach per row of operations? and represent as sparse matrices? -> most values will be 0"
   ]
  },
  {
   "cell_type": "code",
   "execution_count": 77,
   "id": "seeing-resort",
   "metadata": {},
   "outputs": [],
   "source": [
    "from typing import List\n",
    "def jaccard_list_occurrences(list_1: List[str], list_2: List[str]) -> float:\n",
    "    \"\"\"Return jaccard similarity (intersection/union) of the input lists\n",
    "    \n",
    "    Parameters\n",
    "    ------------\n",
    "    list_1:\n",
    "        List of words (str)\n",
    "    list_2:\n",
    "        List of words (str)\n",
    "    \"\"\"\n",
    "    set_1 = set(list_1)\n",
    "    set_2 = set(list_2)\n",
    "    jac_sim = len(set_1 & set_2) / len(set_1 | set_2)\n",
    "    return jac_sim"
   ]
  },
  {
   "cell_type": "code",
   "execution_count": 78,
   "id": "specified-nicaragua",
   "metadata": {},
   "outputs": [
    {
     "name": "stdout",
     "output_type": "stream",
     "text": [
      "162.05\n"
     ]
    },
    {
     "data": {
      "text/plain": [
       "([(28350, 0.21161387631975867),\n",
       "  (24949, 0.16437166604639622),\n",
       "  (28150, 0.15986977381768336),\n",
       "  (32948, 0.1447531410369846),\n",
       "  (21347, 0.14392841925862804)],\n",
       " ['loss@162.05', 'peak@145.05', 'loss@161.05', 'peak@185.04', 'peak@127.04'])"
      ]
     },
     "execution_count": 78,
     "metadata": {},
     "output_type": "execute_result"
    }
   ],
   "source": [
    "x=12605 # 162.05 hexose\n",
    "print(per_md_spec_occ[x][0])\n",
    "\n",
    "results = []\n",
    "for i, frag_info in enumerate(per_fragment_spec_occ):\n",
    "    jac_sim = jaccard_list_occurrences(per_md_spec_occ[x][1], per_fragment_spec_occ[i][1])\n",
    "    results.append((i, jac_sim))\n",
    "\n",
    "results.sort(key=lambda x: x[1], reverse=True)\n",
    "results[:5], [per_fragment_spec_occ[res[0]][0] for res in results[:5]]\n",
    "# 'peak@145.05' is hexose - water!"
   ]
  },
  {
   "cell_type": "code",
   "execution_count": 79,
   "id": "floating-anime",
   "metadata": {},
   "outputs": [
    {
     "name": "stdout",
     "output_type": "stream",
     "text": [
      "Time (s) elapsed: 35.17051863670349\n"
     ]
    }
   ],
   "source": [
    "# how long does one row take?\n",
    "import time\n",
    "\n",
    "start = time.time()\n",
    "results = []\n",
    "for i, frag_info in enumerate(per_fragment_spec_occ):\n",
    "    jac_sim = jaccard_list_occurrences(per_md_spec_occ[x][1], per_fragment_spec_occ[i][1])\n",
    "    results.append((i, jac_sim))\n",
    "end = time.time()\n",
    "print(\"Time (s) elapsed:\", end-start)"
   ]
  },
  {
   "cell_type": "markdown",
   "id": "short-omega",
   "metadata": {},
   "source": [
    "## Make some multiprocessing function that takes one row of computation per worker"
   ]
  },
  {
   "cell_type": "code",
   "execution_count": 81,
   "id": "preliminary-startup",
   "metadata": {},
   "outputs": [],
   "source": [
    "from multiprocessing import Pool\n",
    "from typing import List\n",
    "\n",
    "def calculate_row_jaccard(md_occ_list: List[str], all_fragment_occ_list: List[List[str]]) -> List[float]:\n",
    "    \"\"\"For one mass difference, calc Jaccard similarity to all fragments/neutral losses\n",
    "    \n",
    "    Parameters\n",
    "    -----------\n",
    "    md_occ_list:\n",
    "        List of spectra names in which a MD occurs\n",
    "    all_fragment_occ_list:\n",
    "        List of list of spectra names of spectra occurrences for all fragments/neutral losses\n",
    "    \"\"\"\n",
    "    jaccard_sims = []\n",
    "    for frag_occ_list in all_fragment_occ_list:\n",
    "        jaccard_sims.append(jaccard_list_occurrences(md_occ_list, frag_occ_list))\n",
    "    return jaccard_sims"
   ]
  },
  {
   "cell_type": "code",
   "execution_count": 82,
   "id": "difficult-asbestos",
   "metadata": {},
   "outputs": [
    {
     "data": {
      "text/plain": [
       "(115913, 85616)"
      ]
     },
     "execution_count": 82,
     "metadata": {},
     "output_type": "execute_result"
    }
   ],
   "source": [
    "x = 12605\n",
    "test_md_occ_list = per_md_spec_occ[x][1]\n",
    "test_all_fragment_occ_list = [tup[1] for tup in per_fragment_spec_occ]\n",
    "jacc_x = calculate_row_jaccard(test_md_occ_list, test_all_fragment_occ_list)\n",
    "len(jacc_x), len([jx for jx in jacc_x if jx != 0])"
   ]
  },
  {
   "cell_type": "code",
   "execution_count": 83,
   "id": "colored-convert",
   "metadata": {},
   "outputs": [],
   "source": [
    "test_len = 100\n",
    "test_mp_md_occ_list = [per_md_spec_occ[y][1] for y in range(test_len)]"
   ]
  },
  {
   "cell_type": "code",
   "execution_count": 84,
   "id": "assigned-intensity",
   "metadata": {},
   "outputs": [
    {
     "name": "stdout",
     "output_type": "stream",
     "text": [
      "Time elapsed for 100 rows: 465.0658988952637 s\n"
     ]
    }
   ],
   "source": [
    "import time\n",
    "from functools import partial\n",
    "\n",
    "start = time.time()\n",
    "with Pool(processes=4) as pool:\n",
    "    jaccard_similarities_test_100 = pool.map(partial(\\\n",
    "                                                     calculate_row_jaccard,\n",
    "                                                     all_fragment_occ_list = test_all_fragment_occ_list),\n",
    "                                             test_mp_md_occ_list)\n",
    "end = time.time()\n",
    "print(f\"Time elapsed for {test_len} rows: {end-start} s\")\n",
    "# move to a script so it can be run in background"
   ]
  },
  {
   "cell_type": "code",
   "execution_count": 89,
   "id": "technological-america",
   "metadata": {},
   "outputs": [
    {
     "name": "stdout",
     "output_type": "stream",
     "text": [
      "Projected time (h) for total dataset: 79.25239657062954 With 24 cores: 3.3021831904428978\n"
     ]
    }
   ],
   "source": [
    "# projected time of all comparisons -> with multiple cores this is perfectly fine\n",
    "tot_time = (end-start)/test_len*len(per_md_spec_occ)/3600\n",
    "print('Projected time (h) for total dataset:', tot_time, \"With 24 cores:\", tot_time/24)"
   ]
  },
  {
   "cell_type": "code",
   "execution_count": 85,
   "id": "incorporated-dylan",
   "metadata": {},
   "outputs": [
    {
     "data": {
      "text/plain": [
       "100"
      ]
     },
     "execution_count": 85,
     "metadata": {},
     "output_type": "execute_result"
    }
   ],
   "source": [
    "len(jaccard_similarities_test_100)"
   ]
  },
  {
   "cell_type": "markdown",
   "id": "utility-emperor",
   "metadata": {},
   "source": [
    "## Save files"
   ]
  },
  {
   "cell_type": "code",
   "execution_count": 86,
   "id": "leading-wholesale",
   "metadata": {},
   "outputs": [],
   "source": [
    "md_occ_list_file = os.path.join(data_path, all_pos + \"_mass_difference_occurrence.pickle\")\n",
    "with open(md_occ_list_file, 'wb') as outf:\n",
    "    pickle.dump(per_md_spec_occ, outf)"
   ]
  },
  {
   "cell_type": "code",
   "execution_count": 87,
   "id": "pointed-vision",
   "metadata": {},
   "outputs": [],
   "source": [
    "frag_occ_list_file = os.path.join(data_path, all_pos + \"_fragments_occurrences.pickle\")\n",
    "with open(frag_occ_list_file, 'wb') as outf:\n",
    "    pickle.dump(per_fragment_spec_occ, outf)"
   ]
  }
 ],
 "metadata": {
  "kernelspec": {
   "display_name": "Python 3",
   "language": "python",
   "name": "python3"
  },
  "language_info": {
   "codemirror_mode": {
    "name": "ipython",
    "version": 3
   },
   "file_extension": ".py",
   "mimetype": "text/x-python",
   "name": "python",
   "nbconvert_exporter": "python",
   "pygments_lexer": "ipython3",
   "version": "3.7.9"
  }
 },
 "nbformat": 4,
 "nbformat_minor": 5
}
