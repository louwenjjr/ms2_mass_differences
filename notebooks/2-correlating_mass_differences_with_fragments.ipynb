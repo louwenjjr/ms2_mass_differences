{
 "cells": [
  {
   "cell_type": "markdown",
   "id": "front-address",
   "metadata": {},
   "source": [
    "# Summary\n",
    "This notebook is used to transform mass difference (MD) 'documents' created in notebook 1 and normally processed SpectrumDocuments from the AllPositive dataset into vectors of presence/absence per MD/fragment so Jaccard index can be used to assess correlation between MDs and fragments. Instead of binary presence/absence we will try also a weighted Jaccard using: in-spectrum counts, highest intensity, and transformed intensities."
   ]
  },
  {
   "cell_type": "code",
   "execution_count": 2,
   "id": "coral-marker",
   "metadata": {},
   "outputs": [],
   "source": [
    "import os\n",
    "import numpy as np\n",
    "import pandas as pd\n",
    "from matplotlib import pyplot as plt\n",
    "import pickle"
   ]
  },
  {
   "cell_type": "markdown",
   "id": "civic-distance",
   "metadata": {},
   "source": [
    "## Load SpectrumDocuments\n"
   ]
  },
  {
   "cell_type": "code",
   "execution_count": 3,
   "id": "nuclear-theorem",
   "metadata": {},
   "outputs": [],
   "source": [
    "# load processed SpectrumDocuments file\n",
    "documents_file = \"/mnt/scratch/louwe015/Mass_differences/data/gnps_positive_ionmode_cleaned_by_matchms_and_lookups_processed_documents.pickle\"\n",
    "if os.path.exists(documents_file):\n",
    "    with open(documents_file, 'rb') as inf:\n",
    "        documents_spectrums_processed = pickle.load(inf)  # list of SpectrumDocuments\n",
    "else:\n",
    "    print(\"error\")"
   ]
  },
  {
   "cell_type": "code",
   "execution_count": 4,
   "id": "economic-withdrawal",
   "metadata": {},
   "outputs": [
    {
     "name": "stdout",
     "output_type": "stream",
     "text": [
      "95320\n"
     ]
    }
   ],
   "source": [
    "print(len(documents_spectrums_processed))"
   ]
  }
 ],
 "metadata": {
  "kernelspec": {
   "display_name": "Python 3",
   "language": "python",
   "name": "python3"
  },
  "language_info": {
   "codemirror_mode": {
    "name": "ipython",
    "version": 3
   },
   "file_extension": ".py",
   "mimetype": "text/x-python",
   "name": "python",
   "nbconvert_exporter": "python",
   "pygments_lexer": "ipython3",
   "version": "3.7.9"
  }
 },
 "nbformat": 4,
 "nbformat_minor": 5
}
