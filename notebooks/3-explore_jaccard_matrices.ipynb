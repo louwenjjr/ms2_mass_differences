{
 "cells": [
  {
   "cell_type": "markdown",
   "id": "friendly-material",
   "metadata": {},
   "source": [
    "# Summary\n",
    "Exploring the jaccard scores generated between fragments+neutral losses and MDs.\n",
    "\n",
    "Scores are organised in a (large) csv that looks like this:\n",
    "```\n",
    "    fragment0 →\n",
    "MD0 Jaccard0,0\n",
    "↓\n",
    "```"
   ]
  },
  {
   "cell_type": "code",
   "execution_count": 14,
   "id": "czech-scheme",
   "metadata": {},
   "outputs": [],
   "source": [
    "import os\n",
    "import numpy as np\n",
    "import pandas as pd\n",
    "from matplotlib import pyplot as plt\n",
    "import pickle\n",
    "import time\n",
    "\n",
    "data_path = \"/mnt/scratch/louwe015/Mass_differences/data/\""
   ]
  },
  {
   "cell_type": "markdown",
   "id": "congressional-gallery",
   "metadata": {},
   "source": [
    "## Determine AllPositive version; default is version 2"
   ]
  },
  {
   "cell_type": "code",
   "execution_count": 2,
   "id": "threaded-surge",
   "metadata": {},
   "outputs": [
    {
     "name": "stdout",
     "output_type": "stream",
     "text": [
      "ALL_GNPS_210125_positive_cleaned_by_matchms_and_lookups\n"
     ]
    }
   ],
   "source": [
    "all_pos_version1 = False\n",
    "if all_pos_version1:\n",
    "    all_pos = \"gnps_positive_ionmode_cleaned_by_matchms_and_lookups\"\n",
    "else:\n",
    "    all_pos = \"ALL_GNPS_210125_positive_cleaned_by_matchms_and_lookups\"\n",
    "\n",
    "print(all_pos)"
   ]
  },
  {
   "cell_type": "code",
   "execution_count": 4,
   "id": "presidential-today",
   "metadata": {},
   "outputs": [
    {
     "name": "stdout",
     "output_type": "stream",
     "text": [
      "jaccard_matrix_allpos2_25-2-2021.csv\n"
     ]
    }
   ],
   "source": [
    "if all_pos_version1:\n",
    "    jacc_mat_file = \"jaccard_matrix_allpos1_25-2-2021.csv\"\n",
    "else:\n",
    "    jacc_mat_file = \"jaccard_matrix_allpos2_25-2-2021.csv\"\n",
    "print(jacc_mat_file)"
   ]
  },
  {
   "cell_type": "markdown",
   "id": "corresponding-latitude",
   "metadata": {},
   "source": [
    "## Explore jaccard matrix"
   ]
  },
  {
   "cell_type": "code",
   "execution_count": 6,
   "id": "continuous-stuff",
   "metadata": {},
   "outputs": [
    {
     "name": "stdout",
     "output_type": "stream",
     "text": [
      "/mnt/scratch/louwe015/Mass_differences/data/jaccard_matrices/jaccard_matrix_allpos2_25-2-2021.csv True\n"
     ]
    }
   ],
   "source": [
    "jacc_mat_path = os.path.join(data_path, \"jaccard_matrices\", jacc_mat_file)\n",
    "print(jacc_mat_path, os.path.isfile(jacc_mat_path))"
   ]
  },
  {
   "cell_type": "code",
   "execution_count": 17,
   "id": "clinical-billion",
   "metadata": {
    "scrolled": true
   },
   "outputs": [
    {
     "name": "stdout",
     "output_type": "stream",
     "text": [
      "Number of fragments and neutral losses: 115913\n",
      "At MD 2000\n",
      "At MD 4000\n",
      "At MD 6000\n",
      "At MD 8000\n",
      "At MD 10000\n",
      "At MD 12000\n",
      "At MD 14000\n",
      "At MD 16000\n",
      "At MD 18000\n",
      "At MD 20000\n",
      "At MD 22000\n",
      "At MD 24000\n",
      "At MD 26000\n",
      "At MD 28000\n",
      "At MD 30000\n",
      "At MD 32000\n",
      "At MD 34000\n",
      "At MD 36000\n",
      "At MD 38000\n",
      "At MD 40000\n",
      "At MD 42000\n",
      "At MD 44000\n",
      "At MD 46000\n",
      "At MD 48000\n",
      "At MD 50000\n",
      "At MD 52000\n",
      "At MD 54000\n",
      "At MD 56000\n",
      "At MD 58000\n",
      "At MD 60000\n",
      "Took 0.414 hours\n"
     ]
    }
   ],
   "source": [
    "# record rows, cols and dict of 5 highest scores {md:vals}\n",
    "cols = []\n",
    "rows = []\n",
    "md_dict5 = {}\n",
    "start = time.time()\n",
    "with open(jacc_mat_path) as inf:\n",
    "    header = inf.readline()\n",
    "    cols = header.strip(\", \").split(\",\")\n",
    "    print(\"Number of fragments and neutral losses:\", len(cols))\n",
    "    for line in inf:\n",
    "        line = line.strip().split(\",\")\n",
    "        md = line.pop(0)\n",
    "        top5 = sorted(map(float, line), reverse=True)[:5]\n",
    "        md_dict5[md] = top5\n",
    "        rows.append(md)\n",
    "        rowlen = len(rows)\n",
    "        if rowlen % 2000 == 0:\n",
    "            print(\"At MD\", rowlen)\n",
    "end = time.time()\n",
    "print(\"Took {:.3f} hours\".format((end-start)/3600))"
   ]
  },
  {
   "cell_type": "code",
   "execution_count": 18,
   "id": "literary-healthcare",
   "metadata": {},
   "outputs": [],
   "source": [
    "del(md_dict)"
   ]
  },
  {
   "cell_type": "code",
   "execution_count": 19,
   "id": "comic-romania",
   "metadata": {},
   "outputs": [
    {
     "data": {
      "text/plain": [
       "[[0.06630971993410215,\n",
       "  0.06272530641672674,\n",
       "  0.05877309221295502,\n",
       "  0.05828996282527881,\n",
       "  0.057673745173745176],\n",
       " [0.21908169350029816,\n",
       "  0.20482897384305834,\n",
       "  0.18041464490516101,\n",
       "  0.17011853588641396,\n",
       "  0.1649621599509102],\n",
       " [0.18679829655439412,\n",
       "  0.18562513685132473,\n",
       "  0.17540398346486283,\n",
       "  0.16659663865546218,\n",
       "  0.16403107609234668],\n",
       " [0.04163251925913784,\n",
       "  0.040095881455654826,\n",
       "  0.03920525102004612,\n",
       "  0.037328339575530584,\n",
       "  0.03689902089726728],\n",
       " [0.0503125,\n",
       "  0.047068021892103205,\n",
       "  0.044156467482601394,\n",
       "  0.04302624806999485,\n",
       "  0.04291154071470416]]"
      ]
     },
     "execution_count": 19,
     "metadata": {},
     "output_type": "execute_result"
    }
   ],
   "source": [
    "[md_dict5[md] for md in rows[:5]]"
   ]
  },
  {
   "cell_type": "code",
   "execution_count": 28,
   "id": "determined-douglas",
   "metadata": {},
   "outputs": [],
   "source": [
    "max_vals = []\n",
    "for md in rows:\n",
    "    vals = md_dict5[md]\n",
    "    max_vals.append(max(vals))"
   ]
  },
  {
   "cell_type": "code",
   "execution_count": 29,
   "id": "objective-jewel",
   "metadata": {},
   "outputs": [
    {
     "data": {
      "image/png": "[encoded data removed]",
      "text/plain": [
       "<Figure size 432x288 with 1 Axes>"
      ]
     },
     "metadata": {
      "needs_background": "light"
     },
     "output_type": "display_data"
    }
   ],
   "source": [
    "plt.hist(max_vals, bins=20)\n",
    "plt.title(\"Max jaccard values for all MDs\")\n",
    "plt.xlabel(\"Max jaccard value\")\n",
    "plt.ylabel(\"Counts\")\n",
    "plt.show()"
   ]
  },
  {
   "cell_type": "code",
   "execution_count": null,
   "id": "excited-entertainment",
   "metadata": {},
   "outputs": [],
   "source": []
  }
 ],
 "metadata": {
  "kernelspec": {
   "display_name": "Python 3",
   "language": "python",
   "name": "python3"
  },
  "language_info": {
   "codemirror_mode": {
    "name": "ipython",
    "version": 3
   },
   "file_extension": ".py",
   "mimetype": "text/x-python",
   "name": "python",
   "nbconvert_exporter": "python",
   "pygments_lexer": "ipython3",
   "version": "3.7.9"
  }
 },
 "nbformat": 4,
 "nbformat_minor": 5
}
