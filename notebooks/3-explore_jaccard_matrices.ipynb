{
 "cells": [
  {
   "cell_type": "markdown",
   "id": "friendly-material",
   "metadata": {},
   "source": [
    "# Summary\n",
    "Exploring the jaccard scores generated between fragments+neutral losses and MDs.\n",
    "\n",
    "Scores are organised in a (large) csv that looks like this:\n",
    "```\n",
    "    fragment0 →\n",
    "MD0 Jaccard0,0\n",
    "↓\n",
    "```"
   ]
  },
  {
   "cell_type": "code",
   "execution_count": 1,
   "id": "czech-scheme",
   "metadata": {},
   "outputs": [],
   "source": [
    "import os\n",
    "import numpy as np\n",
    "import pandas as pd\n",
    "from matplotlib import pyplot as plt\n",
    "import pickle\n",
    "import time\n",
    "\n",
    "data_path = \"/mnt/scratch/louwe015/Mass_differences/data/\""
   ]
  },
  {
   "cell_type": "markdown",
   "id": "congressional-gallery",
   "metadata": {},
   "source": [
    "## Determine AllPositive version; default is version 2"
   ]
  },
  {
   "cell_type": "code",
   "execution_count": 2,
   "id": "threaded-surge",
   "metadata": {},
   "outputs": [
    {
     "name": "stdout",
     "output_type": "stream",
     "text": [
      "ALL_GNPS_210125_positive_cleaned_by_matchms_and_lookups\n"
     ]
    }
   ],
   "source": [
    "all_pos_version1 = False\n",
    "if all_pos_version1:\n",
    "    all_pos = \"gnps_positive_ionmode_cleaned_by_matchms_and_lookups\"\n",
    "else:\n",
    "    all_pos = \"ALL_GNPS_210125_positive_cleaned_by_matchms_and_lookups\"\n",
    "\n",
    "print(all_pos)"
   ]
  },
  {
   "cell_type": "code",
   "execution_count": 3,
   "id": "presidential-today",
   "metadata": {},
   "outputs": [
    {
     "name": "stdout",
     "output_type": "stream",
     "text": [
      "jaccard_matrix_allpos2_25-2-2021.csv\n"
     ]
    }
   ],
   "source": [
    "if all_pos_version1:\n",
    "    jacc_mat_file = \"jaccard_matrix_allpos1_25-2-2021.csv\"\n",
    "else:\n",
    "    jacc_mat_file = \"jaccard_matrix_allpos2_25-2-2021.csv\"\n",
    "print(jacc_mat_file)"
   ]
  },
  {
   "cell_type": "markdown",
   "id": "corresponding-latitude",
   "metadata": {},
   "source": [
    "## Explore jaccard matrix"
   ]
  },
  {
   "cell_type": "code",
   "execution_count": 4,
   "id": "continuous-stuff",
   "metadata": {},
   "outputs": [
    {
     "name": "stdout",
     "output_type": "stream",
     "text": [
      "/mnt/scratch/louwe015/Mass_differences/data/jaccard_matrices/jaccard_matrix_allpos2_25-2-2021.csv True\n"
     ]
    }
   ],
   "source": [
    "jacc_mat_path = os.path.join(data_path, \"jaccard_matrices\", jacc_mat_file)\n",
    "print(jacc_mat_path, os.path.isfile(jacc_mat_path))"
   ]
  },
  {
   "cell_type": "code",
   "execution_count": 5,
   "id": "clinical-billion",
   "metadata": {
    "scrolled": true
   },
   "outputs": [
    {
     "name": "stdout",
     "output_type": "stream",
     "text": [
      "Number of fragments and neutral losses: 115913\n",
      "At MD 2000\n",
      "At MD 4000\n",
      "At MD 6000\n",
      "At MD 8000\n",
      "At MD 10000\n",
      "At MD 12000\n",
      "At MD 14000\n",
      "At MD 16000\n",
      "At MD 18000\n",
      "At MD 20000\n",
      "At MD 22000\n",
      "At MD 24000\n",
      "At MD 26000\n",
      "At MD 28000\n",
      "At MD 30000\n",
      "At MD 32000\n",
      "At MD 34000\n",
      "At MD 36000\n",
      "At MD 38000\n",
      "At MD 40000\n",
      "At MD 42000\n",
      "At MD 44000\n",
      "At MD 46000\n",
      "At MD 48000\n",
      "At MD 50000\n",
      "At MD 52000\n",
      "At MD 54000\n",
      "At MD 56000\n",
      "At MD 58000\n",
      "At MD 60000\n",
      "Took 0.346 hours\n"
     ]
    }
   ],
   "source": [
    "# record rows, cols and dict of 5 highest scores {md:vals}\n",
    "cols = []\n",
    "rows = []\n",
    "md_dict5 = {}\n",
    "start = time.time()\n",
    "with open(jacc_mat_path) as inf:\n",
    "    header = inf.readline()\n",
    "    cols = header.strip(\", \").split(\",\")\n",
    "    print(\"Number of fragments and neutral losses:\", len(cols))\n",
    "    for line in inf:\n",
    "        line = line.strip().split(\",\")\n",
    "        md = line.pop(0)\n",
    "        top5 = sorted(map(float, line), reverse=True)[:5]\n",
    "        md_dict5[md] = top5\n",
    "        rows.append(md)\n",
    "        rowlen = len(rows)\n",
    "        if rowlen % 2000 == 0:\n",
    "            print(\"At MD\", rowlen)\n",
    "end = time.time()\n",
    "print(\"Took {:.3f} hours\".format((end-start)/3600))"
   ]
  },
  {
   "cell_type": "code",
   "execution_count": 6,
   "id": "neural-gauge",
   "metadata": {},
   "outputs": [],
   "source": [
    "# I should save this top5 dict to compare with occurrences for example.\n",
    "top5_file = os.path.join(data_path, \"jaccard_matrices\", jacc_mat_file.partition(\".csv\")[0]+\"_top5_dict.pickle\")\n",
    "with open(top5_file, 'wb') as outf:\n",
    "    pickle.dump(md_dict5, outf)"
   ]
  },
  {
   "cell_type": "code",
   "execution_count": 19,
   "id": "comic-romania",
   "metadata": {},
   "outputs": [
    {
     "data": {
      "text/plain": [
       "[[0.06630971993410215,\n",
       "  0.06272530641672674,\n",
       "  0.05877309221295502,\n",
       "  0.05828996282527881,\n",
       "  0.057673745173745176],\n",
       " [0.21908169350029816,\n",
       "  0.20482897384305834,\n",
       "  0.18041464490516101,\n",
       "  0.17011853588641396,\n",
       "  0.1649621599509102],\n",
       " [0.18679829655439412,\n",
       "  0.18562513685132473,\n",
       "  0.17540398346486283,\n",
       "  0.16659663865546218,\n",
       "  0.16403107609234668],\n",
       " [0.04163251925913784,\n",
       "  0.040095881455654826,\n",
       "  0.03920525102004612,\n",
       "  0.037328339575530584,\n",
       "  0.03689902089726728],\n",
       " [0.0503125,\n",
       "  0.047068021892103205,\n",
       "  0.044156467482601394,\n",
       "  0.04302624806999485,\n",
       "  0.04291154071470416]]"
      ]
     },
     "execution_count": 19,
     "metadata": {},
     "output_type": "execute_result"
    }
   ],
   "source": [
    "[md_dict5[md] for md in rows[:5]]"
   ]
  },
  {
   "cell_type": "code",
   "execution_count": 28,
   "id": "determined-douglas",
   "metadata": {},
   "outputs": [],
   "source": [
    "max_vals = []\n",
    "for md in rows:\n",
    "    vals = md_dict5[md]\n",
    "    max_vals.append(max(vals))"
   ]
  },
  {
   "cell_type": "code",
   "execution_count": 29,
   "id": "objective-jewel",
   "metadata": {},
   "outputs": [
    {
     "data": {
      "image/png": "[encoded data removed]",
      "text/plain": [
       "<Figure size 432x288 with 1 Axes>"
      ]
     },
     "metadata": {
      "needs_background": "light"
     },
     "output_type": "display_data"
    }
   ],
   "source": [
    "plt.hist(max_vals, bins=20)\n",
    "plt.title(\"Max jaccard values for all MDs\")\n",
    "plt.xlabel(\"Max jaccard value\")\n",
    "plt.ylabel(\"Counts\")\n",
    "plt.show()"
   ]
  },
  {
   "cell_type": "markdown",
   "id": "nutritional-craft",
   "metadata": {},
   "source": [
    "## Read whole matrix with pandas\n",
    "Remove low values? Save as sparse matrix? Save as compressed numpy array (savez)?\n",
    "\n",
    "- remove values lower than... 0.01 or so\n",
    "- remove column and index and save to separate array\n",
    "- convert matrix to COO sparse matrix\n",
    "- convert to csr sparse matrix\n",
    "- save as compressed numpy array np.savez\n",
    "- incorporate in jaccard matrix calc script"
   ]
  },
  {
   "cell_type": "code",
   "execution_count": 7,
   "id": "continued-modification",
   "metadata": {},
   "outputs": [
    {
     "name": "stdout",
     "output_type": "stream",
     "text": [
      "Reading jacc matrix with pandas took: 3.1342127988735835 hours\n"
     ]
    }
   ],
   "source": [
    "start = time.time()\n",
    "jacc_matrix = pd.read_csv(jacc_mat_path, header=0, index_col=0, dtype=np.float64)\n",
    "end = time.time()\n",
    "print(\"Reading jacc matrix with pandas took: {} hours\".format((end-start)/3600))"
   ]
  },
  {
   "cell_type": "code",
   "execution_count": 13,
   "id": "diagnostic-album",
   "metadata": {},
   "outputs": [
    {
     "data": {
      "text/html": [
       "<div>\n",
       "<style scoped>\n",
       "    .dataframe tbody tr th:only-of-type {\n",
       "        vertical-align: middle;\n",
       "    }\n",
       "\n",
       "    .dataframe tbody tr th {\n",
       "        vertical-align: top;\n",
       "    }\n",
       "\n",
       "    .dataframe thead th {\n",
       "        text-align: right;\n",
       "    }\n",
       "</style>\n",
       "<table border=\"1\" class=\"dataframe\">\n",
       "  <thead>\n",
       "    <tr style=\"text-align: right;\">\n",
       "      <th></th>\n",
       "      <th>peak@4.59</th>\n",
       "      <th>loss@5.00</th>\n",
       "      <th>loss@5.01</th>\n",
       "      <th>loss@5.02</th>\n",
       "      <th>loss@5.03</th>\n",
       "      <th>loss@5.04</th>\n",
       "      <th>loss@5.05</th>\n",
       "      <th>loss@5.06</th>\n",
       "      <th>loss@5.07</th>\n",
       "      <th>loss@5.08</th>\n",
       "      <th>...</th>\n",
       "      <th>peak@999.91</th>\n",
       "      <th>peak@999.92</th>\n",
       "      <th>peak@999.93</th>\n",
       "      <th>peak@999.94</th>\n",
       "      <th>peak@999.95</th>\n",
       "      <th>peak@999.96</th>\n",
       "      <th>peak@999.97</th>\n",
       "      <th>peak@999.98</th>\n",
       "      <th>peak@999.99</th>\n",
       "      <th>peak@1000.00</th>\n",
       "    </tr>\n",
       "  </thead>\n",
       "  <tbody>\n",
       "    <tr>\n",
       "      <th>51.0</th>\n",
       "      <td>0.0</td>\n",
       "      <td>0.001079</td>\n",
       "      <td>0.0</td>\n",
       "      <td>0.000802</td>\n",
       "      <td>0.000537</td>\n",
       "      <td>0.0008</td>\n",
       "      <td>0.002146</td>\n",
       "      <td>0.002124</td>\n",
       "      <td>0.000268</td>\n",
       "      <td>0.000268</td>\n",
       "      <td>...</td>\n",
       "      <td>0.00027</td>\n",
       "      <td>0.000271</td>\n",
       "      <td>0.0</td>\n",
       "      <td>0.0</td>\n",
       "      <td>0.0</td>\n",
       "      <td>0.0</td>\n",
       "      <td>0.0</td>\n",
       "      <td>0.000271</td>\n",
       "      <td>0.0</td>\n",
       "      <td>0.0</td>\n",
       "    </tr>\n",
       "  </tbody>\n",
       "</table>\n",
       "<p>1 rows × 115913 columns</p>\n",
       "</div>"
      ],
      "text/plain": [
       "      peak@4.59  loss@5.00  loss@5.01  loss@5.02  loss@5.03  loss@5.04  \\\n",
       "51.0        0.0   0.001079        0.0   0.000802   0.000537     0.0008   \n",
       "\n",
       "      loss@5.05  loss@5.06  loss@5.07  loss@5.08  ...  peak@999.91  \\\n",
       "51.0   0.002146   0.002124   0.000268   0.000268  ...      0.00027   \n",
       "\n",
       "      peak@999.92  peak@999.93  peak@999.94  peak@999.95  peak@999.96  \\\n",
       "51.0     0.000271          0.0          0.0          0.0          0.0   \n",
       "\n",
       "      peak@999.97  peak@999.98  peak@999.99  peak@1000.00  \n",
       "51.0          0.0     0.000271          0.0           0.0  \n",
       "\n",
       "[1 rows x 115913 columns]"
      ]
     },
     "execution_count": 13,
     "metadata": {},
     "output_type": "execute_result"
    }
   ],
   "source": [
    "jacc_matrix.iloc[:1]"
   ]
  },
  {
   "cell_type": "code",
   "execution_count": 19,
   "id": "incoming-liberal",
   "metadata": {},
   "outputs": [
    {
     "name": "stdout",
     "output_type": "stream",
     "text": [
      "94.59342438639139% of matrix are 0s\n"
     ]
    }
   ],
   "source": [
    "zeros = (jacc_matrix == 0).sum(axis=1).sum(axis=0)\n",
    "num_values = jacc_matrix.shape[0] * jacc_matrix.shape[1]\n",
    "print(\"{}% of matrix are 0s\".format(zeros/num_values*100))"
   ]
  },
  {
   "cell_type": "markdown",
   "id": "chicken-trader",
   "metadata": {},
   "source": [
    "### Do some testing on first 100 lines of file\n",
    "I did: head -100 jaccard_matrix_allpos2_25-2-2021.csv > jaccard_matrix_allpos2_25-2-2021_first_100.csv"
   ]
  },
  {
   "cell_type": "code",
   "execution_count": 52,
   "id": "bright-report",
   "metadata": {},
   "outputs": [
    {
     "name": "stdout",
     "output_type": "stream",
     "text": [
      "/mnt/scratch/louwe015/Mass_differences/data/jaccard_matrices/jaccard_matrix_allpos2_25-2-2021_first_1000.csv True\n"
     ]
    }
   ],
   "source": [
    "jacc_first_name = \"jaccard_matrix_allpos2_25-2-2021_first_1000.csv\"\n",
    "jacc_first_file = os.path.join(data_path, \"jaccard_matrices\", jacc_first_name)\n",
    "print(jacc_first_file, os.path.exists(jacc_first_file))"
   ]
  },
  {
   "cell_type": "code",
   "execution_count": 53,
   "id": "labeled-token",
   "metadata": {},
   "outputs": [
    {
     "name": "stdout",
     "output_type": "stream",
     "text": [
      "Reading jacc matrix with pandas took: 0.08724653846687741 hours\n"
     ]
    }
   ],
   "source": [
    "start = time.time()\n",
    "jacc_first = pd.read_csv(jacc_first_file, header=0, index_col=0, dtype=np.float64)\n",
    "end = time.time()\n",
    "print(\"Reading jacc matrix with pandas took: {} hours\".format((end-start)/3600))"
   ]
  },
  {
   "cell_type": "code",
   "execution_count": 54,
   "id": "interior-lounge",
   "metadata": {},
   "outputs": [
    {
     "data": {
      "text/html": [
       "<div>\n",
       "<style scoped>\n",
       "    .dataframe tbody tr th:only-of-type {\n",
       "        vertical-align: middle;\n",
       "    }\n",
       "\n",
       "    .dataframe tbody tr th {\n",
       "        vertical-align: top;\n",
       "    }\n",
       "\n",
       "    .dataframe thead th {\n",
       "        text-align: right;\n",
       "    }\n",
       "</style>\n",
       "<table border=\"1\" class=\"dataframe\">\n",
       "  <thead>\n",
       "    <tr style=\"text-align: right;\">\n",
       "      <th></th>\n",
       "      <th>peak@4.59</th>\n",
       "      <th>loss@5.00</th>\n",
       "      <th>loss@5.01</th>\n",
       "      <th>loss@5.02</th>\n",
       "      <th>loss@5.03</th>\n",
       "      <th>loss@5.04</th>\n",
       "      <th>loss@5.05</th>\n",
       "      <th>loss@5.06</th>\n",
       "      <th>loss@5.07</th>\n",
       "      <th>loss@5.08</th>\n",
       "      <th>...</th>\n",
       "      <th>peak@999.91</th>\n",
       "      <th>peak@999.92</th>\n",
       "      <th>peak@999.93</th>\n",
       "      <th>peak@999.94</th>\n",
       "      <th>peak@999.95</th>\n",
       "      <th>peak@999.96</th>\n",
       "      <th>peak@999.97</th>\n",
       "      <th>peak@999.98</th>\n",
       "      <th>peak@999.99</th>\n",
       "      <th>peak@1000.00</th>\n",
       "    </tr>\n",
       "  </thead>\n",
       "  <tbody>\n",
       "    <tr>\n",
       "      <th>51.00</th>\n",
       "      <td>0.0</td>\n",
       "      <td>0.001079</td>\n",
       "      <td>0.000000</td>\n",
       "      <td>0.000802</td>\n",
       "      <td>0.000537</td>\n",
       "      <td>0.000800</td>\n",
       "      <td>0.002146</td>\n",
       "      <td>0.002124</td>\n",
       "      <td>0.000268</td>\n",
       "      <td>0.000268</td>\n",
       "      <td>...</td>\n",
       "      <td>0.000270</td>\n",
       "      <td>0.000271</td>\n",
       "      <td>0.000000</td>\n",
       "      <td>0.000000</td>\n",
       "      <td>0.0</td>\n",
       "      <td>0.0</td>\n",
       "      <td>0.000000</td>\n",
       "      <td>0.000271</td>\n",
       "      <td>0.0</td>\n",
       "      <td>0.0</td>\n",
       "    </tr>\n",
       "    <tr>\n",
       "      <th>51.01</th>\n",
       "      <td>0.0</td>\n",
       "      <td>0.000000</td>\n",
       "      <td>0.000386</td>\n",
       "      <td>0.001541</td>\n",
       "      <td>0.000965</td>\n",
       "      <td>0.001731</td>\n",
       "      <td>0.001157</td>\n",
       "      <td>0.000765</td>\n",
       "      <td>0.000386</td>\n",
       "      <td>0.000193</td>\n",
       "      <td>...</td>\n",
       "      <td>0.000000</td>\n",
       "      <td>0.000000</td>\n",
       "      <td>0.000000</td>\n",
       "      <td>0.000000</td>\n",
       "      <td>0.0</td>\n",
       "      <td>0.0</td>\n",
       "      <td>0.000000</td>\n",
       "      <td>0.000000</td>\n",
       "      <td>0.0</td>\n",
       "      <td>0.0</td>\n",
       "    </tr>\n",
       "    <tr>\n",
       "      <th>51.02</th>\n",
       "      <td>0.0</td>\n",
       "      <td>0.000000</td>\n",
       "      <td>0.000147</td>\n",
       "      <td>0.000440</td>\n",
       "      <td>0.000735</td>\n",
       "      <td>0.000586</td>\n",
       "      <td>0.000441</td>\n",
       "      <td>0.000438</td>\n",
       "      <td>0.000000</td>\n",
       "      <td>0.000000</td>\n",
       "      <td>...</td>\n",
       "      <td>0.000000</td>\n",
       "      <td>0.000000</td>\n",
       "      <td>0.000000</td>\n",
       "      <td>0.000148</td>\n",
       "      <td>0.0</td>\n",
       "      <td>0.0</td>\n",
       "      <td>0.000148</td>\n",
       "      <td>0.000000</td>\n",
       "      <td>0.0</td>\n",
       "      <td>0.0</td>\n",
       "    </tr>\n",
       "    <tr>\n",
       "      <th>51.03</th>\n",
       "      <td>0.0</td>\n",
       "      <td>0.000000</td>\n",
       "      <td>0.000000</td>\n",
       "      <td>0.000765</td>\n",
       "      <td>0.000769</td>\n",
       "      <td>0.000762</td>\n",
       "      <td>0.000767</td>\n",
       "      <td>0.000756</td>\n",
       "      <td>0.000000</td>\n",
       "      <td>0.000000</td>\n",
       "      <td>...</td>\n",
       "      <td>0.000000</td>\n",
       "      <td>0.000000</td>\n",
       "      <td>0.000000</td>\n",
       "      <td>0.000000</td>\n",
       "      <td>0.0</td>\n",
       "      <td>0.0</td>\n",
       "      <td>0.000000</td>\n",
       "      <td>0.000000</td>\n",
       "      <td>0.0</td>\n",
       "      <td>0.0</td>\n",
       "    </tr>\n",
       "    <tr>\n",
       "      <th>51.04</th>\n",
       "      <td>0.0</td>\n",
       "      <td>0.000000</td>\n",
       "      <td>0.000000</td>\n",
       "      <td>0.000399</td>\n",
       "      <td>0.000000</td>\n",
       "      <td>0.000795</td>\n",
       "      <td>0.000400</td>\n",
       "      <td>0.000788</td>\n",
       "      <td>0.000401</td>\n",
       "      <td>0.000799</td>\n",
       "      <td>...</td>\n",
       "      <td>0.000000</td>\n",
       "      <td>0.000000</td>\n",
       "      <td>0.000000</td>\n",
       "      <td>0.000000</td>\n",
       "      <td>0.0</td>\n",
       "      <td>0.0</td>\n",
       "      <td>0.000000</td>\n",
       "      <td>0.000000</td>\n",
       "      <td>0.0</td>\n",
       "      <td>0.0</td>\n",
       "    </tr>\n",
       "    <tr>\n",
       "      <th>...</th>\n",
       "      <td>...</td>\n",
       "      <td>...</td>\n",
       "      <td>...</td>\n",
       "      <td>...</td>\n",
       "      <td>...</td>\n",
       "      <td>...</td>\n",
       "      <td>...</td>\n",
       "      <td>...</td>\n",
       "      <td>...</td>\n",
       "      <td>...</td>\n",
       "      <td>...</td>\n",
       "      <td>...</td>\n",
       "      <td>...</td>\n",
       "      <td>...</td>\n",
       "      <td>...</td>\n",
       "      <td>...</td>\n",
       "      <td>...</td>\n",
       "      <td>...</td>\n",
       "      <td>...</td>\n",
       "      <td>...</td>\n",
       "      <td>...</td>\n",
       "    </tr>\n",
       "    <tr>\n",
       "      <th>39.94</th>\n",
       "      <td>0.0</td>\n",
       "      <td>0.000000</td>\n",
       "      <td>0.000000</td>\n",
       "      <td>0.001046</td>\n",
       "      <td>0.003188</td>\n",
       "      <td>0.000000</td>\n",
       "      <td>0.000000</td>\n",
       "      <td>0.001012</td>\n",
       "      <td>0.000000</td>\n",
       "      <td>0.001052</td>\n",
       "      <td>...</td>\n",
       "      <td>0.000000</td>\n",
       "      <td>0.000000</td>\n",
       "      <td>0.000000</td>\n",
       "      <td>0.000000</td>\n",
       "      <td>0.0</td>\n",
       "      <td>0.0</td>\n",
       "      <td>0.001101</td>\n",
       "      <td>0.000000</td>\n",
       "      <td>0.0</td>\n",
       "      <td>0.0</td>\n",
       "    </tr>\n",
       "    <tr>\n",
       "      <th>39.95</th>\n",
       "      <td>0.0</td>\n",
       "      <td>0.000000</td>\n",
       "      <td>0.000000</td>\n",
       "      <td>0.000000</td>\n",
       "      <td>0.001643</td>\n",
       "      <td>0.000000</td>\n",
       "      <td>0.000000</td>\n",
       "      <td>0.002379</td>\n",
       "      <td>0.000820</td>\n",
       "      <td>0.001633</td>\n",
       "      <td>...</td>\n",
       "      <td>0.000000</td>\n",
       "      <td>0.000000</td>\n",
       "      <td>0.000000</td>\n",
       "      <td>0.000000</td>\n",
       "      <td>0.0</td>\n",
       "      <td>0.0</td>\n",
       "      <td>0.000000</td>\n",
       "      <td>0.000000</td>\n",
       "      <td>0.0</td>\n",
       "      <td>0.0</td>\n",
       "    </tr>\n",
       "    <tr>\n",
       "      <th>39.96</th>\n",
       "      <td>0.0</td>\n",
       "      <td>0.001291</td>\n",
       "      <td>0.000321</td>\n",
       "      <td>0.000638</td>\n",
       "      <td>0.000000</td>\n",
       "      <td>0.000318</td>\n",
       "      <td>0.000000</td>\n",
       "      <td>0.005078</td>\n",
       "      <td>0.000962</td>\n",
       "      <td>0.000639</td>\n",
       "      <td>...</td>\n",
       "      <td>0.000323</td>\n",
       "      <td>0.000000</td>\n",
       "      <td>0.000000</td>\n",
       "      <td>0.000000</td>\n",
       "      <td>0.0</td>\n",
       "      <td>0.0</td>\n",
       "      <td>0.000000</td>\n",
       "      <td>0.000000</td>\n",
       "      <td>0.0</td>\n",
       "      <td>0.0</td>\n",
       "    </tr>\n",
       "    <tr>\n",
       "      <th>39.97</th>\n",
       "      <td>0.0</td>\n",
       "      <td>0.000000</td>\n",
       "      <td>0.000634</td>\n",
       "      <td>0.000000</td>\n",
       "      <td>0.000633</td>\n",
       "      <td>0.000000</td>\n",
       "      <td>0.001893</td>\n",
       "      <td>0.000000</td>\n",
       "      <td>0.000633</td>\n",
       "      <td>0.000000</td>\n",
       "      <td>...</td>\n",
       "      <td>0.000000</td>\n",
       "      <td>0.000000</td>\n",
       "      <td>0.000000</td>\n",
       "      <td>0.000000</td>\n",
       "      <td>0.0</td>\n",
       "      <td>0.0</td>\n",
       "      <td>0.000000</td>\n",
       "      <td>0.000000</td>\n",
       "      <td>0.0</td>\n",
       "      <td>0.0</td>\n",
       "    </tr>\n",
       "    <tr>\n",
       "      <th>39.98</th>\n",
       "      <td>0.0</td>\n",
       "      <td>0.000406</td>\n",
       "      <td>0.001211</td>\n",
       "      <td>0.000000</td>\n",
       "      <td>0.001209</td>\n",
       "      <td>0.000000</td>\n",
       "      <td>0.000804</td>\n",
       "      <td>0.000000</td>\n",
       "      <td>0.000000</td>\n",
       "      <td>0.000803</td>\n",
       "      <td>...</td>\n",
       "      <td>0.000000</td>\n",
       "      <td>0.000000</td>\n",
       "      <td>0.000409</td>\n",
       "      <td>0.000000</td>\n",
       "      <td>0.0</td>\n",
       "      <td>0.0</td>\n",
       "      <td>0.000408</td>\n",
       "      <td>0.000000</td>\n",
       "      <td>0.0</td>\n",
       "      <td>0.0</td>\n",
       "    </tr>\n",
       "  </tbody>\n",
       "</table>\n",
       "<p>999 rows × 115913 columns</p>\n",
       "</div>"
      ],
      "text/plain": [
       "       peak@4.59  loss@5.00  loss@5.01  loss@5.02  loss@5.03  loss@5.04  \\\n",
       "51.00        0.0   0.001079   0.000000   0.000802   0.000537   0.000800   \n",
       "51.01        0.0   0.000000   0.000386   0.001541   0.000965   0.001731   \n",
       "51.02        0.0   0.000000   0.000147   0.000440   0.000735   0.000586   \n",
       "51.03        0.0   0.000000   0.000000   0.000765   0.000769   0.000762   \n",
       "51.04        0.0   0.000000   0.000000   0.000399   0.000000   0.000795   \n",
       "...          ...        ...        ...        ...        ...        ...   \n",
       "39.94        0.0   0.000000   0.000000   0.001046   0.003188   0.000000   \n",
       "39.95        0.0   0.000000   0.000000   0.000000   0.001643   0.000000   \n",
       "39.96        0.0   0.001291   0.000321   0.000638   0.000000   0.000318   \n",
       "39.97        0.0   0.000000   0.000634   0.000000   0.000633   0.000000   \n",
       "39.98        0.0   0.000406   0.001211   0.000000   0.001209   0.000000   \n",
       "\n",
       "       loss@5.05  loss@5.06  loss@5.07  loss@5.08  ...  peak@999.91  \\\n",
       "51.00   0.002146   0.002124   0.000268   0.000268  ...     0.000270   \n",
       "51.01   0.001157   0.000765   0.000386   0.000193  ...     0.000000   \n",
       "51.02   0.000441   0.000438   0.000000   0.000000  ...     0.000000   \n",
       "51.03   0.000767   0.000756   0.000000   0.000000  ...     0.000000   \n",
       "51.04   0.000400   0.000788   0.000401   0.000799  ...     0.000000   \n",
       "...          ...        ...        ...        ...  ...          ...   \n",
       "39.94   0.000000   0.001012   0.000000   0.001052  ...     0.000000   \n",
       "39.95   0.000000   0.002379   0.000820   0.001633  ...     0.000000   \n",
       "39.96   0.000000   0.005078   0.000962   0.000639  ...     0.000323   \n",
       "39.97   0.001893   0.000000   0.000633   0.000000  ...     0.000000   \n",
       "39.98   0.000804   0.000000   0.000000   0.000803  ...     0.000000   \n",
       "\n",
       "       peak@999.92  peak@999.93  peak@999.94  peak@999.95  peak@999.96  \\\n",
       "51.00     0.000271     0.000000     0.000000          0.0          0.0   \n",
       "51.01     0.000000     0.000000     0.000000          0.0          0.0   \n",
       "51.02     0.000000     0.000000     0.000148          0.0          0.0   \n",
       "51.03     0.000000     0.000000     0.000000          0.0          0.0   \n",
       "51.04     0.000000     0.000000     0.000000          0.0          0.0   \n",
       "...            ...          ...          ...          ...          ...   \n",
       "39.94     0.000000     0.000000     0.000000          0.0          0.0   \n",
       "39.95     0.000000     0.000000     0.000000          0.0          0.0   \n",
       "39.96     0.000000     0.000000     0.000000          0.0          0.0   \n",
       "39.97     0.000000     0.000000     0.000000          0.0          0.0   \n",
       "39.98     0.000000     0.000409     0.000000          0.0          0.0   \n",
       "\n",
       "       peak@999.97  peak@999.98  peak@999.99  peak@1000.00  \n",
       "51.00     0.000000     0.000271          0.0           0.0  \n",
       "51.01     0.000000     0.000000          0.0           0.0  \n",
       "51.02     0.000148     0.000000          0.0           0.0  \n",
       "51.03     0.000000     0.000000          0.0           0.0  \n",
       "51.04     0.000000     0.000000          0.0           0.0  \n",
       "...            ...          ...          ...           ...  \n",
       "39.94     0.001101     0.000000          0.0           0.0  \n",
       "39.95     0.000000     0.000000          0.0           0.0  \n",
       "39.96     0.000000     0.000000          0.0           0.0  \n",
       "39.97     0.000000     0.000000          0.0           0.0  \n",
       "39.98     0.000408     0.000000          0.0           0.0  \n",
       "\n",
       "[999 rows x 115913 columns]"
      ]
     },
     "execution_count": 54,
     "metadata": {},
     "output_type": "execute_result"
    }
   ],
   "source": [
    "jacc_first"
   ]
  },
  {
   "cell_type": "code",
   "execution_count": 55,
   "id": "dependent-spray",
   "metadata": {},
   "outputs": [
    {
     "data": {
      "text/plain": [
       "<999x115913 sparse matrix of type '<class 'numpy.float64'>'\n",
       "\twith 16409285 stored elements in Compressed Sparse Row format>"
      ]
     },
     "execution_count": 55,
     "metadata": {},
     "output_type": "execute_result"
    }
   ],
   "source": [
    "import scipy.sparse as sp\n",
    "\n",
    "sparse_first = sp.csr_matrix(jacc_first.values)\n",
    "sparse_first"
   ]
  },
  {
   "cell_type": "code",
   "execution_count": 56,
   "id": "official-bangladesh",
   "metadata": {},
   "outputs": [
    {
     "name": "stdout",
     "output_type": "stream",
     "text": [
      "8.025289607048034\n"
     ]
    }
   ],
   "source": [
    "x = 10\n",
    "\n",
    "start = time.time()\n",
    "a = sp.csr_matrix(jacc_first.values)\n",
    "for _ in range(x):\n",
    "    a = sp.vstack([a, sp.csr_matrix(jacc_first.values)])\n",
    "end = time.time()\n",
    "print((end - start)/x)"
   ]
  },
  {
   "cell_type": "code",
   "execution_count": 57,
   "id": "negative-summer",
   "metadata": {},
   "outputs": [
    {
     "name": "stdout",
     "output_type": "stream",
     "text": [
      "9.47354474067688\n"
     ]
    }
   ],
   "source": [
    "x = 10\n",
    "\n",
    "start = time.time()\n",
    "b = sp.coo_matrix(jacc_first.values)\n",
    "for _ in range(x):\n",
    "    b = sp.vstack([b, sp.coo_matrix(jacc_first.values)])\n",
    "end = time.time()\n",
    "print((end - start)/x)"
   ]
  },
  {
   "cell_type": "code",
   "execution_count": 62,
   "id": "convertible-shell",
   "metadata": {},
   "outputs": [
    {
     "data": {
      "text/plain": [
       "(Index(['peak@4.59', 'loss@5.00', 'loss@5.01', 'loss@5.02', 'loss@5.03',\n",
       "        'loss@5.04', 'loss@5.05', 'loss@5.06', 'loss@5.07', 'loss@5.08',\n",
       "        ...\n",
       "        'peak@999.91', 'peak@999.92', 'peak@999.93', 'peak@999.94',\n",
       "        'peak@999.95', 'peak@999.96', 'peak@999.97', 'peak@999.98',\n",
       "        'peak@999.99', 'peak@1000.00'],\n",
       "       dtype='object', length=115913),\n",
       " Float64Index([ 51.0, 51.01, 51.02, 51.03, 51.04, 51.05, 51.06, 51.07, 51.08,\n",
       "               51.09,\n",
       "               ...\n",
       "               39.89,  39.9, 39.91, 39.92, 39.93, 39.94, 39.95, 39.96, 39.97,\n",
       "               39.98],\n",
       "              dtype='float64', length=999))"
      ]
     },
     "execution_count": 62,
     "metadata": {},
     "output_type": "execute_result"
    }
   ],
   "source": [
    "cols = jacc_first.columns\n",
    "rows = jacc_first.index\n",
    "cols,rows  # use to_list() methods"
   ]
  },
  {
   "cell_type": "code",
   "execution_count": null,
   "id": "naughty-newcastle",
   "metadata": {},
   "outputs": [],
   "source": []
  }
 ],
 "metadata": {
  "kernelspec": {
   "display_name": "Python 3",
   "language": "python",
   "name": "python3"
  },
  "language_info": {
   "codemirror_mode": {
    "name": "ipython",
    "version": 3
   },
   "file_extension": ".py",
   "mimetype": "text/x-python",
   "name": "python",
   "nbconvert_exporter": "python",
   "pygments_lexer": "ipython3",
   "version": "3.7.9"
  }
 },
 "nbformat": 4,
 "nbformat_minor": 5
}
