{
 "cells": [
  {
   "cell_type": "markdown",
   "metadata": {},
   "source": [
    "# Summary\n",
    "In this notebook mass differences are extracted from the AllPositive dataset and expressed per spectrum. This dataset is constructed here: https://github.com/iomega/spec2vec_gnps_data_analysis/tree/master/notebooks just like the pickled ALL_GNPS_210125_positive_cleaned_by_matchms_and_lookups file, and the pickled gnps_positive_ionmode_cleaned_by_matchms_and_lookups file is created here: https://github.com/louwenjjr/improve_library_matching .\n",
    "\n",
    "Steps in this notebook:\n",
    "- Reading spectra\n",
    "- Processing spectra\n",
    "- Extracting mass differences (new) and fragments + neutral losses ('normal')"
   ]
  },
  {
   "cell_type": "code",
   "execution_count": 3,
   "metadata": {},
   "outputs": [],
   "source": [
    "import os\n",
    "import numpy as np\n",
    "import pandas as pd\n",
    "from matplotlib import pyplot as plt\n",
    "import pickle\n",
    "from math import ceil\n",
    "\n",
    "data_path = \"/mnt/scratch/louwe015/Mass_differences/data/\""
   ]
  },
  {
   "cell_type": "markdown",
   "metadata": {},
   "source": [
    "## Determine AllPositive version; default is version 2"
   ]
  },
  {
   "cell_type": "code",
   "execution_count": 10,
   "metadata": {},
   "outputs": [],
   "source": [
    "all_pos_version1 = True\n",
    "if all_pos_version1:\n",
    "    all_pos = \"gnps_positive_ionmode_cleaned_by_matchms_and_lookups\"\n",
    "else:\n",
    "    all_pos = None #add path for v2"
   ]
  },
  {
   "cell_type": "markdown",
   "metadata": {},
   "source": [
    "## Reading spectra"
   ]
  },
  {
   "cell_type": "code",
   "execution_count": 4,
   "metadata": {},
   "outputs": [],
   "source": [
    "all_positive_file = os.path.join(data_path, all_pos + \".pickle\")\n",
    "if os.path.exists(all_positive_file):\n",
    "    with open(all_positive_file, 'rb') as inf:\n",
    "        spectrums = pickle.load(inf)  # list of matchms.Spectrum.Spectrum\n",
    "else:\n",
    "    print(\"error\")"
   ]
  },
  {
   "cell_type": "code",
   "execution_count": 5,
   "metadata": {},
   "outputs": [
    {
     "name": "stdout",
     "output_type": "stream",
     "text": [
      "number of spectra: 112956\n"
     ]
    }
   ],
   "source": [
    "print(\"number of spectra:\", len(spectrums))"
   ]
  },
  {
   "cell_type": "markdown",
   "metadata": {},
   "source": [
    "## Processing spectra\n",
    "Similar to Xing et al. (2020) https://pubs-acs-org.ezproxy.library.wur.nl/doi/full/10.1021/acs.analchem.0c02521\n",
    "In Xing they also do square root transformation on the normalised intensities. We don't do that here (yet).\n",
    "\n",
    "Steps:\n",
    "- remove precursor_mz peak (to prevent neutral losses ending up in MDs)\n",
    "- normalise peaks (maximum intensity to 1)\n",
    "- remove peaks outside [0, 1000] m/z window\n",
    "- select top 30 intensity peaks (from Xing et al. (2020))\n",
    "- remove peaks with intensities < 0.001 of maximum intensity"
   ]
  },
  {
   "cell_type": "code",
   "execution_count": 39,
   "metadata": {},
   "outputs": [],
   "source": [
    "from matchms.Spikes import Spikes\n",
    "from matchms.typing import SpectrumType\n",
    "\n",
    "\n",
    "def remove_precursor_mz_peak(spectrum_in: SpectrumType) -> SpectrumType:\n",
    "    \"\"\"Remove the peak for precursor_mz in the spectrum (if it exists)\n",
    "    \n",
    "    Parameters\n",
    "    ----------\n",
    "    spectrum_in:\n",
    "        Input spectrum.\n",
    "    \"\"\"\n",
    "    if spectrum_in is None:\n",
    "            return None\n",
    "\n",
    "    spectrum = spectrum_in.clone()\n",
    "\n",
    "    prec_mz = spectrum.get(\"precursor_mz\")\n",
    "    before_len = len(spectrum.peaks)\n",
    "    if prec_mz:  # precursor_mz exists\n",
    "        mzs, intensities = spectrum.peaks.clone()\n",
    "        prec_mz_i = [i for i, mz in enumerate(mzs) if mz == prec_mz]\n",
    "        if prec_mz_i:  # precursor_mz peak exists -> remove it\n",
    "            new_mzs = np.delete(mzs, prec_mz_i)\n",
    "            new_intensities = np.delete(intensities, prec_mz_i)\n",
    "            new_spikes = Spikes(mz=new_mzs, intensities=new_intensities)\n",
    "            spectrum.peaks = new_spikes\n",
    "            after_len = len(spectrum.peaks)\n",
    "            assert after_len == before_len-1, \"Expected only one peak to have been removed\"\n",
    "\n",
    "    return spectrum"
   ]
  },
  {
   "cell_type": "code",
   "execution_count": 38,
   "metadata": {},
   "outputs": [
    {
     "name": "stdout",
     "output_type": "stream",
     "text": [
      "95279 remaining top30 spectra.\n",
      "as a check: 95279 remaining spectra in normally processed data.\n"
     ]
    }
   ],
   "source": [
    "from matchms.filtering import normalize_intensities\n",
    "from matchms.filtering import select_by_mz\n",
    "from matchms.filtering import require_minimum_number_of_peaks\n",
    "from matchms.filtering import select_by_relative_intensity\n",
    "from matchms.filtering import reduce_to_number_of_peaks\n",
    "from matchms.filtering import add_losses\n",
    "\n",
    "def post_process_normal(s, min_peaks=10):\n",
    "    s = normalize_intensities(s)\n",
    "    s = select_by_mz(s, mz_from=0, mz_to=1000)\n",
    "    s = require_minimum_number_of_peaks(s, n_required=min_peaks)\n",
    "    s = reduce_to_number_of_peaks(s, n_required=min_peaks, ratio_desired=0.5)\n",
    "    if s is None:\n",
    "        return None\n",
    "    #remove low peaks unless less than 10 peaks are left\n",
    "    s_remove_low_peaks = select_by_relative_intensity(s, intensity_from=0.001)\n",
    "    if len(s_remove_low_peaks.peaks) >= 10:\n",
    "        s = s_remove_low_peaks\n",
    "    #add losses to normally processed spectra\n",
    "    s = add_losses(s, loss_mz_from=5.0, loss_mz_to=200.0)\n",
    "    return s\n",
    "\n",
    "def post_process_md(s, min_peaks=10, max_peaks=30):\n",
    "    #remove precurzor_mz from spectra for top30, so neutral losses don't end up in MDs\n",
    "    s = remove_precursor_mz_peak(s)\n",
    "    s = normalize_intensities(s)\n",
    "    s = select_by_mz(s, mz_from=0, mz_to=1000)\n",
    "    s = require_minimum_number_of_peaks(s, n_required=min_peaks)\n",
    "    s = reduce_to_number_of_peaks(s, n_required=min_peaks, ratio_desired=0.5)\n",
    "    if s is None:\n",
    "        return None\n",
    "    #remove low peaks unless less than 10 peaks are left\n",
    "    s_remove_low_peaks = select_by_relative_intensity(s, intensity_from=0.001)\n",
    "    if len(s_remove_low_peaks.peaks) >= 10:\n",
    "        s = s_remove_low_peaks\n",
    "    \n",
    "    #reduce to top30 peaks\n",
    "    s = reduce_to_number_of_peaks(s, n_required=min_peaks, n_max=max_peaks)\n",
    "    return s\n",
    "\n",
    "spectrums_top30 = []\n",
    "spectrums_processed = []\n",
    "minimum_peaks = 10\n",
    "maximum_peaks = 30\n",
    "for spec in spectrums:\n",
    "    s_top30 = post_process_md(spec, min_peaks=minimum_peaks, max_peaks=maximum_peaks)\n",
    "    s_normal = post_process_normal(spec, min_peaks=minimum_peaks)\n",
    "    if s_top30 is not None and s_normal is not None:\n",
    "        spectrums_top30.append(s_top30)\n",
    "        spectrums_processed.append(s_normal)\n",
    "\n",
    "print(\"{} remaining top30 spectra.\".format(len(spectrums_top30)))\n",
    "print(\"as a check: {} remaining spectra in normally processed data.\".format(len(spectrums_processed)))"
   ]
  },
  {
   "cell_type": "code",
   "execution_count": 40,
   "metadata": {},
   "outputs": [
    {
     "data": {
      "text/plain": [
       "True"
      ]
     },
     "execution_count": 40,
     "metadata": {},
     "output_type": "execute_result"
    }
   ],
   "source": [
    "spectrums_top30[-1].metadata[\"spectrum_id\"] == spectrums_processed[-1].metadata[\"spectrum_id\"]"
   ]
  },
  {
   "cell_type": "code",
   "execution_count": 41,
   "metadata": {},
   "outputs": [],
   "source": [
    "# save top30 and normally processed file\n",
    "top30_file = os.path.join(data_path, all_pos + \"_top30_peaks.pickle\")\n",
    "with open(top30_file, 'wb') as outf:\n",
    "    pickle.dump(spectrums_top30, outf)\n",
    "processed_file = os.path.join(data_path, all_pos + \"_processed.pickle\")\n",
    "with open(processed_file, 'wb') as outf:\n",
    "    pickle.dump(spectrums_processed, outf)"
   ]
  },
  {
   "cell_type": "code",
   "execution_count": 6,
   "metadata": {},
   "outputs": [],
   "source": [
    "# load top30 file\n",
    "top30_file = os.path.join(data_path, all_pos + \"_top30_peaks.pickle\")\n",
    "if os.path.exists(top30_file):\n",
    "    with open(top30_file, 'rb') as inf:\n",
    "        spectrums_top30 = pickle.load(inf)  # list of matchms.Spectrum.Spectrum\n",
    "else:\n",
    "    print(\"error\")"
   ]
  },
  {
   "cell_type": "code",
   "execution_count": 9,
   "metadata": {},
   "outputs": [],
   "source": [
    "# load processed file\n",
    "processed_file = os.path.join(data_path, all_pos + \"_processed.pickle\")\n",
    "if os.path.exists(processed_file):\n",
    "    with open(processed_file, 'rb') as inf:\n",
    "        spectrums_processed = pickle.load(inf)  # list of matchms.Spectrum.Spectrum\n",
    "else:\n",
    "    print(\"error\")"
   ]
  },
  {
   "cell_type": "code",
   "execution_count": 8,
   "metadata": {},
   "outputs": [
    {
     "data": {
      "text/plain": [
       "[array([456.107544, 469.872314, 515.922852, 538.003174, 539.217773,\n",
       "        554.117432, 556.030396, 582.110107, 599.352783, 600.382812,\n",
       "        696.332397, 724.081909, 830.409302, 839.455811, 847.433594,\n",
       "        851.380859, 852.370605, 866.295654, 868.372192, 909.424438,\n",
       "        919.39624 , 932.351929, 936.552002, 939.61792 , 949.370239,\n",
       "        953.396606, 954.491577, 963.686768, 964.524658, 965.192139]),\n",
       " array([0.13785328, 0.1145734 , 0.10302372, 0.28900242, 0.35616456,\n",
       "        0.09970269, 0.28046377, 0.13351462, 1.        , 0.14946182,\n",
       "        0.15854461, 0.11577153, 0.13417909, 0.09418422, 0.2569733 ,\n",
       "        0.32199162, 0.36216307, 0.14520426, 0.10205448, 0.31933114,\n",
       "        0.11226477, 0.17874806, 0.13489457, 0.10109441, 0.1117298 ,\n",
       "        0.71323034, 0.16211023, 0.34214536, 0.41616014, 0.16272238])]"
      ]
     },
     "execution_count": 8,
     "metadata": {},
     "output_type": "execute_result"
    }
   ],
   "source": [
    "spec0 = spectrums_top30[0]\n",
    "[i for i in spec0.peaks]"
   ]
  },
  {
   "cell_type": "markdown",
   "metadata": {},
   "source": [
    "## Create SpectrumDocuments from normally processed Spectrums"
   ]
  },
  {
   "cell_type": "code",
   "execution_count": 45,
   "metadata": {},
   "outputs": [],
   "source": [
    "from spec2vec import SpectrumDocument\n",
    "documents_spectrums_processed = [SpectrumDocument(s, n_decimals=2) for s in spectrums_processed]"
   ]
  },
  {
   "cell_type": "code",
   "execution_count": 105,
   "metadata": {},
   "outputs": [
    {
     "name": "stdout",
     "output_type": "stream",
     "text": [
      "95279\n"
     ]
    }
   ],
   "source": [
    "print(len(documents_spectrums_processed))"
   ]
  },
  {
   "cell_type": "code",
   "execution_count": 106,
   "metadata": {},
   "outputs": [],
   "source": [
    "# save SpectrumDocuments from normally processed spectra\n",
    "documents_file = os.path.join(data_path, all_pos + \"_processed_documents.pickle\")\n",
    "with open(documents_file, 'wb') as outf:\n",
    "    pickle.dump(documents_spectrums_processed, outf)"
   ]
  },
  {
   "cell_type": "markdown",
   "metadata": {},
   "source": [
    "## Get mass differences\n",
    "Mass differences are sorted on size, a cutoff of 36 is used and a maximum of 100 mass differences are extracted."
   ]
  },
  {
   "cell_type": "code",
   "execution_count": 48,
   "metadata": {},
   "outputs": [],
   "source": [
    "from matchms.Spikes import Spikes\n",
    "from matchms.typing import SpectrumType\n",
    "\n",
    "def get_mass_differences(spectrum_in: SpectrumType, cutoff: int = 36, n_max: int = 100) -> Spikes:\n",
    "    \"\"\"Returns Spikes with top 100 mass differences and intensities\n",
    "    \n",
    "    Parameters:\n",
    "    spectrum_in:\n",
    "        Spectrum in matchms.Spectrum format\n",
    "    cutoff:\n",
    "        Mass cutoff for mass difference (like Xing et al.)\n",
    "    n_max:\n",
    "        Maximum amount of mass differences to select, ranked on intensity (like Xing et al.)\n",
    "    \"\"\"\n",
    "    if spectrum_in is None:\n",
    "        return None\n",
    "\n",
    "    spectrum = spectrum_in.clone()\n",
    "    peaks_mz, peaks_intensities = spectrum.peaks\n",
    "    mass_diff_mz = []\n",
    "    mass_diff_intensities = []\n",
    "    for i, (mz_i, int_i) in enumerate(zip(peaks_mz[:-1], peaks_intensities[:-1])):\n",
    "        for mz_j, int_j in zip(peaks_mz[i+1:], peaks_intensities[i+1:]):\n",
    "            mz_diff = mz_j-mz_i\n",
    "            if mz_diff > cutoff:\n",
    "                mass_diff_mz.append(mz_diff)\n",
    "                mass_diff_intensities.append(np.mean([int_i, int_j]))\n",
    "    mass_diff_mz = np.array(mass_diff_mz)\n",
    "    mass_diff_intensities = np.array(mass_diff_intensities)\n",
    "    idx = mass_diff_intensities.argsort()[-n_max:]\n",
    "    idx_sort_by_mz = mass_diff_mz[idx].argsort()\n",
    "    mass_diff_peaks = Spikes(mz=mass_diff_mz[idx][idx_sort_by_mz],\n",
    "                             intensities=mass_diff_intensities[idx][idx_sort_by_mz])\n",
    "    return mass_diff_peaks\n"
   ]
  },
  {
   "cell_type": "code",
   "execution_count": 49,
   "metadata": {},
   "outputs": [
    {
     "data": {
      "text/plain": [
       "[array([ 43.322387,  43.972168,  45.128418,  45.235351,  54.26233 ,\n",
       "         55.10022 ,  57.053833,  58.043579,  60.13501 ,  61.165039,\n",
       "         61.349609,  61.990844,  79.981324,  80.97107 ,  83.429931,\n",
       "         85.024414,  87.100952,  96.152466,  96.979614,  98.229004,\n",
       "        101.026001, 102.015747, 102.120972, 105.963012, 111.316163,\n",
       "        112.154053, 112.305909, 112.821534, 113.143799, 113.940795,\n",
       "        116.253174, 117.091064, 122.987304, 124.729126, 125.068847,\n",
       "        129.480469, 134.115356, 143.245239, 156.038208, 157.114624,\n",
       "        229.314697, 231.056519, 240.103028, 240.442749, 248.080811,\n",
       "        251.987793, 252.028076, 253.017822, 257.064209, 266.942871,\n",
       "        268.192261, 269.019409, 291.403198, 295.350463, 296.340209,\n",
       "        308.215821, 309.43042 , 310.071655, 312.163086, 313.152832,\n",
       "        313.377685, 314.367431, 320.043457, 327.077881, 332.999146,\n",
       "        337.199219, 340.265137, 350.017456, 353.013794, 353.394042,\n",
       "        354.043823, 355.138794, 364.141846, 364.333985, 365.171875,\n",
       "        365.839356, 370.206665, 371.286499, 371.421264, 382.414551,\n",
       "        393.134156, 397.36621 , 399.279174, 407.656372, 408.494262,\n",
       "        410.407226, 414.178833, 415.273804, 415.393432, 424.468995,\n",
       "        425.306885, 425.683594, 425.974366, 426.521484, 437.473754,\n",
       "        448.601806, 483.524292, 494.652344, 497.289062, 508.417114]),\n",
       " array([0.64023188, 0.51628074, 0.26421246, 0.54985135, 0.33073825,\n",
       "        0.36774564, 0.34074711, 0.32066138, 0.67808228, 0.25281319,\n",
       "        0.64450121, 0.28815222, 0.27045557, 0.25036984, 0.55151186,\n",
       "        0.40764241, 0.4292173 , 0.25910731, 0.5792723 , 0.2806822 ,\n",
       "        0.53769671, 0.51761098, 0.26213665, 0.48510182, 0.35215422,\n",
       "        0.38916161, 0.33206849, 0.26244273, 0.36907588, 0.40370728,\n",
       "        0.29955933, 0.33656672, 0.42370472, 0.55788577, 0.25517218,\n",
       "        0.5572867 , 0.27516962, 0.56892664, 0.26035384, 0.25735459,\n",
       "        0.41450094, 0.56708954, 0.54709211, 0.26596584, 0.62848665,\n",
       "        0.25581245, 0.66099581, 0.68108154, 0.43588747, 0.57260213,\n",
       "        0.28735238, 0.55102724, 0.26871853, 0.30122769, 0.32131342,\n",
       "        0.30656893, 0.27298786, 0.65966557, 0.33907809, 0.35916382,\n",
       "        0.30549702, 0.32558275, 0.55613239, 0.25068441, 0.58937403,\n",
       "        0.56744728, 0.5505472 , 0.5558649 , 0.43134608, 0.29989745,\n",
       "        0.85661517, 0.58105512, 0.28281098, 0.67107268, 0.70808007,\n",
       "        0.58136119, 0.33774785, 0.42337248, 0.30416678, 0.27483738,\n",
       "        0.26745631, 0.49684705, 0.40646652, 0.31130457, 0.34831195,\n",
       "        0.25793142, 0.53469745, 0.2591374 , 0.50111638, 0.34915496,\n",
       "        0.38616235, 0.31557389, 0.25944347, 0.35258128, 0.40812703,\n",
       "        0.25959193, 0.41390187, 0.26536677, 0.42554181, 0.27700671])]"
      ]
     },
     "execution_count": 49,
     "metadata": {},
     "output_type": "execute_result"
    }
   ],
   "source": [
    "get_mass_differences(spectrums_top30[0])[:]"
   ]
  },
  {
   "cell_type": "code",
   "execution_count": 50,
   "metadata": {},
   "outputs": [],
   "source": [
    "mass_differences = []\n",
    "for spec in spectrums_top30:\n",
    "    mass_differences.append(get_mass_differences(spec))  # list of Spikes"
   ]
  },
  {
   "cell_type": "code",
   "execution_count": 51,
   "metadata": {},
   "outputs": [],
   "source": [
    "# save mass differences file\n",
    "mass_differences_file = os.path.join(data_path, all_pos + \"_top30_mass_differences.pickle\")\n",
    "with open(mass_differences_file, 'wb') as outf:\n",
    "    pickle.dump(mass_differences, outf)"
   ]
  },
  {
   "cell_type": "code",
   "execution_count": 52,
   "metadata": {},
   "outputs": [
    {
     "data": {
      "text/plain": [
       "95279"
      ]
     },
     "execution_count": 52,
     "metadata": {},
     "output_type": "execute_result"
    }
   ],
   "source": [
    "len(mass_differences)"
   ]
  },
  {
   "cell_type": "code",
   "execution_count": 11,
   "metadata": {},
   "outputs": [
    {
     "name": "stdout",
     "output_type": "stream",
     "text": [
      "95279\n"
     ]
    }
   ],
   "source": [
    "# load mass differences file\n",
    "mass_differences_file = os.path.join(data_path, all_pos + \"_top30_mass_differences.pickle\")\n",
    "if os.path.exists(mass_differences_file):\n",
    "    with open(mass_differences_file, 'rb') as inf:\n",
    "        mass_differences = pickle.load(inf) # list of Spikes for each spectrum\n",
    "    print(len(mass_differences))  # should be library length\n",
    "else:\n",
    "    print(\"error\")"
   ]
  },
  {
   "cell_type": "markdown",
   "metadata": {},
   "source": [
    "## Bin mass differences\n",
    "Bin mass differences on 2 decimals to start."
   ]
  },
  {
   "cell_type": "code",
   "execution_count": 54,
   "metadata": {
    "scrolled": true
   },
   "outputs": [],
   "source": [
    "mass_differences_2dec = []\n",
    "n_decimals = 2\n",
    "for mz, intensity in mass_differences:\n",
    "    mz_round_str = [f\"{mz_i:.{n_decimals}f}\" for mz_i in mz]\n",
    "    mass_differences_2dec.append(mz_round_str)"
   ]
  },
  {
   "cell_type": "code",
   "execution_count": 55,
   "metadata": {},
   "outputs": [
    {
     "name": "stdout",
     "output_type": "stream",
     "text": [
      "8863738 total mass differences 2 dec. On average 93.02929291869143 per spectrum\n",
      "77139 unique mass differences 2 dec\n"
     ]
    }
   ],
   "source": [
    "total_mass_differences_2dec = [md_mz for mds in mass_differences_2dec for md_mz in mds]\n",
    "unique_mass_differences_2dec = set(total_mass_differences_2dec)\n",
    "\n",
    "print(f\"{len(total_mass_differences_2dec)} total mass differences 2 dec. On average \\\n",
    "{len(total_mass_differences_2dec)/len(mass_differences_2dec)} per spectrum\")\n",
    "print(f\"{len(unique_mass_differences_2dec)} unique mass differences 2 dec\")"
   ]
  },
  {
   "cell_type": "code",
   "execution_count": 56,
   "metadata": {
    "scrolled": true
   },
   "outputs": [
    {
     "data": {
      "text/plain": [
       "Counter({1: 7076594,\n",
       "         2: 608967,\n",
       "         3: 102682,\n",
       "         4: 31818,\n",
       "         7: 2501,\n",
       "         5: 11670,\n",
       "         6: 5198,\n",
       "         10: 356,\n",
       "         12: 71,\n",
       "         8: 1338,\n",
       "         31: 2,\n",
       "         34: 1,\n",
       "         13: 30,\n",
       "         9: 796,\n",
       "         14: 21,\n",
       "         22: 5,\n",
       "         17: 15,\n",
       "         15: 13,\n",
       "         20: 13,\n",
       "         66: 1,\n",
       "         28: 2,\n",
       "         16: 15,\n",
       "         18: 8,\n",
       "         11: 151,\n",
       "         25: 2,\n",
       "         23: 5,\n",
       "         24: 4,\n",
       "         32: 2,\n",
       "         27: 1,\n",
       "         19: 9,\n",
       "         21: 5,\n",
       "         36: 1,\n",
       "         30: 2,\n",
       "         43: 1,\n",
       "         33: 1})"
      ]
     },
     "execution_count": 56,
     "metadata": {},
     "output_type": "execute_result"
    }
   ],
   "source": [
    "# find out about same mds in one spectrum, read '1: 7079085' as there are 7079085 times a mass difference instance\n",
    "# occurs in a spectrum on their own, 2: 609235 as there are 609235 times there are two the same mds in a spectrum\n",
    "# which represents 609235*2 md instances, etc.\n",
    "from collections import Counter\n",
    "counts = Counter()\n",
    "for mds in mass_differences_2dec:\n",
    "    counts.update(Counter(mds).values())\n",
    "counts"
   ]
  },
  {
   "cell_type": "markdown",
   "metadata": {},
   "source": [
    "## Bin on 2 decimals and represent mass difference spectrum 'document'\n",
    "Each spectrum is for now a list of tuples: [(md_mz, [sorted_intensities], counts)]\n",
    "\n",
    "Mass differences are binned here in 2decimals"
   ]
  },
  {
   "cell_type": "code",
   "execution_count": 57,
   "metadata": {},
   "outputs": [],
   "source": [
    "from collections import defaultdict\n",
    "md_documents = []\n",
    "n_decimals = 2\n",
    "for mz, intensities in mass_differences:\n",
    "    mz_round_strs = [f\"{mz_i:.{n_decimals}f}\" for mz_i in mz]\n",
    "    summary = defaultdict(list)\n",
    "    for mz_round_str, intensity in zip(mz_round_strs, intensities):\n",
    "        summary[mz_round_str].append(intensity)\n",
    "    info_tup = [(key, sorted(vals, reverse=True), len(vals)) for key, vals in summary.items()]\n",
    "    info_tup.sort(key=lambda x: x[2], reverse=True)\n",
    "    md_documents.append(info_tup)"
   ]
  },
  {
   "cell_type": "code",
   "execution_count": 58,
   "metadata": {
    "scrolled": true
   },
   "outputs": [
    {
     "data": {
      "text/plain": [
       "[('42.01',\n",
       "  [0.5471988748004223,\n",
       "   0.29402995355896977,\n",
       "   0.2587543370247674,\n",
       "   0.22516196172866768,\n",
       "   0.2077839057469171,\n",
       "   0.16617782710753534],\n",
       "  6),\n",
       " ('59.04',\n",
       "  [0.5761449934414131,\n",
       "   0.5326966093483293,\n",
       "   0.2587576081945805,\n",
       "   0.23731664927344326,\n",
       "   0.22863482744069547],\n",
       "  5),\n",
       " ('41.03',\n",
       "  [0.2470403578484444,\n",
       "   0.23869891380292435,\n",
       "   0.1765487596317252,\n",
       "   0.15585352588600665],\n",
       "  4),\n",
       " ('47.04',\n",
       "  [0.5449840777200273,\n",
       "   0.2852612222181785,\n",
       "   0.24647013982288252,\n",
       "   0.17711897765728707],\n",
       "  4),\n",
       " ('77.05',\n",
       "  [0.48533922298738597,\n",
       "   0.3998471368406299,\n",
       "   0.2403520777868316,\n",
       "   0.21999714372480905],\n",
       "  4),\n",
       " ('45.02', [0.5441008316773419, 0.2686389512033266, 0.24152126638341553], 3),\n",
       " ('63.03', [0.23546214529813952, 0.23145718002118665, 0.1546009272206983], 3),\n",
       " ('65.05', [0.5332837959321212, 0.38246346970824074, 0.1888362280034232], 3),\n",
       " ('37.05', [0.4620896524367514, 0.24413892972377266], 2),\n",
       " ('39.99', [0.2754398324425121, 0.20904187223369797], 2),\n",
       " ('44.03', [0.24746552744052147, 0.24201693863586635], 2),\n",
       " ('46.00', [0.7155740197796847, 0.2789632524248553], 2),\n",
       " ('49.05', [0.9322956907748879, 0.3281252673443411], 2),\n",
       " ('57.02', [0.5548654207287734, 0.25890493351580474], 2),\n",
       " ('61.05', [0.6460692212494411, 0.3796411171277495], 2),\n",
       " ('62.04', [0.22905999703277252, 0.2211821684768424], 2),\n",
       " ('73.05', [0.5235107886859719, 0.23147199186136752], 2),\n",
       " ('75.03', [0.24884084715357585, 0.1771330985986464], 2),\n",
       " ('76.06', [0.22837394873828712, 0.15379040064743266], 2),\n",
       " ('81.04', [0.4834847190120822, 0.24317443036732278], 2),\n",
       " ('85.05', [0.23728431916052503, 0.22925392361115945], 2),\n",
       " ('88.06', [0.23913853778971866, 0.16429928656118822], 2),\n",
       " ('89.05', [0.27151299350821745, 0.24946283901124738], 2),\n",
       " ('91.06', [0.4794945655753102, 0.1673629389693677], 2),\n",
       " ('93.04', [0.27433534608870863, 0.260558097499712], 2),\n",
       " ('103.06', [0.47727649732510213, 0.2188787887527761], 2),\n",
       " ('107.06', [0.49748541272519003, 0.2217011413332673], 2),\n",
       " ('38.04', [0.475626604511008], 1),\n",
       " ('39.01', [0.19871757101216928], 1),\n",
       " ('43.04', [0.39804664753549845], 1),\n",
       " ('46.01', [0.22798431430915886], 1),\n",
       " ('48.02', [0.24483929121635753], 1),\n",
       " ('48.07', [0.2619185242669647], 1),\n",
       " ('50.04', [0.17754414724936413], 1),\n",
       " ('53.05', [0.510751624554173], 1),\n",
       " ('54.01', [0.5449808065502142], 1),\n",
       " ('55.06', [0.49216150343771536], 1),\n",
       " ('58.00', [0.5651897219503021], 1),\n",
       " ('58.01', [0.24536798144154806], 1),\n",
       " ('60.02', [0.26222295834874676], 1),\n",
       " ('60.07', [0.2724274101807203], 1),\n",
       " ('66.03', [0.2318823496132637], 1),\n",
       " ('66.08', [0.5099410979809074], 1),\n",
       " ('67.06', [0.5761478410582839], 1),\n",
       " ('71.04', [0.2899185239159664], 1),\n",
       " ('78.03', [0.2492660167456529], 1),\n",
       " ('78.08', [0.520449983894663], 1),\n",
       " ('79.06', [0.6276636908416922], 1),\n",
       " ('80.05', [0.4692047421907851], 1),\n",
       " ('83.06', [0.6304860434221834], 1),\n",
       " ('90.08', [0.2169697264092746], 1),\n",
       " ('94.07', [0.4763965224522298], 1),\n",
       " ('95.06', [0.6478697105545725], 1),\n",
       " ('105.04', [0.29171901322109783], 1),\n",
       " ('106.07', [0.48716111150366137], 1),\n",
       " ('108.09', [0.46499230012321724], 1),\n",
       " ('119.06', [0.2390848084656565], 1)]"
      ]
     },
     "execution_count": 58,
     "metadata": {},
     "output_type": "execute_result"
    }
   ],
   "source": [
    "md_documents[-1]"
   ]
  },
  {
   "cell_type": "code",
   "execution_count": 59,
   "metadata": {},
   "outputs": [],
   "source": [
    "# save md documents\n",
    "md_documents_file = os.path.join(data_path, all_pos + \"_mass_difference_documents.pickle\")\n",
    "with open(md_documents_file, 'wb') as outf:\n",
    "    pickle.dump(md_documents, outf)"
   ]
  },
  {
   "cell_type": "code",
   "execution_count": 12,
   "metadata": {},
   "outputs": [
    {
     "name": "stdout",
     "output_type": "stream",
     "text": [
      "95279\n"
     ]
    }
   ],
   "source": [
    "# load md documents\n",
    "md_documents_file = os.path.join(data_path, all_pos + \"_mass_difference_documents.pickle\")\n",
    "if os.path.exists(md_documents_file):\n",
    "    with open(md_documents_file, 'rb') as inf:\n",
    "        md_documents = pickle.load(inf)  # list of list of tuples 'documents'\n",
    "    print(len(md_documents))\n",
    "else:\n",
    "    print(\"error\")"
   ]
  },
  {
   "cell_type": "markdown",
   "metadata": {},
   "source": [
    "## Some info per MD"
   ]
  },
  {
   "cell_type": "code",
   "execution_count": 14,
   "metadata": {},
   "outputs": [
    {
     "name": "stdout",
     "output_type": "stream",
     "text": [
      "77139 Mass differences present in dataset\n"
     ]
    }
   ],
   "source": [
    "from collections import defaultdict\n",
    "\n",
    "# dict of {md: [count for how many times it occurs in spectrumA, etc.]}\n",
    "per_md_counts = defaultdict(list)\n",
    "for doc in md_documents:\n",
    "    for tup in doc:\n",
    "        per_md_counts[tup[0]].append(tup[2])\n",
    "print(len(per_md_counts), \"Mass differences present in dataset\")"
   ]
  },
  {
   "cell_type": "code",
   "execution_count": 15,
   "metadata": {},
   "outputs": [
    {
     "name": "stdout",
     "output_type": "stream",
     "text": [
      "[3, 7, 7, 3, 1, 4, 9, 8, 5, 3] 66\n"
     ]
    },
    {
     "data": {
      "image/png": "[encoded data removed]",
      "text/plain": [
       "<Figure size 432x288 with 1 Axes>"
      ]
     },
     "metadata": {
      "needs_background": "light"
     },
     "output_type": "display_data"
    }
   ],
   "source": [
    "# summarise the highest in-spectrum-count for each MD\n",
    "highest_count_per_md = [max(vals) for vals in per_md_counts.values()]\n",
    "print(highest_count_per_md[:10], max(highest_count_per_md))\n",
    "plt.hist(highest_count_per_md, bins = max(highest_count_per_md))\n",
    "plt.title(\"Maximum in-spectrum count for each mass difference\")\n",
    "plt.xlabel(\"Maximum in-spectrum counts\")\n",
    "plt.ylabel(\"Counts\")\n",
    "plt.show()"
   ]
  },
  {
   "cell_type": "code",
   "execution_count": 16,
   "metadata": {},
   "outputs": [
    {
     "name": "stdout",
     "output_type": "stream",
     "text": [
      "highest 25 occurrences:\n",
      "42.01\t26111\n",
      "40.03\t22756\n",
      "38.02\t21038\n",
      "42.05\t18184\n",
      "46.01\t17556\n",
      "52.03\t17055\n",
      "60.02\t16470\n",
      "54.05\t16032\n",
      "44.03\t15650\n",
      "43.99\t14899\n",
      "55.99\t14103\n",
      "50.02\t13439\n",
      "56.06\t13414\n",
      "80.06\t12926\n",
      "54.01\t12854\n",
      "59.01\t12701\n",
      "39.99\t12512\n",
      "36.02\t12413\n",
      "56.03\t12297\n",
      "80.03\t11708\n",
      "66.05\t11543\n",
      "59.04\t10851\n",
      "64.03\t10754\n",
      "74.04\t10595\n",
      "59.07\t10346\n"
     ]
    }
   ],
   "source": [
    "# in how many spectra does a md occur (at least once)\n",
    "md_spectrum_occurrences = {key:len(vals) for key, vals in per_md_counts.items()}\n",
    "occurrences = md_spectrum_occurrences.values()\n",
    "h_num = 25\n",
    "highest_occ = sorted(occurrences)[-h_num:]\n",
    "highest_mds = [(key,val) for key,val in md_spectrum_occurrences.items() if val in highest_occ]\n",
    "print(f\"highest {h_num} occurrences:\\n\" +\\\n",
    "      '\\n'.join([f\"{key}\\t{val}\"for key, val in sorted(highest_mds, key=lambda x: x[1], reverse=True)]))"
   ]
  },
  {
   "cell_type": "code",
   "execution_count": 17,
   "metadata": {},
   "outputs": [
    {
     "data": {
      "image/png": "[encoded data removed]",
      "text/plain": [
       "<Figure size 432x288 with 1 Axes>"
      ]
     },
     "metadata": {
      "needs_background": "light"
     },
     "output_type": "display_data"
    },
    {
     "name": "stdout",
     "output_type": "stream",
     "text": [
      "2732 mass differences occur in over 500 spectra\n"
     ]
    },
    {
     "data": {
      "image/png": "[encoded data removed]",
      "text/plain": [
       "<Figure size 432x288 with 1 Axes>"
      ]
     },
     "metadata": {
      "needs_background": "light"
     },
     "output_type": "display_data"
    }
   ],
   "source": [
    "from collections import Counter\n",
    "# summarise all occurrences\n",
    "occurrence_counts = Counter(occurrences)\n",
    "plt.subplots(0)\n",
    "plt.hist(occurrences, bins = 500)\n",
    "plt.title(\"Occurrences of mass differences in all spectra\")\n",
    "plt.xlabel(\"Mass difference occurrence\")\n",
    "plt.ylabel(\"Counts\")\n",
    "plt.show()\n",
    "\n",
    "plt.subplots(1)\n",
    "cut = 500\n",
    "occurrences_below_cut = [occ for occ in occurrences if occ < cut]\n",
    "print(f\"{len(occurrences) - len(occurrences_below_cut)} mass differences occur in over {cut} spectra\")\n",
    "plt.hist(occurrences_below_cut, bins = cut)\n",
    "plt.title(f\"Occurrences of mass differences in all spectra (below {cut})\")\n",
    "plt.xlabel(\"Mass difference occurrence\")\n",
    "plt.ylabel(\"Counts\")\n",
    "plt.show()"
   ]
  },
  {
   "cell_type": "code",
   "execution_count": 18,
   "metadata": {
    "scrolled": true
   },
   "outputs": [
    {
     "data": {
      "text/plain": [
       "[(1, 6705),\n",
       " (2, 4207),\n",
       " (3, 2932),\n",
       " (4, 2521),\n",
       " (5, 2163),\n",
       " (6, 1958),\n",
       " (7, 1862),\n",
       " (8, 1652),\n",
       " (9, 1573),\n",
       " (10, 1520),\n",
       " (11, 1418),\n",
       " (12, 1385),\n",
       " (13, 1289),\n",
       " (15, 1225),\n",
       " (14, 1209),\n",
       " (16, 1136),\n",
       " (17, 1108),\n",
       " (18, 1057),\n",
       " (19, 1025),\n",
       " (20, 1010),\n",
       " (21, 995),\n",
       " (22, 856),\n",
       " (23, 845),\n",
       " (24, 810),\n",
       " (25, 793),\n",
       " (26, 750),\n",
       " (27, 709),\n",
       " (28, 681),\n",
       " (30, 659),\n",
       " (29, 653),\n",
       " (31, 640),\n",
       " (32, 611),\n",
       " (34, 604),\n",
       " (33, 552),\n",
       " (35, 531),\n",
       " (36, 521),\n",
       " (37, 485),\n",
       " (38, 478),\n",
       " (39, 473),\n",
       " (40, 436),\n",
       " (42, 434),\n",
       " (41, 415),\n",
       " (44, 397),\n",
       " (43, 381),\n",
       " (45, 380),\n",
       " (46, 370),\n",
       " (47, 368),\n",
       " (49, 356),\n",
       " (50, 342),\n",
       " (48, 321)]"
      ]
     },
     "execution_count": 18,
     "metadata": {},
     "output_type": "execute_result"
    }
   ],
   "source": [
    "occurrence_counts.most_common()[:50]"
   ]
  },
  {
   "cell_type": "code",
   "execution_count": 19,
   "metadata": {},
   "outputs": [
    {
     "name": "stdout",
     "output_type": "stream",
     "text": [
      "Number of mass differences that occur in between 5 and 4764 spectra: 60629\n"
     ]
    }
   ],
   "source": [
    "occ_min = 5\n",
    "occ_max = ceil(0.05*len(md_documents))\n",
    "num_md_occ_cutoff = sum(occurrence_counts.get(key, 0) for key in range(occ_min, occ_max))\n",
    "print(f\"Number of mass differences that occur in between {occ_min} and {occ_max} spectra: {num_md_occ_cutoff}\")"
   ]
  },
  {
   "cell_type": "markdown",
   "metadata": {},
   "source": [
    "## Filter out mass differences that occur outside of cutoff\n",
    "keep MDs with occurrence lower than 5 spectra. Don't use max occurrence cutoff for now, for example cutoff of 5% of spectra only removes 33 MDs, and we can relate most occurring MDs to masses from Xing et al: 42.01 is acetylation for example."
   ]
  },
  {
   "cell_type": "code",
   "execution_count": 27,
   "metadata": {},
   "outputs": [
    {
     "name": "stdout",
     "output_type": "stream",
     "text": [
      "Minimum occurrence cutoff: 5. Maximum occurrence cutoff (1*len(spectra)): 95279.\n",
      "16365 MDs to filter out, leaving 60774 MDs.\n"
     ]
    }
   ],
   "source": [
    "occ_min = 5\n",
    "max_occ_fraction = 1\n",
    "occ_max = ceil(max_occ_fraction*len(md_documents))\n",
    "print(f\"Minimum occurrence cutoff: {occ_min}. Maximum occurrence cutoff ({max_occ_fraction}*len(spectra)): {occ_max}.\")\n",
    "black_list = set(md for md, occ in md_spectrum_occurrences.items() if occ < occ_min or occ >= occ_max)\n",
    "print(f\"{len(black_list)} MDs to filter out, leaving {len(per_md_counts)-len(black_list)} MDs.\")"
   ]
  },
  {
   "cell_type": "code",
   "execution_count": 28,
   "metadata": {},
   "outputs": [],
   "source": [
    "md_documents_filtered = [[tup for tup in doc if tup[0] not in black_list] for doc in md_documents]"
   ]
  },
  {
   "cell_type": "code",
   "execution_count": 59,
   "metadata": {},
   "outputs": [
    {
     "name": "stdout",
     "output_type": "stream",
     "text": [
      "99 100\n",
      "85 91\n"
     ]
    }
   ],
   "source": [
    "#exemples of filtered and non filtered mass differences\n",
    "x=12\n",
    "print(len(md_documents_filtered[x]), len(md_documents[x]))\n",
    "\n",
    "\n",
    "x=13\n",
    "print(len(md_documents_filtered[x]), len(md_documents[x]))"
   ]
  },
  {
   "cell_type": "code",
   "execution_count": 30,
   "metadata": {},
   "outputs": [],
   "source": [
    "# save md documents filtered\n",
    "md_documents_filtered_file = os.path.join(data_path, all_pos + \"_mass_difference_documents_filtered.pickle\")\n",
    "with open(md_documents_filtered_file, 'wb') as outf:\n",
    "    pickle.dump(md_documents_filtered, outf)"
   ]
  },
  {
   "cell_type": "code",
   "execution_count": 60,
   "metadata": {},
   "outputs": [
    {
     "name": "stdout",
     "output_type": "stream",
     "text": [
      "95279\n"
     ]
    }
   ],
   "source": [
    "# load md documents\n",
    "md_documents_filtered_file = os.path.join(data_path, all_pos + \"_mass_difference_documents_filtered.pickle\")\n",
    "if os.path.exists(md_documents_filtered_file):\n",
    "    with open(md_documents_filtered_file, 'rb') as inf:\n",
    "        md_documents_filtered = pickle.load(inf)  # list of list of tuples 'documents'\n",
    "    print(len(md_documents_filtered))\n",
    "else:\n",
    "    print(\"error\")"
   ]
  },
  {
   "cell_type": "markdown",
   "metadata": {},
   "source": [
    "## Plot same statistics again for filtered data"
   ]
  },
  {
   "cell_type": "code",
   "execution_count": 61,
   "metadata": {},
   "outputs": [
    {
     "name": "stdout",
     "output_type": "stream",
     "text": [
      "Number of mass differences left: 60774\n"
     ]
    }
   ],
   "source": [
    "from collections import defaultdict\n",
    "\n",
    "# dict of {md: [count for how many times it occurs in spectrumA, etc.]} for fitered data\n",
    "per_md_counts_filtered = defaultdict(list)\n",
    "for doc in md_documents_filtered:\n",
    "    for tup in doc:\n",
    "        per_md_counts_filtered[tup[0]].append(tup[2])\n",
    "print(\"Number of mass differences left:\", len(per_md_counts_filtered))"
   ]
  },
  {
   "cell_type": "code",
   "execution_count": 62,
   "metadata": {},
   "outputs": [
    {
     "name": "stdout",
     "output_type": "stream",
     "text": [
      "[3, 7, 7, 3, 1, 4, 9, 8, 5, 3] 66\n"
     ]
    },
    {
     "data": {
      "image/png": "[encoded data removed]",
      "text/plain": [
       "<Figure size 432x288 with 1 Axes>"
      ]
     },
     "metadata": {
      "needs_background": "light"
     },
     "output_type": "display_data"
    }
   ],
   "source": [
    "# summarise the highest in-spectrum-count for each MD filtered\n",
    "highest_count_per_md_filtered = [max(vals) for vals in per_md_counts_filtered.values()]\n",
    "print(highest_count_per_md_filtered[:10], max(highest_count_per_md_filtered))\n",
    "plt.hist(highest_count_per_md_filtered, bins = max(highest_count_per_md_filtered))\n",
    "plt.title(\"Maximum in-spectrum count for each mass difference (filtered)\")\n",
    "plt.xlabel(\"Maximum in-spectrum counts\")\n",
    "plt.ylabel(\"Counts\")\n",
    "plt.show()"
   ]
  },
  {
   "cell_type": "code",
   "execution_count": 63,
   "metadata": {},
   "outputs": [
    {
     "name": "stdout",
     "output_type": "stream",
     "text": [
      "highest 25 occurrences:\n",
      "42.01\t26111\n",
      "40.03\t22756\n",
      "38.02\t21038\n",
      "42.05\t18184\n",
      "46.01\t17556\n",
      "52.03\t17055\n",
      "60.02\t16470\n",
      "54.05\t16032\n",
      "44.03\t15650\n",
      "43.99\t14899\n",
      "55.99\t14103\n",
      "50.02\t13439\n",
      "56.06\t13414\n",
      "80.06\t12926\n",
      "54.01\t12854\n",
      "59.01\t12701\n",
      "39.99\t12512\n",
      "36.02\t12413\n",
      "56.03\t12297\n",
      "80.03\t11708\n",
      "66.05\t11543\n",
      "59.04\t10851\n",
      "64.03\t10754\n",
      "74.04\t10595\n",
      "59.07\t10346\n"
     ]
    }
   ],
   "source": [
    "# in how many spectra does a md occur (at least once) (filtered)\n",
    "md_spectrum_occurrences_filtered = {key:len(vals) for key, vals in per_md_counts_filtered.items()}\n",
    "occurrences_filtered = md_spectrum_occurrences_filtered.values()\n",
    "h_num = 25\n",
    "highest_occ_filtered = sorted(occurrences_filtered)[-h_num:]\n",
    "highest_mds_filtered = [(key,val) for key,val in md_spectrum_occurrences_filtered.items() if val in highest_occ_filtered]\n",
    "print(f\"highest {h_num} occurrences:\\n\" +\\\n",
    "      '\\n'.join([f\"{key}\\t{val}\"for key, val in sorted(highest_mds_filtered, key=lambda x: x[1], reverse=True)]))"
   ]
  },
  {
   "cell_type": "code",
   "execution_count": 64,
   "metadata": {},
   "outputs": [
    {
     "data": {
      "text/plain": [
       "3283"
      ]
     },
     "execution_count": 64,
     "metadata": {},
     "output_type": "execute_result"
    }
   ],
   "source": [
    "md_spectrum_occurrences_filtered.get('162.05')  # hexose"
   ]
  },
  {
   "cell_type": "code",
   "execution_count": 86,
   "metadata": {},
   "outputs": [
    {
     "data": {
      "image/png": "[encoded data removed]",
      "text/plain": [
       "<Figure size 432x288 with 1 Axes>"
      ]
     },
     "metadata": {
      "needs_background": "light"
     },
     "output_type": "display_data"
    }
   ],
   "source": [
    "from collections import Counter\n",
    "# summarise all occurrences filtered\n",
    "occurrence_counts_filtered = Counter(occurrences_filtered)\n",
    "\n",
    "#only display occurrences below 1000 otherwise the plot becomes unusable\n",
    "cut = 1000\n",
    "occurrences_filtered_cut = [occ for occ in occurrences_filtered if occ < cut]\n",
    "plt.subplots(0)\n",
    "plt.hist(occurrences_filtered_cut, bins = max(occurrences_filtered_cut)-5) # bin on integers\n",
    "plt.title(\"Occurrences of filtered mass differences in all spectra (cut at 1000)\")\n",
    "plt.xlabel(\"Mass difference occurrence\")\n",
    "plt.ylabel(\"Counts\")\n",
    "plt.show()"
   ]
  },
  {
   "cell_type": "code",
   "execution_count": 80,
   "metadata": {},
   "outputs": [
    {
     "data": {
      "text/plain": [
       "([(5, 2163),\n",
       "  (6, 1958),\n",
       "  (7, 1862),\n",
       "  (8, 1652),\n",
       "  (9, 1573),\n",
       "  (10, 1520),\n",
       "  (11, 1418),\n",
       "  (12, 1385),\n",
       "  (13, 1289),\n",
       "  (15, 1225)],\n",
       " [(1840, 1),\n",
       "  (963, 1),\n",
       "  (2785, 1),\n",
       "  (1669, 1),\n",
       "  (1101, 1),\n",
       "  (1007, 1),\n",
       "  (2921, 1),\n",
       "  (2339, 1),\n",
       "  (1175, 1),\n",
       "  (763, 1)])"
      ]
     },
     "execution_count": 80,
     "metadata": {},
     "output_type": "execute_result"
    }
   ],
   "source": [
    "occurrence_counts_filtered.most_common()[:10], occurrence_counts_filtered.most_common()[-10:]"
   ]
  },
  {
   "cell_type": "markdown",
   "metadata": {},
   "source": [
    "## Plot m/z of the filtered MDs"
   ]
  },
  {
   "cell_type": "code",
   "execution_count": 81,
   "metadata": {},
   "outputs": [],
   "source": [
    "all_filtered_mds_mz = [float(key) for key in per_md_counts_filtered.keys()]"
   ]
  },
  {
   "cell_type": "code",
   "execution_count": 82,
   "metadata": {},
   "outputs": [],
   "source": [
    "filtered_mds_mz, filtered_mds_occurences = zip(*[(float(key), val) for key, val in md_spectrum_occurrences_filtered.items()])"
   ]
  },
  {
   "cell_type": "code",
   "execution_count": 85,
   "metadata": {},
   "outputs": [
    {
     "data": {
      "image/png": "[encoded data removed]",
      "text/plain": [
       "<Figure size 432x288 with 1 Axes>"
      ]
     },
     "metadata": {
      "needs_background": "light"
     },
     "output_type": "display_data"
    },
    {
     "data": {
      "image/png": "[encoded data removed]",
      "text/plain": [
       "<Figure size 432x288 with 1 Axes>"
      ]
     },
     "metadata": {
      "needs_background": "light"
     },
     "output_type": "display_data"
    }
   ],
   "source": [
    "# mz versus occurrence\n",
    "plt.scatter(filtered_mds_mz, filtered_mds_occurences, s=0.5)\n",
    "plt.title(\"Occurrence vs m/z for filtered mass differences\")\n",
    "plt.ylabel(\"Occurrence\")\n",
    "plt.xlabel(\"m/z\")\n",
    "plt.show()\n",
    "\n",
    "plt.hist(filtered_mds_mz, bins = int(max(filtered_mds_mz)-min(filtered_mds_mz)))  # bin more or less on integers\n",
    "plt.title(\"M/z distribution for filtered mass differences (binsize ~1)\")\n",
    "plt.ylabel(\"Bin size\")\n",
    "plt.xlabel(\"m/z\")\n",
    "plt.show()"
   ]
  },
  {
   "cell_type": "markdown",
   "metadata": {},
   "source": [
    "## Finding some examples\n",
    "Like hexose: 162.05 / .06/ .04"
   ]
  },
  {
   "cell_type": "code",
   "execution_count": 84,
   "metadata": {},
   "outputs": [
    {
     "data": {
      "text/plain": [
       "3283"
      ]
     },
     "execution_count": 84,
     "metadata": {},
     "output_type": "execute_result"
    }
   ],
   "source": [
    "#occurrences\n",
    "md_spectrum_occurrences_filtered.get('162.05')"
   ]
  }
 ],
 "metadata": {
  "kernelspec": {
   "display_name": "Python 3",
   "language": "python",
   "name": "python3"
  },
  "language_info": {
   "codemirror_mode": {
    "name": "ipython",
    "version": 3
   },
   "file_extension": ".py",
   "mimetype": "text/x-python",
   "name": "python",
   "nbconvert_exporter": "python",
   "pygments_lexer": "ipython3",
   "version": "3.7.9"
  }
 },
 "nbformat": 4,
 "nbformat_minor": 2
}
