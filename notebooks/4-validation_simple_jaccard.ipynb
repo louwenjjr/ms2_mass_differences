{
 "cells": [
  {
   "cell_type": "markdown",
   "id": "moderate-costs",
   "metadata": {},
   "source": [
    "# Summary\n",
    "Here we do a validation of the 'simple' jaccard correlations by repeating some of the Spec2Vec metrics. Much of the code is directly copied from Florian's notebooks here https://github.com/iomega/spec2vec_gnps_data_analysis/blob/master/notebooks/"
   ]
  },
  {
   "cell_type": "code",
   "execution_count": 1,
   "id": "personalized-tiffany",
   "metadata": {},
   "outputs": [],
   "source": [
    "import os\n",
    "import numpy as np\n",
    "import pandas as pd\n",
    "from matplotlib import pyplot as plt\n",
    "import pickle\n",
    "import time\n",
    "\n",
    "data_path = \"/mnt/scratch/louwe015/Mass_differences/data/\""
   ]
  },
  {
   "cell_type": "code",
   "execution_count": 2,
   "id": "dental-madison",
   "metadata": {},
   "outputs": [
    {
     "name": "stdout",
     "output_type": "stream",
     "text": [
      "ALL_GNPS_210125_positive_cleaned_by_matchms_and_lookups\n"
     ]
    }
   ],
   "source": [
    "all_pos_version1 = False\n",
    "if all_pos_version1:\n",
    "    all_pos = \"gnps_positive_ionmode_cleaned_by_matchms_and_lookups\"\n",
    "else:\n",
    "    all_pos = \"ALL_GNPS_210125_positive_cleaned_by_matchms_and_lookups\"\n",
    "\n",
    "print(all_pos)"
   ]
  },
  {
   "cell_type": "code",
   "execution_count": 3,
   "id": "representative-robert",
   "metadata": {},
   "outputs": [
    {
     "name": "stdout",
     "output_type": "stream",
     "text": [
      "jaccard_matrix_allpos2_04-03-2021.npz True\n"
     ]
    }
   ],
   "source": [
    "if all_pos_version1:\n",
    "    jacc_mat_file = None  # I didn't run this one\n",
    "else:\n",
    "    jacc_mat_file = \"jaccard_matrix_allpos2_04-03-2021.npz\"\n",
    "\n",
    "jacc_mat_path = os.path.join(data_path, 'jaccard_matrices', jacc_mat_file)\n",
    "print(jacc_mat_file, os.path.isfile(jacc_mat_path))"
   ]
  },
  {
   "cell_type": "markdown",
   "id": "crucial-infrastructure",
   "metadata": {},
   "source": [
    "## Load jaccard matrix and get MDs with correlations 0.1-0.5"
   ]
  },
  {
   "cell_type": "code",
   "execution_count": 41,
   "id": "great-channels",
   "metadata": {},
   "outputs": [],
   "source": [
    "low_cutoff = 0.1\n",
    "high_cutoff = 0.5"
   ]
  },
  {
   "cell_type": "code",
   "execution_count": 6,
   "id": "correct-forwarding",
   "metadata": {},
   "outputs": [],
   "source": [
    "jacc_mat_npz = np.load(jacc_mat_path, allow_pickle=True)"
   ]
  },
  {
   "cell_type": "code",
   "execution_count": 9,
   "id": "auburn-difference",
   "metadata": {},
   "outputs": [],
   "source": [
    "j_rows, j_cols, jacc_mat_sparse = [jacc_mat_npz[name] for name in jacc_mat_npz.files]\n",
    "jacc_mat_sparse = jacc_mat_sparse.item()"
   ]
  },
  {
   "cell_type": "code",
   "execution_count": 27,
   "id": "current-lemon",
   "metadata": {},
   "outputs": [
    {
     "data": {
      "text/plain": [
       "<61348x115913 sparse matrix of type '<class 'numpy.float64'>'\n",
       "\twith 384463253 stored elements in Compressed Sparse Row format>"
      ]
     },
     "execution_count": 27,
     "metadata": {},
     "output_type": "execute_result"
    }
   ],
   "source": [
    "jacc_mat_sparse"
   ]
  },
  {
   "cell_type": "code",
   "execution_count": 34,
   "id": "minor-accessory",
   "metadata": {},
   "outputs": [],
   "source": [
    "maxes = jacc_mat_sparse.max(axis=1).toarray()"
   ]
  },
  {
   "cell_type": "code",
   "execution_count": 42,
   "id": "motivated-shoulder",
   "metadata": {},
   "outputs": [],
   "source": [
    "maxes_inds = [i for i, val in enumerate(maxes) if val[0] >= low_cutoff and val[0] <= high_cutoff]"
   ]
  },
  {
   "cell_type": "code",
   "execution_count": 45,
   "id": "common-demonstration",
   "metadata": {},
   "outputs": [
    {
     "data": {
      "text/plain": [
       "(array([[0.13313639],\n",
       "        [0.24642122],\n",
       "        [0.1013701 ],\n",
       "        [0.09151063],\n",
       "        [0.08100498]]),\n",
       " [0, 1, 2, 5, 6])"
      ]
     },
     "execution_count": 45,
     "metadata": {},
     "output_type": "execute_result"
    }
   ],
   "source": [
    "maxes[:5], maxes_inds[:5]  # seems to have worked"
   ]
  },
  {
   "cell_type": "code",
   "execution_count": 54,
   "id": "furnished-heading",
   "metadata": {},
   "outputs": [
    {
     "data": {
      "text/plain": [
       "(array(['37.00', '37.01', '37.02', '37.03', '37.04', '37.05', '37.06',\n",
       "        '37.07', '37.08', '37.09'], dtype='<U6'),\n",
       " ['37.00', '37.01', '37.02', '37.05', '37.06'])"
      ]
     },
     "execution_count": 54,
     "metadata": {},
     "output_type": "execute_result"
    }
   ],
   "source": [
    "# get MD names corresponding to these rows\n",
    "chosen_mds = list(j_rows[maxes_inds])\n",
    "j_rows[:10], chosen_mds[:5]"
   ]
  },
  {
   "cell_type": "code",
   "execution_count": 53,
   "id": "champion-burner",
   "metadata": {},
   "outputs": [],
   "source": [
    "# del(jacc_mat_sparse)\n",
    "# del(jacc_mat_npz)"
   ]
  },
  {
   "cell_type": "markdown",
   "id": "sublime-optics",
   "metadata": {},
   "source": [
    "## Save/load chosen MDs"
   ]
  },
  {
   "cell_type": "code",
   "execution_count": 60,
   "id": "refined-palace",
   "metadata": {},
   "outputs": [
    {
     "name": "stdout",
     "output_type": "stream",
     "text": [
      "/mnt/scratch/louwe015/Mass_differences/data/jaccard_matrices/jaccard_matrix_allpos2_04-03-2021_chosen_MDs_0.1-0.5.txt\n"
     ]
    }
   ],
   "source": [
    "# save chosen MDs\n",
    "out_indices = os.path.join(data_path, 'jaccard_matrices', jacc_mat_file.rpartition('.')[0]+\"_chosen_MDs_0.1-0.5.txt\")\n",
    "print(out_indices)\n",
    "with open(out_indices, 'w') as outf:\n",
    "    for md in chosen_mds:\n",
    "        outf.write(f'{md}\\n')"
   ]
  },
  {
   "cell_type": "code",
   "execution_count": 9,
   "id": "behavioral-cleveland",
   "metadata": {},
   "outputs": [
    {
     "name": "stdout",
     "output_type": "stream",
     "text": [
      "/mnt/scratch/louwe015/Mass_differences/data/jaccard_matrices/jaccard_matrix_allpos2_04-03-2021_chosen_MDs_0.1-0.5.txt True\n"
     ]
    },
    {
     "data": {
      "text/plain": [
       "(16595, ['37.00', '37.01', '37.02', '37.05', '37.06'])"
      ]
     },
     "execution_count": 9,
     "metadata": {},
     "output_type": "execute_result"
    }
   ],
   "source": [
    "out_indices = os.path.join(data_path, 'jaccard_matrices', jacc_mat_file.rpartition('.')[0]+\"_chosen_MDs_0.1-0.5.txt\")\n",
    "print(out_indices, os.path.isfile(out_indices))\n",
    "with open(out_indices, 'r') as inf:\n",
    "    chosen_mds = [line.strip() for line in inf]\n",
    "len(chosen_mds), chosen_mds[:5]"
   ]
  },
  {
   "cell_type": "markdown",
   "id": "covered-coach",
   "metadata": {},
   "source": [
    "## Load processed spectra for cosine, s2v, s2v+MDs\n",
    "Spectra processed for s2v, s2v+MD, cosine scoring are loaded from notebook 1."
   ]
  },
  {
   "cell_type": "code",
   "execution_count": 10,
   "id": "golden-precipitation",
   "metadata": {},
   "outputs": [],
   "source": [
    "# load top30 file\n",
    "top30_file = os.path.join(data_path, all_pos + \"_top30_peaks.pickle\")\n",
    "if os.path.exists(top30_file):\n",
    "    with open(top30_file, 'rb') as inf:\n",
    "        spectrums_top30 = pickle.load(inf)  # list of matchms.Spectrum.Spectrum\n",
    "else:\n",
    "    print(\"error\")\n",
    "# load processed file\n",
    "processed_file = os.path.join(data_path, all_pos + \"_processed.pickle\")\n",
    "if os.path.exists(processed_file):\n",
    "    with open(processed_file, 'rb') as inf:\n",
    "        spectrums_processed = pickle.load(inf)  # list of matchms.Spectrum.Spectrum\n",
    "else:\n",
    "    print(\"error\")\n",
    "# load classical file\n",
    "classical_file = os.path.join(data_path, all_pos + \"_classical.pickle\")\n",
    "if os.path.exists(classical_file):\n",
    "    with open(classical_file, 'rb') as inf:\n",
    "        spectrums_classical = pickle.load(inf)  # list of matchms.Spectrum.Spectrum\n",
    "else:\n",
    "    print(\"error\")"
   ]
  },
  {
   "cell_type": "markdown",
   "id": "charitable-intervention",
   "metadata": {},
   "source": [
    "## Create test set of 1000 spectra whose inchikey exists in library >= 2 times"
   ]
  },
  {
   "cell_type": "code",
   "execution_count": 13,
   "id": "hundred-triumph",
   "metadata": {},
   "outputs": [
    {
     "data": {
      "text/plain": [
       "NEGQHKSYEYVFTD    432\n",
       "SULIDBRAXVDKBU    426\n",
       "SRIGHEHXEGELQJ    338\n",
       "IQGPMZRCLCCXAG    308\n",
       "RWKUXQNLWDTSLO    235\n",
       "dtype: int64"
      ]
     },
     "execution_count": 13,
     "metadata": {},
     "output_type": "execute_result"
    }
   ],
   "source": [
    "Inchikeys = []\n",
    "for spec in spectrums_top30:\n",
    "    Inchikeys.append(spec.get(\"inchikey\"))\n",
    "inchikeys_pd = pd.Series([x for x in Inchikeys if x])\n",
    "inchikeys_pd.str[:14].value_counts()[:5]"
   ]
  },
  {
   "cell_type": "markdown",
   "id": "based-birthday",
   "metadata": {},
   "source": [
    "### Randomly select 1000 inchikeys that exist >=2 times in the dataset"
   ]
  },
  {
   "cell_type": "code",
   "execution_count": 16,
   "id": "southern-characteristic",
   "metadata": {},
   "outputs": [
    {
     "name": "stdout",
     "output_type": "stream",
     "text": [
      "       inchikey14  occurences\n",
      "0  NEGQHKSYEYVFTD         432\n",
      "1  SULIDBRAXVDKBU         426\n",
      "2  SRIGHEHXEGELQJ         338\n",
      "3  IQGPMZRCLCCXAG         308\n",
      "4  RWKUXQNLWDTSLO         235\n"
     ]
    },
    {
     "data": {
      "text/html": [
       "<div>\n",
       "<style scoped>\n",
       "    .dataframe tbody tr th:only-of-type {\n",
       "        vertical-align: middle;\n",
       "    }\n",
       "\n",
       "    .dataframe tbody tr th {\n",
       "        vertical-align: top;\n",
       "    }\n",
       "\n",
       "    .dataframe thead th {\n",
       "        text-align: right;\n",
       "    }\n",
       "</style>\n",
       "<table border=\"1\" class=\"dataframe\">\n",
       "  <thead>\n",
       "    <tr style=\"text-align: right;\">\n",
       "      <th></th>\n",
       "      <th>inchikey14</th>\n",
       "      <th>occurences</th>\n",
       "    </tr>\n",
       "  </thead>\n",
       "  <tbody>\n",
       "    <tr>\n",
       "      <th>7961</th>\n",
       "      <td>ABRULANJVVJLFI</td>\n",
       "      <td>2</td>\n",
       "    </tr>\n",
       "    <tr>\n",
       "      <th>7911</th>\n",
       "      <td>ABOPTWOWDLNBOE</td>\n",
       "      <td>2</td>\n",
       "    </tr>\n",
       "    <tr>\n",
       "      <th>8268</th>\n",
       "      <td>ABBPFXQJIWUCKF</td>\n",
       "      <td>2</td>\n",
       "    </tr>\n",
       "    <tr>\n",
       "      <th>8525</th>\n",
       "      <td>AAIIJIOWYALNCC</td>\n",
       "      <td>2</td>\n",
       "    </tr>\n",
       "    <tr>\n",
       "      <th>7631</th>\n",
       "      <td>AABZZWPMCAZHFC</td>\n",
       "      <td>2</td>\n",
       "    </tr>\n",
       "  </tbody>\n",
       "</table>\n",
       "</div>"
      ],
      "text/plain": [
       "          inchikey14  occurences\n",
       "7961  ABRULANJVVJLFI           2\n",
       "7911  ABOPTWOWDLNBOE           2\n",
       "8268  ABBPFXQJIWUCKF           2\n",
       "8525  AAIIJIOWYALNCC           2\n",
       "7631  AABZZWPMCAZHFC           2"
      ]
     },
     "execution_count": 16,
     "metadata": {},
     "output_type": "execute_result"
    }
   ],
   "source": [
    "min_copies_in_data = 2\n",
    "\n",
    "suitable_inchikeys = pd.DataFrame(\\\n",
    "                                  inchikeys_pd.str[:14].value_counts()\\\n",
    "                                  [inchikeys_pd.str[:14].value_counts().values >= min_copies_in_data])\n",
    "suitable_inchikeys.reset_index(level=suitable_inchikeys.index.names, inplace=True)\n",
    "suitable_inchikeys.columns = (['inchikey14', 'occurences'])\n",
    "\n",
    "# Important: sort values to make it reproducible (same occurences have random order otherwise!)\n",
    "suitable_inchikeys = suitable_inchikeys.sort_values(['occurences', 'inchikey14'], ascending=False)\n",
    "\n",
    "print(suitable_inchikeys.head(5))\n",
    "suitable_inchikeys.tail(5)"
   ]
  }
 ],
 "metadata": {
  "kernelspec": {
   "display_name": "Python 3",
   "language": "python",
   "name": "python3"
  },
  "language_info": {
   "codemirror_mode": {
    "name": "ipython",
    "version": 3
   },
   "file_extension": ".py",
   "mimetype": "text/x-python",
   "name": "python",
   "nbconvert_exporter": "python",
   "pygments_lexer": "ipython3",
   "version": "3.7.9"
  }
 },
 "nbformat": 4,
 "nbformat_minor": 5
}
