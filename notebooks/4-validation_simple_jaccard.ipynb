{
 "cells": [
  {
   "cell_type": "markdown",
   "id": "moderate-costs",
   "metadata": {},
   "source": [
    "# Summary\n",
    "Here we do a validation of the 'simple' jaccard correlations by repeating some of the Spec2Vec metrics. Much of the code is directly copied from Florian's notebooks here https://github.com/iomega/spec2vec_gnps_data_analysis/blob/master/notebooks/"
   ]
  },
  {
   "cell_type": "code",
   "execution_count": 1,
   "id": "personalized-tiffany",
   "metadata": {},
   "outputs": [],
   "source": [
    "import os\n",
    "import numpy as np\n",
    "import pandas as pd\n",
    "from matplotlib import pyplot as plt\n",
    "import pickle\n",
    "import time\n",
    "\n",
    "data_path = \"/mnt/scratch/louwe015/Mass_differences/data/\""
   ]
  },
  {
   "cell_type": "code",
   "execution_count": 2,
   "id": "dental-madison",
   "metadata": {},
   "outputs": [
    {
     "name": "stdout",
     "output_type": "stream",
     "text": [
      "ALL_GNPS_210125_positive_cleaned_by_matchms_and_lookups\n"
     ]
    }
   ],
   "source": [
    "all_pos_version1 = False\n",
    "if all_pos_version1:\n",
    "    all_pos = \"gnps_positive_ionmode_cleaned_by_matchms_and_lookups\"\n",
    "else:\n",
    "    all_pos = \"ALL_GNPS_210125_positive_cleaned_by_matchms_and_lookups\"\n",
    "\n",
    "print(all_pos)"
   ]
  },
  {
   "cell_type": "code",
   "execution_count": 3,
   "id": "representative-robert",
   "metadata": {},
   "outputs": [
    {
     "name": "stdout",
     "output_type": "stream",
     "text": [
      "jaccard_matrix_allpos2_04-03-2021.npz True\n"
     ]
    }
   ],
   "source": [
    "if all_pos_version1:\n",
    "    jacc_mat_file = None  # I didn't run this one\n",
    "else:\n",
    "    jacc_mat_file = \"jaccard_matrix_allpos2_04-03-2021.npz\"\n",
    "\n",
    "jacc_mat_path = os.path.join(data_path, 'jaccard_matrices', jacc_mat_file)\n",
    "print(jacc_mat_file, os.path.isfile(jacc_mat_path))"
   ]
  },
  {
   "cell_type": "markdown",
   "id": "crucial-infrastructure",
   "metadata": {},
   "source": [
    "## Load jaccard matrix and get MDs with correlations 0.1-0.5"
   ]
  },
  {
   "cell_type": "code",
   "execution_count": 41,
   "id": "great-channels",
   "metadata": {},
   "outputs": [],
   "source": [
    "low_cutoff = 0.1\n",
    "high_cutoff = 0.5"
   ]
  },
  {
   "cell_type": "code",
   "execution_count": 6,
   "id": "correct-forwarding",
   "metadata": {},
   "outputs": [],
   "source": [
    "jacc_mat_npz = np.load(jacc_mat_path, allow_pickle=True)"
   ]
  },
  {
   "cell_type": "code",
   "execution_count": 9,
   "id": "auburn-difference",
   "metadata": {},
   "outputs": [],
   "source": [
    "j_rows, j_cols, jacc_mat_sparse = [jacc_mat_npz[name] for name in jacc_mat_npz.files]\n",
    "jacc_mat_sparse = jacc_mat_sparse.item()"
   ]
  },
  {
   "cell_type": "code",
   "execution_count": 27,
   "id": "current-lemon",
   "metadata": {},
   "outputs": [
    {
     "data": {
      "text/plain": [
       "<61348x115913 sparse matrix of type '<class 'numpy.float64'>'\n",
       "\twith 384463253 stored elements in Compressed Sparse Row format>"
      ]
     },
     "execution_count": 27,
     "metadata": {},
     "output_type": "execute_result"
    }
   ],
   "source": [
    "jacc_mat_sparse"
   ]
  },
  {
   "cell_type": "code",
   "execution_count": 34,
   "id": "minor-accessory",
   "metadata": {},
   "outputs": [],
   "source": [
    "maxes = jacc_mat_sparse.max(axis=1).toarray()"
   ]
  },
  {
   "cell_type": "code",
   "execution_count": 42,
   "id": "motivated-shoulder",
   "metadata": {},
   "outputs": [],
   "source": [
    "maxes_inds = [i for i, val in enumerate(maxes) if val[0] >= low_cutoff and val[0] <= high_cutoff]"
   ]
  },
  {
   "cell_type": "code",
   "execution_count": 45,
   "id": "common-demonstration",
   "metadata": {},
   "outputs": [
    {
     "data": {
      "text/plain": [
       "(array([[0.13313639],\n",
       "        [0.24642122],\n",
       "        [0.1013701 ],\n",
       "        [0.09151063],\n",
       "        [0.08100498]]),\n",
       " [0, 1, 2, 5, 6])"
      ]
     },
     "execution_count": 45,
     "metadata": {},
     "output_type": "execute_result"
    }
   ],
   "source": [
    "maxes[:5], maxes_inds[:5]  # seems to have worked"
   ]
  },
  {
   "cell_type": "code",
   "execution_count": 54,
   "id": "furnished-heading",
   "metadata": {},
   "outputs": [
    {
     "data": {
      "text/plain": [
       "(array(['37.00', '37.01', '37.02', '37.03', '37.04', '37.05', '37.06',\n",
       "        '37.07', '37.08', '37.09'], dtype='<U6'),\n",
       " ['37.00', '37.01', '37.02', '37.05', '37.06'])"
      ]
     },
     "execution_count": 54,
     "metadata": {},
     "output_type": "execute_result"
    }
   ],
   "source": [
    "# get MD names corresponding to these rows\n",
    "chosen_mds = list(j_rows[maxes_inds])\n",
    "j_rows[:10], chosen_mds[:5]"
   ]
  },
  {
   "cell_type": "code",
   "execution_count": 53,
   "id": "champion-burner",
   "metadata": {},
   "outputs": [],
   "source": [
    "# del(jacc_mat_sparse)\n",
    "# del(jacc_mat_npz)"
   ]
  },
  {
   "cell_type": "markdown",
   "id": "varied-chapter",
   "metadata": {},
   "source": [
    "## Save/load chosen MDs"
   ]
  },
  {
   "cell_type": "code",
   "execution_count": 60,
   "id": "refined-palace",
   "metadata": {},
   "outputs": [
    {
     "name": "stdout",
     "output_type": "stream",
     "text": [
      "/mnt/scratch/louwe015/Mass_differences/data/jaccard_matrices/jaccard_matrix_allpos2_04-03-2021_chosen_MDs_0.1-0.5.txt\n"
     ]
    }
   ],
   "source": [
    "# save chosen MDs\n",
    "out_indices = os.path.join(data_path, 'jaccard_matrices', jacc_mat_file.rpartition('.')[0]+\"_chosen_MDs_0.1-0.5.txt\")\n",
    "print(out_indices)\n",
    "with open(out_indices, 'w') as outf:\n",
    "    for md in chosen_mds:\n",
    "        outf.write(f'{md}\\n')"
   ]
  },
  {
   "cell_type": "code",
   "execution_count": 9,
   "id": "welcome-pilot",
   "metadata": {},
   "outputs": [
    {
     "name": "stdout",
     "output_type": "stream",
     "text": [
      "/mnt/scratch/louwe015/Mass_differences/data/jaccard_matrices/jaccard_matrix_allpos2_04-03-2021_chosen_MDs_0.1-0.5.txt True\n"
     ]
    },
    {
     "data": {
      "text/plain": [
       "(16595, ['37.00', '37.01', '37.02', '37.05', '37.06'])"
      ]
     },
     "execution_count": 9,
     "metadata": {},
     "output_type": "execute_result"
    }
   ],
   "source": [
    "out_indices = os.path.join(data_path, 'jaccard_matrices', jacc_mat_file.rpartition('.')[0]+\"_chosen_MDs_0.1-0.5.txt\")\n",
    "print(out_indices, os.path.isfile(out_indices))\n",
    "with open(out_indices, 'r') as inf:\n",
    "    chosen_mds = [line.strip() for line in inf]\n",
    "len(chosen_mds), chosen_mds[:5]"
   ]
  },
  {
   "cell_type": "markdown",
   "id": "covered-coach",
   "metadata": {},
   "source": [
    "## Load processed spectra for cosine, s2v, s2v+MDs\n",
    "Spectra processed for s2v, s2v+MD, cosine scoring are loaded from notebook 1."
   ]
  },
  {
   "cell_type": "code",
   "execution_count": 10,
   "id": "golden-precipitation",
   "metadata": {},
   "outputs": [],
   "source": [
    "# load top30 file\n",
    "top30_file = os.path.join(data_path, all_pos + \"_top30_peaks.pickle\")\n",
    "if os.path.exists(top30_file):\n",
    "    with open(top30_file, 'rb') as inf:\n",
    "        spectrums_top30 = pickle.load(inf)  # list of matchms.Spectrum.Spectrum\n",
    "else:\n",
    "    print(\"error\")\n",
    "# load processed file\n",
    "processed_file = os.path.join(data_path, all_pos + \"_processed.pickle\")\n",
    "if os.path.exists(processed_file):\n",
    "    with open(processed_file, 'rb') as inf:\n",
    "        spectrums_processed = pickle.load(inf)  # list of matchms.Spectrum.Spectrum\n",
    "else:\n",
    "    print(\"error\")\n",
    "# load classical file\n",
    "classical_file = os.path.join(data_path, all_pos + \"_classical.pickle\")\n",
    "if os.path.exists(classical_file):\n",
    "    with open(classical_file, 'rb') as inf:\n",
    "        spectrums_classical = pickle.load(inf)  # list of matchms.Spectrum.Spectrum\n",
    "else:\n",
    "    print(\"error\")"
   ]
  },
  {
   "cell_type": "markdown",
   "id": "sufficient-island",
   "metadata": {},
   "source": [
    "## Create test set of 1000 spectra whose inchikey exists in library >= 2 times"
   ]
  },
  {
   "cell_type": "code",
   "execution_count": 13,
   "id": "retained-obligation",
   "metadata": {},
   "outputs": [
    {
     "data": {
      "text/plain": [
       "NEGQHKSYEYVFTD    432\n",
       "SULIDBRAXVDKBU    426\n",
       "SRIGHEHXEGELQJ    338\n",
       "IQGPMZRCLCCXAG    308\n",
       "RWKUXQNLWDTSLO    235\n",
       "dtype: int64"
      ]
     },
     "execution_count": 13,
     "metadata": {},
     "output_type": "execute_result"
    }
   ],
   "source": [
    "Inchikeys = []\n",
    "for spec in spectrums_top30:\n",
    "    Inchikeys.append(spec.get(\"inchikey\"))\n",
    "inchikeys_pd = pd.Series([x for x in Inchikeys if x])\n",
    "inchikeys_pd.str[:14].value_counts()[:5]"
   ]
  },
  {
   "cell_type": "markdown",
   "id": "electrical-anxiety",
   "metadata": {},
   "source": [
    "### Randomly select 1000 inchikeys that exist >=2 times in the dataset"
   ]
  },
  {
   "cell_type": "code",
   "execution_count": 19,
   "id": "finite-depression",
   "metadata": {},
   "outputs": [
    {
     "name": "stdout",
     "output_type": "stream",
     "text": [
      "       inchikey14  occurences\n",
      "0  NEGQHKSYEYVFTD         432\n",
      "1  SULIDBRAXVDKBU         426\n",
      "2  SRIGHEHXEGELQJ         338\n",
      "3  IQGPMZRCLCCXAG         308\n",
      "4  RWKUXQNLWDTSLO         235\n",
      "          inchikey14  occurences\n",
      "7961  ABRULANJVVJLFI           2\n",
      "7911  ABOPTWOWDLNBOE           2\n",
      "8268  ABBPFXQJIWUCKF           2\n",
      "8525  AAIIJIOWYALNCC           2\n",
      "7631  AABZZWPMCAZHFC           2\n",
      "Number of spectra with inchikeys that exist >= 2 times: 8686\n"
     ]
    }
   ],
   "source": [
    "min_copies_in_data = 2\n",
    "\n",
    "suitable_inchikeys = pd.DataFrame(\\\n",
    "                                  inchikeys_pd.str[:14].value_counts()\\\n",
    "                                  [inchikeys_pd.str[:14].value_counts().values >= min_copies_in_data])\n",
    "suitable_inchikeys.reset_index(level=suitable_inchikeys.index.names, inplace=True)\n",
    "suitable_inchikeys.columns = (['inchikey14', 'occurences'])\n",
    "\n",
    "# Important: sort values to make it reproducible (same occurences have random order otherwise!)\n",
    "suitable_inchikeys = suitable_inchikeys.sort_values(['occurences', 'inchikey14'], ascending=False)\n",
    "\n",
    "print(suitable_inchikeys.head(5))\n",
    "print(suitable_inchikeys.tail(5))\n",
    "print(f\"Number of spectra with inchikeys that exist >= {min_copies_in_data} times:\", suitable_inchikeys.shape[0])"
   ]
  },
  {
   "cell_type": "code",
   "execution_count": 20,
   "id": "valid-mattress",
   "metadata": {},
   "outputs": [
    {
     "name": "stdout",
     "output_type": "stream",
     "text": [
      "[6403 4224  604 2955 1385 5566  554 4331 3132 2318 2718 6744  538 6040\n",
      " 1578 5652  733 6853 7816 5686 3133 1432 4819 3047 7162]\n"
     ]
    },
    {
     "data": {
      "text/plain": [
       "array(['HUSISCNTLUEZCN', 'LKUNZSUKADSCME', 'SEOVTRFCIGRIMH',\n",
       "       'JVHNBFFHWQQPLL', 'XPUOZJJNPJXFTD', 'DTDSAWVUFPGDMX',\n",
       "       'DAWYIZBOUQIVNX', 'DQNFLBXNPGBCOU', 'OOGZWXIAHJKVAH',\n",
       "       'DOVSRUBRIYLZCI', 'HBOMLICNUCNMMY', 'ZOFBAJKPGIIQFN',\n",
       "       'PADQINQHPQKXNL', 'QGLZXHRNAYXIBU', 'FMEUWIKCSICJBO',\n",
       "       'BEHLQMQPYDCEFC', 'LZJRNLRASBVRRX', 'YGWFCQYETHJKNX',\n",
       "       'LQQBKDRWDYGCBI', 'ZZRGFLVYILOXAK', 'OLBLWNPOURNBCY',\n",
       "       'SYWHXTATXSMDSB', 'IKYICRRUVNIHPP', 'XRBIHOLQAKITPP',\n",
       "       'UQIDVGMGKVCWIS'], dtype=object)"
      ]
     },
     "execution_count": 20,
     "metadata": {},
     "output_type": "execute_result"
    }
   ],
   "source": [
    "num_spectra = 1000\n",
    "np.random.seed(42) # to make it reproducible\n",
    "selection = np.random.choice(suitable_inchikeys.shape[0], num_spectra, replace=False)\n",
    "print(selection[:25])\n",
    "selected_inchikeys = suitable_inchikeys['inchikey14'].values[selection]\n",
    "selected_inchikeys[:25]"
   ]
  },
  {
   "cell_type": "markdown",
   "id": "supported-silver",
   "metadata": {},
   "source": [
    "### Inspect number of library spectra with same InChIKey as queries¶"
   ]
  },
  {
   "cell_type": "code",
   "execution_count": 21,
   "id": "amazing-policy",
   "metadata": {},
   "outputs": [],
   "source": [
    "inchikeys14_array = np.array([x[:14] for x in Inchikeys if x is not None])\n",
    "number_of_copies = []\n",
    "for inchikey in selected_inchikeys:\n",
    "    number_of_copies.append(len(np.where(inchikeys14_array == inchikey)[0]))"
   ]
  },
  {
   "cell_type": "code",
   "execution_count": 22,
   "id": "acoustic-authorization",
   "metadata": {},
   "outputs": [
    {
     "data": {
      "image/png": "[encoded data removed]",
      "text/plain": [
       "<Figure size 216x216 with 1 Axes>"
      ]
     },
     "metadata": {
      "needs_background": "light"
     },
     "output_type": "display_data"
    }
   ],
   "source": [
    "plt.figure(figsize=(3,3))\n",
    "plt.style.use('seaborn-white')\n",
    "bins = [0, 1.5, 2.5, 5.5, 11.5, 21.5, 101.5]\n",
    "labels = [\"0\", \"1\", \"2-4\", \"5-10\", \"11-20\", \">20\"]\n",
    "a, b = np.histogram(number_of_copies, bins)\n",
    "plt.scatter(labels, a, s=100)\n",
    "plt.ylabel('Number of queries (total=1000)')\n",
    "plt.xlabel('# of query InChIKey in library')\n",
    "plt.ylim(-20)\n",
    "plt.grid(True)\n",
    "plt.show()\n",
    "# plt.savefig(\"library_matching_scenario1_library_condition.svg\")"
   ]
  },
  {
   "cell_type": "markdown",
   "id": "induced-champagne",
   "metadata": {},
   "source": [
    "### Randomly pick one spectra for each of the chosen inchikeys"
   ]
  },
  {
   "cell_type": "code",
   "execution_count": 23,
   "id": "former-firewall",
   "metadata": {},
   "outputs": [],
   "source": [
    "selected_spectra = []\n",
    "inchikeys_pd = pd.Series([x for x in Inchikeys]) #include all even empty ones to get the IDs right!\n",
    "np.random.seed(42) # to make it reproducible\n",
    "for inchikey in selected_inchikeys:\n",
    "    matches = inchikeys_pd[inchikeys_pd.str[:14] == inchikey].index.values\n",
    "    selected_spectra.append(int(np.random.choice(matches,1)[0]))"
   ]
  },
  {
   "cell_type": "code",
   "execution_count": 24,
   "id": "american-arrival",
   "metadata": {},
   "outputs": [
    {
     "data": {
      "text/plain": [
       "[15197, 27760, 65359, 74062, 107581, 20577, 88075, 91020, 95033, 95625]"
      ]
     },
     "execution_count": 24,
     "metadata": {},
     "output_type": "execute_result"
    }
   ],
   "source": [
    "selected_spectra[:10]"
   ]
  },
  {
   "cell_type": "code",
   "execution_count": 26,
   "id": "sacred-morrison",
   "metadata": {},
   "outputs": [
    {
     "name": "stdout",
     "output_type": "stream",
     "text": [
      "CCMSLIB00000852865 HUSISCNTLUEZCN\n",
      "CCMSLIB00005464770 LKUNZSUKADSCME\n",
      "CCMSLIB00000218947 SEOVTRFCIGRIMH\n",
      "CCMSLIB00005746855 JVHNBFFHWQQPLL\n",
      "CCMSLIB00004714612 XPUOZJJNPJXFTD\n",
      "CCMSLIB00001058664 DTDSAWVUFPGDMX\n",
      "CCMSLIB00000569990 DAWYIZBOUQIVNX\n",
      "CCMSLIB00004692982 DQNFLBXNPGBCOU\n",
      "CCMSLIB00004698130 OOGZWXIAHJKVAH\n",
      "CCMSLIB00004698872 DOVSRUBRIYLZCI\n"
     ]
    }
   ],
   "source": [
    "# Show gnps IDs for selected spectra\n",
    "for ID in selected_spectra[:10]:\n",
    "    print(spectrums_top30[ID].get(\"spectrumid\"),\n",
    "         spectrums_top30[ID].get(\"inchikey\")[:14])"
   ]
  },
  {
   "cell_type": "markdown",
   "id": "worst-pierce",
   "metadata": {},
   "source": [
    "## Train new model on AllPositive (2) without selected spectra\n",
    "Two new models, one on 'normal' Spec2Vec and one with selected MDs added"
   ]
  },
  {
   "cell_type": "code",
   "execution_count": 27,
   "id": "alleged-clark",
   "metadata": {},
   "outputs": [
    {
     "data": {
      "text/plain": [
       "(114344, 115344)"
      ]
     },
     "execution_count": 27,
     "metadata": {},
     "output_type": "execute_result"
    }
   ],
   "source": [
    "from spec2vec import Spec2Vec\n",
    "from spec2vec import SpectrumDocument\n",
    "\n",
    "documents_library_processed = [SpectrumDocument(s, n_decimals=2) for i, s in enumerate(spectrums_processed) if i not in selected_spectra]\n",
    "documents_library_classical = [SpectrumDocument(s, n_decimals=2) for i, s in enumerate(spectrums_classical) if i not in selected_spectra]\n",
    "len(documents_library_processed), len(spectrums_processed)  # 1000 should be removed"
   ]
  },
  {
   "cell_type": "code",
   "execution_count": 30,
   "id": "legendary-salem",
   "metadata": {},
   "outputs": [
    {
     "name": "stdout",
     "output_type": "stream",
     "text": [
      "  Epoch 1 of 20.Change in loss after epoch 1: 6120857.5\n",
      "Saving model with name: /mnt/scratch/louwe015/Mass_differences/data/trained_models/ALL_GNPS_210125_positive_cleaned_by_matchms_and_lookups_spec2vec_librarymatching_24-03_iter_1.model\n",
      "  Epoch 2 of 20.Change in loss after epoch 2: 4557735.5\n",
      "  Epoch 3 of 20.Change in loss after epoch 3: 4054406.0\n",
      "Saving model with name: /mnt/scratch/louwe015/Mass_differences/data/trained_models/ALL_GNPS_210125_positive_cleaned_by_matchms_and_lookups_spec2vec_librarymatching_24-03_iter_3.model\n",
      "  Epoch 4 of 20.Change in loss after epoch 4: 3615177.0\n",
      "  Epoch 5 of 20.Change in loss after epoch 5: 3170450.0\n",
      "Saving model with name: /mnt/scratch/louwe015/Mass_differences/data/trained_models/ALL_GNPS_210125_positive_cleaned_by_matchms_and_lookups_spec2vec_librarymatching_24-03_iter_5.model\n",
      "  Epoch 6 of 20.Change in loss after epoch 6: 2994854.0\n",
      "  Epoch 7 of 20.Change in loss after epoch 7: 2939582.0\n",
      "  Epoch 8 of 20.Change in loss after epoch 8: 2809522.0\n",
      "  Epoch 9 of 20.Change in loss after epoch 9: 2841116.0\n",
      "  Epoch 10 of 20.Change in loss after epoch 10: 1924256.0\n",
      "Saving model with name: /mnt/scratch/louwe015/Mass_differences/data/trained_models/ALL_GNPS_210125_positive_cleaned_by_matchms_and_lookups_spec2vec_librarymatching_24-03_iter_10.model\n",
      "  Epoch 11 of 20.Change in loss after epoch 11: 1713260.0\n",
      "  Epoch 12 of 20.Change in loss after epoch 12: 1708760.0\n",
      "  Epoch 13 of 20.Change in loss after epoch 13: 1708948.0\n",
      "  Epoch 14 of 20.Change in loss after epoch 14: 1644600.0\n",
      "  Epoch 15 of 20.Change in loss after epoch 15: 1529104.0\n",
      "Saving model with name: /mnt/scratch/louwe015/Mass_differences/data/trained_models/ALL_GNPS_210125_positive_cleaned_by_matchms_and_lookups_spec2vec_librarymatching_24-03_iter_15.model\n",
      "  Epoch 16 of 20.Change in loss after epoch 16: 1613916.0\n",
      "  Epoch 17 of 20.Change in loss after epoch 17: 1669108.0\n",
      "  Epoch 18 of 20.Change in loss after epoch 18: 1566724.0\n",
      "  Epoch 19 of 20.Change in loss after epoch 19: 1618148.0\n",
      "  Epoch 20 of 20.Change in loss after epoch 20: 1575180.0\n",
      "Saving model with name: /mnt/scratch/louwe015/Mass_differences/data/trained_models/ALL_GNPS_210125_positive_cleaned_by_matchms_and_lookups_spec2vec_librarymatching_24-03.model\n"
     ]
    }
   ],
   "source": [
    "from spec2vec.model_building import train_new_word2vec_model\n",
    "\n",
    "path_models = os.path.join(data_path, \"trained_models\")\n",
    "model_file = os.path.join(path_models, all_pos+\"_spec2vec_librarymatching_24-03.model\")\n",
    "\n",
    "iterations = [1, 3, 5, 10, 15, 20]\n",
    "# Train model with default parameters\n",
    "model = train_new_word2vec_model(documents_library_processed, iterations, model_file)"
   ]
  },
  {
   "cell_type": "code",
   "execution_count": null,
   "id": "baking-curve",
   "metadata": {},
   "outputs": [],
   "source": []
  }
 ],
 "metadata": {
  "kernelspec": {
   "display_name": "Python 3",
   "language": "python",
   "name": "python3"
  },
  "language_info": {
   "codemirror_mode": {
    "name": "ipython",
    "version": 3
   },
   "file_extension": ".py",
   "mimetype": "text/x-python",
   "name": "python",
   "nbconvert_exporter": "python",
   "pygments_lexer": "ipython3",
   "version": "3.7.9"
  }
 },
 "nbformat": 4,
 "nbformat_minor": 5
}
