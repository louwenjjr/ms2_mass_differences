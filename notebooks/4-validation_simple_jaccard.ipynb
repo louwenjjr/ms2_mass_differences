{
 "cells": [
  {
   "cell_type": "markdown",
   "id": "moderate-costs",
   "metadata": {},
   "source": [
    "# Summary\n",
    "Here we do a validation of the 'simple' jaccard correlations by repeating some of the Spec2Vec metrics."
   ]
  },
  {
   "cell_type": "code",
   "execution_count": 1,
   "id": "personalized-tiffany",
   "metadata": {},
   "outputs": [],
   "source": [
    "import os\n",
    "import numpy as np\n",
    "import pandas as pd\n",
    "from matplotlib import pyplot as plt\n",
    "import pickle\n",
    "import time\n",
    "\n",
    "data_path = \"/mnt/scratch/louwe015/Mass_differences/data/\""
   ]
  },
  {
   "cell_type": "code",
   "execution_count": 2,
   "id": "dental-madison",
   "metadata": {},
   "outputs": [
    {
     "name": "stdout",
     "output_type": "stream",
     "text": [
      "ALL_GNPS_210125_positive_cleaned_by_matchms_and_lookups\n"
     ]
    }
   ],
   "source": [
    "all_pos_version1 = False\n",
    "if all_pos_version1:\n",
    "    all_pos = \"gnps_positive_ionmode_cleaned_by_matchms_and_lookups\"\n",
    "else:\n",
    "    all_pos = \"ALL_GNPS_210125_positive_cleaned_by_matchms_and_lookups\"\n",
    "\n",
    "print(all_pos)"
   ]
  },
  {
   "cell_type": "code",
   "execution_count": 5,
   "id": "representative-robert",
   "metadata": {},
   "outputs": [
    {
     "name": "stdout",
     "output_type": "stream",
     "text": [
      "jaccard_matrix_allpos2_04-03-2021.npz True\n"
     ]
    }
   ],
   "source": [
    "if all_pos_version1:\n",
    "    jacc_mat_file = None  # I didn't run this one\n",
    "else:\n",
    "    jacc_mat_file = \"jaccard_matrix_allpos2_04-03-2021.npz\"\n",
    "\n",
    "jacc_mat_path = os.path.join(data_path, 'jaccard_matrices', jacc_mat_file)\n",
    "print(jacc_mat_file, os.path.isfile(jacc_mat_path))"
   ]
  },
  {
   "cell_type": "markdown",
   "id": "crucial-infrastructure",
   "metadata": {},
   "source": [
    "## Load jaccard matrix and get MDs with correlations 0.1-0.5"
   ]
  },
  {
   "cell_type": "code",
   "execution_count": 41,
   "id": "great-channels",
   "metadata": {},
   "outputs": [],
   "source": [
    "low_cutoff = 0.1\n",
    "high_cutoff = 0.5"
   ]
  },
  {
   "cell_type": "code",
   "execution_count": 6,
   "id": "correct-forwarding",
   "metadata": {},
   "outputs": [],
   "source": [
    "jacc_mat_npz = np.load(jacc_mat_path, allow_pickle=True)"
   ]
  },
  {
   "cell_type": "code",
   "execution_count": 9,
   "id": "auburn-difference",
   "metadata": {},
   "outputs": [],
   "source": [
    "j_rows, j_cols, jacc_mat_sparse = [jacc_mat_npz[name] for name in jacc_mat_npz.files]\n",
    "jacc_mat_sparse = jacc_mat_sparse.item()"
   ]
  },
  {
   "cell_type": "code",
   "execution_count": 27,
   "id": "current-lemon",
   "metadata": {},
   "outputs": [
    {
     "data": {
      "text/plain": [
       "<61348x115913 sparse matrix of type '<class 'numpy.float64'>'\n",
       "\twith 384463253 stored elements in Compressed Sparse Row format>"
      ]
     },
     "execution_count": 27,
     "metadata": {},
     "output_type": "execute_result"
    }
   ],
   "source": [
    "jacc_mat_sparse"
   ]
  },
  {
   "cell_type": "code",
   "execution_count": 34,
   "id": "minor-accessory",
   "metadata": {},
   "outputs": [],
   "source": [
    "maxes = jacc_mat_sparse.max(axis=1).toarray()"
   ]
  },
  {
   "cell_type": "code",
   "execution_count": 42,
   "id": "motivated-shoulder",
   "metadata": {},
   "outputs": [],
   "source": [
    "maxes_inds = [i for i, val in enumerate(maxes) if val[0] >= low_cutoff and val[0] <= high_cutoff]"
   ]
  },
  {
   "cell_type": "code",
   "execution_count": 45,
   "id": "common-demonstration",
   "metadata": {},
   "outputs": [
    {
     "data": {
      "text/plain": [
       "(array([[0.13313639],\n",
       "        [0.24642122],\n",
       "        [0.1013701 ],\n",
       "        [0.09151063],\n",
       "        [0.08100498]]),\n",
       " [0, 1, 2, 5, 6])"
      ]
     },
     "execution_count": 45,
     "metadata": {},
     "output_type": "execute_result"
    }
   ],
   "source": [
    "maxes[:5], maxes_inds[:5]  # seems to have worked"
   ]
  },
  {
   "cell_type": "code",
   "execution_count": 54,
   "id": "furnished-heading",
   "metadata": {},
   "outputs": [
    {
     "data": {
      "text/plain": [
       "(array(['37.00', '37.01', '37.02', '37.03', '37.04', '37.05', '37.06',\n",
       "        '37.07', '37.08', '37.09'], dtype='<U6'),\n",
       " ['37.00', '37.01', '37.02', '37.05', '37.06'])"
      ]
     },
     "execution_count": 54,
     "metadata": {},
     "output_type": "execute_result"
    }
   ],
   "source": [
    "# get MD names corresponding to these rows\n",
    "chosen_mds = list(j_rows[maxes_inds])\n",
    "j_rows[:10], chosen_mds[:5]"
   ]
  },
  {
   "cell_type": "code",
   "execution_count": 60,
   "id": "refined-palace",
   "metadata": {},
   "outputs": [
    {
     "name": "stdout",
     "output_type": "stream",
     "text": [
      "/mnt/scratch/louwe015/Mass_differences/data/jaccard_matrices/jaccard_matrix_allpos2_04-03-2021_chosen_MDs_0.1-0.5.txt\n"
     ]
    }
   ],
   "source": [
    "out_indices = os.path.join(data_path, 'jaccard_matrices', jacc_mat_file.rpartition('.')[0]+\"_chosen_MDs_0.1-0.5.txt\")\n",
    "print(out_indices)\n",
    "with open(out_indices, 'w') as outf:\n",
    "    for md in chosen_mds:\n",
    "        outf.write(f'{md}\\n')"
   ]
  },
  {
   "cell_type": "code",
   "execution_count": 53,
   "id": "champion-burner",
   "metadata": {},
   "outputs": [],
   "source": [
    "# del(jacc_mat_sparse)\n",
    "# del(jacc_mat_npz)"
   ]
  },
  {
   "cell_type": "markdown",
   "id": "covered-coach",
   "metadata": {},
   "source": [
    "## Process spectra in correct documents for cosine, s2v, s2v+MDs"
   ]
  },
  {
   "cell_type": "code",
   "execution_count": null,
   "id": "golden-precipitation",
   "metadata": {},
   "outputs": [],
   "source": []
  }
 ],
 "metadata": {
  "kernelspec": {
   "display_name": "Python 3",
   "language": "python",
   "name": "python3"
  },
  "language_info": {
   "codemirror_mode": {
    "name": "ipython",
    "version": 3
   },
   "file_extension": ".py",
   "mimetype": "text/x-python",
   "name": "python",
   "nbconvert_exporter": "python",
   "pygments_lexer": "ipython3",
   "version": "3.7.9"
  }
 },
 "nbformat": 4,
 "nbformat_minor": 5
}
