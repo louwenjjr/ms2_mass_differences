{
 "cells": [
  {
   "cell_type": "markdown",
   "id": "moderate-costs",
   "metadata": {},
   "source": [
    "# Summary\n",
    "Here we do a validation of the 'simple' jaccard correlations by repeating some of the Spec2Vec metrics. Much of the code is directly copied from Florian's notebooks here https://github.com/iomega/spec2vec_gnps_data_analysis/blob/master/notebooks/\n",
    "\n",
    "MDs are added to SpectrumDocument as 'md@...'. Intensity (for now) is sqrt(count) * max_intensity with a maximum of 1."
   ]
  },
  {
   "cell_type": "code",
   "execution_count": 89,
   "id": "personalized-tiffany",
   "metadata": {},
   "outputs": [],
   "source": [
    "import os\n",
    "import gensim\n",
    "import pickle\n",
    "import time\n",
    "import sys\n",
    "import numpy as np\n",
    "import pandas as pd\n",
    "from matplotlib import pyplot as plt\n",
    "from typing import Tuple, List\n",
    "from copy import deepcopy\n",
    "\n",
    "data_path = \"/mnt/scratch/louwe015/Mass_differences/data/\""
   ]
  },
  {
   "cell_type": "code",
   "execution_count": 2,
   "id": "dental-madison",
   "metadata": {},
   "outputs": [
    {
     "name": "stdout",
     "output_type": "stream",
     "text": [
      "ALL_GNPS_210125_positive_cleaned_by_matchms_and_lookups\n"
     ]
    }
   ],
   "source": [
    "all_pos_version1 = False\n",
    "if all_pos_version1:\n",
    "    all_pos = \"gnps_positive_ionmode_cleaned_by_matchms_and_lookups\"\n",
    "else:\n",
    "    all_pos = \"ALL_GNPS_210125_positive_cleaned_by_matchms_and_lookups\"\n",
    "\n",
    "print(all_pos)"
   ]
  },
  {
   "cell_type": "code",
   "execution_count": 3,
   "id": "representative-robert",
   "metadata": {},
   "outputs": [
    {
     "name": "stdout",
     "output_type": "stream",
     "text": [
      "jaccard_matrix_allpos2_04-03-2021.npz True\n"
     ]
    }
   ],
   "source": [
    "if all_pos_version1:\n",
    "    jacc_mat_file = None  # I didn't run this one\n",
    "else:\n",
    "    jacc_mat_file = \"jaccard_matrix_allpos2_04-03-2021.npz\"\n",
    "\n",
    "jacc_mat_path = os.path.join(data_path, 'jaccard_matrices', jacc_mat_file)\n",
    "print(jacc_mat_file, os.path.isfile(jacc_mat_path))"
   ]
  },
  {
   "cell_type": "markdown",
   "id": "crucial-infrastructure",
   "metadata": {},
   "source": [
    "## Load jaccard matrix and get MDs with correlations 0.1-0.5"
   ]
  },
  {
   "cell_type": "code",
   "execution_count": 41,
   "id": "great-channels",
   "metadata": {},
   "outputs": [],
   "source": [
    "low_cutoff = 0.1\n",
    "high_cutoff = 0.5"
   ]
  },
  {
   "cell_type": "code",
   "execution_count": 6,
   "id": "correct-forwarding",
   "metadata": {},
   "outputs": [],
   "source": [
    "jacc_mat_npz = np.load(jacc_mat_path, allow_pickle=True)"
   ]
  },
  {
   "cell_type": "code",
   "execution_count": 9,
   "id": "auburn-difference",
   "metadata": {},
   "outputs": [],
   "source": [
    "j_rows, j_cols, jacc_mat_sparse = [jacc_mat_npz[name] for name in jacc_mat_npz.files]\n",
    "jacc_mat_sparse = jacc_mat_sparse.item()"
   ]
  },
  {
   "cell_type": "code",
   "execution_count": 27,
   "id": "current-lemon",
   "metadata": {},
   "outputs": [
    {
     "data": {
      "text/plain": [
       "<61348x115913 sparse matrix of type '<class 'numpy.float64'>'\n",
       "\twith 384463253 stored elements in Compressed Sparse Row format>"
      ]
     },
     "execution_count": 27,
     "metadata": {},
     "output_type": "execute_result"
    }
   ],
   "source": [
    "jacc_mat_sparse"
   ]
  },
  {
   "cell_type": "code",
   "execution_count": 34,
   "id": "minor-accessory",
   "metadata": {},
   "outputs": [],
   "source": [
    "maxes = jacc_mat_sparse.max(axis=1).toarray()"
   ]
  },
  {
   "cell_type": "code",
   "execution_count": 42,
   "id": "motivated-shoulder",
   "metadata": {},
   "outputs": [],
   "source": [
    "maxes_inds = [i for i, val in enumerate(maxes) if val[0] >= low_cutoff and val[0] <= high_cutoff]"
   ]
  },
  {
   "cell_type": "code",
   "execution_count": 45,
   "id": "common-demonstration",
   "metadata": {},
   "outputs": [
    {
     "data": {
      "text/plain": [
       "(array([[0.13313639],\n",
       "        [0.24642122],\n",
       "        [0.1013701 ],\n",
       "        [0.09151063],\n",
       "        [0.08100498]]),\n",
       " [0, 1, 2, 5, 6])"
      ]
     },
     "execution_count": 45,
     "metadata": {},
     "output_type": "execute_result"
    }
   ],
   "source": [
    "maxes[:5], maxes_inds[:5]  # seems to have worked"
   ]
  },
  {
   "cell_type": "code",
   "execution_count": 54,
   "id": "furnished-heading",
   "metadata": {},
   "outputs": [
    {
     "data": {
      "text/plain": [
       "(array(['37.00', '37.01', '37.02', '37.03', '37.04', '37.05', '37.06',\n",
       "        '37.07', '37.08', '37.09'], dtype='<U6'),\n",
       " ['37.00', '37.01', '37.02', '37.05', '37.06'])"
      ]
     },
     "execution_count": 54,
     "metadata": {},
     "output_type": "execute_result"
    }
   ],
   "source": [
    "# get MD names corresponding to these rows\n",
    "chosen_mds = list(j_rows[maxes_inds])\n",
    "j_rows[:10], chosen_mds[:5]"
   ]
  },
  {
   "cell_type": "code",
   "execution_count": 53,
   "id": "champion-burner",
   "metadata": {},
   "outputs": [],
   "source": [
    "# del(jacc_mat_sparse)\n",
    "# del(jacc_mat_npz)"
   ]
  },
  {
   "cell_type": "markdown",
   "id": "joint-basketball",
   "metadata": {},
   "source": [
    "## Save/load chosen MDs"
   ]
  },
  {
   "cell_type": "code",
   "execution_count": 60,
   "id": "refined-palace",
   "metadata": {},
   "outputs": [
    {
     "name": "stdout",
     "output_type": "stream",
     "text": [
      "/mnt/scratch/louwe015/Mass_differences/data/jaccard_matrices/jaccard_matrix_allpos2_04-03-2021_chosen_MDs_0.1-0.5.txt\n"
     ]
    }
   ],
   "source": [
    "# save chosen MDs\n",
    "out_indices = os.path.join(data_path, 'jaccard_matrices', jacc_mat_file.rpartition('.')[0]+\"_chosen_MDs_0.1-0.5.txt\")\n",
    "print(out_indices)\n",
    "with open(out_indices, 'w') as outf:\n",
    "    for md in chosen_mds:\n",
    "        outf.write(f'{md}\\n')"
   ]
  },
  {
   "cell_type": "code",
   "execution_count": 9,
   "id": "congressional-action",
   "metadata": {},
   "outputs": [
    {
     "name": "stdout",
     "output_type": "stream",
     "text": [
      "/mnt/scratch/louwe015/Mass_differences/data/jaccard_matrices/jaccard_matrix_allpos2_04-03-2021_chosen_MDs_0.1-0.5.txt True\n"
     ]
    },
    {
     "data": {
      "text/plain": [
       "(16595, ['37.00', '37.01', '37.02', '37.05', '37.06'])"
      ]
     },
     "execution_count": 9,
     "metadata": {},
     "output_type": "execute_result"
    }
   ],
   "source": [
    "out_indices = os.path.join(data_path, 'jaccard_matrices', jacc_mat_file.rpartition('.')[0]+\"_chosen_MDs_0.1-0.5.txt\")\n",
    "print(out_indices, os.path.isfile(out_indices))\n",
    "with open(out_indices, 'r') as inf:\n",
    "    chosen_mds = [line.strip() for line in inf]\n",
    "len(chosen_mds), chosen_mds[:5]"
   ]
  },
  {
   "cell_type": "markdown",
   "id": "covered-coach",
   "metadata": {},
   "source": [
    "## Load processed spectra for cosine, s2v, s2v+MDs\n",
    "Spectra processed for s2v, s2v+MD, cosine scoring are loaded from notebook 1."
   ]
  },
  {
   "cell_type": "code",
   "execution_count": 10,
   "id": "golden-precipitation",
   "metadata": {},
   "outputs": [],
   "source": [
    "# load top30 file\n",
    "top30_file = os.path.join(data_path, all_pos + \"_top30_peaks.pickle\")\n",
    "if os.path.exists(top30_file):\n",
    "    with open(top30_file, 'rb') as inf:\n",
    "        spectrums_top30 = pickle.load(inf)  # list of matchms.Spectrum.Spectrum\n",
    "else:\n",
    "    print(\"error\")\n",
    "# load processed file\n",
    "processed_file = os.path.join(data_path, all_pos + \"_processed.pickle\")\n",
    "if os.path.exists(processed_file):\n",
    "    with open(processed_file, 'rb') as inf:\n",
    "        spectrums_processed = pickle.load(inf)  # list of matchms.Spectrum.Spectrum\n",
    "else:\n",
    "    print(\"error\")\n",
    "# load classical file\n",
    "classical_file = os.path.join(data_path, all_pos + \"_classical.pickle\")\n",
    "if os.path.exists(classical_file):\n",
    "    with open(classical_file, 'rb') as inf:\n",
    "        spectrums_classical = pickle.load(inf)  # list of matchms.Spectrum.Spectrum\n",
    "else:\n",
    "    print(\"error\")"
   ]
  },
  {
   "cell_type": "markdown",
   "id": "educated-clothing",
   "metadata": {},
   "source": [
    "### Correct a few (< 10) spectrums with missing precursor_mz\n",
    "I should do this later still in notebook 1, as annotation history is not included in Spectrum.Spectrum anymore."
   ]
  },
  {
   "cell_type": "markdown",
   "id": "unsigned-ready",
   "metadata": {},
   "source": [
    "## Create test set of 1000 spectra whose inchikey exists in library >= 2 times"
   ]
  },
  {
   "cell_type": "code",
   "execution_count": 13,
   "id": "biological-valve",
   "metadata": {},
   "outputs": [
    {
     "data": {
      "text/plain": [
       "NEGQHKSYEYVFTD    432\n",
       "SULIDBRAXVDKBU    426\n",
       "SRIGHEHXEGELQJ    338\n",
       "IQGPMZRCLCCXAG    308\n",
       "RWKUXQNLWDTSLO    235\n",
       "dtype: int64"
      ]
     },
     "execution_count": 13,
     "metadata": {},
     "output_type": "execute_result"
    }
   ],
   "source": [
    "Inchikeys = []\n",
    "for spec in spectrums_top30:\n",
    "    Inchikeys.append(spec.get(\"inchikey\"))\n",
    "inchikeys_pd = pd.Series([x for x in Inchikeys if x])\n",
    "inchikeys_pd.str[:14].value_counts()[:5]"
   ]
  },
  {
   "cell_type": "markdown",
   "id": "express-savage",
   "metadata": {},
   "source": [
    "### Randomly select 1000 inchikeys that exist >=2 times in the dataset"
   ]
  },
  {
   "cell_type": "code",
   "execution_count": 19,
   "id": "irish-slave",
   "metadata": {},
   "outputs": [
    {
     "name": "stdout",
     "output_type": "stream",
     "text": [
      "       inchikey14  occurences\n",
      "0  NEGQHKSYEYVFTD         432\n",
      "1  SULIDBRAXVDKBU         426\n",
      "2  SRIGHEHXEGELQJ         338\n",
      "3  IQGPMZRCLCCXAG         308\n",
      "4  RWKUXQNLWDTSLO         235\n",
      "          inchikey14  occurences\n",
      "7961  ABRULANJVVJLFI           2\n",
      "7911  ABOPTWOWDLNBOE           2\n",
      "8268  ABBPFXQJIWUCKF           2\n",
      "8525  AAIIJIOWYALNCC           2\n",
      "7631  AABZZWPMCAZHFC           2\n",
      "Number of spectra with inchikeys that exist >= 2 times: 8686\n"
     ]
    }
   ],
   "source": [
    "min_copies_in_data = 2\n",
    "\n",
    "suitable_inchikeys = pd.DataFrame(\\\n",
    "                                  inchikeys_pd.str[:14].value_counts()\\\n",
    "                                  [inchikeys_pd.str[:14].value_counts().values >= min_copies_in_data])\n",
    "suitable_inchikeys.reset_index(level=suitable_inchikeys.index.names, inplace=True)\n",
    "suitable_inchikeys.columns = (['inchikey14', 'occurences'])\n",
    "\n",
    "# Important: sort values to make it reproducible (same occurences have random order otherwise!)\n",
    "suitable_inchikeys = suitable_inchikeys.sort_values(['occurences', 'inchikey14'], ascending=False)\n",
    "\n",
    "print(suitable_inchikeys.head(5))\n",
    "print(suitable_inchikeys.tail(5))\n",
    "print(f\"Number of spectra with inchikeys that exist >= {min_copies_in_data} times:\", suitable_inchikeys.shape[0])"
   ]
  },
  {
   "cell_type": "code",
   "execution_count": 20,
   "id": "graphic-county",
   "metadata": {},
   "outputs": [
    {
     "name": "stdout",
     "output_type": "stream",
     "text": [
      "[6403 4224  604 2955 1385 5566  554 4331 3132 2318 2718 6744  538 6040\n",
      " 1578 5652  733 6853 7816 5686 3133 1432 4819 3047 7162]\n"
     ]
    },
    {
     "data": {
      "text/plain": [
       "array(['HUSISCNTLUEZCN', 'LKUNZSUKADSCME', 'SEOVTRFCIGRIMH',\n",
       "       'JVHNBFFHWQQPLL', 'XPUOZJJNPJXFTD', 'DTDSAWVUFPGDMX',\n",
       "       'DAWYIZBOUQIVNX', 'DQNFLBXNPGBCOU', 'OOGZWXIAHJKVAH',\n",
       "       'DOVSRUBRIYLZCI', 'HBOMLICNUCNMMY', 'ZOFBAJKPGIIQFN',\n",
       "       'PADQINQHPQKXNL', 'QGLZXHRNAYXIBU', 'FMEUWIKCSICJBO',\n",
       "       'BEHLQMQPYDCEFC', 'LZJRNLRASBVRRX', 'YGWFCQYETHJKNX',\n",
       "       'LQQBKDRWDYGCBI', 'ZZRGFLVYILOXAK', 'OLBLWNPOURNBCY',\n",
       "       'SYWHXTATXSMDSB', 'IKYICRRUVNIHPP', 'XRBIHOLQAKITPP',\n",
       "       'UQIDVGMGKVCWIS'], dtype=object)"
      ]
     },
     "execution_count": 20,
     "metadata": {},
     "output_type": "execute_result"
    }
   ],
   "source": [
    "num_spectra = 1000\n",
    "np.random.seed(42) # to make it reproducible\n",
    "selection = np.random.choice(suitable_inchikeys.shape[0], num_spectra, replace=False)\n",
    "print(selection[:25])\n",
    "selected_inchikeys = suitable_inchikeys['inchikey14'].values[selection]\n",
    "selected_inchikeys[:25]"
   ]
  },
  {
   "cell_type": "markdown",
   "id": "capital-basement",
   "metadata": {},
   "source": [
    "### Inspect number of library spectra with same InChIKey as queries"
   ]
  },
  {
   "cell_type": "code",
   "execution_count": 21,
   "id": "unknown-lending",
   "metadata": {},
   "outputs": [],
   "source": [
    "inchikeys14_array = np.array([x[:14] for x in Inchikeys if x is not None])\n",
    "number_of_copies = []\n",
    "for inchikey in selected_inchikeys:\n",
    "    number_of_copies.append(len(np.where(inchikeys14_array == inchikey)[0]))"
   ]
  },
  {
   "cell_type": "code",
   "execution_count": 22,
   "id": "focal-maine",
   "metadata": {},
   "outputs": [
    {
     "data": {
      "image/png": "[encoded data removed]",
      "text/plain": [
       "<Figure size 216x216 with 1 Axes>"
      ]
     },
     "metadata": {
      "needs_background": "light"
     },
     "output_type": "display_data"
    }
   ],
   "source": [
    "plt.figure(figsize=(3,3))\n",
    "plt.style.use('seaborn-white')\n",
    "bins = [0, 1.5, 2.5, 5.5, 11.5, 21.5, 101.5]\n",
    "labels = [\"0\", \"1\", \"2-4\", \"5-10\", \"11-20\", \">20\"]\n",
    "a, b = np.histogram(number_of_copies, bins)\n",
    "plt.scatter(labels, a, s=100)\n",
    "plt.ylabel('Number of queries (total=1000)')\n",
    "plt.xlabel('# of query InChIKey in library')\n",
    "plt.ylim(-20)\n",
    "plt.grid(True)\n",
    "plt.show()\n",
    "# plt.savefig(\"library_matching_scenario1_library_condition.svg\")"
   ]
  },
  {
   "cell_type": "markdown",
   "id": "egyptian-charity",
   "metadata": {},
   "source": [
    "### Randomly pick one spectra for each of the chosen inchikeys"
   ]
  },
  {
   "cell_type": "code",
   "execution_count": 23,
   "id": "controversial-ukraine",
   "metadata": {},
   "outputs": [],
   "source": [
    "selected_spectra = []\n",
    "inchikeys_pd = pd.Series([x for x in Inchikeys]) #include all even empty ones to get the IDs right!\n",
    "np.random.seed(42) # to make it reproducible\n",
    "for inchikey in selected_inchikeys:\n",
    "    matches = inchikeys_pd[inchikeys_pd.str[:14] == inchikey].index.values\n",
    "    selected_spectra.append(int(np.random.choice(matches,1)[0]))"
   ]
  },
  {
   "cell_type": "code",
   "execution_count": 24,
   "id": "substantial-emperor",
   "metadata": {},
   "outputs": [
    {
     "data": {
      "text/plain": [
       "[15197, 27760, 65359, 74062, 107581, 20577, 88075, 91020, 95033, 95625]"
      ]
     },
     "execution_count": 24,
     "metadata": {},
     "output_type": "execute_result"
    }
   ],
   "source": [
    "selected_spectra[:10]"
   ]
  },
  {
   "cell_type": "code",
   "execution_count": 26,
   "id": "alternate-exception",
   "metadata": {},
   "outputs": [
    {
     "name": "stdout",
     "output_type": "stream",
     "text": [
      "CCMSLIB00000852865 HUSISCNTLUEZCN\n",
      "CCMSLIB00005464770 LKUNZSUKADSCME\n",
      "CCMSLIB00000218947 SEOVTRFCIGRIMH\n",
      "CCMSLIB00005746855 JVHNBFFHWQQPLL\n",
      "CCMSLIB00004714612 XPUOZJJNPJXFTD\n",
      "CCMSLIB00001058664 DTDSAWVUFPGDMX\n",
      "CCMSLIB00000569990 DAWYIZBOUQIVNX\n",
      "CCMSLIB00004692982 DQNFLBXNPGBCOU\n",
      "CCMSLIB00004698130 OOGZWXIAHJKVAH\n",
      "CCMSLIB00004698872 DOVSRUBRIYLZCI\n"
     ]
    }
   ],
   "source": [
    "# Show gnps IDs for selected spectra\n",
    "for ID in selected_spectra[:10]:\n",
    "    print(spectrums_top30[ID].get(\"spectrumid\"),\n",
    "         spectrums_top30[ID].get(\"inchikey\")[:14])"
   ]
  },
  {
   "cell_type": "markdown",
   "id": "confused-liberty",
   "metadata": {},
   "source": [
    "## Train new model on AllPositive (2) without selected spectra\n",
    "Two new models, one on 'normal' Spec2Vec and one with selected MDs added"
   ]
  },
  {
   "cell_type": "code",
   "execution_count": 27,
   "id": "typical-infection",
   "metadata": {},
   "outputs": [
    {
     "data": {
      "text/plain": [
       "(114344, 115344)"
      ]
     },
     "execution_count": 27,
     "metadata": {},
     "output_type": "execute_result"
    }
   ],
   "source": [
    "from spec2vec import Spec2Vec\n",
    "from spec2vec import SpectrumDocument\n",
    "\n",
    "documents_library_processed = [SpectrumDocument(s, n_decimals=2) for i, s in enumerate(spectrums_processed) if i not in selected_spectra]\n",
    "documents_library_classical = [SpectrumDocument(s, n_decimals=2) for i, s in enumerate(spectrums_classical) if i not in selected_spectra]\n",
    "len(documents_library_processed), len(spectrums_processed)  # 1000 should be removed"
   ]
  },
  {
   "cell_type": "code",
   "execution_count": 30,
   "id": "gothic-grove",
   "metadata": {},
   "outputs": [
    {
     "name": "stdout",
     "output_type": "stream",
     "text": [
      "  Epoch 1 of 20.Change in loss after epoch 1: 6120857.5\n",
      "Saving model with name: /mnt/scratch/louwe015/Mass_differences/data/trained_models/ALL_GNPS_210125_positive_cleaned_by_matchms_and_lookups_spec2vec_librarymatching_24-03_iter_1.model\n",
      "  Epoch 2 of 20.Change in loss after epoch 2: 4557735.5\n",
      "  Epoch 3 of 20.Change in loss after epoch 3: 4054406.0\n",
      "Saving model with name: /mnt/scratch/louwe015/Mass_differences/data/trained_models/ALL_GNPS_210125_positive_cleaned_by_matchms_and_lookups_spec2vec_librarymatching_24-03_iter_3.model\n",
      "  Epoch 4 of 20.Change in loss after epoch 4: 3615177.0\n",
      "  Epoch 5 of 20.Change in loss after epoch 5: 3170450.0\n",
      "Saving model with name: /mnt/scratch/louwe015/Mass_differences/data/trained_models/ALL_GNPS_210125_positive_cleaned_by_matchms_and_lookups_spec2vec_librarymatching_24-03_iter_5.model\n",
      "  Epoch 6 of 20.Change in loss after epoch 6: 2994854.0\n",
      "  Epoch 7 of 20.Change in loss after epoch 7: 2939582.0\n",
      "  Epoch 8 of 20.Change in loss after epoch 8: 2809522.0\n",
      "  Epoch 9 of 20.Change in loss after epoch 9: 2841116.0\n",
      "  Epoch 10 of 20.Change in loss after epoch 10: 1924256.0\n",
      "Saving model with name: /mnt/scratch/louwe015/Mass_differences/data/trained_models/ALL_GNPS_210125_positive_cleaned_by_matchms_and_lookups_spec2vec_librarymatching_24-03_iter_10.model\n",
      "  Epoch 11 of 20.Change in loss after epoch 11: 1713260.0\n",
      "  Epoch 12 of 20.Change in loss after epoch 12: 1708760.0\n",
      "  Epoch 13 of 20.Change in loss after epoch 13: 1708948.0\n",
      "  Epoch 14 of 20.Change in loss after epoch 14: 1644600.0\n",
      "  Epoch 15 of 20.Change in loss after epoch 15: 1529104.0\n",
      "Saving model with name: /mnt/scratch/louwe015/Mass_differences/data/trained_models/ALL_GNPS_210125_positive_cleaned_by_matchms_and_lookups_spec2vec_librarymatching_24-03_iter_15.model\n",
      "  Epoch 16 of 20.Change in loss after epoch 16: 1613916.0\n",
      "  Epoch 17 of 20.Change in loss after epoch 17: 1669108.0\n",
      "  Epoch 18 of 20.Change in loss after epoch 18: 1566724.0\n",
      "  Epoch 19 of 20.Change in loss after epoch 19: 1618148.0\n",
      "  Epoch 20 of 20.Change in loss after epoch 20: 1575180.0\n",
      "Saving model with name: /mnt/scratch/louwe015/Mass_differences/data/trained_models/ALL_GNPS_210125_positive_cleaned_by_matchms_and_lookups_spec2vec_librarymatching_24-03.model\n"
     ]
    }
   ],
   "source": [
    "from spec2vec.model_building import train_new_word2vec_model\n",
    "\n",
    "path_models = os.path.join(data_path, \"trained_models\")\n",
    "model_file = os.path.join(path_models, all_pos+\"_spec2vec_librarymatching_24-03.model\")\n",
    "\n",
    "iterations = [1, 3, 5, 10, 15, 20]\n",
    "# Train model with default parameters\n",
    "model = train_new_word2vec_model(documents_library_processed, iterations, model_file)"
   ]
  },
  {
   "cell_type": "markdown",
   "id": "emotional-begin",
   "metadata": {},
   "source": [
    "## Add MDs to spectrum documents\n",
    "Load MD documents (notebook 1), and select selected spectra.\n",
    "\n",
    "Then add new words as 'md@...'. Intensity (for now) is sqrt(count) * max_intensity with a maximum of 1."
   ]
  },
  {
   "cell_type": "code",
   "execution_count": 38,
   "id": "beautiful-kidney",
   "metadata": {},
   "outputs": [
    {
     "name": "stdout",
     "output_type": "stream",
     "text": [
      "115344\n"
     ]
    }
   ],
   "source": [
    "# Load MD documents\n",
    "md_documents_file = os.path.join(data_path, all_pos + \"_mass_difference_documents.pickle\")\n",
    "if os.path.exists(md_documents_file):\n",
    "    with open(md_documents_file, 'rb') as inf:\n",
    "        md_documents = pickle.load(inf)  # list of list of tuples 'documents'\n",
    "    print(len(md_documents))\n",
    "else:\n",
    "    print(\"error\")"
   ]
  },
  {
   "cell_type": "code",
   "execution_count": 40,
   "id": "ruled-islam",
   "metadata": {},
   "outputs": [
    {
     "data": {
      "text/plain": [
       "(114344, 115344)"
      ]
     },
     "execution_count": 40,
     "metadata": {},
     "output_type": "execute_result"
    }
   ],
   "source": [
    "documents_library_mds = [md_doc for i, md_doc in enumerate(md_documents) if i not in selected_spectra]\n",
    "len(documents_library_mds), len(md_documents)  # 1000 should be removed"
   ]
  },
  {
   "cell_type": "code",
   "execution_count": 67,
   "id": "everyday-dover",
   "metadata": {},
   "outputs": [],
   "source": [
    "def convert_md_tup(md_tup: Tuple[str, List[float], int]) -> Tuple[str, float]:\n",
    "    \"\"\"Convert md_tup to (word, intensity)\n",
    "    \n",
    "    md_tup:\n",
    "        The tuple containing info for one MD in a MD document\n",
    "    \"\"\"\n",
    "    word = f\"md@{md_tup[0]}\"\n",
    "    intensity = max(md_tup[1])*np.sqrt(md_tup[2])\n",
    "    if intensity > 1:\n",
    "        intensity = 1.0\n",
    "    return (word, intensity)"
   ]
  },
  {
   "cell_type": "code",
   "execution_count": 74,
   "id": "incomplete-wiring",
   "metadata": {},
   "outputs": [],
   "source": [
    "documents_library_processed_with_mds = []\n",
    "set_chosen_mds = set(chosen_mds)\n",
    "for doc, md_doc in zip(documents_library_processed, documents_library_mds):\n",
    "    new_doc = deepcopy(doc)  # make sure original doc is not affected\n",
    "    \n",
    "    processed_mds = [convert_md_tup(md) for md in md_doc if md[0] in set_chosen_mds]\n",
    "    if processed_mds:\n",
    "        md_words, md_intensities = zip(*processed_mds)\n",
    "        new_doc.words.extend(md_words)\n",
    "        new_doc.weights.extend(md_intensities)\n",
    "    assert len(new_doc.words) == len(new_doc.weights)\n",
    "    \n",
    "    documents_library_processed_with_mds.append(new_doc)"
   ]
  },
  {
   "cell_type": "code",
   "execution_count": 75,
   "id": "acoustic-causing",
   "metadata": {},
   "outputs": [
    {
     "data": {
      "text/plain": [
       "114344"
      ]
     },
     "execution_count": 75,
     "metadata": {},
     "output_type": "execute_result"
    }
   ],
   "source": [
    "len(documents_library_processed_with_mds) # check"
   ]
  },
  {
   "cell_type": "markdown",
   "id": "informative-accessory",
   "metadata": {},
   "source": [
    "## Train new model on AllPositive (2) with added MDs, without selected spectra"
   ]
  },
  {
   "cell_type": "code",
   "execution_count": 76,
   "id": "rotary-retailer",
   "metadata": {},
   "outputs": [
    {
     "name": "stdout",
     "output_type": "stream",
     "text": [
      "  Epoch 1 of 20.Change in loss after epoch 1: 7373417.0\n",
      "Saving model with name: /mnt/scratch/louwe015/Mass_differences/data/trained_models/ALL_GNPS_210125_positive_cleaned_by_matchms_and_lookups_spec2vec_librarymatching_added_MDs_24-03_iter_1.model\n",
      "  Epoch 2 of 20.Change in loss after epoch 2: 5485863.0\n",
      "  Epoch 3 of 20.Change in loss after epoch 3: 4965810.0\n",
      "Saving model with name: /mnt/scratch/louwe015/Mass_differences/data/trained_models/ALL_GNPS_210125_positive_cleaned_by_matchms_and_lookups_spec2vec_librarymatching_added_MDs_24-03_iter_3.model\n",
      "  Epoch 4 of 20.Change in loss after epoch 4: 4049382.0\n",
      "  Epoch 5 of 20.Change in loss after epoch 5: 3817492.0\n",
      "Saving model with name: /mnt/scratch/louwe015/Mass_differences/data/trained_models/ALL_GNPS_210125_positive_cleaned_by_matchms_and_lookups_spec2vec_librarymatching_added_MDs_24-03_iter_5.model\n",
      "  Epoch 6 of 20.Change in loss after epoch 6: 3711904.0\n",
      "  Epoch 7 of 20.Change in loss after epoch 7: 3768490.0\n",
      "  Epoch 8 of 20.Change in loss after epoch 8: 2597434.0\n",
      "  Epoch 9 of 20.Change in loss after epoch 9: 2380056.0\n",
      "  Epoch 10 of 20.Change in loss after epoch 10: 2272048.0\n",
      "Saving model with name: /mnt/scratch/louwe015/Mass_differences/data/trained_models/ALL_GNPS_210125_positive_cleaned_by_matchms_and_lookups_spec2vec_librarymatching_added_MDs_24-03_iter_10.model\n",
      "  Epoch 11 of 20.Change in loss after epoch 11: 2253076.0\n",
      "  Epoch 12 of 20.Change in loss after epoch 12: 2177940.0\n",
      "  Epoch 13 of 20.Change in loss after epoch 13: 2314700.0\n",
      "  Epoch 14 of 20.Change in loss after epoch 14: 2296916.0\n",
      "  Epoch 15 of 20.Change in loss after epoch 15: 2176808.0\n",
      "Saving model with name: /mnt/scratch/louwe015/Mass_differences/data/trained_models/ALL_GNPS_210125_positive_cleaned_by_matchms_and_lookups_spec2vec_librarymatching_added_MDs_24-03_iter_15.model\n",
      "  Epoch 16 of 20.Change in loss after epoch 16: 2131252.0\n",
      "  Epoch 17 of 20.Change in loss after epoch 17: 2235224.0\n",
      "  Epoch 18 of 20.Change in loss after epoch 18: 2036608.0\n",
      "  Epoch 19 of 20.Change in loss after epoch 19: 2181848.0\n",
      "  Epoch 20 of 20.Change in loss after epoch 20: 2060636.0\n",
      "Saving model with name: /mnt/scratch/louwe015/Mass_differences/data/trained_models/ALL_GNPS_210125_positive_cleaned_by_matchms_and_lookups_spec2vec_librarymatching_added_MDs_24-03.model\n"
     ]
    }
   ],
   "source": [
    "from spec2vec.model_building import train_new_word2vec_model\n",
    "\n",
    "path_models = os.path.join(data_path, \"trained_models\")\n",
    "model_file_mds = os.path.join(path_models, all_pos+\"_spec2vec_librarymatching_added_MDs_24-03.model\")\n",
    "\n",
    "iterations = [1, 3, 5, 10, 15, 20]\n",
    "# Train model with default parameters\n",
    "model_mds = train_new_word2vec_model(documents_library_processed_with_mds, iterations, model_file_mds)"
   ]
  },
  {
   "cell_type": "markdown",
   "id": "rental-battle",
   "metadata": {},
   "source": [
    "## Do library matching 'normal' Spec2Vec and classical\n",
    "precursor m/z tolerance = 1ppm"
   ]
  },
  {
   "cell_type": "code",
   "execution_count": 90,
   "id": "innovative-miracle",
   "metadata": {},
   "outputs": [],
   "source": [
    "base_path = os.path.split(data_path[:-1])[0]\n",
    "# from https://github.com/iomega/spec2vec_gnps_data_analysis\n",
    "florians_custom_funcs = os.path.join(base_path, 'spec2vec_gnps_data_analysis', 'custom_functions')\n",
    "sys.path.insert(0, florians_custom_funcs)\n",
    "from library_search import library_matching"
   ]
  },
  {
   "cell_type": "code",
   "execution_count": 91,
   "id": "interior-diana",
   "metadata": {},
   "outputs": [
    {
     "name": "stdout",
     "output_type": "stream",
     "text": [
      "Word2Vec(vocab=115911, size=300, alpha=0.025)\n"
     ]
    }
   ],
   "source": [
    "path_models = os.path.join(data_path, \"trained_models\")\n",
    "model_file = os.path.join(path_models, all_pos+\"_spec2vec_librarymatching_24-03_iter_15.model\")\n",
    "model = gensim.models.Word2Vec.load(model_file)\n",
    "print(model)"
   ]
  },
  {
   "cell_type": "code",
   "execution_count": 92,
   "id": "creative-catholic",
   "metadata": {},
   "outputs": [
    {
     "name": "stdout",
     "output_type": "stream",
     "text": [
      "1000\n"
     ]
    }
   ],
   "source": [
    "documents_query_processed = [SpectrumDocument(spectrums_processed[i], n_decimals=2) for i in selected_spectra]\n",
    "documents_query_classical = [SpectrumDocument(spectrums_classical[i], n_decimals=2) for i in selected_spectra]\n",
    "print(len(documents_query_processed))"
   ]
  },
  {
   "cell_type": "code",
   "execution_count": 94,
   "id": "processed-tourism",
   "metadata": {},
   "outputs": [
    {
     "name": "stderr",
     "output_type": "stream",
     "text": [
      "Calculating vectors of reference spectrums:   0%|          | 152/95290 [00:00<01:02, 1514.37it/s]"
     ]
    },
    {
     "name": "stdout",
     "output_type": "stream",
     "text": [
      "Pre-selection includes spec2vec top 20.\n"
     ]
    },
    {
     "name": "stderr",
     "output_type": "stream",
     "text": [
      "Calculating vectors of reference spectrums: 100%|██████████| 95290/95290 [01:06<00:00, 1422.40it/s]\n",
      "Calculating vectors of query spectrums:  52%|█████▏    | 519/1000 [00:00<00:00, 1258.45it/s]"
     ]
    },
    {
     "name": "stdout",
     "output_type": "stream",
     "text": [
      "Found 1 word(s) missing in the model. Weighted missing percentage not covered by the given model is 0.21%.\n"
     ]
    },
    {
     "name": "stderr",
     "output_type": "stream",
     "text": [
      "Calculating vectors of query spectrums:  80%|███████▉  | 799/1000 [00:00<00:00, 1325.06it/s]"
     ]
    },
    {
     "name": "stdout",
     "output_type": "stream",
     "text": [
      "Found 1 word(s) missing in the model. Weighted missing percentage not covered by the given model is 0.14%.\n"
     ]
    },
    {
     "name": "stderr",
     "output_type": "stream",
     "text": [
      "Calculating vectors of query spectrums: 100%|██████████| 1000/1000 [00:00<00:00, 1299.75it/s]\n"
     ]
    },
    {
     "name": "stdout",
     "output_type": "stream",
     "text": [
      "Pre-selection includes mass matches within 1.0 ppm.\n"
     ]
    },
    {
     "name": "stderr",
     "output_type": "stream",
     "text": [
      "\r",
      "  0%|          | 0/1000 [00:00<?, ?it/s]"
     ]
    },
    {
     "name": "stdout",
     "output_type": "stream",
     "text": [
      "Calculate cosine score for selected candidates.\n",
      "Calculate modified cosine score for selected candidates.\n"
     ]
    },
    {
     "name": "stderr",
     "output_type": "stream",
     "text": [
      "100%|██████████| 1000/1000 [00:14<00:00, 71.28it/s]"
     ]
    },
    {
     "name": "stdout",
     "output_type": "stream",
     "text": [
      "Library matching took 96.11 s.\n"
     ]
    },
    {
     "name": "stderr",
     "output_type": "stream",
     "text": [
      "\n"
     ]
    }
   ],
   "source": [
    "tstart = time.time()\n",
    "found_matches_processed = library_matching(documents_query_processed, documents_library_processed,\n",
    "                                         model,\n",
    "                                         presearch_based_on=[\"precursor_mz\", \"spec2vec-top20\"],\n",
    "                                         include_scores=[\"cosine\", \"modcosine\"],\n",
    "                                         ignore_non_annotated=True,\n",
    "                                         intensity_weighting_power=0.5,\n",
    "                                         allowed_missing_percentage=50.0,\n",
    "                                         cosine_tol=0.005,\n",
    "                                         mass_tolerance=1.0,\n",
    "                                         mass_tolerance_type=\"ppm\")\n",
    "\n",
    "tend = time.time()\n",
    "print(f\"Library matching took {(tend-tstart):.2f} s.\")"
   ]
  },
  {
   "cell_type": "code",
   "execution_count": 95,
   "id": "silver-grade",
   "metadata": {},
   "outputs": [
    {
     "name": "stdout",
     "output_type": "stream",
     "text": [
      "Pre-selection includes mass matches within 1.0 ppm.\n"
     ]
    },
    {
     "name": "stderr",
     "output_type": "stream",
     "text": [
      "\r",
      "  0%|          | 0/1000 [00:00<?, ?it/s]"
     ]
    },
    {
     "name": "stdout",
     "output_type": "stream",
     "text": [
      "Calculate cosine score for selected candidates.\n",
      "Calculate modified cosine score for selected candidates.\n"
     ]
    },
    {
     "name": "stderr",
     "output_type": "stream",
     "text": [
      "100%|██████████| 1000/1000 [00:18<00:00, 54.07it/s]"
     ]
    },
    {
     "name": "stdout",
     "output_type": "stream",
     "text": [
      "Library matching took 20.50 s.\n"
     ]
    },
    {
     "name": "stderr",
     "output_type": "stream",
     "text": [
      "\n"
     ]
    }
   ],
   "source": [
    "tstart = time.time()\n",
    "found_matches_classical = library_matching(documents_query_classical, documents_library_classical,\n",
    "                                           model,\n",
    "                                           presearch_based_on=[\"precursor_mz\"],\n",
    "                                           include_scores=[\"cosine\", \"modcosine\"],\n",
    "                                           ignore_non_annotated=True,\n",
    "                                           intensity_weighting_power=0.5,\n",
    "                                           allowed_missing_percentage=50.0,\n",
    "                                           cosine_tol=0.005,\n",
    "                                           mass_tolerance=1.0,\n",
    "                                           mass_tolerance_type=\"ppm\")\n",
    "tend = time.time()\n",
    "print(f\"Library matching took {(tend-tstart):.2f} s.\")"
   ]
  },
  {
   "cell_type": "code",
   "execution_count": 96,
   "id": "environmental-southwest",
   "metadata": {},
   "outputs": [
    {
     "data": {
      "text/plain": [
       "(1000, 1000)"
      ]
     },
     "execution_count": 96,
     "metadata": {},
     "output_type": "execute_result"
    }
   ],
   "source": [
    "len(found_matches_processed), len(found_matches_classical)"
   ]
  },
  {
   "cell_type": "code",
   "execution_count": 131,
   "id": "statistical-keeping",
   "metadata": {},
   "outputs": [
    {
     "data": {
      "text/html": [
       "<div>\n",
       "<style scoped>\n",
       "    .dataframe tbody tr th:only-of-type {\n",
       "        vertical-align: middle;\n",
       "    }\n",
       "\n",
       "    .dataframe tbody tr th {\n",
       "        vertical-align: top;\n",
       "    }\n",
       "\n",
       "    .dataframe thead th {\n",
       "        text-align: right;\n",
       "    }\n",
       "</style>\n",
       "<table border=\"1\" class=\"dataframe\">\n",
       "  <thead>\n",
       "    <tr style=\"text-align: right;\">\n",
       "      <th></th>\n",
       "      <th>cosine_score</th>\n",
       "      <th>cosine_matches</th>\n",
       "      <th>mod_cosine_score</th>\n",
       "      <th>mod_cosine_matches</th>\n",
       "      <th>mass_match</th>\n",
       "      <th>s2v_score</th>\n",
       "    </tr>\n",
       "  </thead>\n",
       "  <tbody>\n",
       "    <tr>\n",
       "      <th>27394</th>\n",
       "      <td>0.8822231222965523</td>\n",
       "      <td>144</td>\n",
       "      <td>0.8822231222965523</td>\n",
       "      <td>144</td>\n",
       "      <td>True</td>\n",
       "      <td>0.909247</td>\n",
       "    </tr>\n",
       "    <tr>\n",
       "      <th>27414</th>\n",
       "      <td>0.8401839173932139</td>\n",
       "      <td>102</td>\n",
       "      <td>0.8401839173932139</td>\n",
       "      <td>102</td>\n",
       "      <td>True</td>\n",
       "      <td>0.884243</td>\n",
       "    </tr>\n",
       "    <tr>\n",
       "      <th>27644</th>\n",
       "      <td>0.7375993664626038</td>\n",
       "      <td>130</td>\n",
       "      <td>0.7375993664626038</td>\n",
       "      <td>130</td>\n",
       "      <td>True</td>\n",
       "      <td>0.849660</td>\n",
       "    </tr>\n",
       "    <tr>\n",
       "      <th>27352</th>\n",
       "      <td>0.9220880795783896</td>\n",
       "      <td>97</td>\n",
       "      <td>0.9220880795783896</td>\n",
       "      <td>97</td>\n",
       "      <td>True</td>\n",
       "      <td>0.841875</td>\n",
       "    </tr>\n",
       "    <tr>\n",
       "      <th>27263</th>\n",
       "      <td>0.31238366368556064</td>\n",
       "      <td>122</td>\n",
       "      <td>0.7140814880386975</td>\n",
       "      <td>131</td>\n",
       "      <td>False</td>\n",
       "      <td>0.794149</td>\n",
       "    </tr>\n",
       "  </tbody>\n",
       "</table>\n",
       "</div>"
      ],
      "text/plain": [
       "              cosine_score cosine_matches    mod_cosine_score  \\\n",
       "27394   0.8822231222965523            144  0.8822231222965523   \n",
       "27414   0.8401839173932139            102  0.8401839173932139   \n",
       "27644   0.7375993664626038            130  0.7375993664626038   \n",
       "27352   0.9220880795783896             97  0.9220880795783896   \n",
       "27263  0.31238366368556064            122  0.7140814880386975   \n",
       "\n",
       "      mod_cosine_matches  mass_match  s2v_score  \n",
       "27394                144        True   0.909247  \n",
       "27414                102        True   0.884243  \n",
       "27644                130        True   0.849660  \n",
       "27352                 97        True   0.841875  \n",
       "27263                131       False   0.794149  "
      ]
     },
     "execution_count": 131,
     "metadata": {},
     "output_type": "execute_result"
    }
   ],
   "source": [
    "found_matches_processed[1].sort_values(by=\"s2v_score\", ascending=False).iloc[:5]"
   ]
  },
  {
   "cell_type": "markdown",
   "id": "vulnerable-shoulder",
   "metadata": {},
   "source": [
    "## Do library matching Spec2Vec including MDs\n",
    "precursor m/z tolerance = 1ppm\n"
   ]
  },
  {
   "cell_type": "code",
   "execution_count": 101,
   "id": "eligible-family",
   "metadata": {},
   "outputs": [
    {
     "data": {
      "text/plain": [
       "1000"
      ]
     },
     "execution_count": 101,
     "metadata": {},
     "output_type": "execute_result"
    }
   ],
   "source": [
    "documents_query_mds = [md_doc for i, md_doc in enumerate(md_documents) if i in selected_spectra]\n",
    "len(documents_query_mds)"
   ]
  },
  {
   "cell_type": "code",
   "execution_count": 102,
   "id": "norwegian-tuesday",
   "metadata": {},
   "outputs": [],
   "source": [
    "documents_query_processed_with_mds = []\n",
    "set_chosen_mds = set(chosen_mds)\n",
    "for doc, md_doc in zip(documents_query_processed, documents_query_mds):\n",
    "    new_doc = deepcopy(doc)  # make sure original doc is not affected\n",
    "    \n",
    "    processed_mds = [convert_md_tup(md) for md in md_doc if md[0] in set_chosen_mds]\n",
    "    if processed_mds:\n",
    "        md_words, md_intensities = zip(*processed_mds)\n",
    "        new_doc.words.extend(md_words)\n",
    "        new_doc.weights.extend(md_intensities)\n",
    "    assert len(new_doc.words) == len(new_doc.weights)\n",
    "    \n",
    "    documents_query_processed_with_mds.append(new_doc)"
   ]
  },
  {
   "cell_type": "code",
   "execution_count": 137,
   "id": "considered-setting",
   "metadata": {},
   "outputs": [
    {
     "name": "stdout",
     "output_type": "stream",
     "text": [
      "Word2Vec(vocab=132506, size=300, alpha=0.025)\n"
     ]
    }
   ],
   "source": [
    "path_models = os.path.join(data_path, \"trained_models\")\n",
    "md_version = '_added_MDs_24-03_iter_15'\n",
    "model_file_mds = os.path.join(path_models, f\"{all_pos}_spec2vec_librarymatching{md_version}.model\")\n",
    "model_mds = gensim.models.Word2Vec.load(model_file_mds)\n",
    "print(model_mds)"
   ]
  },
  {
   "cell_type": "code",
   "execution_count": 138,
   "id": "valued-nature",
   "metadata": {},
   "outputs": [
    {
     "name": "stderr",
     "output_type": "stream",
     "text": [
      "Calculating vectors of reference spectrums:   0%|          | 119/95290 [00:00<01:20, 1188.53it/s]"
     ]
    },
    {
     "name": "stdout",
     "output_type": "stream",
     "text": [
      "Pre-selection includes spec2vec top 20.\n"
     ]
    },
    {
     "name": "stderr",
     "output_type": "stream",
     "text": [
      "Calculating vectors of reference spectrums: 100%|██████████| 95290/95290 [01:22<00:00, 1149.22it/s]\n",
      "Calculating vectors of query spectrums:  52%|█████▏    | 523/1000 [00:00<00:00, 1033.18it/s]"
     ]
    },
    {
     "name": "stdout",
     "output_type": "stream",
     "text": [
      "Found 1 word(s) missing in the model. Weighted missing percentage not covered by the given model is 0.17%.\n"
     ]
    },
    {
     "name": "stderr",
     "output_type": "stream",
     "text": [
      "Calculating vectors of query spectrums:  87%|████████▋ | 871/1000 [00:00<00:00, 1068.86it/s]"
     ]
    },
    {
     "name": "stdout",
     "output_type": "stream",
     "text": [
      "Found 1 word(s) missing in the model. Weighted missing percentage not covered by the given model is 0.09%.\n"
     ]
    },
    {
     "name": "stderr",
     "output_type": "stream",
     "text": [
      "Calculating vectors of query spectrums: 100%|██████████| 1000/1000 [00:00<00:00, 1065.82it/s]\n"
     ]
    },
    {
     "name": "stdout",
     "output_type": "stream",
     "text": [
      "Pre-selection includes mass matches within 1.0 ppm.\n"
     ]
    },
    {
     "name": "stderr",
     "output_type": "stream",
     "text": [
      "  1%|          | 9/1000 [00:00<00:11, 83.35it/s]"
     ]
    },
    {
     "name": "stdout",
     "output_type": "stream",
     "text": [
      "Calculate cosine score for selected candidates.\n",
      "Calculate modified cosine score for selected candidates.\n"
     ]
    },
    {
     "name": "stderr",
     "output_type": "stream",
     "text": [
      "100%|██████████| 1000/1000 [00:12<00:00, 81.64it/s]"
     ]
    },
    {
     "name": "stdout",
     "output_type": "stream",
     "text": [
      "Library matching took 104.59 s.\n"
     ]
    },
    {
     "name": "stderr",
     "output_type": "stream",
     "text": [
      "\n"
     ]
    }
   ],
   "source": [
    "tstart = time.time()\n",
    "found_matches_processed_with_mds = library_matching(documents_query_processed_with_mds, documents_library_processed_with_mds,\n",
    "                                         model_mds,\n",
    "                                         presearch_based_on=[\"precursor_mz\", \"spec2vec-top20\"],\n",
    "                                         include_scores=[\"cosine\", \"modcosine\"],\n",
    "                                         ignore_non_annotated=True,\n",
    "                                         intensity_weighting_power=0.5,\n",
    "                                         allowed_missing_percentage=50.0,\n",
    "                                         cosine_tol=0.005,\n",
    "                                         mass_tolerance=1.0,\n",
    "                                         mass_tolerance_type=\"ppm\")\n",
    "\n",
    "tend = time.time()\n",
    "print(f\"Library matching took {(tend-tstart):.2f} s.\")"
   ]
  },
  {
   "cell_type": "code",
   "execution_count": 127,
   "id": "supposed-soccer",
   "metadata": {},
   "outputs": [
    {
     "data": {
      "text/plain": [
       "1000"
      ]
     },
     "execution_count": 127,
     "metadata": {},
     "output_type": "execute_result"
    }
   ],
   "source": [
    "len(found_matches_processed_with_mds)"
   ]
  },
  {
   "cell_type": "code",
   "execution_count": 141,
   "id": "partial-competition",
   "metadata": {},
   "outputs": [
    {
     "data": {
      "text/html": [
       "<div>\n",
       "<style scoped>\n",
       "    .dataframe tbody tr th:only-of-type {\n",
       "        vertical-align: middle;\n",
       "    }\n",
       "\n",
       "    .dataframe tbody tr th {\n",
       "        vertical-align: top;\n",
       "    }\n",
       "\n",
       "    .dataframe thead th {\n",
       "        text-align: right;\n",
       "    }\n",
       "</style>\n",
       "<table border=\"1\" class=\"dataframe\">\n",
       "  <thead>\n",
       "    <tr style=\"text-align: right;\">\n",
       "      <th></th>\n",
       "      <th>cosine_score</th>\n",
       "      <th>cosine_matches</th>\n",
       "      <th>mod_cosine_score</th>\n",
       "      <th>mod_cosine_matches</th>\n",
       "      <th>mass_match</th>\n",
       "      <th>s2v_score</th>\n",
       "    </tr>\n",
       "  </thead>\n",
       "  <tbody>\n",
       "    <tr>\n",
       "      <th>17176</th>\n",
       "      <td>0.0</td>\n",
       "      <td>0</td>\n",
       "      <td>0.8635764299181655</td>\n",
       "      <td>4</td>\n",
       "      <td>False</td>\n",
       "      <td>0.517799</td>\n",
       "    </tr>\n",
       "    <tr>\n",
       "      <th>84</th>\n",
       "      <td>0.0</td>\n",
       "      <td>0</td>\n",
       "      <td>0.10094332786776554</td>\n",
       "      <td>2</td>\n",
       "      <td>False</td>\n",
       "      <td>0.483493</td>\n",
       "    </tr>\n",
       "    <tr>\n",
       "      <th>66092</th>\n",
       "      <td>0.0</td>\n",
       "      <td>0</td>\n",
       "      <td>0.0</td>\n",
       "      <td>0</td>\n",
       "      <td>False</td>\n",
       "      <td>0.478846</td>\n",
       "    </tr>\n",
       "    <tr>\n",
       "      <th>1245</th>\n",
       "      <td>0.0</td>\n",
       "      <td>0</td>\n",
       "      <td>0.32314448651453753</td>\n",
       "      <td>1</td>\n",
       "      <td>False</td>\n",
       "      <td>0.473616</td>\n",
       "    </tr>\n",
       "    <tr>\n",
       "      <th>12594</th>\n",
       "      <td>0.0</td>\n",
       "      <td>0</td>\n",
       "      <td>0.870110240741692</td>\n",
       "      <td>3</td>\n",
       "      <td>False</td>\n",
       "      <td>0.453365</td>\n",
       "    </tr>\n",
       "  </tbody>\n",
       "</table>\n",
       "</div>"
      ],
      "text/plain": [
       "      cosine_score cosine_matches     mod_cosine_score mod_cosine_matches  \\\n",
       "17176          0.0              0   0.8635764299181655                  4   \n",
       "84             0.0              0  0.10094332786776554                  2   \n",
       "66092          0.0              0                  0.0                  0   \n",
       "1245           0.0              0  0.32314448651453753                  1   \n",
       "12594          0.0              0    0.870110240741692                  3   \n",
       "\n",
       "       mass_match  s2v_score  \n",
       "17176       False   0.517799  \n",
       "84          False   0.483493  \n",
       "66092       False   0.478846  \n",
       "1245        False   0.473616  \n",
       "12594       False   0.453365  "
      ]
     },
     "execution_count": 141,
     "metadata": {},
     "output_type": "execute_result"
    }
   ],
   "source": [
    "found_matches_processed_with_mds[0].sort_values(by=\"s2v_score\", ascending=False).iloc[:5]"
   ]
  },
  {
   "cell_type": "code",
   "execution_count": 147,
   "id": "fifth-handling",
   "metadata": {},
   "outputs": [
    {
     "data": {
      "text/plain": [
       "(-0.246880309578689, 98)"
      ]
     },
     "execution_count": 147,
     "metadata": {},
     "output_type": "execute_result"
    }
   ],
   "source": [
    "# How many results have a higher score with +MD?\n",
    "comps = []\n",
    "for without_mds, with_mds in zip(found_matches_processed, found_matches_processed_with_mds):\n",
    "    without_max = without_mds.sort_values(by=\"s2v_score\", ascending=False).iloc[0][\"s2v_score\"]\n",
    "    with_max = with_mds.sort_values(by=\"s2v_score\", ascending=False).iloc[0][\"s2v_score\"]\n",
    "    comps.append(with_max - without_max)\n",
    "np.mean(comps), len([comp for comp in comps if comp>=0])"
   ]
  },
  {
   "cell_type": "markdown",
   "id": "contemporary-niagara",
   "metadata": {},
   "source": [
    "## Evaluate different similarity scoring methods\n",
    "In order:\n",
    "- Cosine min_match=2\n",
    "- Cosine min_match=6\n",
    "- Spec2Vec 'normal'\n",
    "- Spec2Vec with MDs"
   ]
  },
  {
   "cell_type": "code",
   "execution_count": 148,
   "id": "introductory-contract",
   "metadata": {},
   "outputs": [
    {
     "name": "stdout",
     "output_type": "stream",
     "text": [
      "Checking matches for cosine score > 0.00\n",
      "Checking matches for cosine score > 0.05\n",
      "Checking matches for cosine score > 0.10\n",
      "Checking matches for cosine score > 0.15\n",
      "Checking matches for cosine score > 0.20\n",
      "Checking matches for cosine score > 0.25\n",
      "Checking matches for cosine score > 0.30\n",
      "Checking matches for cosine score > 0.35\n",
      "Checking matches for cosine score > 0.40\n",
      "Checking matches for cosine score > 0.45\n",
      "Checking matches for cosine score > 0.50\n",
      "Checking matches for cosine score > 0.55\n",
      "Checking matches for cosine score > 0.60\n",
      "Checking matches for cosine score > 0.65\n",
      "Checking matches for cosine score > 0.70\n",
      "Checking matches for cosine score > 0.75\n",
      "Checking matches for cosine score > 0.80\n",
      "Checking matches for cosine score > 0.85\n",
      "Checking matches for cosine score > 0.90\n",
      "Checking matches for cosine score > 0.95\n"
     ]
    }
   ],
   "source": [
    "min_match = 2\n",
    "cosine_thresholds = np.arange(0, 1, 0.05)\n",
    "\n",
    "test_matches_min2 = []\n",
    "for threshold in cosine_thresholds:\n",
    "    print(f\"Checking matches for cosine score > {threshold:.2f}\")\n",
    "    test_matches = []\n",
    "    \n",
    "    for ID in range(len(documents_query_classical)):\n",
    "        if len(found_matches_classical[ID]) > 0:\n",
    "            # Scenario 1: mass + sort by cosine\n",
    "            df_select = found_matches_classical[ID][(found_matches_classical[ID]['mass_match'] == 1)\n",
    "                                         & (found_matches_classical[ID]['cosine_score'] > threshold)\n",
    "                                         & (found_matches_classical[ID]['cosine_matches'] >= min_match)]\n",
    "\n",
    "            if df_select.shape[0] > 0:\n",
    "                best_match_ID = df_select.sort_values(by=['cosine_score'], ascending=False).index[0]\n",
    "                inchikey_selected = documents_library_classical[best_match_ID]._obj.get(\"inchikey\")[:14]\n",
    "                inchikey_query = documents_query_classical[ID]._obj.get(\"inchikey\")[:14]\n",
    "\n",
    "                best_bet = 1 * (inchikey_selected == inchikey_query)\n",
    "            else:\n",
    "                best_bet = -1 # meaning: not found\n",
    "            test_matches.append(best_bet)\n",
    "\n",
    "    # Make arrays from lists:\n",
    "    test_arr = np.array(test_matches)\n",
    "\n",
    "    test_matches_min2.append([np.sum(test_arr == 1), np.sum(test_arr == 0), np.sum(test_arr == -1)])"
   ]
  },
  {
   "cell_type": "code",
   "execution_count": 149,
   "id": "informational-dance",
   "metadata": {},
   "outputs": [
    {
     "name": "stdout",
     "output_type": "stream",
     "text": [
      "Checking matches for cosine score > 0.00\n",
      "Checking matches for cosine score > 0.05\n",
      "Checking matches for cosine score > 0.10\n",
      "Checking matches for cosine score > 0.15\n",
      "Checking matches for cosine score > 0.20\n",
      "Checking matches for cosine score > 0.25\n",
      "Checking matches for cosine score > 0.30\n",
      "Checking matches for cosine score > 0.35\n",
      "Checking matches for cosine score > 0.40\n",
      "Checking matches for cosine score > 0.45\n",
      "Checking matches for cosine score > 0.50\n",
      "Checking matches for cosine score > 0.55\n",
      "Checking matches for cosine score > 0.60\n",
      "Checking matches for cosine score > 0.65\n",
      "Checking matches for cosine score > 0.70\n",
      "Checking matches for cosine score > 0.75\n",
      "Checking matches for cosine score > 0.80\n",
      "Checking matches for cosine score > 0.85\n",
      "Checking matches for cosine score > 0.90\n",
      "Checking matches for cosine score > 0.95\n"
     ]
    }
   ],
   "source": [
    "min_match = 6\n",
    "cosine_thresholds = np.arange(0, 1, 0.05)\n",
    "\n",
    "test_matches_min6 = []\n",
    "for threshold in cosine_thresholds:\n",
    "    print(f\"Checking matches for cosine score > {threshold:.2f}\")\n",
    "    test_matches = []\n",
    "    \n",
    "    for ID in range(len(documents_query_classical)):\n",
    "        if len(found_matches_classical[ID]) > 0:\n",
    "            # Scenario 1: mass + sort by cosine\n",
    "            df_select = found_matches_classical[ID][(found_matches_classical[ID]['mass_match'] == 1)\n",
    "                                             & (found_matches_classical[ID]['cosine_score'] > threshold)\n",
    "                                             & (found_matches_classical[ID]['cosine_matches'] >= min_match)]\n",
    "\n",
    "            if df_select.shape[0] > 0:\n",
    "                best_match_ID = df_select.sort_values(by=['cosine_score'], ascending=False).index[0]\n",
    "                inchikey_selected = documents_library_classical[best_match_ID]._obj.get(\"inchikey\")[:14]\n",
    "                inchikey_query = documents_query_classical[ID]._obj.get(\"inchikey\")[:14]\n",
    "\n",
    "                best_bet = 1 * (inchikey_selected == inchikey_query)\n",
    "            else:\n",
    "                best_bet = -1 # meaning: not found\n",
    "            test_matches.append(best_bet)\n",
    "\n",
    "    # Make arrays from lists:\n",
    "    test_arr = np.array(test_matches)\n",
    "    \n",
    "    test_matches_min6.append([np.sum(test_arr == 1), np.sum(test_arr == 0), np.sum(test_arr == -1)])"
   ]
  },
  {
   "cell_type": "code",
   "execution_count": 150,
   "id": "local-appearance",
   "metadata": {},
   "outputs": [
    {
     "name": "stdout",
     "output_type": "stream",
     "text": [
      "Checking matches for spec2vec score > 0.00\n",
      "Checking matches for spec2vec score > 0.05\n",
      "Checking matches for spec2vec score > 0.10\n",
      "Checking matches for spec2vec score > 0.15\n",
      "Checking matches for spec2vec score > 0.20\n",
      "Checking matches for spec2vec score > 0.25\n",
      "Checking matches for spec2vec score > 0.30\n",
      "Checking matches for spec2vec score > 0.35\n",
      "Checking matches for spec2vec score > 0.40\n",
      "Checking matches for spec2vec score > 0.45\n",
      "Checking matches for spec2vec score > 0.50\n",
      "Checking matches for spec2vec score > 0.55\n",
      "Checking matches for spec2vec score > 0.60\n",
      "Checking matches for spec2vec score > 0.65\n",
      "Checking matches for spec2vec score > 0.70\n",
      "Checking matches for spec2vec score > 0.75\n",
      "Checking matches for spec2vec score > 0.80\n",
      "Checking matches for spec2vec score > 0.85\n",
      "Checking matches for spec2vec score > 0.90\n",
      "Checking matches for spec2vec score > 0.95\n"
     ]
    }
   ],
   "source": [
    "test_matches_s2v = []\n",
    "\n",
    "cosine_thresholds = np.arange(0,1,0.05)\n",
    "\n",
    "for threshold in cosine_thresholds:\n",
    "    print(f\"Checking matches for spec2vec score > {threshold:.2f}\")\n",
    "    test_matches = []\n",
    "    \n",
    "    for ID in range(len(documents_query_processed)):\n",
    "\n",
    "        # Scenario 2: mass + sort by Spec2Vec\n",
    "        df_select = found_matches_processed[ID][(found_matches_processed[ID]['mass_match'] == 1)\n",
    "                                      & (found_matches_processed[ID]['s2v_score'] > threshold)]\n",
    "        if df_select.shape[0] > 0:\n",
    "            best_match_ID = df_select.sort_values(by=['s2v_score'], ascending=False).index[0]\n",
    "            inchikey_selected = documents_library_processed[best_match_ID]._obj.get(\"inchikey\")[:14]\n",
    "            inchikey_query = documents_query_processed[ID]._obj.get(\"inchikey\")[:14]\n",
    "            \n",
    "            best_bet = 1 * (inchikey_selected == inchikey_query)\n",
    "        else:\n",
    "            best_bet = -1 # meaning: not found\n",
    "        test_matches.append(best_bet)\n",
    "\n",
    "    # Make arrays from lists:\n",
    "    test_arr = np.array(test_matches)\n",
    "    \n",
    "    test_matches_s2v.append([np.sum(test_arr == 1), np.sum(test_arr == 0), np.sum(test_arr == -1)])"
   ]
  },
  {
   "cell_type": "code",
   "execution_count": 151,
   "id": "direct-miami",
   "metadata": {},
   "outputs": [
    {
     "name": "stdout",
     "output_type": "stream",
     "text": [
      "Checking matches for spec2vec score > 0.00\n",
      "Checking matches for spec2vec score > 0.05\n",
      "Checking matches for spec2vec score > 0.10\n",
      "Checking matches for spec2vec score > 0.15\n",
      "Checking matches for spec2vec score > 0.20\n",
      "Checking matches for spec2vec score > 0.25\n",
      "Checking matches for spec2vec score > 0.30\n",
      "Checking matches for spec2vec score > 0.35\n",
      "Checking matches for spec2vec score > 0.40\n",
      "Checking matches for spec2vec score > 0.45\n",
      "Checking matches for spec2vec score > 0.50\n",
      "Checking matches for spec2vec score > 0.55\n",
      "Checking matches for spec2vec score > 0.60\n",
      "Checking matches for spec2vec score > 0.65\n",
      "Checking matches for spec2vec score > 0.70\n",
      "Checking matches for spec2vec score > 0.75\n",
      "Checking matches for spec2vec score > 0.80\n",
      "Checking matches for spec2vec score > 0.85\n",
      "Checking matches for spec2vec score > 0.90\n",
      "Checking matches for spec2vec score > 0.95\n"
     ]
    }
   ],
   "source": [
    "test_matches_s2v_mds = []\n",
    "\n",
    "cosine_thresholds = np.arange(0,1,0.05)\n",
    "\n",
    "for threshold in cosine_thresholds:\n",
    "    print(f\"Checking matches for spec2vec score > {threshold:.2f}\")\n",
    "    test_matches = []\n",
    "    \n",
    "    for ID in range(len(documents_query_processed_with_mds)):\n",
    "\n",
    "        # Scenario 2: mass + sort by Spec2Vec\n",
    "        df_select = found_matches_processed_with_mds[ID][(found_matches_processed_with_mds[ID]['mass_match'] == 1)\n",
    "                                      & (found_matches_processed_with_mds[ID]['s2v_score'] > threshold)]\n",
    "        if df_select.shape[0] > 0:\n",
    "            best_match_ID = df_select.sort_values(by=['s2v_score'], ascending=False).index[0]\n",
    "            inchikey_selected = documents_library_processed_with_mds[best_match_ID]._obj.get(\"inchikey\")[:14]\n",
    "            inchikey_query = documents_query_processed_with_mds[ID]._obj.get(\"inchikey\")[:14]\n",
    "            \n",
    "            best_bet = 1 * (inchikey_selected == inchikey_query)\n",
    "        else:\n",
    "            best_bet = -1 # meaning: not found\n",
    "        test_matches.append(best_bet)\n",
    "\n",
    "    # Make arrays from lists:\n",
    "    test_arr = np.array(test_matches)\n",
    "    \n",
    "    test_matches_s2v_mds.append([np.sum(test_arr == 1), np.sum(test_arr == 0), np.sum(test_arr == -1)])"
   ]
  },
  {
   "cell_type": "markdown",
   "id": "looking-right",
   "metadata": {},
   "source": [
    "## Plot evaluation results"
   ]
  },
  {
   "cell_type": "code",
   "execution_count": 152,
   "id": "simple-turkish",
   "metadata": {},
   "outputs": [
    {
     "data": {
      "text/plain": [
       "Text(0, 0.5, 'true positive rate')"
      ]
     },
     "execution_count": 152,
     "metadata": {},
     "output_type": "execute_result"
    },
    {
     "data": {
      "image/png": "[encoded data removed]",
      "text/plain": [
       "<Figure size 504x432 with 1 Axes>"
      ]
     },
     "metadata": {},
     "output_type": "display_data"
    }
   ],
   "source": [
    "min_match = 6\n",
    "#test_matches_cosine_arr = np.array(test_matches_ROC_min2)\n",
    "\n",
    "test_matches_cosine_arr = np.array(test_matches_min6)\n",
    "test_matches_s2v_arr = np.array(test_matches_s2v)\n",
    "test_matches_s2v_mds_arr = np.array(test_matches_s2v_mds)\n",
    "\n",
    "thresholds = np.arange(0, 1, 0.05)\n",
    "label_picks = [0,4,8,12,14,15,16,17,18,19]\n",
    "\n",
    "plt.figure(figsize=(7,6))\n",
    "plt.style.use('ggplot')\n",
    "num_max = np.sum(test_matches_cosine_arr[0,:])\n",
    "\n",
    "plt.plot(test_matches_s2v_arr[:,1]/num_max, test_matches_s2v_arr[:,0]/num_max, \n",
    "         'o-', label='Spec2Vec')\n",
    "plt.plot(test_matches_s2v_mds_arr[:,1]/num_max, test_matches_s2v_mds_arr[:,0]/num_max, \n",
    "         'o-', label='Spec2Vec + MDs')\n",
    "plt.plot(test_matches_cosine_arr[:,1]/num_max, test_matches_cosine_arr[:,0]/num_max, \n",
    "         'o-', color='black', label='cosine (min match = {})'.format(min_match))\n",
    "for i, threshold in enumerate(thresholds):\n",
    "    if i in label_picks:\n",
    "        plt.annotate(\">{:.2}\".format(threshold),\n",
    "                    (test_matches_s2v_arr[i,1]/num_max, test_matches_s2v_arr[i,0]/num_max),\n",
    "                    textcoords=\"offset points\", xytext=(2,-10), fontsize=12)\n",
    "        plt.annotate(\">{:.2}\".format(threshold),\n",
    "                    (test_matches_s2v_mds_arr[i,1]/num_max, test_matches_s2v_mds_arr[i,0]/num_max),\n",
    "                    textcoords=\"offset points\", xytext=(2,-10), fontsize=12)\n",
    "        plt.annotate(\">{:.2}\".format(threshold),\n",
    "                    (test_matches_cosine_arr[i,1]/num_max, test_matches_cosine_arr[i,0]/num_max),\n",
    "                    textcoords=\"offset points\", xytext=(2,-10), fontsize=12)\n",
    "\n",
    "#plt.plot(test_matches_ROC_min2_arr[:,1]/num_max, test_matches_ROC_min2_arr[:,0]/num_max, \n",
    "#         '.--', color='black', alpha=0.5, label='cosine (min match = 2)')\n",
    "\n",
    "plt.title('true/false positives per query')\n",
    "plt.legend(fontsize=14)\n",
    "plt.xticks(fontsize=13)\n",
    "plt.yticks(fontsize=13)\n",
    "plt.xlabel('false positives rate', fontsize=16)\n",
    "plt.ylabel('true positive rate', fontsize=16)\n",
    "#plt.xlim([0, 0.3])\n",
    "# plt.savefig(os.path.join(data_path, 'figures', f'library_matching_true_false_positives_labeled_{md_version}.svg'))"
   ]
  },
  {
   "cell_type": "code",
   "execution_count": 153,
   "id": "grave-southwest",
   "metadata": {
    "scrolled": false
   },
   "outputs": [
    {
     "data": {
      "image/png": "[encoded data removed]",
      "text/plain": [
       "<Figure size 504x432 with 1 Axes>"
      ]
     },
     "metadata": {},
     "output_type": "display_data"
    }
   ],
   "source": [
    "min_match=2\n",
    "test_matches_cosine_arr = np.array(test_matches_min2)\n",
    "#test_matches_cosine_arr = np.array(test_matches_min6)\n",
    "test_matches_s2v_arr = np.array(test_matches_s2v)\n",
    "test_matches_s2v_mds_arr = np.array(test_matches_s2v_mds)\n",
    "\n",
    "thresholds = np.arange(0, 1, 0.05)\n",
    "label_picks = [0,4,8,10,12,14,15,16,17,18,19]\n",
    "\n",
    "accuracy_s2v = 100 * test_matches_s2v_arr[:,0]/(test_matches_s2v_arr[:,0] + test_matches_s2v_arr[:,1])\n",
    "accuracy_s2v_mds = 100 * test_matches_s2v_mds_arr[:,0]/(test_matches_s2v_mds_arr[:,0] + test_matches_s2v_mds_arr[:,1])\n",
    "accuracy_cosine = 100 * test_matches_cosine_arr[:,0]/(test_matches_cosine_arr[:,0] + test_matches_cosine_arr[:,1])\n",
    "\n",
    "retrieval_s2v = (test_matches_s2v_arr[:,1] + test_matches_s2v_arr[:,0])/1000\n",
    "retrieval_s2v_mds = (test_matches_s2v_mds_arr[:,1] + test_matches_s2v_mds_arr[:,0])/1000\n",
    "retrieval_cosine = (test_matches_cosine_arr[:,1] + test_matches_cosine_arr[:,0])/1000\n",
    "\n",
    "plt.figure(figsize=(7,6))\n",
    "plt.style.use('ggplot')\n",
    "plt.plot(retrieval_s2v, accuracy_s2v, 'o-', label='Spec2Vec')\n",
    "plt.plot(retrieval_s2v_mds, accuracy_s2v_mds, 'o-', label='Spec2Vec + MDs')\n",
    "plt.plot(retrieval_cosine, accuracy_cosine, 'o-', color=\"black\", label='cosine (min match = {})'.format(min_match))\n",
    "\n",
    "for i, threshold in enumerate(thresholds):\n",
    "    if i in label_picks:\n",
    "        plt.annotate(\">{:.2}\".format(threshold),\n",
    "                    (retrieval_s2v[i], accuracy_s2v[i]),\n",
    "                    textcoords=\"offset points\", xytext=(2, 5), fontsize=12)\n",
    "        plt.annotate(\">{:.2}\".format(threshold),\n",
    "                    (retrieval_s2v_mds[i], accuracy_s2v_mds[i]),\n",
    "                    textcoords=\"offset points\", xytext=(2, 5), fontsize=12)\n",
    "        plt.annotate(\">{:.2}\".format(threshold),\n",
    "                    (retrieval_cosine[i], accuracy_cosine[i]),\n",
    "                    textcoords=\"offset points\", xytext=(2, 5), fontsize=12)\n",
    "\n",
    "plt.title('accuracy vs retrieval')\n",
    "plt.legend(fontsize=14)\n",
    "plt.xticks(fontsize=13)\n",
    "plt.yticks(fontsize=13)\n",
    "plt.ylim([74, 90])\n",
    "plt.xlabel('retrieval (hits per query spectrum)', fontsize=16)\n",
    "plt.ylabel('accuracy (% correct hits)', fontsize=16)\n",
    "# plt.savefig(os.path.join(data_path, 'figures', f'library_matching_accuracy_vs_retrieval_minmatch2_{md_version}.svg'))\n",
    "plt.show()"
   ]
  }
 ],
 "metadata": {
  "kernelspec": {
   "display_name": "Python 3",
   "language": "python",
   "name": "python3"
  },
  "language_info": {
   "codemirror_mode": {
    "name": "ipython",
    "version": 3
   },
   "file_extension": ".py",
   "mimetype": "text/x-python",
   "name": "python",
   "nbconvert_exporter": "python",
   "pygments_lexer": "ipython3",
   "version": "3.7.9"
  }
 },
 "nbformat": 4,
 "nbformat_minor": 5
}
