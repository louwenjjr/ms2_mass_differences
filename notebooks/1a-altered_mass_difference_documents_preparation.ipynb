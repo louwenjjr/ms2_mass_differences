{
 "cells": [
  {
   "cell_type": "markdown",
   "id": "cordless-vatican",
   "metadata": {},
   "source": [
    "# Summary\n",
    "This is a variant of notebook 1 where we try out some different parameters.\n",
    "\n",
    "In this notebook mass differences are extracted from the AllPositive dataset and expressed per spectrum. This dataset is constructed here: https://github.com/iomega/spec2vec_gnps_data_analysis/tree/master/notebooks just like the pickled ALL_GNPS_210125_positive_cleaned_by_matchms_and_lookups file, and the pickled gnps_positive_ionmode_cleaned_by_matchms_and_lookups file is created here: https://github.com/louwenjjr/improve_library_matching .\n",
    "\n",
    "Steps in this notebook:\n",
    "- Reading spectra\n",
    "- Processing spectra\n",
    "- Extracting mass differences (new)"
   ]
  },
  {
   "cell_type": "code",
   "execution_count": 1,
   "id": "intimate-converter",
   "metadata": {},
   "outputs": [],
   "source": [
    "import os\n",
    "import numpy as np\n",
    "import pandas as pd\n",
    "from matplotlib import pyplot as plt\n",
    "import pickle\n",
    "from math import ceil\n",
    "\n",
    "data_path = \"/mnt/scratch/louwe015/Mass_differences/data/\""
   ]
  },
  {
   "cell_type": "markdown",
   "id": "fitting-twins",
   "metadata": {},
   "source": [
    "## Determine AllPositive version; default is version 2"
   ]
  },
  {
   "cell_type": "code",
   "execution_count": 2,
   "id": "circular-dividend",
   "metadata": {},
   "outputs": [
    {
     "name": "stdout",
     "output_type": "stream",
     "text": [
      "ALL_GNPS_210125_positive_cleaned_by_matchms_and_lookups\n"
     ]
    }
   ],
   "source": [
    "all_pos_version1 = False\n",
    "if all_pos_version1:\n",
    "    all_pos = \"gnps_positive_ionmode_cleaned_by_matchms_and_lookups\"\n",
    "else:\n",
    "    all_pos = \"ALL_GNPS_210125_positive_cleaned_by_matchms_and_lookups\"\n",
    "\n",
    "print(all_pos)"
   ]
  },
  {
   "cell_type": "markdown",
   "id": "pending-granny",
   "metadata": {},
   "source": [
    "## Reading spectra"
   ]
  },
  {
   "cell_type": "code",
   "execution_count": 3,
   "id": "american-charlotte",
   "metadata": {},
   "outputs": [],
   "source": [
    "all_positive_file = os.path.join(data_path, all_pos + \".pickle\")\n",
    "if os.path.exists(all_positive_file):\n",
    "    with open(all_positive_file, 'rb') as inf:\n",
    "        spectrums = pickle.load(inf)  # list of matchms.Spectrum.Spectrum\n",
    "else:\n",
    "    print(\"error\")"
   ]
  },
  {
   "cell_type": "code",
   "execution_count": 4,
   "id": "smart-working",
   "metadata": {},
   "outputs": [
    {
     "name": "stdout",
     "output_type": "stream",
     "text": [
      "number of spectra: 144691\n"
     ]
    }
   ],
   "source": [
    "print(\"number of spectra:\", len(spectrums))"
   ]
  },
  {
   "cell_type": "markdown",
   "id": "coated-programmer",
   "metadata": {},
   "source": [
    "## Processing spectra\n",
    "Here we try some alternative processing steps:\n",
    "\n",
    "- Add only whitelisted MDs already in preprocessing\n",
    "- Mulitply MD intensities instead of taking the mean\n",
    "- Punish intensities, square root?\n",
    "- Allow maximum MDs per peak"
   ]
  },
  {
   "cell_type": "code",
   "execution_count": 8,
   "id": "chief-retail",
   "metadata": {},
   "outputs": [],
   "source": [
    "# load top30 file\n",
    "top30_file = os.path.join(data_path, all_pos + \"_top30_peaks.pickle\")\n",
    "if os.path.exists(top30_file):\n",
    "    with open(top30_file, 'rb') as inf:\n",
    "        spectrums_top30 = pickle.load(inf)  # list of matchms.Spectrum.Spectrum\n",
    "else:\n",
    "    print(\"error\")"
   ]
  },
  {
   "cell_type": "code",
   "execution_count": 7,
   "id": "consolidated-involvement",
   "metadata": {},
   "outputs": [],
   "source": [
    "from matchms.Spikes import Spikes\n",
    "from matchms.typing import SpectrumType\n",
    "\n",
    "def get_mass_differences(spectrum_in: SpectrumType, cutoff: int = 36, n_max: int = 100) -> Spikes:\n",
    "    \"\"\"Returns Spikes with top 100 mass differences and intensities\n",
    "    \n",
    "    Parameters:\n",
    "    spectrum_in:\n",
    "        Spectrum in matchms.Spectrum format\n",
    "    cutoff:\n",
    "        Mass cutoff for mass difference (like Xing et al.)\n",
    "    n_max:\n",
    "        Maximum amount of mass differences to select, ranked on intensity (like Xing et al.)\n",
    "    \"\"\"\n",
    "    if spectrum_in is None:\n",
    "        return None\n",
    "\n",
    "    spectrum = spectrum_in.clone()\n",
    "    peaks_mz, peaks_intensities = spectrum.peaks\n",
    "    mass_diff_mz = []\n",
    "    mass_diff_intensities = []\n",
    "    for i, (mz_i, int_i) in enumerate(zip(peaks_mz[:-1], peaks_intensities[:-1])):\n",
    "        for mz_j, int_j in zip(peaks_mz[i+1:], peaks_intensities[i+1:]):\n",
    "            mz_diff = mz_j-mz_i\n",
    "            if mz_diff > cutoff:\n",
    "                mass_diff_mz.append(mz_diff)\n",
    "                mass_diff_intensities.append(np.mean([int_i, int_j]))\n",
    "    mass_diff_mz = np.array(mass_diff_mz)\n",
    "    mass_diff_intensities = np.array(mass_diff_intensities)\n",
    "    idx = mass_diff_intensities.argsort()[-n_max:]\n",
    "    idx_sort_by_mz = mass_diff_mz[idx].argsort()\n",
    "    mass_diff_peaks = Spikes(mz=mass_diff_mz[idx][idx_sort_by_mz],\n",
    "                             intensities=mass_diff_intensities[idx][idx_sort_by_mz])\n",
    "    return mass_diff_peaks\n"
   ]
  },
  {
   "cell_type": "code",
   "execution_count": null,
   "id": "valued-seeking",
   "metadata": {},
   "outputs": [],
   "source": []
  }
 ],
 "metadata": {
  "kernelspec": {
   "display_name": "Python 3",
   "language": "python",
   "name": "python3"
  },
  "language_info": {
   "codemirror_mode": {
    "name": "ipython",
    "version": 3
   },
   "file_extension": ".py",
   "mimetype": "text/x-python",
   "name": "python",
   "nbconvert_exporter": "python",
   "pygments_lexer": "ipython3",
   "version": "3.7.9"
  }
 },
 "nbformat": 4,
 "nbformat_minor": 5
}
