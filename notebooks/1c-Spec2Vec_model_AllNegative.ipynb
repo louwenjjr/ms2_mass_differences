{
 "cells": [
  {
   "cell_type": "markdown",
   "id": "political-present",
   "metadata": {},
   "source": [
    "# Summary\n",
    "Train a Spec2Vec model on AllNegative data; all negative mode spectra gathered from GNPS 09-04-2021."
   ]
  },
  {
   "cell_type": "code",
   "execution_count": 1,
   "id": "republican-masters",
   "metadata": {},
   "outputs": [],
   "source": [
    "import os\n",
    "import pickle\n",
    "\n",
    "data_path = \"/mnt/scratch/louwe015/AllPositive2/\""
   ]
  },
  {
   "cell_type": "code",
   "execution_count": 4,
   "id": "chubby-legislation",
   "metadata": {},
   "outputs": [
    {
     "data": {
      "text/plain": [
       "True"
      ]
     },
     "execution_count": 4,
     "metadata": {},
     "output_type": "execute_result"
    }
   ],
   "source": [
    "all_neg_name = \"ALL_GNPS_210409_negative_cleaned.pickle\"\n",
    "all_neg = os.path.join(data_path, all_neg_name)\n",
    "os.path.exists(all_neg)"
   ]
  },
  {
   "cell_type": "code",
   "execution_count": 5,
   "id": "technological-valley",
   "metadata": {},
   "outputs": [],
   "source": [
    "with open(all_neg, 'rb') as inf:\n",
    "    spectrums = pickle.load(inf)"
   ]
  },
  {
   "cell_type": "code",
   "execution_count": 10,
   "id": "golden-implementation",
   "metadata": {},
   "outputs": [
    {
     "name": "stdout",
     "output_type": "stream",
     "text": [
      "AllNegative spectra: 65583\n"
     ]
    }
   ],
   "source": [
    "print(\"AllNegative spectra:\", len(spectrums))"
   ]
  },
  {
   "cell_type": "markdown",
   "id": "hidden-scheme",
   "metadata": {},
   "source": [
    "## Processing of spectra\n",
    "- normalize peaks (maximum intensity to 1)\n",
    "- remove peaks outside [0, 1000] m/z window\n",
    "- remove spectra with < 10 peaks\n",
    "- reduce number of peaks to maximum of 0.5 * parent mass\n",
    "- remove peaks with intensities < 0.001 of maximum intensity (unless this brings number of peaks to less than 10)"
   ]
  },
  {
   "cell_type": "code",
   "execution_count": 8,
   "id": "cosmetic-relaxation",
   "metadata": {},
   "outputs": [],
   "source": [
    "from typing import Union\n",
    "from matchms.filtering import normalize_intensities\n",
    "from matchms.filtering import select_by_mz\n",
    "from matchms.filtering import require_minimum_number_of_peaks\n",
    "from matchms.filtering import select_by_relative_intensity\n",
    "from matchms.filtering import reduce_to_number_of_peaks\n",
    "from matchms.filtering import add_losses\n",
    "from matchms.typing import SpectrumType\n",
    "\n",
    "def post_process(spectrum_in: SpectrumType, min_peaks: int = 10) \\\n",
    "        -> Union[SpectrumType, None]:\n",
    "    \"\"\"Normal processing of spectra for Spec2Vec\n",
    "\n",
    "    Parameters\n",
    "    ----------\n",
    "    spectrum_in:\n",
    "        Input spectrum.\n",
    "    min_peaks:\n",
    "        Minimum number of peaks to pass the spectrum (otherwise -> None)\n",
    "    \"\"\"\n",
    "    if spectrum_in is None:\n",
    "        return None\n",
    "\n",
    "    s = spectrum_in.clone()\n",
    "    s = normalize_intensities(s)\n",
    "    s = select_by_mz(s, mz_from=0, mz_to=1000)\n",
    "    s = require_minimum_number_of_peaks(s, n_required=min_peaks)\n",
    "    s = reduce_to_number_of_peaks(s, n_required=min_peaks, ratio_desired=0.5)\n",
    "    if s is None:\n",
    "        return None\n",
    "    # remove low peaks unless less than 10 peaks are left\n",
    "    s_remove_low_peaks = select_by_relative_intensity(s, intensity_from=0.001)\n",
    "    if len(s_remove_low_peaks.peaks) >= 10:\n",
    "        s = s_remove_low_peaks\n",
    "    # add losses to normally processed spectra\n",
    "    s = add_losses(s, loss_mz_from=5.0, loss_mz_to=200.0)\n",
    "    return s"
   ]
  },
  {
   "cell_type": "code",
   "execution_count": 9,
   "id": "dedicated-homework",
   "metadata": {},
   "outputs": [
    {
     "name": "stdout",
     "output_type": "stream",
     "text": [
      "Remaining processed spectra: 45709\n"
     ]
    }
   ],
   "source": [
    "processed_spectrums = []\n",
    "for spec in spectrums:\n",
    "    proc_spec = post_process(spec)\n",
    "    if proc_spec:\n",
    "        processed_spectrums.append(proc_spec)\n",
    "print(\"Remaining processed spectra:\", len(processed_spectrums))"
   ]
  },
  {
   "cell_type": "markdown",
   "id": "casual-satin",
   "metadata": {},
   "source": [
    "## Prepare spectra for model training"
   ]
  },
  {
   "cell_type": "code",
   "execution_count": 15,
   "id": "african-compiler",
   "metadata": {},
   "outputs": [],
   "source": [
    "from spec2vec import SpectrumDocument\n",
    "documents_processed = [SpectrumDocument(s, n_decimals=2) for i, s in enumerate(processed_spectrums)]"
   ]
  },
  {
   "cell_type": "markdown",
   "id": "enhanced-merchandise",
   "metadata": {},
   "source": [
    "## Train new Spec2Vec model"
   ]
  },
  {
   "cell_type": "code",
   "execution_count": 16,
   "id": "royal-artist",
   "metadata": {},
   "outputs": [
    {
     "name": "stdout",
     "output_type": "stream",
     "text": [
      "  Epoch 1 of 20.Change in loss after epoch 1: 2005503.0\n",
      "Saving model with name: /mnt/scratch/louwe015/AllPositive2/ALL_GNPS_210409_negative_cleaned_spec2vec_iter_1.model\n",
      "  Epoch 2 of 20.Change in loss after epoch 2: 1639341.25\n",
      "  Epoch 3 of 20.Change in loss after epoch 3: 1238081.25\n",
      "Saving model with name: /mnt/scratch/louwe015/AllPositive2/ALL_GNPS_210409_negative_cleaned_spec2vec_iter_3.model\n",
      "  Epoch 4 of 20.Change in loss after epoch 4: 1091349.5\n",
      "  Epoch 5 of 20.Change in loss after epoch 5: 1090830.5\n",
      "Saving model with name: /mnt/scratch/louwe015/AllPositive2/ALL_GNPS_210409_negative_cleaned_spec2vec_iter_5.model\n",
      "  Epoch 6 of 20.Change in loss after epoch 6: 1101830.0\n",
      "  Epoch 7 of 20.Change in loss after epoch 7: 941625.5\n",
      "  Epoch 8 of 20.Change in loss after epoch 8: 856778.0\n",
      "  Epoch 9 of 20.Change in loss after epoch 9: 838428.0\n",
      "  Epoch 10 of 20.Change in loss after epoch 10: 752245.0\n",
      "Saving model with name: /mnt/scratch/louwe015/AllPositive2/ALL_GNPS_210409_negative_cleaned_spec2vec_iter_10.model\n",
      "  Epoch 11 of 20.Change in loss after epoch 11: 784492.0\n",
      "  Epoch 12 of 20.Change in loss after epoch 12: 734636.0\n",
      "  Epoch 13 of 20.Change in loss after epoch 13: 723526.0\n",
      "  Epoch 14 of 20.Change in loss after epoch 14: 686895.0\n",
      "  Epoch 15 of 20.Change in loss after epoch 15: 650638.0\n",
      "Saving model with name: /mnt/scratch/louwe015/AllPositive2/ALL_GNPS_210409_negative_cleaned_spec2vec_iter_15.model\n",
      "  Epoch 16 of 20.Change in loss after epoch 16: 612892.0\n",
      "  Epoch 17 of 20.Change in loss after epoch 17: 619218.0\n",
      "  Epoch 18 of 20.Change in loss after epoch 18: 528769.0\n",
      "  Epoch 19 of 20.Change in loss after epoch 19: 402544.0\n",
      "  Epoch 20 of 20.Change in loss after epoch 20: 370556.0\n",
      "Saving model with name: /mnt/scratch/louwe015/AllPositive2/ALL_GNPS_210409_negative_cleaned_spec2vec.model\n"
     ]
    }
   ],
   "source": [
    "import gensim\n",
    "from spec2vec.model_building import train_new_word2vec_model\n",
    "model_file = os.path.join(data_path, \"ALL_GNPS_210409_negative_cleaned_spec2vec.model\")\n",
    "\n",
    "iterations = [1, 3, 5, 10, 15, 20]\n",
    "model = train_new_word2vec_model(documents_processed,\n",
    "                                 iterations, model_file)"
   ]
  }
 ],
 "metadata": {
  "kernelspec": {
   "display_name": "Python 3",
   "language": "python",
   "name": "python3"
  },
  "language_info": {
   "codemirror_mode": {
    "name": "ipython",
    "version": 3
   },
   "file_extension": ".py",
   "mimetype": "text/x-python",
   "name": "python",
   "nbconvert_exporter": "python",
   "pygments_lexer": "ipython3",
   "version": "3.7.9"
  }
 },
 "nbformat": 4,
 "nbformat_minor": 5
}
