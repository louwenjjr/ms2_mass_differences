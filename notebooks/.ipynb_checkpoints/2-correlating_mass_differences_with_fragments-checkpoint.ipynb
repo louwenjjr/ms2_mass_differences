{
 "cells": [
  {
   "cell_type": "markdown",
   "id": "front-address",
   "metadata": {},
   "source": [
    "# Summary\n",
    "This notebook is used to transform mass difference (MD) 'documents' created in notebook 1 and normally processed SpectrumDocuments from the AllPositive dataset into lists of spectrum presence/absence per MD/fragment so Jaccard index can be used to assess correlation between MDs and fragments. Instead of binary presence/absence we will try also a weighted Jaccard using: in-spectrum counts, highest intensity, and transformed intensities.\n",
    "\n",
    "Each MD/fragment will be represented by two lists: the spectra it occurs in and the intensities/counts in the spectra (linked lists). A MD/fragment will be a tuple of (MD/fragment, [spectrum_A,], [intensity_spectrum_A,]). From this we can calculate Jaccard similarities and put these in a matrix:\n",
    "\n",
    "```\n",
    "    fragment0 →\n",
    "MD0 Jaccard0,0\n",
    "↓\n",
    "```"
   ]
  },
  {
   "cell_type": "code",
   "execution_count": 2,
   "id": "coral-marker",
   "metadata": {},
   "outputs": [],
   "source": [
    "import os\n",
    "import numpy as np\n",
    "import pandas as pd\n",
    "from matplotlib import pyplot as plt\n",
    "import pickle\n",
    "\n",
    "data_path = \"/mnt/scratch/louwe015/Mass_differences/data/\""
   ]
  },
  {
   "cell_type": "markdown",
   "id": "rolled-society",
   "metadata": {},
   "source": [
    "## Determine AllPositive version; default is version 2"
   ]
  },
  {
   "cell_type": "code",
   "execution_count": 1,
   "id": "acute-cricket",
   "metadata": {},
   "outputs": [],
   "source": [
    "all_pos_version1 = True\n",
    "if all_pos_version1:\n",
    "    all_pos = \"gnps_positive_ionmode_cleaned_by_matchms_and_lookups\"\n",
    "else:\n",
    "    all_pos = None #add path for v2"
   ]
  },
  {
   "cell_type": "markdown",
   "id": "prescription-domestic",
   "metadata": {},
   "source": [
    "## Load SpectrumDocuments\n"
   ]
  },
  {
   "cell_type": "code",
   "execution_count": 3,
   "id": "nuclear-theorem",
   "metadata": {},
   "outputs": [],
   "source": [
    "# load processed SpectrumDocuments file\n",
    "documents_file = os.path.join(data_path, all_pos + \"_processed_documents.pickle\")\n",
    "if os.path.exists(documents_file):\n",
    "    with open(documents_file, 'rb') as inf:\n",
    "        documents_spectrums_processed = pickle.load(inf)  # list of SpectrumDocuments\n",
    "else:\n",
    "    print(\"error\")"
   ]
  },
  {
   "cell_type": "code",
   "execution_count": 7,
   "id": "incident-architect",
   "metadata": {},
   "outputs": [
    {
     "name": "stdout",
     "output_type": "stream",
     "text": [
      "95279\n"
     ]
    }
   ],
   "source": [
    "print(len(documents_spectrums_processed))"
   ]
  },
  {
   "cell_type": "code",
   "execution_count": 5,
   "id": "north-carnival",
   "metadata": {},
   "outputs": [
    {
     "data": {
      "text/plain": [
       "(['peak@289.29',\n",
       "  'peak@295.55',\n",
       "  'peak@298.49',\n",
       "  'peak@317.32',\n",
       "  'peak@319.66',\n",
       "  'peak@324.48',\n",
       "  'peak@325.32',\n",
       "  'peak@339.79',\n",
       "  'peak@343.95',\n",
       "  'peak@347.02'],\n",
       " [0.010552985325490535,\n",
       "  0.029439271284186348,\n",
       "  0.005133920104431129,\n",
       "  0.02451463199929891,\n",
       "  0.011254076070961894,\n",
       "  0.010517669187192538,\n",
       "  0.012737353879477793,\n",
       "  0.021117742697080402,\n",
       "  0.023667044680146968,\n",
       "  0.018287219612752002])"
      ]
     },
     "execution_count": 5,
     "metadata": {},
     "output_type": "execute_result"
    }
   ],
   "source": [
    "documents_spectrums_processed[0].words[:10], documents_spectrums_processed[0].weights[:10]"
   ]
  },
  {
   "cell_type": "markdown",
   "id": "assumed-frost",
   "metadata": {},
   "source": [
    "## Get spectrum occurrence per fragment/neutral loss"
   ]
  },
  {
   "cell_type": "code",
   "execution_count": 8,
   "id": "verified-louisville",
   "metadata": {},
   "outputs": [],
   "source": [
    "# get per_fragment spectrum occurrence\n",
    "per_fragment_spec_occ_dict = {}  # dict of {frag: [[spectra_names], [intensities]]}\n",
    "for i, doc in enumerate(documents_spectrums_processed):\n",
    "    spec_name = str(i)\n",
    "    for word, intensity in zip(doc.words, doc.weights):\n",
    "        if word in per_fragment_spec_occ_dict:\n",
    "            per_fragment_spec_occ_dict[word][0].append(spec_name)\n",
    "            per_fragment_spec_occ_dict[word][1].append(intensity)\n",
    "        else:\n",
    "            per_fragment_spec_occ_dict[word] = []\n",
    "            per_fragment_spec_occ_dict[word].append([spec_name])\n",
    "            per_fragment_spec_occ_dict[word].append([intensity])"
   ]
  },
  {
   "cell_type": "code",
   "execution_count": 9,
   "id": "cutting-quantity",
   "metadata": {},
   "outputs": [
    {
     "name": "stdout",
     "output_type": "stream",
     "text": [
      "Number of fragments (and neutral losses): 115910\n"
     ]
    }
   ],
   "source": [
    "print(\"Number of fragments (and neutral losses):\", len(per_fragment_spec_occ_dict.keys()))"
   ]
  },
  {
   "cell_type": "code",
   "execution_count": 10,
   "id": "excess-england",
   "metadata": {},
   "outputs": [],
   "source": [
    "# get the occurrence per fragment\n",
    "fragment_occurrences = [len(vals[0]) for vals in per_fragment_spec_occ_dict.values()]"
   ]
  },
  {
   "cell_type": "code",
   "execution_count": 11,
   "id": "atomic-illness",
   "metadata": {},
   "outputs": [
    {
     "name": "stdout",
     "output_type": "stream",
     "text": [
      "Ten highest fragment occurences: [20545, 21623, 21883, 23201, 24241, 25787, 26138, 26806, 27451, 27710]\n"
     ]
    },
    {
     "data": {
      "image/png": "[encoded data removed]",
      "text/plain": [
       "<Figure size 432x288 with 1 Axes>"
      ]
     },
     "metadata": {
      "needs_background": "light"
     },
     "output_type": "display_data"
    },
    {
     "name": "stdout",
     "output_type": "stream",
     "text": [
      "111580 fragments and neutral losses left after filtering for occurrence between 0 and 500\n"
     ]
    },
    {
     "data": {
      "image/png": "[encoded data removed]",
      "text/plain": [
       "<Figure size 432x288 with 1 Axes>"
      ]
     },
     "metadata": {
      "needs_background": "light"
     },
     "output_type": "display_data"
    }
   ],
   "source": [
    "sorted_fragment_occurrences = sorted(fragment_occurrences)\n",
    "print(\"Ten highest fragment occurences:\", sorted_fragment_occurrences[-10:])\n",
    "plt.subplots(0)\n",
    "plt.hist(fragment_occurrences, bins = 500)\n",
    "plt.show()\n",
    "\n",
    "cut_max = 500\n",
    "cut_min = 0\n",
    "filtered_fragment_occurrences = [occ for occ in fragment_occurrences if occ >= cut_min and occ < cut_max]\n",
    "print(f\"{len(filtered_fragment_occurrences)} fragments and neutral losses left after filtering for occurrence between {cut_min} and {cut_max}\")\n",
    "plt.subplots(1)\n",
    "plt.hist(filtered_fragment_occurrences, bins = cut_max - cut_min)\n",
    "plt.show()"
   ]
  },
  {
   "cell_type": "code",
   "execution_count": 15,
   "id": "distinct-exposure",
   "metadata": {},
   "outputs": [
    {
     "data": {
      "text/plain": [
       "2350"
      ]
     },
     "execution_count": 15,
     "metadata": {},
     "output_type": "execute_result"
    }
   ],
   "source": [
    "len(per_fragment_spec_occ_dict[\"peak@163.06\"][0])  # hexose?"
   ]
  },
  {
   "cell_type": "code",
   "execution_count": 17,
   "id": "immediate-saskatchewan",
   "metadata": {},
   "outputs": [
    {
     "name": "stdout",
     "output_type": "stream",
     "text": [
      "Filtering out fragments above 95279 occurrence.\n",
      "115910 fragments + neutral losses left after filtering\n"
     ]
    }
   ],
   "source": [
    "# there are only a few thousands of fragments that are removed if filtering for max occ of 500, so leave that for now\n",
    "\n",
    "cut_max = len(documents_spectrums_processed)\n",
    "print(f\"Filtering out fragments above {cut_max} occurrence.\")\n",
    "per_fragment_spec_occ_dict_filtered = {key:val for key, val in per_fragment_spec_occ_dict.items() if len(val[0]) < cut_max}\n",
    "print(f\"{len(per_fragment_spec_occ_dict_filtered)} fragments + neutral losses left after filtering\")"
   ]
  },
  {
   "cell_type": "markdown",
   "id": "excellent-basics",
   "metadata": {},
   "source": [
    "## Get spectrum occurrence per MD"
   ]
  },
  {
   "cell_type": "code",
   "execution_count": 18,
   "id": "opposite-plasma",
   "metadata": {},
   "outputs": [
    {
     "name": "stdout",
     "output_type": "stream",
     "text": [
      "95279\n"
     ]
    }
   ],
   "source": [
    "# load md documents\n",
    "md_documents_filtered_file = os.path.join(data_path, all_pos + \"_mass_difference_documents_filtered.pickle\")\n",
    "if os.path.exists(md_documents_filtered_file):\n",
    "    with open(md_documents_filtered_file, 'rb') as inf:\n",
    "        md_documents_filtered = pickle.load(inf)  # list of list of tuples 'documents'\n",
    "    print(len(md_documents_filtered))\n",
    "else:\n",
    "    print(\"error\")"
   ]
  },
  {
   "cell_type": "code",
   "execution_count": 19,
   "id": "handed-hampton",
   "metadata": {},
   "outputs": [],
   "source": [
    "per_md_spec_occ_dict = {}  # dict of {frag: [[spectra_names], [[intensities]]]}\n",
    "for i, doc in enumerate(md_documents_filtered):\n",
    "    spec_name = str(i)\n",
    "    for tup in doc:\n",
    "        word = tup[0]\n",
    "        intensity = tup[1]\n",
    "        if word in per_md_spec_occ_dict:\n",
    "            per_md_spec_occ_dict[word][0].append(spec_name)\n",
    "            per_md_spec_occ_dict[word][1].append(intensity)\n",
    "        else:\n",
    "            per_md_spec_occ_dict[word] = []\n",
    "            per_md_spec_occ_dict[word].append([spec_name])\n",
    "            per_md_spec_occ_dict[word].append([intensity])"
   ]
  },
  {
   "cell_type": "code",
   "execution_count": 21,
   "id": "thirty-hungary",
   "metadata": {},
   "outputs": [
    {
     "data": {
      "text/plain": [
       "3283"
      ]
     },
     "execution_count": 21,
     "metadata": {},
     "output_type": "execute_result"
    }
   ],
   "source": [
    "len(per_md_spec_occ_dict.get('162.05')[0])  # hexose"
   ]
  },
  {
   "cell_type": "code",
   "execution_count": 22,
   "id": "appropriate-opera",
   "metadata": {},
   "outputs": [
    {
     "data": {
      "text/plain": [
       "26111"
      ]
     },
     "execution_count": 22,
     "metadata": {},
     "output_type": "execute_result"
    }
   ],
   "source": [
    "# i know from notebook 1 that this is the highest occurring MD, should be 26111 for allpos1\n",
    "len(per_md_spec_occ_dict.get('42.01')[0])"
   ]
  },
  {
   "cell_type": "markdown",
   "id": "hybrid-content",
   "metadata": {},
   "source": [
    "## Turning spectra occurrence dicts into lists\n",
    "Lists of [(md/fragment, [spectra_names], [intensities])]"
   ]
  },
  {
   "cell_type": "code",
   "execution_count": 25,
   "id": "indoor-netherlands",
   "metadata": {},
   "outputs": [
    {
     "data": {
      "text/plain": [
       "('912.67',\n",
       " ['81124', '81125', '81984', '81985', '85260', '85261', '88764', '88765'],\n",
       " [[0.38525427999999995],\n",
       "  [0.32867342],\n",
       "  [0.53449456],\n",
       "  [0.36059795],\n",
       "  [0.052871440000000006],\n",
       "  [0.07313484499999999],\n",
       "  [0.105346225],\n",
       "  [0.14332695]])"
      ]
     },
     "execution_count": 25,
     "metadata": {},
     "output_type": "execute_result"
    }
   ],
   "source": [
    "# mass differences\n",
    "per_md_spec_occ = [(key, val[0], val[1]) for key, val in per_md_spec_occ_dict.items()]\n",
    "per_md_spec_occ.sort(key=lambda x: float(x[0]))\n",
    "per_md_spec_occ[-1]"
   ]
  },
  {
   "cell_type": "code",
   "execution_count": 26,
   "id": "alternate-spokesman",
   "metadata": {},
   "outputs": [
    {
     "data": {
      "text/plain": [
       "('peak@1000.00',\n",
       " ['700', '1057', '1099', '64862'],\n",
       " [0.01429215889741276, 0.8959261189460379, 0.8959261189460379, 0.004])"
      ]
     },
     "execution_count": 26,
     "metadata": {},
     "output_type": "execute_result"
    }
   ],
   "source": [
    "per_fragment_spec_occ = [(key, val[0], val[1]) for key, val in per_fragment_spec_occ_dict_filtered.items()]\n",
    "per_fragment_spec_occ.sort(key=lambda x: float(x[0].split(\"@\")[-1]))\n",
    "per_fragment_spec_occ[-1]"
   ]
  },
  {
   "cell_type": "markdown",
   "id": "going-proof",
   "metadata": {},
   "source": [
    "## Prospecting of how to calculate the jaccard similarity for all the pairs"
   ]
  },
  {
   "cell_type": "code",
   "execution_count": 27,
   "id": "regional-subject",
   "metadata": {},
   "outputs": [
    {
     "data": {
      "text/plain": [
       "7044314340"
      ]
     },
     "execution_count": 27,
     "metadata": {},
     "output_type": "execute_result"
    }
   ],
   "source": [
    "# number of operations\n",
    "len(per_fragment_spec_occ) * len(per_md_spec_occ)"
   ]
  },
  {
   "cell_type": "code",
   "execution_count": 28,
   "id": "numerical-durham",
   "metadata": {},
   "outputs": [
    {
     "data": {
      "text/plain": [
       "5859160566"
      ]
     },
     "execution_count": 28,
     "metadata": {},
     "output_type": "execute_result"
    }
   ],
   "source": [
    "# number of operations without losses\n",
    "len([0 for tup in per_fragment_spec_occ if not 'loss' in tup[0]])* len(per_md_spec_occ)"
   ]
  },
  {
   "cell_type": "code",
   "execution_count": 30,
   "id": "inner-raleigh",
   "metadata": {},
   "outputs": [],
   "source": [
    "# do some multiprocessing approach per row of operations? and represent as sparse matrices? -> most values will be 0"
   ]
  },
  {
   "cell_type": "code",
   "execution_count": 29,
   "id": "seeing-resort",
   "metadata": {},
   "outputs": [],
   "source": [
    "from typing import List\n",
    "def jaccard_list_occurrences(list_1: List[str], list_2: List[str]) -> float:\n",
    "    \"\"\"Return jaccard similarity (intersection/union) of the input lists\n",
    "    \n",
    "    Parameters\n",
    "    ------------\n",
    "    list_1:\n",
    "        List of words (str)\n",
    "    list_2:\n",
    "        List of words (str)\n",
    "    \"\"\"\n",
    "    set_1 = set(list_1)\n",
    "    set_2 = set(list_2)\n",
    "    jac_sim = len(set_1 & set_2) / len(set_1 | set_2)\n",
    "    return jac_sim"
   ]
  },
  {
   "cell_type": "code",
   "execution_count": 43,
   "id": "specified-nicaragua",
   "metadata": {},
   "outputs": [
    {
     "name": "stdout",
     "output_type": "stream",
     "text": [
      "162.05\n"
     ]
    },
    {
     "data": {
      "text/plain": [
       "([(28348, 0.19988759835144249),\n",
       "  (32946, 0.17464063505685476),\n",
       "  (24947, 0.17156286721504113),\n",
       "  (21345, 0.15017394665635872),\n",
       "  (28148, 0.14971994829814736)],\n",
       " ['loss@162.05', 'peak@185.04', 'peak@145.05', 'peak@127.04', 'loss@161.05'])"
      ]
     },
     "execution_count": 43,
     "metadata": {},
     "output_type": "execute_result"
    }
   ],
   "source": [
    "x=12605 # 162.05 hexose\n",
    "print(per_md_spec_occ[x][0])\n",
    "\n",
    "results = []\n",
    "for i, frag_info in enumerate(per_fragment_spec_occ):\n",
    "    jac_sim = jaccard_list_occurrences(per_md_spec_occ[x][1], per_fragment_spec_occ[i][1])\n",
    "    results.append((i, jac_sim))\n",
    "\n",
    "results.sort(key=lambda x: x[1], reverse=True)\n",
    "results[:5], [per_fragment_spec_occ[res[0]][0] for res in results[:5]]"
   ]
  },
  {
   "cell_type": "code",
   "execution_count": 44,
   "id": "floating-anime",
   "metadata": {},
   "outputs": [
    {
     "name": "stdout",
     "output_type": "stream",
     "text": [
      "Time (s) elapsed: 36.76533389091492\n"
     ]
    }
   ],
   "source": [
    "# how long does one row take?\n",
    "import time\n",
    "\n",
    "start = time.time()\n",
    "results = []\n",
    "for i, frag_info in enumerate(per_fragment_spec_occ):\n",
    "    jac_sim = jaccard_list_occurrences(per_md_spec_occ[x][1], per_fragment_spec_occ[i][1])\n",
    "    results.append((i, jac_sim))\n",
    "end = time.time()\n",
    "print(\"Time (s) elapsed:\", end-start)"
   ]
  },
  {
   "cell_type": "code",
   "execution_count": 53,
   "id": "sticky-terminology",
   "metadata": {},
   "outputs": [
    {
     "name": "stdout",
     "output_type": "stream",
     "text": [
      "Projected time (h) for total dataset: 620.6601116351286 With 24 cores: 25.860837984797026\n"
     ]
    }
   ],
   "source": [
    "# projected time of all comparisons -> with multiple cores this is perfectly fine\n",
    "tot_time = (end-start)*len(per_md_spec_occ)/3600\n",
    "print('Projected time (h) for total dataset:', tot_time, \"With 24 cores:\", tot_time/24)"
   ]
  },
  {
   "cell_type": "markdown",
   "id": "short-omega",
   "metadata": {},
   "source": [
    "## Make some multiprocessing function that takes one row of computation per worker"
   ]
  },
  {
   "cell_type": "code",
   "execution_count": 48,
   "id": "preliminary-startup",
   "metadata": {},
   "outputs": [],
   "source": [
    "from multiprocessing import Pool\n",
    "from typing import List\n",
    "\n",
    "def calculate_row_jaccard(md_occ_list: List[str], all_fragment_occ_list: List[List[str]]) -> List[float]:\n",
    "    \"\"\"For one mass difference, calc Jaccard similarity to all fragments/neutral losses\n",
    "    \n",
    "    Parameters\n",
    "    -----------\n",
    "    md_occ_list:\n",
    "        List of spectra names in which a MD occurs\n",
    "    all_fragment_occ_list:\n",
    "        List of list of spectra names of spectra occurrences for all fragments/neutral losses\n",
    "    \"\"\"\n",
    "    jaccard_sims = []\n",
    "    for frag_occ_list in all_fragment_occ_list:\n",
    "        jaccard_sims.append(jaccard_list_occurrences(md_occ_list, frag_occ_list))\n",
    "    return jaccard_sims"
   ]
  },
  {
   "cell_type": "code",
   "execution_count": 49,
   "id": "difficult-asbestos",
   "metadata": {},
   "outputs": [
    {
     "data": {
      "text/plain": [
       "(115910, 84403)"
      ]
     },
     "execution_count": 49,
     "metadata": {},
     "output_type": "execute_result"
    }
   ],
   "source": [
    "x = 12605\n",
    "test_md_occ_list = per_md_spec_occ[x][1]\n",
    "test_all_fragment_occ_list = [tup[1] for tup in per_fragment_spec_occ]\n",
    "jacc_x = calculate_row_jaccard(test_md_occ_list, test_all_fragment_occ_list)\n",
    "len(jacc_x), len([jx for jx in jacc_x if jx != 0])"
   ]
  },
  {
   "cell_type": "code",
   "execution_count": 50,
   "id": "colored-convert",
   "metadata": {},
   "outputs": [],
   "source": [
    "test_len = 100\n",
    "test_mp_md_occ_list = [per_md_spec_occ[y][1] for y in range(test_len)]"
   ]
  },
  {
   "cell_type": "code",
   "execution_count": 51,
   "id": "assigned-intensity",
   "metadata": {},
   "outputs": [],
   "source": [
    "from functools import partial\n",
    "with Pool(processes=4) as pool:\n",
    "    jaccard_similarities_test_100 = pool.map(partial(\\\n",
    "                                                     calculate_row_jaccard,\n",
    "                                                     all_fragment_occ_list = test_all_fragment_occ_list),\n",
    "                                             test_mp_md_occ_list)\n",
    "# move to a script so it can be run in background"
   ]
  },
  {
   "cell_type": "code",
   "execution_count": 52,
   "id": "incorporated-dylan",
   "metadata": {},
   "outputs": [
    {
     "data": {
      "text/plain": [
       "100"
      ]
     },
     "execution_count": 52,
     "metadata": {},
     "output_type": "execute_result"
    }
   ],
   "source": [
    "len(jaccard_similarities_test_100)"
   ]
  },
  {
   "cell_type": "markdown",
   "id": "utility-emperor",
   "metadata": {},
   "source": [
    "## Save files"
   ]
  },
  {
   "cell_type": "code",
   "execution_count": 54,
   "id": "leading-wholesale",
   "metadata": {},
   "outputs": [],
   "source": [
    "md_occ_list_file = os.path.join(data_path, all_pos + \"_mass_difference_occurrence.pickle\")\n",
    "with open(md_occ_list_file, 'wb') as outf:\n",
    "    pickle.dump(per_md_spec_occ, outf)"
   ]
  },
  {
   "cell_type": "code",
   "execution_count": 55,
   "id": "pointed-vision",
   "metadata": {},
   "outputs": [],
   "source": [
    "frag_occ_list_file = os.path.join(data_path, all_pos + \"_fragments_occurrences.pickle\")\n",
    "with open(frag_occ_list_file, 'wb') as outf:\n",
    "    pickle.dump(per_fragment_spec_occ, outf)"
   ]
  }
 ],
 "metadata": {
  "kernelspec": {
   "display_name": "Python 3",
   "language": "python",
   "name": "python3"
  },
  "language_info": {
   "codemirror_mode": {
    "name": "ipython",
    "version": 3
   },
   "file_extension": ".py",
   "mimetype": "text/x-python",
   "name": "python",
   "nbconvert_exporter": "python",
   "pygments_lexer": "ipython3",
   "version": "3.7.9"
  }
 },
 "nbformat": 4,
 "nbformat_minor": 5
}
