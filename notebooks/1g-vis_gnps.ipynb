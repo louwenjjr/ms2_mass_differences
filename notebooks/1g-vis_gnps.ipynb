{
 "cells": [
  {
   "cell_type": "markdown",
   "id": "3c8d1a37",
   "metadata": {},
   "source": [
    "# Summary\n",
    "In this notebook we extract info about parent masses from the GNPS library (downloaded locally), and from a dataset from Cruesemann et al. (2017) (downloaded locally).\n",
    "\n",
    "Layout:\n",
    "- Reading in GNPS data\n",
    "- Sketching ideas\n",
    "- Loading and cleaning the Cruesemann data\n",
    "- Finalising the figure about parent mass distributions"
   ]
  },
  {
   "cell_type": "code",
   "execution_count": 235,
   "id": "d8e95ddb",
   "metadata": {},
   "outputs": [],
   "source": [
    "import os\n",
    "import gensim\n",
    "import pickle\n",
    "import time\n",
    "import sys\n",
    "import numpy as np\n",
    "import pandas as pd\n",
    "from matplotlib import pyplot as plt\n",
    "from spec2vec.vector_operations import calc_vector\n",
    "from collections import OrderedDict, Counter\n",
    "import seaborn as sns\n",
    "from tqdm.notebook import tqdm\n",
    "\n",
    "plt.rcParams['svg.fonttype'] = 'none'  # default is 'path' which converts text to path, 'none' keeps text as text\n",
    "# note: this might cause some interpreters of svgs to not be able to load them though"
   ]
  },
  {
   "cell_type": "markdown",
   "id": "8e892006",
   "metadata": {},
   "source": [
    "## Reading in GNPS data\n",
    "GNPS data accessed 15-12-2021 and cleaned with matchms, see https://github.com/iomega/ms2query/tree/main/notebooks/Analysis_with_dataset_GNPS_15_12_2021/data_processing_and_training_models."
   ]
  },
  {
   "cell_type": "code",
   "execution_count": 236,
   "id": "6f347267",
   "metadata": {},
   "outputs": [
    {
     "data": {
      "text/plain": [
       "[True, True]"
      ]
     },
     "execution_count": 236,
     "metadata": {},
     "output_type": "execute_result"
    }
   ],
   "source": [
    "data_path = \"/mnt/LTR_userdata/hooft001/mass_spectral_embeddings/datasets/GNPS_15_12_21/\"\n",
    "\n",
    "base = \"ALL_GNPS_15_12_2021\"\n",
    "spectrum_file = os.path.join(data_path, base+\"_positive_annotated.pickle\")\n",
    "spectrum_file_unan = os.path.join(data_path, base+\"_positive_not_annotated.pickle\")\n",
    "[os.path.exists(s_file) for s_file in (spectrum_file, spectrum_file_unan)]"
   ]
  },
  {
   "cell_type": "code",
   "execution_count": 237,
   "id": "0321f0a5",
   "metadata": {},
   "outputs": [
    {
     "name": "stdout",
     "output_type": "stream",
     "text": [
      "314318\n"
     ]
    }
   ],
   "source": [
    "spectrums = pickle.load(open(spectrum_file, 'rb'))\n",
    "print(len(spectrums))"
   ]
  },
  {
   "cell_type": "code",
   "execution_count": 238,
   "id": "687f9c57",
   "metadata": {},
   "outputs": [
    {
     "name": "stdout",
     "output_type": "stream",
     "text": [
      "13908\n"
     ]
    }
   ],
   "source": [
    "spectrums_unan = pickle.load(open(spectrum_file_unan, 'rb'))\n",
    "print(len(spectrums_unan))"
   ]
  },
  {
   "cell_type": "code",
   "execution_count": 240,
   "id": "4b176142",
   "metadata": {},
   "outputs": [
    {
     "name": "stdout",
     "output_type": "stream",
     "text": [
      "314318\n",
      "Spectra with parent_mass: 314318\n"
     ]
    }
   ],
   "source": [
    "masses = [s.metadata.get('parent_mass') for s in spectrums]\n",
    "print(len(masses))\n",
    "masses = [s for s in masses if s]  # remove specs without annotated parent_mass?\n",
    "print('Spectra with parent_mass:', len(masses))"
   ]
  },
  {
   "cell_type": "code",
   "execution_count": 241,
   "id": "eb69c6ef",
   "metadata": {},
   "outputs": [
    {
     "name": "stdout",
     "output_type": "stream",
     "text": [
      "13908\n",
      "Spectra (unannotated) with parent_mass: 13908\n"
     ]
    }
   ],
   "source": [
    "masses_unan = [s.metadata.get('parent_mass') for s in spectrums_unan]\n",
    "print(len(masses_unan))\n",
    "masses_unan = [s for s in masses_unan if s]  # remove specs without annotated parent_mass?\n",
    "print('Spectra (unannotated) with parent_mass:', len(masses_unan))"
   ]
  },
  {
   "cell_type": "code",
   "execution_count": 242,
   "id": "29326408",
   "metadata": {},
   "outputs": [
    {
     "name": "stdout",
     "output_type": "stream",
     "text": [
      "-0.00727600000000006 3498.612724\n"
     ]
    }
   ],
   "source": [
    "print(min(masses), max(masses))"
   ]
  },
  {
   "cell_type": "code",
   "execution_count": 243,
   "id": "70e140ec",
   "metadata": {},
   "outputs": [
    {
     "name": "stdout",
     "output_type": "stream",
     "text": [
      "-22.989218 2699.152724\n"
     ]
    }
   ],
   "source": [
    "#unannotated\n",
    "print(min(masses_unan), max(masses_unan))"
   ]
  },
  {
   "cell_type": "code",
   "execution_count": 244,
   "id": "af4a2bf4",
   "metadata": {},
   "outputs": [
    {
     "data": {
      "text/plain": [
       "(776, 0.24688372921690774)"
      ]
     },
     "execution_count": 244,
     "metadata": {},
     "output_type": "execute_result"
    }
   ],
   "source": [
    "cutoff = 2000\n",
    "len([m for m in masses if m >= cutoff]), len([m for m in masses if m >= cutoff])/len(masses)*100"
   ]
  },
  {
   "cell_type": "markdown",
   "id": "c140aa26",
   "metadata": {},
   "source": [
    "## Sketching"
   ]
  },
  {
   "cell_type": "code",
   "execution_count": 245,
   "id": "167aee55",
   "metadata": {},
   "outputs": [
    {
     "name": "stdout",
     "output_type": "stream",
     "text": [
      "[-1.000e+00  4.900e+01  9.900e+01  1.490e+02  1.990e+02  2.490e+02\n",
      "  2.990e+02  3.490e+02  3.990e+02  4.490e+02  4.990e+02  5.490e+02\n",
      "  5.990e+02  6.490e+02  6.990e+02  7.490e+02  7.990e+02  8.490e+02\n",
      "  8.990e+02  9.490e+02  9.990e+02  1.049e+03  1.099e+03  1.149e+03\n",
      "  1.199e+03  1.249e+03  1.299e+03  1.349e+03  1.399e+03  1.449e+03\n",
      "  1.499e+03  1.549e+03  1.599e+03  1.649e+03  1.699e+03  1.749e+03\n",
      "  1.799e+03  1.849e+03  1.899e+03  1.949e+03  1.999e+03  2.049e+03\n",
      "  2.099e+03  2.149e+03  2.199e+03  2.249e+03  2.299e+03  2.349e+03\n",
      "  2.399e+03  2.449e+03  2.499e+03  2.549e+03  2.599e+03  2.649e+03\n",
      "  2.699e+03  2.749e+03  2.799e+03  2.849e+03  2.899e+03  2.949e+03\n",
      "  2.999e+03  3.049e+03  3.099e+03  3.149e+03  3.199e+03  3.249e+03\n",
      "  3.299e+03  3.349e+03  3.399e+03  3.449e+03  3.499e+03]\n"
     ]
    },
    {
     "data": {
      "image/png": "[encoded data removed]",
      "text/plain": [
       "<Figure size 432x288 with 1 Axes>"
      ]
     },
     "metadata": {
      "needs_background": "light"
     },
     "output_type": "display_data"
    }
   ],
   "source": [
    "bins = np.arange(-1, max(masses)+50, 50)\n",
    "print(bins)\n",
    "plt.hist(masses, bins=bins)\n",
    "plt.show()"
   ]
  },
  {
   "cell_type": "code",
   "execution_count": 246,
   "id": "a47a5fda",
   "metadata": {},
   "outputs": [
    {
     "data": {
      "image/png": "[encoded data removed]",
      "text/plain": [
       "<Figure size 360x360 with 1 Axes>"
      ]
     },
     "metadata": {
      "needs_background": "light"
     },
     "output_type": "display_data"
    }
   ],
   "source": [
    "clamshell_colours = ['#000080', '#313194', '#6161A8', '#7A7AB2']\n",
    "col = clamshell_colours[0]\n",
    "step=20\n",
    "bins = np.arange(-1, max(masses)+step, step)\n",
    "# print(bins)\n",
    "h = sns.displot(masses, bins=bins, color=col, kde=False, linewidth=0)\n",
    "plt.show()"
   ]
  },
  {
   "cell_type": "code",
   "execution_count": 247,
   "id": "2ba194b2",
   "metadata": {},
   "outputs": [
    {
     "data": {
      "image/png": "[encoded data removed]",
      "text/plain": [
       "<Figure size 360x360 with 1 Axes>"
      ]
     },
     "metadata": {
      "needs_background": "light"
     },
     "output_type": "display_data"
    }
   ],
   "source": [
    "clamshell_colours = ['#000080', '#313194', '#6161A8', '#7A7AB2']\n",
    "col = clamshell_colours[0]\n",
    "step=50\n",
    "max_b = 2000\n",
    "bins = np.arange(-1, max_b, step)\n",
    "# print(bins)\n",
    "h = sns.displot(masses, bins=bins, color=col, kde=False, linewidth=0.1)\n",
    "plt.xlabel(f\"Parent masses of GNPS spectra (bin size {step})\")\n",
    "plt.savefig(\n",
    "    f\"/mnt/scratch/louwe015/Mass_differences/ALL_GNPS_15_12_2021_positive_annotated_masses_binsize{step}_max{max_b}.svg\")"
   ]
  },
  {
   "cell_type": "code",
   "execution_count": 248,
   "id": "b160d5db",
   "metadata": {},
   "outputs": [
    {
     "data": {
      "image/png": "[encoded data removed]",
      "text/plain": [
       "<Figure size 432x288 with 1 Axes>"
      ]
     },
     "metadata": {
      "needs_background": "light"
     },
     "output_type": "display_data"
    }
   ],
   "source": [
    "step=10\n",
    "bins = np.arange(-1, max(masses)+step, step)\n",
    "# print(bins)\n",
    "h10 = sns.histplot(masses, bins=bins)\n",
    "plt.show()"
   ]
  },
  {
   "cell_type": "markdown",
   "id": "441632fe",
   "metadata": {},
   "source": [
    "### Dereplicated on inchikey"
   ]
  },
  {
   "cell_type": "code",
   "execution_count": 249,
   "id": "ca624fbb",
   "metadata": {},
   "outputs": [],
   "source": [
    "import sys\n",
    "sys.path.append('../scripts')\n",
    "from mass_differences.processing import get_ids_for_unique_inchikeys\n",
    "uniq_ids = get_ids_for_unique_inchikeys(spectrums)"
   ]
  },
  {
   "cell_type": "code",
   "execution_count": 250,
   "id": "366a8256",
   "metadata": {},
   "outputs": [
    {
     "name": "stdout",
     "output_type": "stream",
     "text": [
      "20889\n",
      "Spectra (best one per inchikey_14) with parent_mass: 20889\n"
     ]
    }
   ],
   "source": [
    "masses_ui = [spectrums[i].metadata.get('parent_mass') for i in uniq_ids]\n",
    "print(len(masses_ui))\n",
    "masses_ui = [s for s in masses_ui if s]  # remove specs without annotated parent_mass?\n",
    "print('Spectra (best one per inchikey_14) with parent_mass:', len(masses_ui))"
   ]
  },
  {
   "cell_type": "code",
   "execution_count": 251,
   "id": "89711e8f",
   "metadata": {},
   "outputs": [
    {
     "name": "stdout",
     "output_type": "stream",
     "text": [
      "-0.00727600000000006 3437.5654470960185\n"
     ]
    }
   ],
   "source": [
    "print(min(masses_ui), max(masses_ui))"
   ]
  },
  {
   "cell_type": "code",
   "execution_count": 252,
   "id": "2b1d624f",
   "metadata": {},
   "outputs": [
    {
     "data": {
      "text/plain": [
       "83.42189669203887"
      ]
     },
     "execution_count": 252,
     "metadata": {},
     "output_type": "execute_result"
    }
   ],
   "source": [
    "len([m for m in masses_ui if m < 600])/len(masses_ui)*100"
   ]
  },
  {
   "cell_type": "code",
   "execution_count": 253,
   "id": "a8986248",
   "metadata": {},
   "outputs": [
    {
     "data": {
      "image/png": "[encoded data removed]",
      "text/plain": [
       "<Figure size 432x288 with 1 Axes>"
      ]
     },
     "metadata": {
      "needs_background": "light"
     },
     "output_type": "display_data"
    }
   ],
   "source": [
    "step =10\n",
    "bins = np.arange(-1, max(masses_ui)+step, step)\n",
    "# print(bins)\n",
    "sns.histplot(masses_ui, bins=bins)\n",
    "plt.show()"
   ]
  },
  {
   "cell_type": "code",
   "execution_count": 254,
   "id": "5abce7ee",
   "metadata": {},
   "outputs": [
    {
     "data": {
      "image/png": "[encoded data removed]",
      "text/plain": [
       "<Figure size 432x288 with 1 Axes>"
      ]
     },
     "metadata": {
      "needs_background": "light"
     },
     "output_type": "display_data"
    }
   ],
   "source": [
    "step =10\n",
    "bins = np.arange(-1, max(masses)+step, step)\n",
    "fig = sns.kdeplot(masses)\n",
    "fig = sns.kdeplot(masses_ui)\n",
    "plt.show()"
   ]
  },
  {
   "cell_type": "markdown",
   "id": "bb786848",
   "metadata": {},
   "source": [
    "## Cleaning up Cruesemann data"
   ]
  },
  {
   "cell_type": "code",
   "execution_count": 255,
   "id": "93dca991",
   "metadata": {},
   "outputs": [],
   "source": [
    "# from gnps the mgf for the MN with id: 9ba6f1296adb494db4dac117110a420a\n",
    "from matchms.importing import load_from_mgf\n",
    "mgf_path = \"/mnt/scratch/louwe015/NPLinker/own/nplinker_shared/crusemann_3ids_AS6-AS3_30-11/METABOLOMICS-SNETS-V2-9ba6f129-download_clustered_spectra-main.mgf\"\n",
    "crus_spectra_raw = list(load_from_mgf(mgf_path))"
   ]
  },
  {
   "cell_type": "code",
   "execution_count": 256,
   "id": "d061eac0",
   "metadata": {},
   "outputs": [
    {
     "name": "stdout",
     "output_type": "stream",
     "text": [
      "Number of imported crusemann spectra: 246833\n"
     ]
    }
   ],
   "source": [
    "print('Number of imported crusemann spectra:', len(crus_spectra_raw))"
   ]
  },
  {
   "cell_type": "code",
   "execution_count": 257,
   "id": "734d0a15",
   "metadata": {},
   "outputs": [],
   "source": [
    "def count_annotations(spectra):\n",
    "    \"\"\"Function to keep track of the amount of annotated spectra.\"\"\"\n",
    "    inchi_lst = []\n",
    "    smiles_lst = []\n",
    "    inchikey_lst = []\n",
    "    nr_of_spectra_with_less_than_3_peaks = 0\n",
    "    nr_of_spectra_with_more_than_500_peaks = 0\n",
    "\n",
    "    for i, spec in enumerate(spectra):\n",
    "        inchi_lst.append(spec.get(\"inchi\"))\n",
    "        smiles_lst.append(spec.get(\"smiles\"))\n",
    "        inchikey = spec.get(\"inchikey\")\n",
    "        if inchikey is None:\n",
    "            inchikey = spec.get(\"inchikey_inchi\")\n",
    "        inchikey_lst.append(inchikey)\n",
    "        if len(spec.peaks.mz) < 3:\n",
    "            nr_of_spectra_with_less_than_3_peaks += 1\n",
    "        if len(spec.peaks.mz) > 500:\n",
    "            nr_of_spectra_with_more_than_500_peaks += 1\n",
    "\n",
    "    inchi_count = sum([1 for x in inchi_lst if x])\n",
    "    smiles_count = sum([1 for x in smiles_lst if x])\n",
    "    inchikey_count = sum([1 for x in inchikey_lst if x])\n",
    "    print(\"nr_of_spectra:\", len(spectra))\n",
    "    print(\"Inchis:\", inchi_count, \"--\", len(set(inchi_lst)), \"unique\")\n",
    "    print(\"Smiles:\", smiles_count, \"--\", len(set(smiles_lst)), \"unique\")\n",
    "    print(\"Inchikeys:\", inchikey_count, \"--\", \n",
    "          len(set([x[:14] for x in inchikey_lst if x])), \"unique (first 14 characters)\")\n",
    "    print(\"Spectra with less than 3 peaks:\", nr_of_spectra_with_less_than_3_peaks)\n",
    "    print(\"Spectra with more than 500 peaks:\", nr_of_spectra_with_more_than_500_peaks)"
   ]
  },
  {
   "cell_type": "code",
   "execution_count": 258,
   "id": "9639be08",
   "metadata": {},
   "outputs": [
    {
     "name": "stdout",
     "output_type": "stream",
     "text": [
      "nr_of_spectra: 246833\n",
      "Inchis: 0 -- 1 unique\n",
      "Smiles: 0 -- 1 unique\n",
      "Inchikeys: 0 -- 0 unique (first 14 characters)\n",
      "Spectra with less than 3 peaks: 233166\n",
      "Spectra with more than 500 peaks: 0\n"
     ]
    }
   ],
   "source": [
    "count_annotations(crus_spectra_raw)"
   ]
  },
  {
   "cell_type": "code",
   "execution_count": 259,
   "id": "5a0ce0c8",
   "metadata": {},
   "outputs": [
    {
     "name": "stdout",
     "output_type": "stream",
     "text": [
      "\n",
      "    Collection of filters that are considered default and that do no require any (factory) arguments.\n",
      "\n",
      "    Collection is\n",
      "\n",
      "    1. :meth:`~matchms.filtering.make_charge_scalar`\n",
      "    2. :meth:`~matchms.filtering.make_ionmode_lowercase`\n",
      "    3. :meth:`~matchms.filtering.set_ionmode_na_when_missing`\n",
      "    4. :meth:`~matchms.filtering.add_compound_name`\n",
      "    5. :meth:`~matchms.filtering.derive_adduct_from_name`\n",
      "    6. :meth:`~matchms.filtering.derive_formula_from_name`\n",
      "    7. :meth:`~matchms.filtering.clean_compound_name`\n",
      "    8. :meth:`~matchms.filtering.add_precursor_mz`\n",
      "    9. :meth:`~matchms.filtering.derive_ionmode`\n",
      "    10. :meth:`~matchms.filtering.correct_charge`\n",
      "\n",
      "    \n"
     ]
    }
   ],
   "source": [
    "import matchms.filtering as msfilters\n",
    "print(msfilters.default_filters.__doc__)"
   ]
  },
  {
   "cell_type": "code",
   "execution_count": 260,
   "id": "cd6ea887",
   "metadata": {},
   "outputs": [],
   "source": [
    "def apply_metadata_filters(s):\n",
    "    # Default filters\n",
    "    s = msfilters.default_filters(s)\n",
    "    s = msfilters.derive_adduct_from_name(s)\n",
    "    s = msfilters.add_parent_mass(s, estimate_from_adduct=True)\n",
    "    \n",
    "    # Here, undefiend entries will be harmonized (instead of having a huge variation of None,\"\", \"N/A\" etc.)\n",
    "    s = msfilters.harmonize_undefined_inchikey(s)\n",
    "    s = msfilters.harmonize_undefined_inchi(s)\n",
    "    s = msfilters.harmonize_undefined_smiles(s)\n",
    "\n",
    "    # The repair_inchi_inchikey_smiles function will correct misplaced metadata (e.g. inchikeys entered as inchi etc.) and harmonize the entry strings.\n",
    "    s = msfilters.repair_inchi_inchikey_smiles(s)\n",
    "\n",
    "    # Where possible (and necessary, i.e. missing): Convert between smiles, inchi, inchikey to complete metadata. This is done using functions from rdkit.\n",
    "    s = msfilters.derive_inchi_from_smiles(s)\n",
    "    s = msfilters.derive_smiles_from_inchi(s)\n",
    "    s = msfilters.derive_inchikey_from_inchi(s)\n",
    "    return s\n",
    "\n"
   ]
  },
  {
   "cell_type": "code",
   "execution_count": 261,
   "id": "eb8845b5",
   "metadata": {},
   "outputs": [
    {
     "data": {
      "application/vnd.jupyter.widget-view+json": {
       "model_id": "02a423833a6b4399a59a7292fd5ef278",
       "version_major": 2,
       "version_minor": 0
      },
      "text/plain": [
       "  0%|          | 0/246833 [00:00<?, ?it/s]"
      ]
     },
     "metadata": {},
     "output_type": "display_data"
    }
   ],
   "source": [
    "crus_spectra = [apply_metadata_filters(s) for s in tqdm(crus_spectra_raw)]"
   ]
  },
  {
   "cell_type": "code",
   "execution_count": 262,
   "id": "10bea74c",
   "metadata": {},
   "outputs": [
    {
     "name": "stdout",
     "output_type": "stream",
     "text": [
      "nr_of_spectra: 246833\n",
      "Inchis: 0 -- 1 unique\n",
      "Smiles: 0 -- 1 unique\n",
      "Inchikeys: 0 -- 0 unique (first 14 characters)\n",
      "Spectra with less than 3 peaks: 233166\n",
      "Spectra with more than 500 peaks: 0\n"
     ]
    }
   ],
   "source": [
    "count_annotations(crus_spectra)"
   ]
  },
  {
   "cell_type": "code",
   "execution_count": 263,
   "id": "87d0c0e7",
   "metadata": {},
   "outputs": [],
   "source": [
    "# remove spectra with less than 1 peak\n",
    "def normalize_and_filter_peaks(spectrum):\n",
    "    spectrum = msfilters.require_minimum_number_of_peaks(spectrum, n_required=1)\n",
    "    return spectrum\n",
    "\n",
    "crus_spectra = [normalize_and_filter_peaks(s) for s in crus_spectra]\n",
    "crus_spectra = [s for s in crus_spectra if s]"
   ]
  },
  {
   "cell_type": "code",
   "execution_count": 264,
   "id": "3c0f80c9",
   "metadata": {},
   "outputs": [
    {
     "name": "stdout",
     "output_type": "stream",
     "text": [
      "nr_of_spectra: 13667\n",
      "Inchis: 0 -- 1 unique\n",
      "Smiles: 0 -- 1 unique\n",
      "Inchikeys: 0 -- 0 unique (first 14 characters)\n",
      "Spectra with less than 3 peaks: 0\n",
      "Spectra with more than 500 peaks: 0\n"
     ]
    }
   ],
   "source": [
    "count_annotations(crus_spectra)"
   ]
  },
  {
   "cell_type": "code",
   "execution_count": 265,
   "id": "2529686d",
   "metadata": {},
   "outputs": [
    {
     "data": {
      "application/vnd.jupyter.widget-view+json": {
       "model_id": "e036a9bf730a4cf486d8b752b818b2c6",
       "version_major": 2,
       "version_minor": 0
      },
      "text/plain": [
       "  0%|          | 0/13667 [00:00<?, ?it/s]"
      ]
     },
     "metadata": {},
     "output_type": "display_data"
    }
   ],
   "source": [
    "crus_spectra_clean = [apply_metadata_filters(s) for s in tqdm(crus_spectra)]"
   ]
  },
  {
   "cell_type": "code",
   "execution_count": 266,
   "id": "c09c43bd",
   "metadata": {},
   "outputs": [
    {
     "name": "stdout",
     "output_type": "stream",
     "text": [
      "1\n",
      "1\n",
      "1\n",
      "1\n",
      "1\n",
      "1\n",
      "1\n",
      "1\n",
      "1\n",
      "1\n",
      "1\n",
      "1\n",
      "1\n",
      "1\n",
      "1\n",
      "1\n",
      "1\n",
      "1\n",
      "0\n",
      "18 299.99701\n",
      "{'pepmass': (299.99701, None), 'charge': 0, 'mslevel': '2', 'precursorintensity': '73488.000000', 'filename': 'specs_ms.pklbin', 'rtinseconds': 345.578003, 'activation': 'CID', 'instrument': 'ion trap', 'title': 'Scan Number: 45', 'scans': '45', 'ionmode': 'n/a', 'compound_name': 'Scan Number: 45', 'precursor_mz': 299.99701, 'parent_mass': 0.0, 'inchikey': '', 'inchi': '', 'smiles': ''}\n",
      "{'pepmass': (299.99701, None), 'charge': 0, 'mslevel': '2', 'precursorintensity': '73488.000000', 'filename': 'specs_ms.pklbin', 'rtinseconds': 345.578003, 'activation': 'CID', 'instrument': 'ion trap', 'title': 'Scan Number: 45', 'scans': '45', 'ionmode': 'n/a', 'compound_name': 'Scan Number: 45', 'precursor_mz': 299.99701, 'parent_mass': 0.0, 'inchikey': '', 'inchi': '', 'smiles': ''}\n"
     ]
    }
   ],
   "source": [
    "for i, s in enumerate(crus_spectra_clean):\n",
    "    prec = s.metadata.get('precursor_mz')\n",
    "    par = s.metadata.get('parent_mass')\n",
    "    print(s.metadata.get('charge'))\n",
    "    if not par:\n",
    "        print(i, prec)\n",
    "        print(msfilters.correct_charge(s).metadata)\n",
    "        print(msfilters.add_parent_mass(s, estimate_from_adduct=True).metadata)\n",
    "        break"
   ]
  },
  {
   "cell_type": "code",
   "execution_count": 267,
   "id": "df646a02",
   "metadata": {},
   "outputs": [
    {
     "name": "stdout",
     "output_type": "stream",
     "text": [
      "13667\n",
      "Spectra from Cruesemann data with parent_mass: 9129\n"
     ]
    }
   ],
   "source": [
    "m_query = 'parent_mass'\n",
    "crus_masses = [s.metadata.get(m_query) for s in crus_spectra_clean]\n",
    "print(len(crus_masses))\n",
    "crus_masses = [s for s in crus_masses if s]  # remove specs without annotated parent_mass?\n",
    "print('Spectra from Cruesemann data with parent_mass:', len(crus_masses))"
   ]
  },
  {
   "cell_type": "code",
   "execution_count": 268,
   "id": "2b6f82d7",
   "metadata": {},
   "outputs": [
    {
     "name": "stdout",
     "output_type": "stream",
     "text": [
      "163.09971354800925 2922.5674870960183\n"
     ]
    }
   ],
   "source": [
    "print(min(crus_masses), max(crus_masses))"
   ]
  },
  {
   "cell_type": "code",
   "execution_count": null,
   "id": "57eab6ae",
   "metadata": {},
   "outputs": [],
   "source": []
  },
  {
   "cell_type": "code",
   "execution_count": 269,
   "id": "526402f7",
   "metadata": {},
   "outputs": [
    {
     "data": {
      "image/png": "[encoded data removed]",
      "text/plain": [
       "<Figure size 360x360 with 1 Axes>"
      ]
     },
     "metadata": {
      "needs_background": "light"
     },
     "output_type": "display_data"
    }
   ],
   "source": [
    "clamshell_colours = ['#000080', '#313194', '#6161A8', '#7A7AB2', '#DBDBDB']\n",
    "col = clamshell_colours[0]\n",
    "step=50\n",
    "max_b = 2000\n",
    "bins = np.arange(-1, max_b, step)\n",
    "# print(bins)\n",
    "h = sns.displot(crus_masses, bins=bins, color=col, kde=False, linewidth=0.1)\n",
    "plt.xlabel(f\"Parent masses of Cruesemann spectra (bin size {step})\")\n",
    "plt.savefig(f\"/mnt/scratch/louwe015/Mass_differences/crusemann_{m_query}_binsize{step}_max{max_b}.svg\")"
   ]
  },
  {
   "cell_type": "code",
   "execution_count": 270,
   "id": "19f0b7b1",
   "metadata": {},
   "outputs": [
    {
     "data": {
      "text/plain": [
       "array([5., 5.])"
      ]
     },
     "execution_count": 270,
     "metadata": {},
     "output_type": "execute_result"
    }
   ],
   "source": [
    "h.ax.get_figure().get_size_inches()"
   ]
  },
  {
   "cell_type": "code",
   "execution_count": 271,
   "id": "02fc2b66",
   "metadata": {},
   "outputs": [
    {
     "data": {
      "image/png": "[encoded data removed]",
      "text/plain": [
       "<Figure size 360x360 with 1 Axes>"
      ]
     },
     "metadata": {
      "needs_background": "light"
     },
     "output_type": "display_data"
    }
   ],
   "source": [
    "clamshell_div = [\"#93003a\"]\n",
    "# step =50\n",
    "# bins = np.arange(-1, max(masses)+step, step)\n",
    "plt.figure(figsize=(5, 5))\n",
    "max_b = 2000\n",
    "fig = sns.kdeplot(masses, label=f'GNPS (n={len(masses)})', fill=True, color = clamshell_colours[0])\n",
    "fig = sns.kdeplot(crus_masses, label=f'Cruesemann (n={len(crus_masses)})', fill=True, color = clamshell_div[0])\n",
    "sns.despine()\n",
    "plt.legend()\n",
    "plt.xlabel(\"Parent masses\")\n",
    "plt.xlim(-1, max_b)\n",
    "plt.savefig(f\"/mnt/scratch/louwe015/Mass_differences/GNPS_vs_crusemann_{m_query}_density_max{max_b}.svg\")\n"
   ]
  },
  {
   "cell_type": "markdown",
   "id": "303046f3",
   "metadata": {},
   "source": [
    "# Final plot"
   ]
  },
  {
   "cell_type": "code",
   "execution_count": 289,
   "id": "cab293c7",
   "metadata": {},
   "outputs": [
    {
     "data": {
      "image/png": "[encoded data removed]",
      "text/plain": [
       "<Figure size 493.228x180.048 with 1 Axes>"
      ]
     },
     "metadata": {
      "needs_background": "light"
     },
     "output_type": "display_data"
    }
   ],
   "source": [
    "clamshell_div = [\"#93003a\"]\n",
    "inch=2.54\n",
    "# step =50\n",
    "# bins = np.arange(-1, max(masses)+step, step)\n",
    "plt.figure(figsize=(17.4/inch, 6.3517/inch))\n",
    "max_b = 2000\n",
    "fig = sns.kdeplot(masses, label=f'GNPS (n={len(masses)})', fill=True, color = clamshell_colours[0])\n",
    "fig = sns.kdeplot(masses_unan, label=f'GNPS no smiles (n={len(masses_unan)})', fill=True, color = clamshell_colours[-2])\n",
    "fig = sns.kdeplot(crus_masses, label=f'Cruesemann (n={len(crus_masses)})', fill=True, color = clamshell_div[0])\n",
    "\n",
    "sns.despine()\n",
    "plt.legend()\n",
    "plt.xlabel(\"Parent masses\")\n",
    "plt.xlim(-1, max_b)\n",
    "plt.savefig(f\"/mnt/scratch/louwe015/Mass_differences/GNPS_vs_no_smiles_vs_crusemann_{m_query}_density_max{max_b}.svg\")"
   ]
  },
  {
   "cell_type": "markdown",
   "id": "4646ca3e",
   "metadata": {},
   "source": [
    "## Look at the names of the spectra without SMILES\n",
    "Most seem to be some kind of lipids for which they could not resolve the double bonds."
   ]
  },
  {
   "cell_type": "code",
   "execution_count": 239,
   "id": "7528ce63",
   "metadata": {},
   "outputs": [
    {
     "name": "stdout",
     "output_type": "stream",
     "text": [
      "3512\n"
     ]
    },
    {
     "data": {
      "text/plain": [
       "[('PC(16:0/18:1)', 286),\n",
       " ('PC(18:0/18:1)', 216),\n",
       " ('PC(18:2/0:0)', 202),\n",
       " ('PC(0:0/20:4)', 175),\n",
       " ('TG(16:0/16:0/18:1)', 152),\n",
       " ('TG(18:1/18:1/18:1)', 108),\n",
       " ('Cer(d18:1/24:1)', 96),\n",
       " ('CoQ9', 94),\n",
       " ('PC(15:0/18:1)', 92),\n",
       " ('GalCer(d18:1/18:1)', 90),\n",
       " ('DG(18:0/20:4/0:0)', 88),\n",
       " ('TG(16:0/18:1/22:6)', 86),\n",
       " ('PE(22:4/0:0)', 86),\n",
       " ('TG(16:0/18:1/18:2)', 84),\n",
       " ('TG(18:0/18:0/18:1)', 82),\n",
       " ('TG(15:0/16:0/18:1)', 78),\n",
       " ('PE(P-18:0/20:3)', 78),\n",
       " ('PC(22:4/0:0)', 78),\n",
       " ('PE(P-18:0/22:4)', 76),\n",
       " ('PC(17:0/18:2)', 74),\n",
       " ('TG(16:1/18:1/18:1)', 72),\n",
       " ('TG(16:1/16:1/18:1)', 68),\n",
       " ('TG(18:1/18:1/22:0)', 68),\n",
       " ('TG(17:1/18:1/18:1)', 66),\n",
       " ('PE(P-18:0/22:5)', 64),\n",
       " ('TG(14:0/16:0/18:1)', 64),\n",
       " ('PC(20:3/0:0)', 62),\n",
       " ('DG(18:2/0:0/18:2)', 60),\n",
       " ('DG(18:1/20:4/0:0)', 60),\n",
       " ('TG(18:2/18:2/20:4)', 60),\n",
       " ('TG(18:0/18:1/20:4)', 56),\n",
       " ('PC(16:1/17:1)', 54),\n",
       " ('PE(18:2/0:0)', 54),\n",
       " ('SM(d18:1/26:1)', 54),\n",
       " ('DG(18:0/18:1/0:0)', 52),\n",
       " ('TG(16:0/18:1/20:4)', 52),\n",
       " ('TG(14:0/16:1/18:1)', 52),\n",
       " ('TG(16:0/20:4/22:6)', 52),\n",
       " ('TG(18:2/20:4/20:4)', 50),\n",
       " ('TG(18:0/20:4/20:4)', 50),\n",
       " ('PC(O-16:0/O-16:0)', 48),\n",
       " ('TG(16:1/18:1/18:2)', 46),\n",
       " ('Cer(d18:0/0:0)', 46),\n",
       " ('GalCer(d18:2/16:1)', 44),\n",
       " ('GalCer(d18:2/18:1)', 44),\n",
       " ('TG(18:1/18:1/20:4)', 44),\n",
       " ('TG(15:0/18:1/18:1)', 40),\n",
       " ('PC(O-16:1/20:4)', 40),\n",
       " ('TG(18:1/20:4/20:4)', 40),\n",
       " ('PE(18:0/22:4)', 40),\n",
       " ('TG(18:0/20:4/22:6)', 38),\n",
       " ('PE(P-16:0/22:4)', 38),\n",
       " ('TG(18:2/18:2/18:3)', 38),\n",
       " ('PC(15:0/22:6)', 38),\n",
       " ('PC(20:1/20:4)', 38),\n",
       " ('PS(22:6/0:0)', 38),\n",
       " ('Cer(d18:1/23:1)', 38),\n",
       " ('PE(22:6/0:0)', 36),\n",
       " ('TG(18:1/18:1/22:6)', 36),\n",
       " ('TG(12:0/12:0/18:1)', 36),\n",
       " ('TG(18:1/18:2/20:4)', 36),\n",
       " ('TG(18:0/18:0/20:4)', 36),\n",
       " ('PC(20:1/22:6)', 36),\n",
       " ('Cer(d18:1/25:1)', 36),\n",
       " ('PE(P-18:0/18:2)', 34),\n",
       " ('PC(16:2/16:0)', 34),\n",
       " ('TG(16:0/20:4/20:4)', 34),\n",
       " ('SM(d18:0/18:1)', 33),\n",
       " ('TG(15:0/16:1/18:1)', 32),\n",
       " ('TG(18:1/18:2/22:0)', 32),\n",
       " ('TG(16:0/18:0/20:4)', 32),\n",
       " ('PC(20:2/0:0)', 32),\n",
       " ('PE(P-18:1/22:6)', 32),\n",
       " ('TG(18:1/22:6/22:6)', 32),\n",
       " ('TG(18:1/18:1/19:1)', 32),\n",
       " ('DG(18:2/18:3/0:0)', 32),\n",
       " ('TG(14:0/18:1/18:1)', 32),\n",
       " ('PE(P-20:0/20:4)', 32),\n",
       " ('GalCer(d18:1/22:1)', 32),\n",
       " ('TG(12:0/14:0/18:2)', 30),\n",
       " ('PE(14:1/17:0)', 30),\n",
       " ('TG(12:0/12:0/18:2)', 30),\n",
       " ('GalCer(d18:1/24:1)', 30),\n",
       " ('PS(20:4/22:6)', 30),\n",
       " ('TG(16:0/18:1/22:0)', 29),\n",
       " ('TG(16:0/17:1/18:1)', 28),\n",
       " ('TG(14:0/18:1/18:2)', 28),\n",
       " ('TG(18:2/18:3/18:3)', 28),\n",
       " ('TG(16:0/18:2/18:3)', 28),\n",
       " ('TG(18:0/18:0/22:6)', 28),\n",
       " ('TG(17:0/18:0/18:1)', 26),\n",
       " ('TG(18:0/18:1/22:0)', 26),\n",
       " ('PC(19:1/19:1)', 26),\n",
       " ('TG(12:0/16:1/16:1)', 26),\n",
       " ('TG(16:1/20:4/20:4)', 26),\n",
       " ('PC(O-16:0/22:6)', 26),\n",
       " ('PC(18:0/20:1)', 26),\n",
       " ('TG(12:0/18:2/18:2)', 26),\n",
       " ('GalCer(d18:1/20:1)', 26),\n",
       " ('Kaempferol-3-glucoside-7-rhamnoside', 25),\n",
       " ('PE(P-16:0/20:5)', 24),\n",
       " ('TG(16:0/16:0/18:3)', 24),\n",
       " ('TG(16:0/18:1/22:5)', 24),\n",
       " ('Cer(d18:1/0:0)', 24),\n",
       " ('DGTSA(18:1/18:1)', 24),\n",
       " ('PC(O-18:0/20:3)', 24),\n",
       " ('TG(12:0/16:0/18:1)', 24),\n",
       " ('TG(15:0/18:1/18:2)', 22),\n",
       " ('TG(17:0/18:1/18:2)', 22),\n",
       " ('PC(O-16:1/18:2)', 22),\n",
       " ('PC(20:4/22:1)', 22),\n",
       " ('TG(16:0/16:1/18:3)', 22),\n",
       " ('PC(20:2/22:6)', 22),\n",
       " ('PC(17:0/20:3)', 22),\n",
       " ('TG(16:1/16:1/18:3)', 22),\n",
       " ('TG(16:0/16:1/20:4)', 22),\n",
       " ('PC(18:3/18:3)', 22),\n",
       " ('DGDG(16:0/18:3)', 22),\n",
       " ('TG(16:1/16:1/17:1)', 20),\n",
       " ('PC(18:2/20:5)', 20),\n",
       " ('PS(20:0/20:5)', 20),\n",
       " ('PC(20:4/P-18:1)', 20),\n",
       " ('DGDG(18:1/18:2)', 20),\n",
       " ('SQDG(16:0/18:3)', 20),\n",
       " ('TG(18:2/20:4/20:5)', 20),\n",
       " ('DGTSA(16:1/16:1)', 20),\n",
       " ('TG(12:0/14:0/18:1)', 20),\n",
       " ('TG(18:1/18:1/22:4)', 20),\n",
       " ('TG(18:1/20:4/22:6)', 20),\n",
       " ('TG(18:0/18:1/22:6)', 20),\n",
       " ('PC(20:4/22:4)', 20),\n",
       " ('DG(18:0/22:3/0:0)', 20),\n",
       " ('PE(14:0/22:6)', 20),\n",
       " ('Conjugated linoleic Acid (10E,12Z)  [IIN-based on: CCMSLIB00003136426]',\n",
       "  20),\n",
       " ('Hemin cation', 18),\n",
       " ('TG(12:0/16:1/18:2)', 18),\n",
       " ('TG(18:1/18:2/18:3)', 18),\n",
       " ('TG(18:2/18:2/22:0)', 18),\n",
       " ('TG(18:1/18:2/22:6)', 18),\n",
       " ('TG(16:0/16:0/17:1)', 18),\n",
       " ('TG(20:4/20:4/20:5)', 18),\n",
       " ('DGDG(16:0/18:1)', 18),\n",
       " ('TG(20:4/20:5/20:5)', 18),\n",
       " ('TG(18:1/18:1/20:3)', 18),\n",
       " ('PC(O-16:0/16:1)', 18),\n",
       " ('TG(18:2/20:3/20:4)', 18),\n",
       " ('TG(12:0/16:0/18:2)', 18),\n",
       " ('TG(12:0/18:2/18:3)', 18),\n",
       " ('TG(12:0/18:1/18:2)', 18),\n",
       " ('TG(14:0/18:2/18:3)', 18),\n",
       " ('DGDG(17:0/18:3)', 18),\n",
       " ('Cer(d18:2/24:1)', 18),\n",
       " ('TG(16:0/18:1/19:1)', 18),\n",
       " ('DG(18:1/22:1/0:0)', 18),\n",
       " ('PC(18:1/22:4)', 18),\n",
       " ('TG(18:0/18:0/22:4)', 18),\n",
       " ('Contaminant vial septum ThermoFisher C5000-44B', 16),\n",
       " ('Abrine', 16),\n",
       " ('GalCer(d18:1/16:1)', 16),\n",
       " ('TG(16:1/17:1/18:1)', 16),\n",
       " ('TG(18:1/18:2/20:1)', 16),\n",
       " ('TG(18:2/18:3/20:4)', 16),\n",
       " ('TG(18:1/22:4/22:6)', 16),\n",
       " ('TG(16:0/18:0/18:2)', 16),\n",
       " ('DG(20:4/0:0/20:4)', 16),\n",
       " ('TG(14:0/18:3/18:3)', 16),\n",
       " ('TG(18:1/18:1/22:5)', 16),\n",
       " ('Cer(d14:1/0:0)', 16),\n",
       " ('PC(18:2/19:0)', 16),\n",
       " ('TG(16:0/16:0/20:4)', 16),\n",
       " ('TG(18:0/18:2/20:4)', 16),\n",
       " ('TG(12:0/14:0/16:1)', 16),\n",
       " ('SQDG(18:0/18:3)', 16),\n",
       " ('DGDG(18:0/18:3)', 16),\n",
       " ('TG(15:1/18:3/18:3)', 16),\n",
       " ('DG(16:1/22:6/0:0)', 16),\n",
       " ('TG(16:0/18:1/22:4)', 16),\n",
       " ('TG(18:1/20:1/22:4)', 16),\n",
       " ('TG(16:0/18:0/22:6)', 16),\n",
       " ('TG(20:4/22:6/22:6)', 16),\n",
       " ('(4S,5Z,6S)-4-(2-methoxy-2-oxoethyl)-5-[2-[(E)-3-phenylprop-2-enoyl]oxyethylidene]-6-[(2S,3R,4S,5S,6R)-3,4,5-trihydroxy-6-(hydroxymethyl)oxan-2-yl]oxy-4H-pyran-3-carboxylic acid',\n",
       "  15),\n",
       " (\"Isor-3-Gal-6''-Rha\", 15),\n",
       " (\"Kaem-3-Glc-2''-Rha-7-Rha\", 15),\n",
       " (\"Quer-3-Gal-6''-Rha-3'''-Rha\", 15),\n",
       " ('Mevastatin related compound observed in the standard', 14),\n",
       " ('Leucinostatin derivative observed in leucinostatin A/B reference compound',\n",
       "  14),\n",
       " ('TG(17:1/18:2/18:2)', 14),\n",
       " ('TG(18:1/18:1/20:2)', 14),\n",
       " ('TG(17:0/17:1/17:1)', 14),\n",
       " ('TG(17:0/17:0/17:1)', 14),\n",
       " ('PC(16:1/20:5)', 14),\n",
       " ('TG(16:1/18:2/18:3)', 14),\n",
       " ('TG(16:0/18:1/18:3)', 14),\n",
       " ('TG(18:0/18:1/22:5)', 14),\n",
       " ('TG(18:1/20:4/20:5)', 14),\n",
       " ('TG(16:1/16:1/20:4)', 14),\n",
       " ('TG(15:1/16:1/16:1)', 14),\n",
       " ('TG(18:1/20:1/22:1)', 14),\n",
       " ('TG(18:1/18:1/22:1)', 14),\n",
       " ('Cer(d16:1/0:0)', 14),\n",
       " ('PC(O-18:0/18:2)', 14),\n",
       " ('PC(O-18:1/18:2)', 14),\n",
       " ('TG(14:0/14:0/18:1)', 14),\n",
       " ('TG(18:0/18:0/18:2)', 14),\n",
       " ('TG(16:0/20:3/22:6)', 14),\n",
       " ('PC(15:1/18:3)', 14),\n",
       " ('TG(18:3/18:3/20:3)', 14),\n",
       " ('TG(16:0/18:3/18:3)', 14),\n",
       " ('SQDG(18:3/18:3)', 14),\n",
       " ('PC(15:0/18:3)', 14),\n",
       " ('DG(15:0/18:3/0:0)', 14),\n",
       " ('TG(18:2/18:3/21:0)', 14),\n",
       " ('PC(16:3/16:0)', 14),\n",
       " ('PE(20:1/0:0)', 14),\n",
       " ('PE(P-18:0/22:1)', 14),\n",
       " ('Kaem-7-Rha', 14),\n",
       " (\"Kaem-3-Gal-6''-Rha-3''-Rha\", 14),\n",
       " ('Kaem-3-Glc-2pp-p-Cou', 14),\n",
       " ('Myricetin-3-Galactopyranoside', 14),\n",
       " ('Quercetin-3-rhamnoside-7-rhamnoside', 14),\n",
       " ('TG(16:1/18:3/18:3)', 13),\n",
       " ('Myrc-3-Xyl', 13),\n",
       " ('Cyclotetrasiloxane, octamethyl-', 12),\n",
       " ('PC(16:2/16:1)', 12),\n",
       " ('TG(16:0/17:1/18:0)', 12),\n",
       " ('TG(12:0/16:1/18:1)', 12),\n",
       " ('TG(12:0/18:1/18:1)', 12),\n",
       " ('SQDG(16:0/14:0)', 12),\n",
       " ('TG(18:3/20:4/20:4)', 12),\n",
       " ('DGTSA(15:0/15:0)', 12),\n",
       " ('TG(12:0/16:0/16:1)', 12),\n",
       " ('SQDG(14:0/16:1)', 12),\n",
       " ('DGDG(18:2/18:3)', 12),\n",
       " ('SQDG(16:0/18:1)', 12),\n",
       " ('PC(18:2/19:1)', 12),\n",
       " ('DGDG(18:2/18:4)', 12),\n",
       " ('DGDG(18:3/18:4)', 12),\n",
       " ('TG(12:0/12:0/18:3)', 12),\n",
       " ('TG(18:0/18:1/18:2)', 12),\n",
       " ('SQDG(18:2/18:3)', 12),\n",
       " ('DGDG(18:0/18:1)', 12),\n",
       " ('TG(18:3/18:3/21:0)', 12),\n",
       " ('TG(18:2/18:3/22:2)', 12),\n",
       " ('TG(18:2/18:3/20:0)', 12),\n",
       " ('TG(18:2/18:2/21:0)', 12),\n",
       " ('DG(15:0/18:2/0:0)', 12),\n",
       " ('DG(16:0/22:5/0:0)', 12),\n",
       " ('TG(18:1/18:1/22:3)', 12),\n",
       " ('DG(18:1/22:3/0:0)', 12),\n",
       " ('TG(18:0/20:4/22:4)', 12),\n",
       " ('PC(O-18:0/18:1)', 12),\n",
       " ('TG(18:0/18:1/22:4)', 12),\n",
       " ('PC(16:1/20:3)', 12),\n",
       " ('DG(18:0/20:2/0:0)', 12),\n",
       " ('Dhmc-7-Glc-2pp-Man', 12),\n",
       " ('putative chlorinated lichen peptide', 11),\n",
       " ('Glycan Lacto-N-biose', 11),\n",
       " ('Contaminant vial septum ThermoFisher C5000-44B [IIN-based: Match]', 11),\n",
       " ('VitB12', 10),\n",
       " (\"Didodecyl 3,3'-thiodipropionate oxide\", 10),\n",
       " ('Diethyl phthalate', 10),\n",
       " ('TG(15:0/18:0/18:1)', 10),\n",
       " ('TG(16:1/17:0/18:1)', 10),\n",
       " ('PC(O-18:1/0:0)', 10),\n",
       " ('PC(P-16:0/20:5)', 10),\n",
       " ('PE(18:2/18:2)', 10),\n",
       " ('PE(P-16:0/20:1)', 10),\n",
       " ('DGTSA(16:0/16:0)', 10),\n",
       " ('PC(20:5/20:5)', 10),\n",
       " ('DGDG(16:2/18:3)', 10),\n",
       " ('SQDG(16:0/16:1)', 10),\n",
       " ('DG(18:1/20:5/0:0)', 10),\n",
       " ('TG(16:0/16:1/17:0)', 10),\n",
       " ('DGDG(18:2/18:2)', 10),\n",
       " ('TG(16:1/18:1/20:4)', 10),\n",
       " ('TG(16:1/16:1/17:0)', 10),\n",
       " ('Cer(d18:1/16:1)', 10),\n",
       " ('TG(16:0/18:1/20:0)', 10),\n",
       " ('TG(15:1/18:2/18:3)', 10),\n",
       " ('TG(18:1/20:3/20:4)', 10),\n",
       " ('TG(18:2/20:1/22:1)', 10),\n",
       " ('TG(18:1/20:0/22:1)', 10),\n",
       " ('TG(12:0/14:0/18:3)', 10),\n",
       " ('TG(16:0/18:2/22:5)', 10),\n",
       " ('TG(14:0/14:1/18:1)', 10),\n",
       " ('SQDG(16:1/18:3)', 10),\n",
       " ('DG(17:0/18:3/0:0)', 10),\n",
       " ('TG(18:2/18:3/20:3)', 10),\n",
       " ('PC(15:1/18:2)', 10),\n",
       " ('TG(17:2/18:3/18:3)', 10),\n",
       " ('TG(15:1/16:0/16:0)', 10),\n",
       " ('TG(18:2/18:3/22:0)', 10),\n",
       " ('PS(16:0/16:1)', 10),\n",
       " ('TG(16:1/17:1/22:6)', 10),\n",
       " ('TG(16:1/18:2/20:4)', 10),\n",
       " ('TG(18:1/20:4/22:4)', 10),\n",
       " ('TG(18:1/20:4/22:5)', 10),\n",
       " ('PE(P-16:0/16:1)', 10),\n",
       " ('PC(18:2/24:0)', 10),\n",
       " ('TG(14:0/20:4/22:6)', 10),\n",
       " ('Taurocholic acid  [IIN-based on: CCMSLIB00003135768]', 10),\n",
       " ('PI', 10),\n",
       " ('Hibiscin', 10),\n",
       " ('Mycophenolic', 9),\n",
       " ('Glycocholic acid  [IIN-based on: CCMSLIB00003139073]', 9),\n",
       " ('SMZ-AcOH', 9),\n",
       " ('Glucosyl (E,E)N(2-hydroxyhexadecanoyl)sphing-4,8-dienine', 9),\n",
       " ('Rhabdopeptide', 8),\n",
       " ('Dodecylbenzenesulfonic acid', 8),\n",
       " ('TG(18:0/18:1/20:0)', 8),\n",
       " ('DG(18:0/22:5/0:0)', 8),\n",
       " ('TG(16:1/20:4/22:6)', 8),\n",
       " ('TG(16:0/18:2/20:4)', 8),\n",
       " ('TG(8:0/16:0/18:1)', 8),\n",
       " ('DG(16:0/20:1/0:0)', 8),\n",
       " ('TG(20:4/20:4/22:6)', 8),\n",
       " ('DG(16:0/18:3/0:0)', 8),\n",
       " ('SQDG(16:0/18:2)', 8),\n",
       " ('DGTSA(17:0/17:0)', 8),\n",
       " ('DG(16:1/20:4/0:0)', 8),\n",
       " ('TG(14:0/15:1/16:0)', 8),\n",
       " ('DG(16:0/20:5/0:0)', 8),\n",
       " ('Cer(d18:1/26:0(2OH))', 8),\n",
       " ('TG(18:1/20:1/20:1)', 8),\n",
       " ('TG(16:0/18:1/20:3)', 8),\n",
       " ('TG(12:0/14:1/18:2)', 8),\n",
       " ('TG(14:0/18:1/22:6)', 8),\n",
       " ('SQDG(15:0/18:3)', 8),\n",
       " ('DGDG(15:0/18:3)', 8),\n",
       " ('TG(17:2/18:2/18:3)', 8),\n",
       " ('TG(18:3/18:3/19:1)', 8),\n",
       " ('DG(18:1/22:2/0:0)', 8),\n",
       " ('TG(18:1/18:1/22:2)', 8),\n",
       " ('TG(15:0/17:1/17:1)', 8),\n",
       " ('TG(16:0/18:0/20:3)', 8),\n",
       " ('TG(18:0/18:1/20:3)', 8),\n",
       " ('PC(16:2/18:1)', 8),\n",
       " ('TG(18:1/22:4/22:4)', 8),\n",
       " ('PC(20:1/20:1)', 8),\n",
       " ('PC(20:4/22:0)', 8),\n",
       " ('PE(P-18:0/20:1)', 8),\n",
       " ('TG(18:1/20:1/22:3)', 8),\n",
       " ('Tris(2-butoxyethyl) phosphate  [IIN-based on: CCMSLIB00003139119]', 8),\n",
       " ('Decaethylene glycol  [IIN-based on: CCMSLIB00003135910]', 8),\n",
       " ('IS_CARNITINE-TRIMETHYL-D9 M', 8),\n",
       " ('Pn 3-Gal', 8),\n",
       " ('Pn 3-Ara', 8),\n",
       " ('Calcium-dependent antibiotic 4a', 7),\n",
       " ('Mevastatin related ion observed in standard', 7),\n",
       " ('x', 7),\n",
       " ('Monolinolenin (9c,12c,15c)', 7),\n",
       " ('Glycan Le-A Trisaccharide', 7),\n",
       " ('Benzyltetradecyldimethylammonium', 7),\n",
       " ('Decaethylene glycol tridecyl ether', 7),\n",
       " ('Deoxycholic acid  [IIN-based on: CCMSLIB00003138541]', 7),\n",
       " ('Cy 3-Ara', 7),\n",
       " ('Nunapeptin B', 6),\n",
       " ('SVI-2129 informatipeptin cluster', 6),\n",
       " ('MS_Contaminant_Sodium_Formate_Cluster', 6),\n",
       " ('Rosmarinic acid', 6),\n",
       " ('AmoxacillinNa', 6),\n",
       " ('ClomifeneCitrate_1', 6),\n",
       " ('Oflaxacin', 6),\n",
       " ('Pimibendan', 6),\n",
       " ('CefproizlH2O', 6),\n",
       " ('p-Hydroxyphenyllactic acid', 6),\n",
       " ('N-Tetracosanoyl-4-sphingenyl-1-O-phosphorylcholine', 6),\n",
       " ('9Z,11E,13E-Octadecatrienoic acid methyl ester', 6),\n",
       " ('PC(16:1/17:2)', 6),\n",
       " ('DG(16:1/18:1/0:0)', 6),\n",
       " ('TG(16:2/18:2/18:2)', 6),\n",
       " ('TG(16:1/17:1/18:2)', 6),\n",
       " ('Cer(d20:1/24:0)', 6),\n",
       " ('TG(16:0/17:1/18:2)', 6),\n",
       " ('SM(d18:1/23:1)', 6),\n",
       " ('PC(18:1/22:2)', 6),\n",
       " ('TG(16:0/16:1/17:1)', 6),\n",
       " ('TG(16:0/16:0/20:3)', 6),\n",
       " ('TG(18:2/18:3/22:6)', 6),\n",
       " ('DGTSA(14:0/14:0)', 6),\n",
       " ('SQDG(16:0/20:5)', 6),\n",
       " ('PC(18:0/19:1)', 6),\n",
       " ('TG(16:4/18:3/18:4)', 6),\n",
       " ('TG(18:3/20:4/20:5)', 6),\n",
       " ('TG(18:1/18:3/20:4)', 6),\n",
       " ('PC(16:1/17:0)', 6),\n",
       " ('SQDG(16:0/16:2)', 6),\n",
       " ('SQDG(18:1/18:2)', 6),\n",
       " ('PC(16:0/19:1)', 6),\n",
       " ('TG(16:4/18:3/18:3)', 6),\n",
       " ('DGDG(16:1/16:1)', 6),\n",
       " ('SQDG(18:1/18:1)', 6),\n",
       " ('DGDG(16:0/16:1)', 6),\n",
       " ('TG(16:0/20:4/20:5)', 6),\n",
       " ('TG(14:0/15:0/18:1)', 6),\n",
       " ('DGTSA(16:0/18:1)', 6),\n",
       " ('DGTSA(16:1/18:1)', 6),\n",
       " ('TG(14:1/16:1/18:3)', 6),\n",
       " ('TG(16:2/18:2/18:3)', 6),\n",
       " ('TG(16:1/19:1/20:1)', 6),\n",
       " ('TG(14:1/18:1/18:3)', 6),\n",
       " ('TG(12:0/14:0/14:1)', 6),\n",
       " ('TG(16:0/18:1/20:5)', 6),\n",
       " ('TG(16:0/18:2/19:1)', 6),\n",
       " ('TG(16:1/18:0/18:2)', 6),\n",
       " ('TG(18:0/18:2/18:3)', 6),\n",
       " ('TG(14:1/18:1/18:2)', 6),\n",
       " ('SQDG(17:1/18:3)', 6),\n",
       " ('TG(18:3/18:3/22:1)', 6),\n",
       " ('TG(18:2/20:3/21:0)', 6),\n",
       " ('SQDG(18:1/18:3)', 6),\n",
       " ('SQDG(17:0/18:3)', 6),\n",
       " ('DGDG(17:1/18:3)', 6),\n",
       " ('TG(15:0/15:1/18:3)', 6),\n",
       " ('TG(18:2/18:3/19:1)', 6),\n",
       " ('TG(18:2/18:2/19:0)', 6),\n",
       " ('SQDG(18:2/18:2)', 6),\n",
       " ('PC(16:2/18:3)', 6),\n",
       " ('TG(18:3/18:3/22:2)', 6),\n",
       " ('TG(18:2/20:3/22:0)', 6),\n",
       " ('DGDG(17:0/18:2)', 6),\n",
       " ('TG(17:1/18:2/18:3)', 6),\n",
       " ('GalCer(d18:2/22:1)', 6),\n",
       " ('TG(15:1/16:0/18:3)', 6),\n",
       " ('TG(16:1/18:1/22:5)', 6),\n",
       " ('DG(18:1/22:5/0:0)', 6),\n",
       " ('TG(12:0/14:1/16:1)', 6),\n",
       " ('TG(14:0/18:2/20:4)', 6),\n",
       " ('TG(18:2/20:4/22:4)', 6),\n",
       " ('PC(O-16:1/18:0)', 6),\n",
       " ('PC(14:0/17:1)', 6),\n",
       " ('PC(16:1/22:5)', 6),\n",
       " ('TG(16:1/18:1/22:6)', 6),\n",
       " ('PC(22:1/0:0)', 6),\n",
       " ('PE(P-18:0/20:2)', 6),\n",
       " ('TG(18:0/18:1/20:1)', 6),\n",
       " ('PC(18:2/20:0)', 6),\n",
       " ('DG(20:1/22:1/0:0)', 6),\n",
       " ('Sphingomyelin (18:1/14:0) [IIN-based on: CCMSLIB00000223894]', 6),\n",
       " ('CLC_317.1417_14.6', 6),\n",
       " ('DEP_204.1384_15.1', 6),\n",
       " ('DEP_202.1225_16.0', 6),\n",
       " ('FEN_246.1101_16.9', 6),\n",
       " ('LID_251.1754_8.2', 6),\n",
       " ('MEX_178.1226_10.2', 6),\n",
       " ('NVE_280.1909_11.8', 6),\n",
       " ('NVE_278.1753_9.6', 6),\n",
       " ('NVE_278.1753_8.8', 6),\n",
       " ('4-[(6-methoxyquinolin-8-yl)amino]-4-oxobutanoic acid', 6),\n",
       " ('SPI_314.2691_15.4', 6),\n",
       " ('SPI_328.2485_15.0', 6),\n",
       " ('SPI_314.2691_12.0', 6),\n",
       " ('VEN_292.1908_8.8', 6),\n",
       " ('VEN_274.1801_10.6', 6),\n",
       " ('Glycerol Phosphate', 6),\n",
       " ('N-C2:0-Phytoceramide', 6),\n",
       " ('N-octanoylamino-4-octadecene-1, 3-diol', 6),\n",
       " ('6-Methylsulfinylhexyl isothiocyante', 6),\n",
       " ('9-Methylsulfinylnonnyl isothiocyanate', 6),\n",
       " ('6-Methylsulfonylhexyl isothiocyanate', 6),\n",
       " ('Glucosibarin', 6),\n",
       " ('cyclo(L-Leu-L-4-hydroxy-Pro)', 5),\n",
       " ('cyclo(Phe-4-hydroxy-Pro)', 5),\n",
       " ('cyclo(L-Phe-D-Pro)', 5),\n",
       " ('Calcium-dependent antibiotic 2b', 5),\n",
       " ('Calcium-dependent antibiotic (putative) Unk', 5),\n",
       " ('Thanapeptin D', 5),\n",
       " ('Simvastatin related molecule observed in standard', 5),\n",
       " ('RizatriptinBenzoate', 5),\n",
       " ('Cyclizine', 5),\n",
       " ('Chicoric acid', 5),\n",
       " ('p-tert-Octylphenol pentaglycol ether', 5),\n",
       " ('Coptisine cation', 5),\n",
       " ('Peonidin 3-O-glucoside cation', 5),\n",
       " ('Conjugated linoleic Acid (10E,12Z)  [IIN-based: Match]', 5),\n",
       " ('5(Z),8(Z),11(Z)-Eicosatrienoic acid methyl ester  [IIN-based on: CCMSLIB00003137415]',\n",
       "  5),\n",
       " ('Contaminant vial septum ThermoFisher C5000-44B [IIN-based on: CCMSLIB00005435824]',\n",
       "  5),\n",
       " ('Contaminant vial septum ThermoFisher C5000-44B [IIN-based on: CCMSLIB00005435822]',\n",
       "  5),\n",
       " ('Taurocholic acid  [IIN-based on: CCMSLIB00003134637]', 5),\n",
       " ('1-(9Z-Octadecenoyl)-sn-glycero-3-phosphocholine  [IIN-based on: CCMSLIB00003138526]',\n",
       "  5),\n",
       " ('Carboxyibuprofen [IIN-based on: CCMSLIB00000266535]', 5),\n",
       " ('Triphenyl phosphate  [IIN-based on: CCMSLIB00003138054]', 5),\n",
       " ('PRZ_M435', 5),\n",
       " ('PRI_273.1234_9.3', 5),\n",
       " ('SPI_328.2483_12.0', 5),\n",
       " ('SPI_312.2535_12.1', 5),\n",
       " ('Hydroferuloylglucose', 5),\n",
       " ('-', 5),\n",
       " ('(R)-3-Amino-4-phenylbutyric acid hydrochloride', 5),\n",
       " ('Hoiamide_A_p-bromobenzoyl_derivative', 4),\n",
       " ('N-phenethyltridecanamide', 4),\n",
       " ('Phormidamide', 4),\n",
       " ('Triacetylfusarinine C [Al3+]', 4),\n",
       " ('cyclo(-L-Phe-D-6-Hyp)', 4),\n",
       " ('cyclo(D-Trp-L-Pro)', 4),\n",
       " ('yohimbine A', 4),\n",
       " ('cyclo(L-Tyr-L-Pro)', 4),\n",
       " ('cyclo(L-Phe-L-4-Hyp)', 4),\n",
       " ('Polysaccharide Hexose x2', 4),\n",
       " ('Polysaccharide Hexose x3', 4),\n",
       " ('Polysaccharide Hexose x4', 4),\n",
       " ('Polysaccharide Hexose x5', 4),\n",
       " ('Surfactin (Putative) Unk', 4),\n",
       " ('Stendomycin (SHY-1600)', 4),\n",
       " ('Putative match to B.subtilis SKF', 4),\n",
       " ('Putative smenamide A/B analog', 4),\n",
       " ('3,5-Dihydroxy-2-methylphenyl beta-D-glucopyranoside', 4),\n",
       " ('N-deoxyfructosylacetyllysine_isomer2', 4),\n",
       " ('16a,17a-Dehydrodiscorhabdin W', 4),\n",
       " ('pamamycin', 4),\n",
       " ('1-Octadecanoyl-2-octadecenoyl-sn-glycero-3-phosphocholine', 4),\n",
       " ('3.beta.-Hydroxy-5-cholenoic acid', 4),\n",
       " (\"Glycan 3'-Sialyl-N-acetyllactosamine\", 4),\n",
       " (\".alpha.,.alpha.'-Dilaurin\", 4),\n",
       " ('p-tert-Octylphenol tetraglycol ether', 4),\n",
       " ('Berberine cation', 4),\n",
       " ('Dimethyl phthalate', 4),\n",
       " ('N-Lauroyl-D-erythro-sphinganine', 4),\n",
       " ('p-tert-Octylphenol heptaglycol ether', 4),\n",
       " ('Thiamine cation', 4),\n",
       " (\"S-(5'-Adenosyl)-L-methionine cation\", 4),\n",
       " ('Undecaethylene glycol tridecyl ether', 4),\n",
       " ('TG(16:1/17:2/18:2)', 4),\n",
       " ('TG(17:1/18:0/18:1)', 4),\n",
       " ('TG(16:1/18:0/22:0)', 4),\n",
       " ('PS(16:1/18:1)', 4),\n",
       " ('TG(8:0/16:1/18:1)', 4),\n",
       " ('TG(15:1/16:0/16:1)', 4),\n",
       " ('TG(16:0/18:2/20:3)', 4),\n",
       " ('DG(20:0/22:6/0:0)', 4),\n",
       " ('PC(P-16:0/18:3)', 4),\n",
       " ('TG(14:1/16:0/16:0)', 4),\n",
       " ('TG(18:0/18:0/20:3)', 4),\n",
       " ('TG(16:1/16:1/22:5)', 4),\n",
       " ('DGTSA(14:0/18:1)', 4),\n",
       " ('DGTSA(14:0/16:0)', 4),\n",
       " ('TG(14:0/16:0/18:3)', 4),\n",
       " ('DGDG(17:0/18:1)', 4),\n",
       " ('TG(18:3/20:5/20:5)', 4),\n",
       " ('MG(0:0/18:1/0:0)', 4),\n",
       " ('SQDG(16:1/16:1)', 4),\n",
       " ('DGDG(14:0/22:6)', 4),\n",
       " ('TG(18:3/18:4/20:5)', 4),\n",
       " ('SQDG(14:0/18:1)', 4),\n",
       " ('DGDG(14:0/18:1)', 4),\n",
       " ('PC(16:1/19:1)', 4),\n",
       " ('DGTSA(16:0/19:0)', 4),\n",
       " ('TG(14:0/16:0/17:1)', 4),\n",
       " ('SQDG(16:0/18:0)', 4),\n",
       " ('DG(16:1/18:3/0:0)', 4),\n",
       " ('DG(18:2/20:4/0:0)', 4),\n",
       " ('TG(14:0/16:1/18:3)', 4),\n",
       " ('TG(13:0/16:0/16:1)', 4),\n",
       " ('DGDG(16:2/20:5)', 4),\n",
       " ('TG(15:0/16:0/18:3)', 4),\n",
       " ('MG(0:0/20:4/0:0)', 4),\n",
       " ('TG(16:3/16:3/16:3)', 4),\n",
       " ('TG(16:3/16:3/18:3)', 4),\n",
       " ('TG(18:1/18:3/18:3)', 4),\n",
       " ('DGTSA(16:0/16:1)', 4),\n",
       " ('TG(18:2/18:3/22:1)', 4),\n",
       " ('TG(18:2/18:2/22:1)', 4),\n",
       " ('TG(14:1/15:1/15:1)', 4),\n",
       " ('TG(13:0/16:1/16:1)', 4),\n",
       " ('DG(16:1/20:5/0:0)', 4),\n",
       " ('TG(16:2/16:2/16:2)', 4),\n",
       " ('TG(16:0/18:1/22:1)', 4),\n",
       " ('TG(17:0/17:1/19:1)', 4),\n",
       " ('PC(P-16:0/22:4)', 4),\n",
       " ('PC(O-16:0/22:4)', 4),\n",
       " ('TG(16:0/17:0/18:2)', 4),\n",
       " ('TG(16:0/16:1/18:0)', 4),\n",
       " ('TG(17:0/18:1/18:3)', 4),\n",
       " ('TG(18:1/18:2/22:5)', 4),\n",
       " ('TG(8:0/18:1/18:1)', 4),\n",
       " ('TG(14:0/18:1/18:3)', 4),\n",
       " ('PC(O-18:0/22:5)', 4),\n",
       " ('TG(10:0/16:1/18:1)', 4),\n",
       " ('TG(14:1/16:1/18:1)', 4),\n",
       " ('TG(16:0/16:0/19:1)', 4),\n",
       " ('TG(16:0/22:5/22:6)', 4),\n",
       " ('TG(16:1/18:1/18:3)', 4),\n",
       " ('TG(17:0/18:2/18:2)', 4),\n",
       " ('TG(16:0/18:0/18:3)', 4),\n",
       " ('DGDG(18:3/20:3)', 4),\n",
       " ('SQDG(18:0/18:1)', 4),\n",
       " ('PC(18:3/20:1)', 4),\n",
       " ('CoQ8', 4),\n",
       " ('TG(17:0/18:3/18:3)', 4),\n",
       " ('TG(18:3/20:1/22:3)', 4),\n",
       " ('TG(18:3/20:1/22:0)', 4),\n",
       " ('PC(17:2/18:3)', 4),\n",
       " ('DG(18:4/18:2/0:0)', 4),\n",
       " ('DG(17:1/18:3/0:0)', 4),\n",
       " ('DG(18:2/20:1/0:0)', 4),\n",
       " ('DGTSA(16:0/16:4)', 4),\n",
       " ('PC(18:3/19:1)', 4),\n",
       " ('DG(14:0/18:3/0:0)', 4),\n",
       " ('DG(18:2/20:5/0:0)', 4),\n",
       " ('DG(19:1/18:2/0:0)', 4),\n",
       " ('TG(17:2/18:3/18:4)', 4),\n",
       " ('TG(18:2/18:3/20:5)', 4),\n",
       " ('TG(14:0/16:1/18:0)', 4),\n",
       " ('TG(18:2/18:2/19:1)', 4),\n",
       " ('TG(18:3/18:3/22:0)', 4),\n",
       " ('TG(18:3/21:0/22:2)', 4),\n",
       " ('TG(18:2/22:0/22:3)', 4),\n",
       " ('TG(17:0/18:2/22:0)', 4),\n",
       " ('TG(19:0/22:2/22:2)', 4),\n",
       " ('MG(18:2/0:0/0:0)', 4),\n",
       " ('TG(16:2/18:3/18:3)', 4),\n",
       " ('TG(16:0/16:1/20:3)', 4),\n",
       " ('TG(16:0/18:1/20:2)', 4),\n",
       " ('PC(14:1/16:1)', 4),\n",
       " ('PE(15:0/18:2)', 4),\n",
       " ('PC(18:2/20:3)', 4),\n",
       " ('TG(14:1/18:2/20:4)', 4),\n",
       " ('TG(14:0/20:4/20:4)', 4),\n",
       " ('TG(18:2/20:4/22:5)', 4),\n",
       " ('TG(20:4/20:4/22:4)', 4),\n",
       " ('TG(14:0/16:0/20:4)', 4),\n",
       " ('TG(14:0/16:1/17:0)', 4),\n",
       " ('TG(15:0/17:0/17:1)', 4),\n",
       " ('TG(18:1/20:1/22:0)', 4),\n",
       " ('PE(P-20:0/22:6)', 4),\n",
       " ('TG(16:0/17:1/20:4)', 4),\n",
       " ('TG(16:0/16:0/22:5)', 4),\n",
       " ('PC(16:2/14:0)', 4),\n",
       " ('TG(12:0/16:0/22:6)', 4),\n",
       " ('PC(19:1/22:1)', 4),\n",
       " ('PC(O-20:0/20:4)', 4),\n",
       " ('DG(16:1/20:3/0:0)', 4),\n",
       " ('TG(18:1/18:2/19:1)', 4),\n",
       " ('TG(16:0/18:0/22:1)', 4),\n",
       " ('PC(22:2/0:0)', 4),\n",
       " ('DG(18:2/20:3/0:0)', 4),\n",
       " ('TG(18:1/20:1/22:6)', 4),\n",
       " ('PC(20:1/20:3)', 4),\n",
       " ('DG(19:1/18:1/0:0)', 4),\n",
       " ('TG(18:1/20:1/22:5)', 4),\n",
       " ('TG(16:1/20:4/22:5)', 4),\n",
       " ('TG(16:1/18:0/20:4)', 4),\n",
       " ('TG(14:0/16:1/20:4)', 4),\n",
       " ('DG(18:0/20:1/0:0)', 4),\n",
       " ('TG(15:1/16:1/18:1)', 4),\n",
       " ('TG(18:3/22:6/22:6)', 4),\n",
       " ('TG(20:4/20:5/22:6)', 4),\n",
       " ('TG(16:0/18:3/22:6)', 4),\n",
       " ('TG(18:1/22:0/22:1)', 4),\n",
       " ('PE(20:4/22:4)', 4),\n",
       " ('Cer(d18:1/20:1)', 4),\n",
       " ('PC(18:2/22:0)', 4),\n",
       " ('Conjugated linoleic Acid (10E,12Z)  [IIN-based on: CCMSLIB00003139643]', 4),\n",
       " ('Nonaethylene glycol  [IIN-based on: CCMSLIB00003137287]', 4),\n",
       " ('Decaethylene glycol  [IIN-based: Match]', 4),\n",
       " ('Lyso-PC(16:0)  [IIN-based on: CCMSLIB00003135346]', 4),\n",
       " ('Hippuric acid  [IIN-based on: CCMSLIB00003137595]', 4),\n",
       " ('Undecaethylene glycol  [IIN-based: Match]', 4),\n",
       " ('Ethanol, 2-(2-butoxyethoxy)-  [IIN-based on: CCMSLIB00003135965]', 4),\n",
       " ('N-Lauroyl-D-erythro-sphingosylphosphorylcholine  [IIN-based on: CCMSLIB00003135723]',\n",
       "  4),\n",
       " ('VEN_294.2065_11.3', 4),\n",
       " ('IS_N-BENZOYL-D5-GLYCINE', 4),\n",
       " ('Malyngamide C acetate', 3),\n",
       " ('Stypoltrione', 3),\n",
       " ('Arenimycin A', 3),\n",
       " ('Bouillonamide B', 3),\n",
       " ('Janthielamide', 3),\n",
       " ('Hoiamide_A_triacetate', 3),\n",
       " ('Rha-Rha-C10-C10', 3),\n",
       " ('Triacetylfusarinine C [Fe3+]', 3),\n",
       " ('Tumanoic acid A', 3),\n",
       " ('Acyl desferrioxamine C10', 3),\n",
       " ('Acyl desferrioxamine C11', 3),\n",
       " ('Acyl desferrioxamine C12', 3),\n",
       " ('Glycopeptidolipid IIIa C67', 3),\n",
       " ('Plipastatin (multiple species) Unk', 3),\n",
       " ('Polysaccharide Hexose x6', 3),\n",
       " ('Polysaccharide Hexose x7', 3),\n",
       " ('Polysaccharide Hexose x8', 3),\n",
       " ('SCO-2138', 3),\n",
       " ('Surfactin minus Leucine', 3),\n",
       " ('Thanapeptin A', 3),\n",
       " ('Triacylglycerol (putative) Unk', 3),\n",
       " ('Stendomycin (SHY-1614)', 3),\n",
       " ('Lyso Platelet Activating Factor', 3),\n",
       " ('Putative novobiocin', 3),\n",
       " ('Sceptrin', 3),\n",
       " ('Actinomycin D-CDM-WM-IM', 3),\n",
       " ('Cycloheximide-CDM-WM', 3),\n",
       " ('Oligomycin A-CDM-IM', 3),\n",
       " ('Oligomycin B-CDM-IM', 3),\n",
       " ('legA', 3),\n",
       " ('Lovastatin related ion observed in standard', 3),\n",
       " ('Lovastatin related molecule observed in standard', 3),\n",
       " ('Contaminants septum vial Thermo C4000-53 and C4000-54 serie', 3),\n",
       " ('[2,3-di[octadeca-9,12-dienoyloxy]propoxy][2,3-dihydroxypropoxy]phosphinic acid',\n",
       "  3),\n",
       " ('[2,3-dihydroxypropoxy][2-[octadeca-9,12-dienoyloxy]-3-(octadecanoyloxy)propoxy]phosphinic acid',\n",
       "  3),\n",
       " ('[2,3-dihydroxypropoxy][3-(hexadecanoyloxy)-2-[octadec-9-enoyloxy]propoxy]phosphinic acid',\n",
       "  3),\n",
       " ('Penicanone B', 3),\n",
       " ('2-thiocyanatopupukeanane', 3),\n",
       " ('ClonidineHCl [homodimer]', 3),\n",
       " ('LoperamideHCl [37Cl]', 3),\n",
       " ('LoperamideHCl', 3),\n",
       " ('Emtricitabine [homodimer]', 3),\n",
       " ('Emtricitabine', 3),\n",
       " ('DesmethylErlotinib', 3),\n",
       " ('Clopidrogel', 3),\n",
       " ('Fenofibrate', 3),\n",
       " ('IrinotecanHClDiH2O', 3),\n",
       " ('Maybe Lenalidomide', 3),\n",
       " ('Likely Lenalidomide (2M+Na)+', 3),\n",
       " ('Likely Lenalidomide', 3),\n",
       " ('Fleroxactin', 3),\n",
       " ('Ethinoamide', 3),\n",
       " ('Ethyldibromo_dimethylaminopropyloxy_cinnamic', 3),\n",
       " ('Malvidin 3-O-galactoside cation', 3),\n",
       " ('Pinolenic acid', 3),\n",
       " ('Glycan 4.beta.-Galactobiose', 3),\n",
       " ('1-Hexadecanoyl-2-(9Z-octadecenoyl)-sn-glycero-3-phosphocholine', 3),\n",
       " (\"Glycan 3'-Galactosyllactose\", 3),\n",
       " ('1-Stearoyl-2-hydroxy-sn-glycero-3-phosphocholine', 3),\n",
       " ('Jatrorrhizine cation', 3),\n",
       " ('.beta.-Cryptoxanthin  M]', 3),\n",
       " ('26-Hydroxycholesterol-(25R)', 3),\n",
       " ('1-Palmitoyl-2-myristoyl-sn-glycero-3-phosphocholine', 3),\n",
       " ('11.beta.-Prostaglandin E2', 3),\n",
       " ('Incorrect annotation', 3),\n",
       " ('Peonidin 3-galactoside cation', 3),\n",
       " ('cis-5,8,11,14,17-Eicosapentaenoic acid', 3),\n",
       " ('p-tert-Octylphenol nonaglycol ether', 3),\n",
       " ('1-Eicosatrienoyl-sn-glycero-3-phosphoethanolamine', 3),\n",
       " ('p-tert-Octylphenol hexaglycol ether', 3),\n",
       " ('Glycan Le-X Trisaccharide', 3),\n",
       " ('.beta.-Gentiobiose', 3),\n",
       " ('1,3,4,6-Tetra-O-acetyl-.beta.-D-mannopyranose', 3),\n",
       " ('9-Oxo-10E,12Z-octadecadienoic acid', 3),\n",
       " ('1-Hexadecanoyl-2-sn-glycero-3-phosphate', 3),\n",
       " ('13-Docosenamide, (Z)-', 3),\n",
       " ('Desferrioxamine', 3),\n",
       " ('Eicosanoids_bicycloPGE1_C20H32O4', 3),\n",
       " ('L-Tryptophan  [IIN-based on: CCMSLIB00003136269]', 3),\n",
       " ('Nonaethylene glycol  [IIN-based: Match]', 3),\n",
       " ('Sulfadimethoxine  [IIN-based on: CCMSLIB00003138938]', 3),\n",
       " ('Lyso-PC(16:0)  [IIN-based on: CCMSLIB00003136631]', 3),\n",
       " ('Conjugated linoleic acid (9E,11E)  [IIN-based on: CCMSLIB00003138215]', 3),\n",
       " ('Dibutyl phthalate  [IIN-based on: CCMSLIB00003137108]', 3),\n",
       " ('13-Docosenamide, (Z)-  [IIN-based on: CCMSLIB00003139957]', 3),\n",
       " ('Taurocholic acid  [IIN-based: Match]', 3),\n",
       " ('1-Stearoyl-2-hydroxy-sn-glycero-3-phosphocholine  [IIN-based on: CCMSLIB00003139075]',\n",
       "  3),\n",
       " ('Undecaethylene glycol  [IIN-based on: CCMSLIB00003138750]', 3),\n",
       " ('Triethyl citrate  [IIN-based on: CCMSLIB00003135717]', 3),\n",
       " ('1,3-Dicyclohexylurea  [IIN-based on: CCMSLIB00003136080]', 3),\n",
       " ('Undecaethylene glycol  [IIN-based on: CCMSLIB00003135327]', 3),\n",
       " ('Nordihydrocapsaicin or Nonivamide [IIN-based on: CCMSLIB00003142412]', 3),\n",
       " ('Carnosol  [IIN-based on: CCMSLIB00003135524]', 3),\n",
       " ('4-methoxy-9-(2-methylbut-3-en-2-yl)furo[3,2-g]chromen-7-one', 3),\n",
       " ('fucosyltransferase V', 3),\n",
       " ('(2s,6as,12as)-6a-hydroxy-8,9-dimethoxy-2-(prop-1-en-2-yl)-1,2,12,12a-tetrahydrochromeno[3,4-b]furo[2,3-h]chromen-6(6ah)-one',\n",
       "  3),\n",
       " ('(1s)-1,5-anhydro-1-[2,4,6-trihydroxy-3-(4-hydroxybenzoyl)phenyl]-d-glucitol',\n",
       "  3),\n",
       " ('HERALENOL', 3),\n",
       " ('Sinapoylcholine dimer-isomer', 3),\n",
       " ('Sph', 3),\n",
       " ('6-Methylsulfenylhexyl isothiocyanate', 3),\n",
       " ('Halimide B', 2),\n",
       " ('unpublished peptide from CNL 643', 2),\n",
       " ('Glucopiericidin', 2),\n",
       " ('Microsporin C', 2),\n",
       " ('Salinisporazine A', 2),\n",
       " ('Actinoquinolone A', 2),\n",
       " ('Sagitol B (Putative Analogue)', 2),\n",
       " ('Ammosamide', 2),\n",
       " ('BouillonamideB', 2),\n",
       " ('Dilophic_acid_methyl_ester', 2),\n",
       " ('Kalkitoxin_thioamide_alcohol', 2),\n",
       " ('Trp_derivative', 2),\n",
       " ('Carmabin A in 3L', 2),\n",
       " ('Dudawalamide E', 2),\n",
       " ('Naopopeptin', 2),\n",
       " ('Microcystein_LR', 2),\n",
       " ('2-nonyl-3-hydroxy 4(1H)-quinolone ! 4-hydroxy-2-nonylquinoline N-oxide', 2),\n",
       " ('2-nonenyl-3-hydroxy 4(1H)-quinolone ! 4-hydroxy-2-nonenylquinoline N-oxide',\n",
       "  2),\n",
       " ('Rha-C10-C10', 2),\n",
       " ('Hoiamide A triacetate', 2),\n",
       " ('Tumanoic acid F', 2),\n",
       " ('Tumanoic acid G', 2),\n",
       " ('Epi-Tumanoic acid D', 2),\n",
       " ('Acylated phloroglucinol', 2),\n",
       " ('17-Ketostypolhydroperoxide', 2),\n",
       " ('Cymather aldehyde methyl ester', 2),\n",
       " ('\"R-4-benzyl-3-((R)-3-hydroxy-2,2-dimethyloctanoyl)-5,5-dimethyloxazolidin-2-one \"',\n",
       "  2),\n",
       " ('\"S-4-benzyl-3-((S)-3-hydroxy-2,2-dimethyloct-7-ynoyl)-5,5-dimethyloxazolidin-2-one\"',\n",
       "  2),\n",
       " ('\"R-4-benzyl-3-((R)-3-hydroxy-2,2-dimethyloct-7-ynoyl)-5,5-dimethyloxazolidin-2-one\"',\n",
       "  2),\n",
       " ('\"(2R,4R)-tert-butyl 2-phenyl-4-vinylthiazolidine-3-carboxylate\"', 2),\n",
       " ('Boc-Pro-Phe(NMe)-Gly-Ome', 2),\n",
       " ('Boc-Pro-DVal(NMe)-Val-OMe', 2),\n",
       " ('Boc-Phe(NMe)-Pro-Phe(NMe)-Gly-Ome', 2),\n",
       " ('Boc-Phe(NMe)-Gly-Ome', 2),\n",
       " ('methyl 2-((tert-butoxycarbonyl)amino)-5-oxohexanoate', 2),\n",
       " ('MeO-Gln(NHMe)-Val-Boc', 2),\n",
       " ('MeO-Gln(NMe2)-Val-Boc', 2),\n",
       " ('Kabiramide C', 2),\n",
       " ('Tanikolide_dimer', 2),\n",
       " ('\"(R,E) S-2-acetamido-13-(methylamino)-13-oxotridec-3-enyl-ethanethioate\"',\n",
       "  2),\n",
       " ('Nleu-Val-Boc', 2),\n",
       " ('Nleu-Val-hexanoate', 2),\n",
       " ('MeO-Glu(NHMe)-Val-hexanoate', 2),\n",
       " ('MeO-Glu(NMe2)-Val-hexanoate', 2),\n",
       " ('MeO-Gln(NHMe)-Boc', 2),\n",
       " ('MeO-Gln(NMe2)-Boc', 2),\n",
       " ('Epoxyketone p-Br-benzoate (Br81)', 2),\n",
       " ('Acyl desferrioxamine C13', 2),\n",
       " ('Acyl desferrioxamine C14', 2),\n",
       " ('Calcium-dependent antibiotic 3a', 2),\n",
       " ('Glycopeptidolipid IIIa C66', 2),\n",
       " ('Heme B / Porphyrin', 2),\n",
       " ('Hormaomycin 1 (non-chlorinated)', 2),\n",
       " ('Hormaomycin 1', 2),\n",
       " ('Hormaomycin J1 or J2', 2),\n",
       " ('Nunamycin A', 2),\n",
       " ('Nunapeptin A', 2),\n",
       " ('Phosphatidylethanolamine PSPE or diMaPE', 2),\n",
       " ('Polysaccharide Hexose x1', 2),\n",
       " ('Prodiginine dimer plus phosphate', 2),\n",
       " ('Sporulation killing factor (SKF)', 2),\n",
       " ('Streptorubin', 2),\n",
       " ('Thanapeptin B', 2),\n",
       " ('Thanapeptin (Putative) Unk', 2),\n",
       " ('Somocystinamide A byproduct', 2),\n",
       " ('Cymathere lactone', 2),\n",
       " ('Quinoline alkaloid', 2),\n",
       " ('Kalkitoxin thioamide alcohol', 2),\n",
       " ('\"4S, 5R-antillatoxin A\"', 2),\n",
       " ('DihydrofusarinC', 2),\n",
       " ('FusarinA', 2),\n",
       " ('open-chain_FusarinC', 2),\n",
       " ('Nordidemnin X', 2),\n",
       " ('SGR-1832', 2),\n",
       " ('SLI-2138', 2),\n",
       " ('Stendomycin (SHY-1586)', 2),\n",
       " (\"Bromoalterochromide A/A'\", 2),\n",
       " (\"Dibromoalterochromide A/A'\", 2),\n",
       " ('Informatipeptin', 2),\n",
       " ('Annotated based on similarity to SRO15-3162', 2),\n",
       " ('S. viridochromogenes DSM 40736 (6 Dehyd)TDGGGASTVSLLSCISAASVLLCL(+2) in the RippQuest paper',\n",
       "  2),\n",
       " ('Diazaquinomycin D', 2),\n",
       " ('cyclo-(Ala-4-hydroxy-Pro)', 2),\n",
       " ('Taromycin A', 2),\n",
       " ('cyclo-(L-Leu-L-Pro)', 2),\n",
       " ('Spectra matches to compound Tolaasin D', 2),\n",
       " ('Spectra matches to compound Orfamide A', 2),\n",
       " ('Iturin A C11', 2),\n",
       " ('Iturin A C12', 2),\n",
       " ('Iturin A C13', 2),\n",
       " ('polyaccetylated_Sugar', 2),\n",
       " ('PSM2_GIIKFIKGLIEKFTGK', 2),\n",
       " ('PSM2_IIAGIIKFIKGLIEKFTGK', 2),\n",
       " ('Hexose alcohol_Sorbitol', 2),\n",
       " ('Oroidin', 2),\n",
       " ('Purpuramine G', 2),\n",
       " ('Spongiacidin A', 2),\n",
       " ('Citreoviridin _120158', 2),\n",
       " ('PEG polymer', 2),\n",
       " ('DEET Diethyltoluamide)', 2),\n",
       " ('Conglobatin-BAW', 2),\n",
       " ('Trienomycin A-CDM', 2),\n",
       " ('Tunicamycin IV (B2) or V (A or B1)-CDM-BAW', 2),\n",
       " ('Ceramide (18:1/24:1)', 2),\n",
       " ('Unknown fatty acid', 2),\n",
       " ('Ursolic acid', 2),\n",
       " ('Dehydrated amphotericin B', 2),\n",
       " ('taxlllaid D', 2),\n",
       " ('Tobramycin related molecules', 2),\n",
       " ('DSF 311, 293, 283, 275, 265 Euphorbia diterpenoid', 2),\n",
       " ('quercetin-3-O-deoxyhexoside', 2),\n",
       " ('Pyrolnitrine', 2),\n",
       " ('NA', 2),\n",
       " ('1', 2),\n",
       " ('Simvastatin analogue putative detected in fungus', 2),\n",
       " ('Mevastatin related molecule observed in standard', 2),\n",
       " ('Pravastatin related molecule', 2),\n",
       " ('Simvastatin or Lovastatin related molecule observed in standard', 2),\n",
       " ('Lovastatin related molecule', 2),\n",
       " ('Lovastatin related ion', 2),\n",
       " ('Simvastatin related ion', 2),\n",
       " ('2,3-di(hexadecanoyloxy)propyl-octadec-9-enoate', 2),\n",
       " ('1,3-di(hexadecanoyloxy)propan-2-yl hexadecanoate', 2),\n",
       " ('2-amino-3-({[3-(hexadecanoyloxy)-2-[octadeca-9,12-dienoyloxy]propoxy](hydroxy)phosphoryl}oxy)propanoic acid',\n",
       "  2),\n",
       " ('2-hydroxy-3-(2-hydroxyacetoxy)propyl palmitate', 2),\n",
       " ('(2-aminoethoxy)[2-[docosa-4,7,10,13,16,19-hexaenoyloxy]-3-[octadec-1-en-1-yloxy]propoxy]phosphinic acid',\n",
       "  2),\n",
       " ('(2-aminoethoxy)[(2-[icosa-5,8,11,14-tetraenoyloxy]-3-(octadecanoyloxy)propoxy]phosphinic acid',\n",
       "  2),\n",
       " ('(2-aminoethoxy)[2-[octadeca-9,12-dienoyloxy]-3-(octadecanoyloxy)propoxy]phosphinic acid',\n",
       "  2),\n",
       " ('1-(((2-aminoethoxy)(hydroxy)phosphoryl)oxy)-3-(heptadecanoyloxy)propan-2-yl-icosa-5,8,11,14-tetraenoate',\n",
       "  2),\n",
       " ('1-(((2-aminoethoxy)(hydroxy)phosphoryl)oxy)-3-(dodecanoyloxy)propan-2-yl tridecanoate',\n",
       "  2),\n",
       " ('(2-{[2-[icosa-5,8,11,14-tetraenoyloxy]-3-[octadec-1-en-1-yloxy]propyl phosphonato]oxy}ethyl)trimethylazanium',\n",
       "  2),\n",
       " ('(2-{[3-(hexadecanoyloxy)-2-[icosa-5,8,11,14-tetraenoyloxy]propyl phosphonato]oxy}ethyl)trimethylazanium',\n",
       "  2),\n",
       " ('(2-{[3-(hexadecanoyloxy)-2-[octadec-9-enoyloxy]propyl phosphonato]oxy}ethyl)trimethylazanium',\n",
       "  2),\n",
       " ('(2-{[2,3-di(hexadecanoyloxy)propyl phosphono]oxy}ethyl)trimethylazanium',\n",
       "  2),\n",
       " ('Longicamphenylone', 2),\n",
       " ('Nomilinic acid 17-glucoside', 2),\n",
       " ('from_20190510_38094_HP20_12[M+H]_NAICONS', 2),\n",
       " ('Rivulariapeptolide 1008', 2),\n",
       " ('Sulfonolipid 2', 2),\n",
       " ('unknown CLP', 2),\n",
       " ('Betaine Lipid DGCC 16:0', 2),\n",
       " ('Discorhabdin B dimer', 2),\n",
       " ('dihydro-3-methylmethcathinone', 2),\n",
       " ('MInnamide_C', 2),\n",
       " ('Kinenzoline', 2),\n",
       " ('Alotamide_analog', 2),\n",
       " ('DG(18:1_18:1)', 2),\n",
       " ('N-[1,3-dihydroxyoctadec-4-en-2-yl]hexadecanamide', 2),\n",
       " ('DGTS/DGTA (34:1)', 2),\n",
       " ('DGTS/DGTA (33:1)', 2),\n",
       " ('1-deoxyceramide (d21:0/27:1)', 2),\n",
       " ('JWH-073 N-butanoic acid', 2),\n",
       " ('5alpha-methoxystrictamine', 2),\n",
       " ('alstoniascholarine F', 2),\n",
       " ('alstoniascholarine H', 2),\n",
       " ('Sitosterol_adduct', 2),\n",
       " ('Furosemide [disregard, poor intensity]', 2),\n",
       " ('Trifluiridine', 2),\n",
       " ('N-.alpha.-Acetyl-L-arginine', 2),\n",
       " ('Trolox', 2),\n",
       " ('Dimethyldioctadecylammonium cation', 2),\n",
       " ('9-Oxo-prosta-5Z,10,12Z,14E-tetraenoic acid', 2),\n",
       " ('4,4-Dimethylcholest-8(9),24-dien-3.beta.-ol', 2),\n",
       " ('Cyclohexasiloxane, dodecamethyl-', 2),\n",
       " ('(S)-Perillic acid', 2),\n",
       " ('Monoerucin', 2),\n",
       " ('Vecuronium cation  Cat+H]', 2),\n",
       " ('N-Stearoyl-4-sphingenyl-1-O-phosphorylcholine', 2),\n",
       " ('13,14-Dihydro-15-ketoprostaglandin J2', 2),\n",
       " ('N-Tetracosenoyl-4-sphingenyl-1-O-phosphorylcholine', 2),\n",
       " ('Pinolenic acid methyl ester', 2),\n",
       " ('Glycan 3.alpha.,4.beta.,3.alpha.-Galactotetraose', 2),\n",
       " ('KDdiA-PC', 2),\n",
       " ('Ursodeoxycholic acid', 2),\n",
       " ('Decanedioic acid, bis(2-ethylhexyl) ester', 2),\n",
       " ('1-(9Z-Octadecenoyl)-2-tetradecanoyl-sn-glycero-3-phosphocholine', 2),\n",
       " ('9,12-Octadecadiynoic Acid', 2),\n",
       " ('1,2-Dipalmitoleoyl-sn-glycero-3-phosphoethanolamine', 2),\n",
       " ('cis-7,10,13,16-Docosatetraenoic acid', 2),\n",
       " ('4-Hydroxynonenal glutathione', 2),\n",
       " ('3.alpha.,7.alpha.,12.alpha.-Trihydroxycholestanoic acid', 2),\n",
       " ('Nandrolone', 2),\n",
       " ('1-Stearoyl-2-hydroxy-sn-glycero-3-phosphoethanolamine', 2),\n",
       " ('.DELTA.12-Prostaglandin D2', 2),\n",
       " ('15-Deoxy-.DELTA.12,14-prostaglandin J2-2-glycerol ester', 2),\n",
       " ('(+-)-2-cis-4-trans-Abscisic acid', 2),\n",
       " ('.beta.-Cryptoxanthin', 2),\n",
       " ('Glycan 3.alpha.-Galactobiose', 2),\n",
       " (\"3,5,3',5'-Tetra-tert-butyldiphenoquinone\", 2),\n",
       " ('8,9-Dihydroxy-5Z,11Z,14Z-eicosatrienoic acid', 2),\n",
       " ('Chelerythrine cation', 2),\n",
       " ('Glycan 4.alpha.-Mannobiose', 2),\n",
       " ('Eicosanoids_15kPGF2?_C20H32O5', 2),\n",
       " ('Eicosanoids_dihomoPGF2?_C22H38O5', 2),\n",
       " ('GalCer(d18:2/16:2)', 2),\n",
       " ('CoQ4', 2),\n",
       " ('TG(16:1/16:1/17:2)', 2),\n",
       " ('PE(16:2/18:2)', 2),\n",
       " ('TG(16:2/18:1/18:2)', 2),\n",
       " ('TG(17:2/18:1/18:2)', 2),\n",
       " ('TG(18:1/18:2/20:2)', 2),\n",
       " ('DG(18:1/20:0/0:0)', 2),\n",
       " ('TG(17:2/18:1/18:1)', 2),\n",
       " ('TG(16:0/16:0/17:2)', 2),\n",
       " ('TG(17:1/18:0/18:0)', 2),\n",
       " ('PE(P-16:0/18:3)', 2),\n",
       " ('PC(O-16:1/0:0)', 2),\n",
       " ('TG(15:0/15:0/17:1)', 2),\n",
       " ('TG(18:0/20:0/20:4)', 2),\n",
       " ('PE(P-18:0/18:3)', 2),\n",
       " ('TG(15:0/18:1/22:6)', 2),\n",
       " ('TG(18:0/22:5/22:5)', 2),\n",
       " ('TG(18:0/18:0/20:1)', 2),\n",
       " ('TG(15:0/16:0/20:4)', 2),\n",
       " ('TG(16:0/17:0/22:6)', 2),\n",
       " ('DGDG(16:4/20:5)', 2),\n",
       " ('SQDG(14:0/16:2)', 2),\n",
       " ('SQDG(14:0/20:5)', 2),\n",
       " ('DGDG(16:3/20:5)', 2),\n",
       " ('SQDG(15:0/20:5)', 2),\n",
       " ('SQDG(17:1/18:1)', 2),\n",
       " ('SQDG(17:0/18:1)', 2),\n",
       " ('TG(16:4/20:5/20:5)', 2),\n",
       " ('TG(16:3/20:5/20:5)', 2),\n",
       " ('TG(16:2/18:3/18:4)', 2),\n",
       " ('TG(18:1/20:5/20:5)', 2),\n",
       " ('Cer(d19:1/17:1)', 2),\n",
       " ('Cer(d19:1/18:1)', 2),\n",
       " ('DGDG(18:4/20:5)', 2),\n",
       " ('MGDG(16:4/18:3)', 2),\n",
       " ('SQDG(14:0/20:3)', 2),\n",
       " ('DGDG(18:3/20:5)', 2),\n",
       " ('DGDG(14:0/20:5)', 2),\n",
       " ('MGDG(20:5/18:4)', 2),\n",
       " ('MGDG(16:3/20:4)', 2),\n",
       " ('DGDG(16:0/18:4)', 2),\n",
       " ('DGTSA(17:0/19:0)', 2),\n",
       " ...]"
      ]
     },
     "execution_count": 239,
     "metadata": {},
     "output_type": "execute_result"
    }
   ],
   "source": [
    "from collections import Counter\n",
    "comp_names = Counter(s.metadata.get('compound_name') for s in spectrums_unan)\n",
    "\n",
    "print(len(comp_names))\n",
    "comp_names.most_common()"
   ]
  }
 ],
 "metadata": {
  "kernelspec": {
   "display_name": "Python 3 (ipykernel)",
   "language": "python",
   "name": "python3"
  },
  "language_info": {
   "codemirror_mode": {
    "name": "ipython",
    "version": 3
   },
   "file_extension": ".py",
   "mimetype": "text/x-python",
   "name": "python",
   "nbconvert_exporter": "python",
   "pygments_lexer": "ipython3",
   "version": "3.8.8"
  }
 },
 "nbformat": 4,
 "nbformat_minor": 5
}
