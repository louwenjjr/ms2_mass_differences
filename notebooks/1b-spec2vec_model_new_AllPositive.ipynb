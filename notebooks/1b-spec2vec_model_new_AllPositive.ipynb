{
 "cells": [
  {
   "cell_type": "markdown",
   "id": "tracked-namibia",
   "metadata": {},
   "source": [
    "# Summary\n",
    "Notebook to train Spec2Vec model for new AllPositive version"
   ]
  },
  {
   "cell_type": "code",
   "execution_count": 2,
   "id": "steady-karma",
   "metadata": {},
   "outputs": [],
   "source": [
    "import os\n",
    "import gensim\n",
    "import pickle\n",
    "import time\n",
    "import sys\n",
    "import numpy as np\n",
    "import pandas as pd\n",
    "from matplotlib import pyplot as plt\n",
    "from typing import Tuple, List\n",
    "from copy import deepcopy\n",
    "\n",
    "data_path = \"/mnt/scratch/louwe015/Mass_differences/data/\""
   ]
  },
  {
   "cell_type": "code",
   "execution_count": 3,
   "id": "biological-david",
   "metadata": {},
   "outputs": [
    {
     "name": "stdout",
     "output_type": "stream",
     "text": [
      "ALL_GNPS_210125_positive_cleaned_by_matchms_and_lookups\n"
     ]
    }
   ],
   "source": [
    "all_pos_version1 = False\n",
    "if all_pos_version1:\n",
    "    all_pos = \"gnps_positive_ionmode_cleaned_by_matchms_and_lookups\"\n",
    "else:\n",
    "    all_pos = \"ALL_GNPS_210125_positive_cleaned_by_matchms_and_lookups\"\n",
    "\n",
    "print(all_pos)"
   ]
  },
  {
   "cell_type": "markdown",
   "id": "impressive-mounting",
   "metadata": {},
   "source": [
    "## Reading spectra"
   ]
  },
  {
   "cell_type": "code",
   "execution_count": 4,
   "id": "accurate-structure",
   "metadata": {},
   "outputs": [],
   "source": [
    "all_positive_file = os.path.join(data_path, all_pos + \".pickle\")\n",
    "if os.path.exists(all_positive_file):\n",
    "    with open(all_positive_file, 'rb') as inf:\n",
    "        spectrums = pickle.load(inf)  # list of matchms.Spectrum.Spectrum\n",
    "else:\n",
    "    print(\"error\")"
   ]
  },
  {
   "cell_type": "code",
   "execution_count": 5,
   "id": "subtle-packaging",
   "metadata": {},
   "outputs": [
    {
     "name": "stdout",
     "output_type": "stream",
     "text": [
      "number of spectra: 144691\n"
     ]
    }
   ],
   "source": [
    "print(\"number of spectra:\", len(spectrums))"
   ]
  },
  {
   "cell_type": "markdown",
   "id": "distinguished-internet",
   "metadata": {},
   "source": [
    "## Preprocessing"
   ]
  },
  {
   "cell_type": "code",
   "execution_count": 6,
   "id": "fatal-thread",
   "metadata": {},
   "outputs": [
    {
     "name": "stdout",
     "output_type": "stream",
     "text": [
      "115388 remaining spectra in normally processed data for s2v.\n"
     ]
    }
   ],
   "source": [
    "from matchms.filtering import normalize_intensities\n",
    "from matchms.filtering import select_by_mz\n",
    "from matchms.filtering import require_minimum_number_of_peaks\n",
    "from matchms.filtering import select_by_relative_intensity\n",
    "from matchms.filtering import reduce_to_number_of_peaks\n",
    "from matchms.filtering import add_losses\n",
    "\n",
    "def post_process_normal(s, min_peaks=10):\n",
    "    s = normalize_intensities(s)\n",
    "    s = select_by_mz(s, mz_from=0, mz_to=1000)\n",
    "    s = require_minimum_number_of_peaks(s, n_required=min_peaks)\n",
    "    s = reduce_to_number_of_peaks(s, n_required=min_peaks, ratio_desired=0.5)\n",
    "    if s is None:\n",
    "        return None\n",
    "    #remove low peaks unless less than 10 peaks are left\n",
    "    s_remove_low_peaks = select_by_relative_intensity(s, intensity_from=0.001)\n",
    "    if len(s_remove_low_peaks.peaks) >= 10:\n",
    "        s = s_remove_low_peaks\n",
    "    #add losses to normally processed spectra\n",
    "    s = add_losses(s, loss_mz_from=5.0, loss_mz_to=200.0)\n",
    "    return s\n",
    "\n",
    "spectrums_processed = []\n",
    "for spec in spectrums:\n",
    "    s_normal = post_process_normal(spec)\n",
    "    if s_normal is not None:\n",
    "        spectrums_processed.append(s_normal)\n",
    "print(\"{} remaining spectra in normally processed data for s2v.\".format(len(spectrums_processed)))"
   ]
  },
  {
   "cell_type": "markdown",
   "id": "tracked-shelf",
   "metadata": {},
   "source": [
    "## Spec2Vec processing into SpectrumDocuments"
   ]
  },
  {
   "cell_type": "code",
   "execution_count": 7,
   "id": "described-bidding",
   "metadata": {},
   "outputs": [],
   "source": [
    "from spec2vec import SpectrumDocument\n",
    "documents_spectrums_processed = [SpectrumDocument(s, n_decimals=2) for s in spectrums_processed]"
   ]
  },
  {
   "cell_type": "code",
   "execution_count": 8,
   "id": "sharp-agriculture",
   "metadata": {},
   "outputs": [
    {
     "name": "stdout",
     "output_type": "stream",
     "text": [
      "115388\n"
     ]
    }
   ],
   "source": [
    "print(len(documents_spectrums_processed))"
   ]
  },
  {
   "cell_type": "markdown",
   "id": "induced-substance",
   "metadata": {},
   "source": [
    "## Train Spec2Vec model with default parameters"
   ]
  },
  {
   "cell_type": "code",
   "execution_count": 9,
   "id": "diverse-astrology",
   "metadata": {},
   "outputs": [
    {
     "name": "stdout",
     "output_type": "stream",
     "text": [
      "  Epoch 1 of 20.Change in loss after epoch 1: 6127955.0\n",
      "Saving model with name: /mnt/scratch/louwe015/Mass_differences/data/trained_models/ALL_GNPS_210125_positive_cleaned_by_matchms_and_lookups_spec2vec_embedding_iter_1.model\n",
      "  Epoch 2 of 20.Change in loss after epoch 2: 4617147.0\n",
      "  Epoch 3 of 20.Change in loss after epoch 3: 4132037.0\n",
      "Saving model with name: /mnt/scratch/louwe015/Mass_differences/data/trained_models/ALL_GNPS_210125_positive_cleaned_by_matchms_and_lookups_spec2vec_embedding_iter_3.model\n",
      "  Epoch 4 of 20.Change in loss after epoch 4: 3615045.0\n",
      "  Epoch 5 of 20.Change in loss after epoch 5: 3164398.0\n",
      "Saving model with name: /mnt/scratch/louwe015/Mass_differences/data/trained_models/ALL_GNPS_210125_positive_cleaned_by_matchms_and_lookups_spec2vec_embedding_iter_5.model\n",
      "  Epoch 6 of 20.Change in loss after epoch 6: 3102232.0\n",
      "  Epoch 7 of 20.Change in loss after epoch 7: 2972210.0\n",
      "  Epoch 8 of 20.Change in loss after epoch 8: 2874354.0\n",
      "  Epoch 9 of 20.Change in loss after epoch 9: 2813824.0\n",
      "  Epoch 10 of 20.Change in loss after epoch 10: 1835218.0\n",
      "Saving model with name: /mnt/scratch/louwe015/Mass_differences/data/trained_models/ALL_GNPS_210125_positive_cleaned_by_matchms_and_lookups_spec2vec_embedding_iter_10.model\n",
      "  Epoch 11 of 20.Change in loss after epoch 11: 1769040.0\n",
      "  Epoch 12 of 20.Change in loss after epoch 12: 1741000.0\n",
      "  Epoch 13 of 20.Change in loss after epoch 13: 1699352.0\n",
      "  Epoch 14 of 20.Change in loss after epoch 14: 1708180.0\n",
      "  Epoch 15 of 20.Change in loss after epoch 15: 1667600.0\n",
      "Saving model with name: /mnt/scratch/louwe015/Mass_differences/data/trained_models/ALL_GNPS_210125_positive_cleaned_by_matchms_and_lookups_spec2vec_embedding_iter_15.model\n",
      "  Epoch 16 of 20.Change in loss after epoch 16: 1642800.0\n",
      "  Epoch 17 of 20.Change in loss after epoch 17: 1654832.0\n",
      "  Epoch 18 of 20.Change in loss after epoch 18: 1637352.0\n",
      "  Epoch 19 of 20.Change in loss after epoch 19: 1612288.0\n",
      "  Epoch 20 of 20.Change in loss after epoch 20: 1609992.0\n",
      "Saving model with name: /mnt/scratch/louwe015/Mass_differences/data/trained_models/ALL_GNPS_210125_positive_cleaned_by_matchms_and_lookups_spec2vec_embedding.model\n"
     ]
    }
   ],
   "source": [
    "from spec2vec.model_building import train_new_word2vec_model\n",
    "\n",
    "path_models = os.path.join(data_path, \"trained_models\")\n",
    "model_file = os.path.join(path_models, all_pos+\"_spec2vec_embedding.model\")\n",
    "\n",
    "iterations = [1, 3, 5, 10, 15, 20]\n",
    "# Train model with default parameters\n",
    "model = train_new_word2vec_model(documents_spectrums_processed, iterations, model_file)"
   ]
  }
 ],
 "metadata": {
  "kernelspec": {
   "display_name": "Python 3",
   "language": "python",
   "name": "python3"
  },
  "language_info": {
   "codemirror_mode": {
    "name": "ipython",
    "version": 3
   },
   "file_extension": ".py",
   "mimetype": "text/x-python",
   "name": "python",
   "nbconvert_exporter": "python",
   "pygments_lexer": "ipython3",
   "version": "3.7.9"
  }
 },
 "nbformat": 4,
 "nbformat_minor": 5
}
