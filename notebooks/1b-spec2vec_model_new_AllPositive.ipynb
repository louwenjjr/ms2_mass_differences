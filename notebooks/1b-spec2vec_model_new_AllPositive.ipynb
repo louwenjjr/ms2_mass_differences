{
 "cells": [
  {
   "cell_type": "markdown",
   "id": "tracked-namibia",
   "metadata": {},
   "source": [
    "# Summary\n",
    "Notebook to train Spec2Vec model for new AllPositive version"
   ]
  },
  {
   "cell_type": "code",
   "execution_count": 1,
   "id": "steady-karma",
   "metadata": {},
   "outputs": [],
   "source": [
    "import os\n",
    "import gensim\n",
    "import pickle\n",
    "import time\n",
    "import sys\n",
    "import numpy as np\n",
    "import pandas as pd\n",
    "from matplotlib import pyplot as plt\n",
    "from typing import Tuple, List\n",
    "from copy import deepcopy\n",
    "\n",
    "data_path = \"/mnt/scratch/louwe015/Mass_differences/data/\""
   ]
  },
  {
   "cell_type": "code",
   "execution_count": 3,
   "id": "biological-david",
   "metadata": {},
   "outputs": [
    {
     "name": "stdout",
     "output_type": "stream",
     "text": [
      "ALL_GNPS_210125_positive_cleaned_by_matchms_and_lookups\n"
     ]
    }
   ],
   "source": [
    "all_pos_version1 = False\n",
    "if all_pos_version1:\n",
    "    all_pos = \"gnps_positive_ionmode_cleaned_by_matchms_and_lookups\"\n",
    "else:\n",
    "    all_pos = \"ALL_GNPS_210125_positive_cleaned_by_matchms_and_lookups\"\n",
    "\n",
    "print(all_pos)"
   ]
  },
  {
   "cell_type": "markdown",
   "id": "impressive-mounting",
   "metadata": {},
   "source": [
    "## Reading spectra"
   ]
  },
  {
   "cell_type": "code",
   "execution_count": 4,
   "id": "accurate-structure",
   "metadata": {},
   "outputs": [],
   "source": [
    "all_positive_file = os.path.join(data_path, all_pos + \".pickle\")\n",
    "if os.path.exists(all_positive_file):\n",
    "    with open(all_positive_file, 'rb') as inf:\n",
    "        spectrums = pickle.load(inf)  # list of matchms.Spectrum.Spectrum\n",
    "else:\n",
    "    print(\"error\")"
   ]
  },
  {
   "cell_type": "code",
   "execution_count": 5,
   "id": "subtle-packaging",
   "metadata": {},
   "outputs": [
    {
     "name": "stdout",
     "output_type": "stream",
     "text": [
      "number of spectra: 144691\n"
     ]
    }
   ],
   "source": [
    "print(\"number of spectra:\", len(spectrums))"
   ]
  },
  {
   "cell_type": "markdown",
   "id": "distinguished-internet",
   "metadata": {},
   "source": [
    "## Preprocessing"
   ]
  },
  {
   "cell_type": "code",
   "execution_count": 47,
   "id": "5e558357",
   "metadata": {},
   "outputs": [],
   "source": [
    "from matchms.filtering import normalize_intensities\n",
    "from matchms.filtering import select_by_mz\n",
    "from matchms.filtering import require_minimum_number_of_peaks\n",
    "from matchms.filtering import select_by_relative_intensity\n",
    "from matchms.filtering import reduce_to_number_of_peaks\n",
    "from matchms.filtering import add_losses\n",
    "\n",
    "def post_process_normal(s, min_peaks=10):\n",
    "    s = normalize_intensities(s)\n",
    "    if any(np.isnan(s.peaks[1])):\n",
    "        return None  # remove spectra that have max intensity of 0 (all intensities 0)\n",
    "    s = select_by_mz(s, mz_from=0, mz_to=1000)\n",
    "    s = require_minimum_number_of_peaks(s, n_required=min_peaks)\n",
    "    s = reduce_to_number_of_peaks(s, n_required=min_peaks, ratio_desired=0.5)\n",
    "    if s is None:\n",
    "        return None\n",
    "    #remove low peaks unless less than 10 peaks are left\n",
    "    s_remove_low_peaks = select_by_relative_intensity(s, intensity_from=0.001)\n",
    "    if len(s_remove_low_peaks.peaks) >= 10:\n",
    "        s = s_remove_low_peaks\n",
    "    #add losses to normally processed spectra\n",
    "    s = add_losses(s, loss_mz_from=5.0, loss_mz_to=200.0)\n",
    "    return s"
   ]
  },
  {
   "cell_type": "code",
   "execution_count": 6,
   "id": "fatal-thread",
   "metadata": {},
   "outputs": [
    {
     "name": "stdout",
     "output_type": "stream",
     "text": [
      "115388 remaining spectra in normally processed data for s2v.\n"
     ]
    }
   ],
   "source": [
    "spectrums_processed = []\n",
    "for spec in spectrums:\n",
    "    s_normal = post_process_normal(spec)\n",
    "    if s_normal is not None:\n",
    "        spectrums_processed.append(s_normal)\n",
    "print(\"{} remaining spectra in normally processed data for s2v.\".format(len(spectrums_processed)))"
   ]
  },
  {
   "cell_type": "markdown",
   "id": "tracked-shelf",
   "metadata": {},
   "source": [
    "## Spec2Vec processing into SpectrumDocuments"
   ]
  },
  {
   "cell_type": "code",
   "execution_count": 7,
   "id": "described-bidding",
   "metadata": {},
   "outputs": [],
   "source": [
    "from spec2vec import SpectrumDocument\n",
    "documents_spectrums_processed = [SpectrumDocument(s, n_decimals=2) for s in spectrums_processed]"
   ]
  },
  {
   "cell_type": "code",
   "execution_count": 8,
   "id": "sharp-agriculture",
   "metadata": {},
   "outputs": [
    {
     "name": "stdout",
     "output_type": "stream",
     "text": [
      "115388\n"
     ]
    }
   ],
   "source": [
    "print(len(documents_spectrums_processed))"
   ]
  },
  {
   "cell_type": "markdown",
   "id": "induced-substance",
   "metadata": {},
   "source": [
    "## Train Spec2Vec model with default parameters"
   ]
  },
  {
   "cell_type": "code",
   "execution_count": 9,
   "id": "diverse-astrology",
   "metadata": {},
   "outputs": [
    {
     "name": "stdout",
     "output_type": "stream",
     "text": [
      "  Epoch 1 of 20.Change in loss after epoch 1: 6127955.0\n",
      "Saving model with name: /mnt/scratch/louwe015/Mass_differences/data/trained_models/ALL_GNPS_210125_positive_cleaned_by_matchms_and_lookups_spec2vec_embedding_iter_1.model\n",
      "  Epoch 2 of 20.Change in loss after epoch 2: 4617147.0\n",
      "  Epoch 3 of 20.Change in loss after epoch 3: 4132037.0\n",
      "Saving model with name: /mnt/scratch/louwe015/Mass_differences/data/trained_models/ALL_GNPS_210125_positive_cleaned_by_matchms_and_lookups_spec2vec_embedding_iter_3.model\n",
      "  Epoch 4 of 20.Change in loss after epoch 4: 3615045.0\n",
      "  Epoch 5 of 20.Change in loss after epoch 5: 3164398.0\n",
      "Saving model with name: /mnt/scratch/louwe015/Mass_differences/data/trained_models/ALL_GNPS_210125_positive_cleaned_by_matchms_and_lookups_spec2vec_embedding_iter_5.model\n",
      "  Epoch 6 of 20.Change in loss after epoch 6: 3102232.0\n",
      "  Epoch 7 of 20.Change in loss after epoch 7: 2972210.0\n",
      "  Epoch 8 of 20.Change in loss after epoch 8: 2874354.0\n",
      "  Epoch 9 of 20.Change in loss after epoch 9: 2813824.0\n",
      "  Epoch 10 of 20.Change in loss after epoch 10: 1835218.0\n",
      "Saving model with name: /mnt/scratch/louwe015/Mass_differences/data/trained_models/ALL_GNPS_210125_positive_cleaned_by_matchms_and_lookups_spec2vec_embedding_iter_10.model\n",
      "  Epoch 11 of 20.Change in loss after epoch 11: 1769040.0\n",
      "  Epoch 12 of 20.Change in loss after epoch 12: 1741000.0\n",
      "  Epoch 13 of 20.Change in loss after epoch 13: 1699352.0\n",
      "  Epoch 14 of 20.Change in loss after epoch 14: 1708180.0\n",
      "  Epoch 15 of 20.Change in loss after epoch 15: 1667600.0\n",
      "Saving model with name: /mnt/scratch/louwe015/Mass_differences/data/trained_models/ALL_GNPS_210125_positive_cleaned_by_matchms_and_lookups_spec2vec_embedding_iter_15.model\n",
      "  Epoch 16 of 20.Change in loss after epoch 16: 1642800.0\n",
      "  Epoch 17 of 20.Change in loss after epoch 17: 1654832.0\n",
      "  Epoch 18 of 20.Change in loss after epoch 18: 1637352.0\n",
      "  Epoch 19 of 20.Change in loss after epoch 19: 1612288.0\n",
      "  Epoch 20 of 20.Change in loss after epoch 20: 1609992.0\n",
      "Saving model with name: /mnt/scratch/louwe015/Mass_differences/data/trained_models/ALL_GNPS_210125_positive_cleaned_by_matchms_and_lookups_spec2vec_embedding.model\n"
     ]
    }
   ],
   "source": [
    "from spec2vec.model_building import train_new_word2vec_model\n",
    "\n",
    "path_models = os.path.join(data_path, \"trained_models\")\n",
    "model_file = os.path.join(path_models, all_pos+\"_spec2vec_embedding.model\")\n",
    "\n",
    "iterations = [1, 3, 5, 10, 15, 20]\n",
    "# Train model with default parameters\n",
    "model = train_new_word2vec_model(documents_spectrums_processed, iterations, model_file)"
   ]
  },
  {
   "cell_type": "markdown",
   "id": "ede266ff",
   "metadata": {},
   "source": [
    "# New version (april 2021)\n",
    "-Also include UniqueInchikey"
   ]
  },
  {
   "cell_type": "code",
   "execution_count": 59,
   "id": "448bc856",
   "metadata": {},
   "outputs": [
    {
     "data": {
      "text/plain": [
       "True"
      ]
     },
     "execution_count": 59,
     "metadata": {},
     "output_type": "execute_result"
    }
   ],
   "source": [
    "data_path = \"/mnt/LTR_userdata/hooft001/mass_spectral_embeddings/datasets/ALL_GNPS_210409_positive/\"\n",
    "embedding_path = \"/mnt/LTR_userdata/hooft001/mass_spectral_embeddings/embeddings/ALL_GNPS_210409_positive/\"\n",
    "\n",
    "base = \"ALL_GNPS_210409_positive_cleaned\"\n",
    "spectrum_file = os.path.join(data_path, base+\".pickle\")\n",
    "os.path.exists(spectrum_file)"
   ]
  },
  {
   "cell_type": "markdown",
   "id": "50aeb327",
   "metadata": {},
   "source": [
    "### Read spectra"
   ]
  },
  {
   "cell_type": "code",
   "execution_count": 4,
   "id": "a9efdaa0",
   "metadata": {},
   "outputs": [],
   "source": [
    "if os.path.exists(spectrum_file):\n",
    "    with open(spectrum_file, 'rb') as inf:\n",
    "        spectrums = pickle.load(inf)  # list of matchms.Spectrum.Spectrum\n",
    "else:\n",
    "    print(\"error\")"
   ]
  },
  {
   "cell_type": "code",
   "execution_count": 6,
   "id": "6c8e0c18",
   "metadata": {},
   "outputs": [
    {
     "name": "stdout",
     "output_type": "stream",
     "text": [
      "373405\n"
     ]
    }
   ],
   "source": [
    "print(len(spectrums))"
   ]
  },
  {
   "cell_type": "markdown",
   "id": "b0c80057",
   "metadata": {},
   "source": [
    "### Process spectra + save"
   ]
  },
  {
   "cell_type": "code",
   "execution_count": 48,
   "id": "9bf7bf65",
   "metadata": {},
   "outputs": [
    {
     "name": "stdout",
     "output_type": "stream",
     "text": [
      "199780 remaining spectra in normally processed data for s2v.\n"
     ]
    }
   ],
   "source": [
    "spectrums_processed = []\n",
    "for spec in spectrums:\n",
    "    s_normal = post_process_normal(spec)\n",
    "    if s_normal is not None:\n",
    "        spectrums_processed.append(s_normal)\n",
    "print(\"{} remaining spectra in normally processed data for s2v.\".format(len(spectrums_processed)))"
   ]
  },
  {
   "cell_type": "code",
   "execution_count": 49,
   "id": "f5aa8917",
   "metadata": {},
   "outputs": [],
   "source": [
    "processed_spectrums_file = os.path.join(data_path, \"ALL_GNPS_210409_positive_cleaned_peaks_processed_s2v.pickle\")\n",
    "with open(processed_spectrums_file, 'wb') as outf:\n",
    "    pickle.dump(spectrums_processed, outf)"
   ]
  },
  {
   "cell_type": "markdown",
   "id": "4a50c640",
   "metadata": {},
   "source": [
    "### Turn into documents"
   ]
  },
  {
   "cell_type": "code",
   "execution_count": 50,
   "id": "08ac57f9",
   "metadata": {},
   "outputs": [
    {
     "name": "stdout",
     "output_type": "stream",
     "text": [
      "199780\n"
     ]
    }
   ],
   "source": [
    "from spec2vec import SpectrumDocument\n",
    "documents_spectrums_processed = [SpectrumDocument(s, n_decimals=2) for s in spectrums_processed]\n",
    "print(len(documents_spectrums_processed))"
   ]
  },
  {
   "cell_type": "markdown",
   "id": "eea4eb5e",
   "metadata": {},
   "source": [
    "### UniqueInchikey\n",
    "Select 'best' spectra per inchikey (according to Huber et al. 2020)"
   ]
  },
  {
   "cell_type": "code",
   "execution_count": 58,
   "id": "0ba350d9",
   "metadata": {},
   "outputs": [],
   "source": [
    "sys.path.insert(0, os.path.join(os.path.split(os.getcwd()[:-1])[0], \"scripts\"))\n",
    "from mass_differences.processing import get_ids_for_unique_inchikeys\n",
    "\n",
    "uniq_ids = get_ids_for_unique_inchikeys(spectrums_processed)\n",
    "documents_uniq_processed = [documents_spectrums_processed[i] for i in uniq_ids]"
   ]
  },
  {
   "cell_type": "markdown",
   "id": "aa7ae612",
   "metadata": {},
   "source": [
    "### Train Spec2Vec model\n",
    "Both on all spectra and UniqueInchikey spectra"
   ]
  },
  {
   "cell_type": "code",
   "execution_count": 60,
   "id": "1c10038a",
   "metadata": {},
   "outputs": [
    {
     "name": "stdout",
     "output_type": "stream",
     "text": [
      "/mnt/LTR_userdata/hooft001/mass_spectral_embeddings/embeddings/ALL_GNPS_210409_positive/ALL_GNPS_210409_positive_cleaned_spec2vec_embedding_iter_15.model\n",
      "  Epoch 1 of 15.Change in loss after epoch 1: 7276212.5\n",
      "  Epoch 2 of 15.Change in loss after epoch 2: 5372783.5\n",
      "  Epoch 3 of 15.Change in loss after epoch 3: 4765236.0\n",
      "  Epoch 4 of 15.Change in loss after epoch 4: 3981888.0\n",
      "  Epoch 5 of 15.Change in loss after epoch 5: 3842090.0\n",
      "  Epoch 6 of 15.Change in loss after epoch 6: 3787958.0\n",
      "  Epoch 7 of 15.Change in loss after epoch 7: 3563100.0\n",
      "  Epoch 8 of 15.Change in loss after epoch 8: 2718620.0\n",
      "  Epoch 9 of 15.Change in loss after epoch 9: 2395256.0\n",
      "  Epoch 10 of 15.Change in loss after epoch 10: 2311848.0\n",
      "  Epoch 11 of 15.Change in loss after epoch 11: 2322268.0\n",
      "  Epoch 12 of 15.Change in loss after epoch 12: 2244200.0\n",
      "  Epoch 13 of 15.Change in loss after epoch 13: 2259668.0\n",
      "  Epoch 14 of 15.Change in loss after epoch 14: 2190144.0\n",
      "  Epoch 15 of 15.Change in loss after epoch 15: 2247484.0\n",
      "Saving model with name: /mnt/LTR_userdata/hooft001/mass_spectral_embeddings/embeddings/ALL_GNPS_210409_positive/ALL_GNPS_210409_positive_cleaned_spec2vec_embedding_iter_15.model\n"
     ]
    }
   ],
   "source": [
    "from spec2vec.model_building import train_new_word2vec_model\n",
    "\n",
    "model_file = os.path.join(embedding_path, base+\"_spec2vec_embedding_iter_15.model\")\n",
    "print(model_file)\n",
    "\n",
    "iterations = [15]\n",
    "# Train model with default parameters\n",
    "model = train_new_word2vec_model(documents_spectrums_processed, iterations, model_file)"
   ]
  },
  {
   "cell_type": "code",
   "execution_count": 62,
   "id": "8097058d",
   "metadata": {},
   "outputs": [
    {
     "name": "stdout",
     "output_type": "stream",
     "text": [
      "/mnt/LTR_userdata/hooft001/mass_spectral_embeddings/embeddings/ALL_GNPS_210409_positive/ALL_GNPS_210409_positive_cleaned_spec2vec_embedding_unique_inchikey_iter_50.model\n",
      "  Epoch 1 of 50.Change in loss after epoch 1: 1798409.875\n",
      "  Epoch 2 of 50.Change in loss after epoch 2: 1473076.875\n",
      "  Epoch 3 of 50.Change in loss after epoch 3: 1261797.75\n",
      "  Epoch 4 of 50.Change in loss after epoch 4: 1107461.5\n",
      "  Epoch 5 of 50.Change in loss after epoch 5: 1136961.0\n",
      "  Epoch 6 of 50.Change in loss after epoch 6: 1125906.5\n",
      "  Epoch 7 of 50.Change in loss after epoch 7: 1020314.5\n",
      "  Epoch 8 of 50.Change in loss after epoch 8: 946987.0\n",
      "  Epoch 9 of 50.Change in loss after epoch 9: 900281.0\n",
      "  Epoch 10 of 50.Change in loss after epoch 10: 891026.0\n",
      "  Epoch 11 of 50.Change in loss after epoch 11: 903226.0\n",
      "  Epoch 12 of 50.Change in loss after epoch 12: 798432.0\n",
      "  Epoch 13 of 50.Change in loss after epoch 13: 845645.0\n",
      "  Epoch 14 of 50.Change in loss after epoch 14: 819686.0\n",
      "  Epoch 15 of 50.Change in loss after epoch 15: 801110.0\n",
      "  Epoch 16 of 50.Change in loss after epoch 16: 768327.0\n",
      "  Epoch 17 of 50.Change in loss after epoch 17: 654418.0\n",
      "  Epoch 18 of 50.Change in loss after epoch 18: 580542.0\n",
      "  Epoch 19 of 50.Change in loss after epoch 19: 550022.0\n",
      "  Epoch 20 of 50.Change in loss after epoch 20: 543952.0\n",
      "  Epoch 21 of 50.Change in loss after epoch 21: 509418.0\n",
      "  Epoch 22 of 50.Change in loss after epoch 22: 507516.0\n",
      "  Epoch 23 of 50.Change in loss after epoch 23: 504200.0\n",
      "  Epoch 24 of 50.Change in loss after epoch 24: 485174.0\n",
      "  Epoch 25 of 50.Change in loss after epoch 25: 457102.0\n",
      "  Epoch 26 of 50.Change in loss after epoch 26: 389484.0\n",
      "  Epoch 27 of 50.Change in loss after epoch 27: 434390.0\n",
      "  Epoch 28 of 50.Change in loss after epoch 28: 424908.0\n",
      "  Epoch 29 of 50.Change in loss after epoch 29: 424802.0\n",
      "  Epoch 30 of 50.Change in loss after epoch 30: 347990.0\n",
      "  Epoch 31 of 50.Change in loss after epoch 31: 381602.0\n",
      "  Epoch 32 of 50.Change in loss after epoch 32: 377450.0\n",
      "  Epoch 33 of 50.Change in loss after epoch 33: 363264.0\n",
      "  Epoch 34 of 50.Change in loss after epoch 34: 348774.0\n",
      "  Epoch 35 of 50.Change in loss after epoch 35: 354990.0\n",
      "  Epoch 36 of 50.Change in loss after epoch 36: 346592.0\n",
      "  Epoch 37 of 50.Change in loss after epoch 37: 300876.0\n",
      "  Epoch 38 of 50.Change in loss after epoch 38: 341388.0\n",
      "  Epoch 39 of 50.Change in loss after epoch 39: 317166.0\n",
      "  Epoch 40 of 50.Change in loss after epoch 40: 312560.0\n",
      "  Epoch 41 of 50.Change in loss after epoch 41: 313784.0\n",
      "  Epoch 42 of 50.Change in loss after epoch 42: 308220.0\n",
      "  Epoch 43 of 50.Change in loss after epoch 43: 296872.0\n",
      "  Epoch 44 of 50.Change in loss after epoch 44: 302992.0\n",
      "  Epoch 45 of 50.Change in loss after epoch 45: 283574.0\n",
      "  Epoch 46 of 50.Change in loss after epoch 46: 284430.0\n",
      "  Epoch 47 of 50.Change in loss after epoch 47: 285836.0\n",
      "  Epoch 48 of 50.Change in loss after epoch 48: 262122.0\n",
      "  Epoch 49 of 50.Change in loss after epoch 49: 261714.0\n",
      "  Epoch 50 of 50.Change in loss after epoch 50: 264240.0\n",
      "Saving model with name: /mnt/LTR_userdata/hooft001/mass_spectral_embeddings/embeddings/ALL_GNPS_210409_positive/ALL_GNPS_210409_positive_cleaned_spec2vec_embedding_unique_inchikey_iter_50.model\n"
     ]
    }
   ],
   "source": [
    "# UniqueInchikey spectra\n",
    "model_file_ui = os.path.join(embedding_path, base+\"_spec2vec_embedding_unique_inchikey_iter_50.model\")\n",
    "print(model_file_ui)\n",
    "\n",
    "iterations = [50]\n",
    "# Train model with default parameters\n",
    "model_ui = train_new_word2vec_model(documents_uniq_processed, iterations, model_file_ui)"
   ]
  }
 ],
 "metadata": {
  "kernelspec": {
   "display_name": "Python 3 (ipykernel)",
   "language": "python",
   "name": "python3"
  },
  "language_info": {
   "codemirror_mode": {
    "name": "ipython",
    "version": 3
   },
   "file_extension": ".py",
   "mimetype": "text/x-python",
   "name": "python",
   "nbconvert_exporter": "python",
   "pygments_lexer": "ipython3",
   "version": "3.8.8"
  }
 },
 "nbformat": 4,
 "nbformat_minor": 5
}
