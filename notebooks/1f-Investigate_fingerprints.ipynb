{
 "cells": [
  {
   "cell_type": "code",
   "execution_count": 1,
   "id": "842b1f82",
   "metadata": {},
   "outputs": [
    {
     "name": "stderr",
     "output_type": "stream",
     "text": [
      "/mnt/scratch/louwe015/miniconda3/envs/spec_analysis8/lib/python3.8/site-packages/gensim/similarities/__init__.py:15: UserWarning: The gensim.similarities.levenshtein submodule is disabled, because the optional Levenshtein package <https://pypi.org/project/python-Levenshtein/> is unavailable. Install Levenhstein (e.g. `pip install python-Levenshtein`) to suppress this warning.\n",
      "  warnings.warn(msg)\n"
     ]
    }
   ],
   "source": [
    "import os\n",
    "import gensim\n",
    "import pickle\n",
    "import time\n",
    "import sys\n",
    "import numpy as np\n",
    "import pandas as pd\n",
    "from matplotlib import pyplot as plt\n",
    "from typing import Tuple, List\n",
    "from copy import deepcopy"
   ]
  },
  {
   "cell_type": "code",
   "execution_count": 2,
   "id": "8a62f645",
   "metadata": {},
   "outputs": [
    {
     "name": "stdout",
     "output_type": "stream",
     "text": [
      "True\n"
     ]
    }
   ],
   "source": [
    "data_path = \"/mnt/LTR_userdata/hooft001/mass_spectral_embeddings/datasets/ALL_GNPS_210409_positive/\"\n",
    "embedding_path = \"/mnt/LTR_userdata/hooft001/mass_spectral_embeddings/embeddings/ALL_GNPS_210409_positive/\"\n",
    "\n",
    "processed_spectrums_file = os.path.join(data_path, \"ALL_GNPS_210409_positive_cleaned_peaks_processed_s2v.pickle\")\n",
    "print(os.path.exists(processed_spectrums_file))\n",
    "\n",
    "base = \"ALL_GNPS_210409_positive_cleaned_peaks_processed_s2v\""
   ]
  },
  {
   "cell_type": "code",
   "execution_count": 3,
   "id": "a678c1f1",
   "metadata": {},
   "outputs": [],
   "source": [
    "# read processed spectra\n",
    "spectrums_processed = pickle.load(open(processed_spectrums_file, 'rb'))"
   ]
  },
  {
   "cell_type": "code",
   "execution_count": 41,
   "id": "05478357",
   "metadata": {},
   "outputs": [
    {
     "name": "stderr",
     "output_type": "stream",
     "text": [
      "RDKit WARNING: [15:33:23] WARNING: not removing hydrogen atom without neighbors\n",
      "[15:33:23] WARNING: not removing hydrogen atom without neighbors\n",
      "RDKit WARNING: [15:33:23] WARNING: not removing hydrogen atom without neighbors\n",
      "[15:33:23] WARNING: not removing hydrogen atom without neighbors\n"
     ]
    }
   ],
   "source": [
    "from matchms.filtering import add_fingerprint\n",
    "short_len = 2048\n",
    "long_len = 2*short_len\n",
    "passed_inchikeys = set()\n",
    "spectrums_short = []\n",
    "spectrums_long = []\n",
    "for spec in spectrums_processed:\n",
    "    inchikey = spec.metadata.get(\"inchikey\")\n",
    "    if inchikey:\n",
    "        if inchikey not in passed_inchikeys:\n",
    "            passed_inchikeys.add(inchikey)\n",
    "            fing_spec = add_fingerprint(spec, fingerprint_type=\"daylight\",\n",
    "                                        nbits=short_len)\n",
    "            spectrums_short.append(fing_spec)\n",
    "            fing2_spec = add_fingerprint(spec, fingerprint_type=\"daylight\",\n",
    "                                        nbits=long_len)\n",
    "            spectrums_long.append(fing2_spec)"
   ]
  },
  {
   "cell_type": "code",
   "execution_count": 42,
   "id": "32933b95",
   "metadata": {},
   "outputs": [],
   "source": [
    "filled_short = [np.count_nonzero(s.metadata.get(\"fingerprint\"))/short_len for s in spectrums_short]\n",
    "filled_long = [np.count_nonzero(s.metadata.get(\"fingerprint\"))/long_len for s in spectrums_long]"
   ]
  },
  {
   "cell_type": "code",
   "execution_count": 43,
   "id": "4ad114de",
   "metadata": {},
   "outputs": [
    {
     "data": {
      "image/png": "[encoded data removed]",
      "text/plain": [
       "<Figure size 432x288 with 1 Axes>"
      ]
     },
     "metadata": {
      "needs_background": "light"
     },
     "output_type": "display_data"
    }
   ],
   "source": [
    "fils = [filled_short, filled_long]\n",
    "labels = [f\"{short_len} bit\", f\"{long_len} bit\"]\n",
    "xlab = \"Type fingerprints\"\n",
    "ylab = \"Fraction of filled fingerprints\"\n",
    "\n",
    "plt.boxplot(fils, labels=labels)\n",
    "# plt.ylabel(ylab)\n",
    "# plt.xlabel(xlab)\n",
    "plt.show()"
   ]
  },
  {
   "cell_type": "code",
   "execution_count": 44,
   "id": "91ab8e7b",
   "metadata": {},
   "outputs": [
    {
     "data": {
      "text/plain": [
       "77"
      ]
     },
     "execution_count": 44,
     "metadata": {},
     "output_type": "execute_result"
    }
   ],
   "source": [
    "len([elem for elem in filled_short if elem > 0.9])"
   ]
  }
 ],
 "metadata": {
  "kernelspec": {
   "display_name": "Python 3 (ipykernel)",
   "language": "python",
   "name": "python3"
  },
  "language_info": {
   "codemirror_mode": {
    "name": "ipython",
    "version": 3
   },
   "file_extension": ".py",
   "mimetype": "text/x-python",
   "name": "python",
   "nbconvert_exporter": "python",
   "pygments_lexer": "ipython3",
   "version": "3.8.8"
  }
 },
 "nbformat": 4,
 "nbformat_minor": 5
}
