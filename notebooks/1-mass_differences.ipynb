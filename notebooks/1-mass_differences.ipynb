{
 "cells": [
  {
   "cell_type": "markdown",
   "metadata": {},
   "source": [
    "# Summary\n",
    "In this notebook mass differences are extracted from the AllPositive dataset and expressed per spectrum. This dataset is constructed here: https://github.com/iomega/spec2vec_gnps_data_analysis/tree/master/notebooks and the pickled gnps_positive_ionmode_cleaned_by_matchms_and_lookups file is created here: https://github.com/louwenjjr/improve_library_matching .\n",
    "\n",
    "Steps in this notebook:\n",
    "- Reading spectra\n",
    "- Processing spectra\n",
    "- Extracting mass differences and fragments as words"
   ]
  },
  {
   "cell_type": "code",
   "execution_count": 1,
   "metadata": {},
   "outputs": [],
   "source": [
    "import os\n",
    "import numpy as np\n",
    "import pandas as pd\n",
    "from matplotlib import pyplot as plt\n",
    "import pickle"
   ]
  },
  {
   "cell_type": "markdown",
   "metadata": {},
   "source": [
    "## Reading spectra"
   ]
  },
  {
   "cell_type": "code",
   "execution_count": 9,
   "metadata": {},
   "outputs": [],
   "source": [
    "all_positive_file = \"/mnt/scratch/louwe015/Mass_differences/data/gnps_positive_ionmode_cleaned_by_matchms_and_lookups.pickle\"\n",
    "if os.path.exists(all_positive_file):\n",
    "    with open(all_positive_file, 'rb') as inf:\n",
    "        spectrums = pickle.load(inf)  # list of matchms.Spectrum.Spectrum\n",
    "else:\n",
    "    print(\"error\")"
   ]
  },
  {
   "cell_type": "code",
   "execution_count": 3,
   "metadata": {},
   "outputs": [
    {
     "name": "stdout",
     "output_type": "stream",
     "text": [
      "number of spectra: 112956\n"
     ]
    }
   ],
   "source": [
    "print(\"number of spectra:\", len(spectrums))"
   ]
  },
  {
   "cell_type": "markdown",
   "metadata": {},
   "source": [
    "## Processing spectra\n",
    "Similar to Xing et al. (2020) https://pubs-acs-org.ezproxy.library.wur.nl/doi/full/10.1021/acs.analchem.0c02521\n",
    "In Xing they also do square root transformation on the normalised intensities. We don't do that here (yet).\n",
    "\n",
    "Steps:\n",
    "- normalise peaks (maximum intensity to 1)\n",
    "- remove peaks outside [0, 1000] m/z window\n",
    "- select top 30 intensity peaks (from Xing et al. (2020))\n",
    "- remove peaks with intensities < 0.001 of maximum intensity"
   ]
  },
  {
   "cell_type": "code",
   "execution_count": 4,
   "metadata": {},
   "outputs": [
    {
     "name": "stdout",
     "output_type": "stream",
     "text": [
      "111472 remaining spectra.\n"
     ]
    }
   ],
   "source": [
    "from matchms.filtering import normalize_intensities\n",
    "from matchms.filtering import select_by_mz\n",
    "from matchms.filtering import select_by_relative_intensity\n",
    "from matchms.filtering import reduce_to_number_of_peaks\n",
    "# from matchms.filtering import add_losses\n",
    "\n",
    "def post_process_md(s, min_peaks=2):\n",
    "    s = normalize_intensities(s)\n",
    "    s = select_by_mz(s, mz_from=0, mz_to=1000)\n",
    "    s = reduce_to_number_of_peaks(s, n_required=min_peaks, n_max=30)\n",
    "    if s is None:\n",
    "        return None\n",
    "    s_remove_low_peaks = select_by_relative_intensity(s, intensity_from=0.001)\n",
    "    if len(s_remove_low_peaks.peaks) >= min_peaks:\n",
    "        s = s_remove_low_peaks\n",
    "    return s\n",
    "\n",
    "# apply post processing steps to the data\n",
    "spectrums_top30 = [post_process_md(s) for s in spectrums]\n",
    "\n",
    "# omit spectrums that didn't qualify for analysis\n",
    "spectrums_top30 = [s for s in spectrums_top30 if s is not None]\n",
    "\n",
    "print(\"{} remaining spectra.\".format(len(spectrums_top30)))"
   ]
  },
  {
   "cell_type": "code",
   "execution_count": 6,
   "metadata": {},
   "outputs": [],
   "source": [
    "top30_file = \"/mnt/scratch/louwe015/Mass_differences/data/gnps_positive_ionmode_cleaned_by_matchms_and_lookups_top30_peaks.pickle\"\n",
    "with open(top30_file, 'wb') as outf:\n",
    "    pickle.dump(spectrums_top30, outf)"
   ]
  },
  {
   "cell_type": "code",
   "execution_count": 8,
   "metadata": {},
   "outputs": [],
   "source": [
    "top30_file = \"/mnt/scratch/louwe015/Mass_differences/data/gnps_positive_ionmode_cleaned_by_matchms_and_lookups_top30_peaks.pickle\"\n",
    "if os.path.exists(top30_file):\n",
    "    with open(top30_file, 'rb') as inf:\n",
    "        spectrums_top30 = pickle.load(inf)  # list of matchms.Spectrum.Spectrum\n",
    "else:\n",
    "    print(\"error\")"
   ]
  },
  {
   "cell_type": "code",
   "execution_count": 14,
   "metadata": {},
   "outputs": [
    {
     "data": {
      "text/plain": [
       "[array([456.107544, 469.872314, 515.922852, 538.003174, 539.217773,\n",
       "        554.117432, 556.030396, 582.110107, 599.352783, 600.382812,\n",
       "        696.332397, 724.081909, 830.409302, 839.455811, 847.433594,\n",
       "        851.380859, 852.370605, 866.295654, 868.372192, 909.424438,\n",
       "        919.39624 , 932.351929, 936.552002, 939.61792 , 949.370239,\n",
       "        953.396606, 954.491577, 963.686768, 964.524658, 965.192139]),\n",
       " array([0.13785328, 0.1145734 , 0.10302372, 0.28900242, 0.35616456,\n",
       "        0.09970269, 0.28046377, 0.13351462, 1.        , 0.14946182,\n",
       "        0.15854461, 0.11577153, 0.13417909, 0.09418422, 0.2569733 ,\n",
       "        0.32199162, 0.36216307, 0.14520426, 0.10205448, 0.31933114,\n",
       "        0.11226477, 0.17874806, 0.13489457, 0.10109441, 0.1117298 ,\n",
       "        0.71323034, 0.16211023, 0.34214536, 0.41616014, 0.16272238])]"
      ]
     },
     "execution_count": 14,
     "metadata": {},
     "output_type": "execute_result"
    }
   ],
   "source": [
    "test_spec = spectrums_top30[0]\n",
    "[i for i in test_spec.peaks]"
   ]
  },
  {
   "cell_type": "code",
   "execution_count": 15,
   "metadata": {},
   "outputs": [
    {
     "data": {
      "text/plain": [
       "30"
      ]
     },
     "execution_count": 15,
     "metadata": {},
     "output_type": "execute_result"
    }
   ],
   "source": [
    "cutoff = 36  # like Xing et al.\n"
   ]
  }
 ],
 "metadata": {
  "kernelspec": {
   "display_name": "Python 3",
   "language": "python",
   "name": "python3"
  },
  "language_info": {
   "codemirror_mode": {
    "name": "ipython",
    "version": 3
   },
   "file_extension": ".py",
   "mimetype": "text/x-python",
   "name": "python",
   "nbconvert_exporter": "python",
   "pygments_lexer": "ipython3",
   "version": "3.7.9"
  }
 },
 "nbformat": 4,
 "nbformat_minor": 2
}
