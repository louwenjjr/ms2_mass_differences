{
 "cells": [
  {
   "cell_type": "markdown",
   "metadata": {},
   "source": [
    "# Summary\n",
    "In this notebook mass differences are extracted from the AllPositive dataset and expressed per spectrum. This dataset is constructed here: https://github.com/iomega/spec2vec_gnps_data_analysis/tree/master/notebooks and the pickled gnps_positive_ionmode_cleaned_by_matchms_and_lookups file is created here: https://github.com/louwenjjr/improve_library_matching .\n",
    "\n",
    "Steps in this notebook:\n",
    "- Reading spectra\n",
    "- Processing spectra\n",
    "- Extracting mass differences and fragments as words"
   ]
  },
  {
   "cell_type": "code",
   "execution_count": 1,
   "metadata": {},
   "outputs": [],
   "source": [
    "import os\n",
    "import numpy as np\n",
    "import pandas as pd\n",
    "from matplotlib import pyplot as plt\n",
    "import pickle"
   ]
  },
  {
   "cell_type": "markdown",
   "metadata": {},
   "source": [
    "## Reading spectra"
   ]
  },
  {
   "cell_type": "code",
   "execution_count": 2,
   "metadata": {},
   "outputs": [],
   "source": [
    "all_positive_file = \"/mnt/scratch/louwe015/Mass_differences/data/gnps_positive_ionmode_cleaned_by_matchms_and_lookups.pickle\"\n",
    "if os.path.exists(all_positive_file):\n",
    "    with open(all_positive_file, 'rb') as inf:\n",
    "        spectrums = pickle.load(inf)  # list of matchms.Spectrum.Spectrum\n",
    "else:\n",
    "    print(\"error\")"
   ]
  },
  {
   "cell_type": "code",
   "execution_count": 3,
   "metadata": {},
   "outputs": [
    {
     "name": "stdout",
     "output_type": "stream",
     "text": [
      "number of spectra: 112956\n"
     ]
    }
   ],
   "source": [
    "print(\"number of spectra:\", len(spectrums))"
   ]
  },
  {
   "cell_type": "markdown",
   "metadata": {},
   "source": [
    "## Processing spectra\n",
    "Similar to Xing et al. (2020) https://pubs-acs-org.ezproxy.library.wur.nl/doi/full/10.1021/acs.analchem.0c02521\n",
    "In Xing they also do square root transformation on the normalised intensities. We don't do that here (yet).\n",
    "\n",
    "Steps:\n",
    "- normalise peaks (maximum intensity to 1)\n",
    "- remove peaks outside [0, 1000] m/z window\n",
    "- select top 30 intensity peaks (from Xing et al. (2020))\n",
    "- remove peaks with intensities < 0.001 of maximum intensity"
   ]
  },
  {
   "cell_type": "code",
   "execution_count": 14,
   "metadata": {},
   "outputs": [
    {
     "name": "stdout",
     "output_type": "stream",
     "text": [
      "95320 remaining spectra.\n",
      "as a check: 95320 remaining spectra in normally processed data.\n"
     ]
    }
   ],
   "source": [
    "from matchms.filtering import normalize_intensities\n",
    "from matchms.filtering import select_by_mz\n",
    "from matchms.filtering import require_minimum_number_of_peaks\n",
    "from matchms.filtering import select_by_relative_intensity\n",
    "from matchms.filtering import reduce_to_number_of_peaks\n",
    "from matchms.filtering import add_losses\n",
    "\n",
    "# def post_process_s2v(s):\n",
    "#     s = normalize_intensities(s)\n",
    "#     s = select_by_mz(s, mz_from=0, mz_to=1000)\n",
    "#     s = require_minimum_number_of_peaks(s, n_required=10)\n",
    "#     s = reduce_to_number_of_peaks(s, n_required=10, ratio_desired=0.5)\n",
    "#     if s is None:\n",
    "#         return None\n",
    "#     s_remove_low_peaks = select_by_relative_intensity(s, intensity_from=0.001)\n",
    "#     if len(s_remove_low_peaks.peaks) >= 10:\n",
    "#         s = s_remove_low_peaks\n",
    "        \n",
    "#     s = add_losses(s, loss_mz_from=5.0, loss_mz_to=200.0)\n",
    "#     return s\n",
    "\n",
    "# def post_process_md(s, min_peaks=10):\n",
    "#     s = normalize_intensities(s)\n",
    "#     s = select_by_mz(s, mz_from=0, mz_to=1000)\n",
    "#     s = reduce_to_number_of_peaks(s, n_required=min_peaks, n_max=30)\n",
    "#     if s is None:\n",
    "#         return None\n",
    "#     s_remove_low_peaks = select_by_relative_intensity(s, intensity_from=0.001)\n",
    "#     if len(s_remove_low_peaks.peaks) >= min_peaks:\n",
    "#         s = s_remove_low_peaks\n",
    "#     return s\n",
    "\n",
    "spectrums_top30 = []\n",
    "spectrums_processed = []\n",
    "min_peaks = 10\n",
    "max_peaks = 30\n",
    "for spec in spectrums:\n",
    "    s = normalize_intensities(spec)\n",
    "    s = select_by_mz(s, mz_from=0, mz_to=1000)\n",
    "    s = require_minimum_number_of_peaks(s, n_required=min_peaks)\n",
    "    s = reduce_to_number_of_peaks(s, n_required=min_peaks, ratio_desired=0.5)\n",
    "    if s is None:\n",
    "        continue\n",
    "    #remove low peaks unless less than 10 peaks are left\n",
    "    s_remove_low_peaks = select_by_relative_intensity(s, intensity_from=0.001)\n",
    "    if len(s_remove_low_peaks.peaks) >= 10:\n",
    "        s = s_remove_low_peaks\n",
    "    #split into two: 'normally' processed spectra and top30 for mass differences\n",
    "    s_top30 = reduce_to_number_of_peaks(s, n_required=min_peaks, n_max=max_peaks)\n",
    "    #add losses to normally processed spectra\n",
    "    s = add_losses(s, loss_mz_from=5.0, loss_mz_to=200.0)\n",
    "    \n",
    "    spectrums_top30.append(s_top30)\n",
    "    spectrums_processed.append(s)\n",
    "    \n",
    "    \n",
    "    \n",
    "# # apply post processing steps to the data\n",
    "# spectrums_top30 = [post_process_md(s) for s in spectrums]\n",
    "\n",
    "# # omit spectrums that didn't qualify for analysis\n",
    "# spectrums_top30 = [s for s in spectrums_top30 if s is not None]\n",
    "\n",
    "print(\"{} remaining spectra.\".format(len(spectrums_top30)))\n",
    "print(\"as a check: {} remaining spectra in normally processed data.\".format(len(spectrums_processed)))"
   ]
  },
  {
   "cell_type": "code",
   "execution_count": 19,
   "metadata": {},
   "outputs": [
    {
     "data": {
      "text/plain": [
       "True"
      ]
     },
     "execution_count": 19,
     "metadata": {},
     "output_type": "execute_result"
    }
   ],
   "source": [
    "spectrums_top30[-1].metadata[\"spectrum_id\"] == spectrums_processed[-1].metadata[\"spectrum_id\"]"
   ]
  },
  {
   "cell_type": "code",
   "execution_count": 20,
   "metadata": {},
   "outputs": [],
   "source": [
    "# save top30 and normally processed file\n",
    "top30_file = \"/mnt/scratch/louwe015/Mass_differences/data/gnps_positive_ionmode_cleaned_by_matchms_and_lookups_top30_peaks.pickle\"\n",
    "with open(top30_file, 'wb') as outf:\n",
    "    pickle.dump(spectrums_top30, outf)\n",
    "processed_file = \"/mnt/scratch/louwe015/Mass_differences/data/gnps_positive_ionmode_cleaned_by_matchms_and_lookups_processed.pickle\"\n",
    "with open(processed_file, 'wb') as outf:\n",
    "    pickle.dump(spectrums_processed, outf)"
   ]
  },
  {
   "cell_type": "code",
   "execution_count": 21,
   "metadata": {},
   "outputs": [],
   "source": [
    "# load top30 file\n",
    "top30_file = \"/mnt/scratch/louwe015/Mass_differences/data/gnps_positive_ionmode_cleaned_by_matchms_and_lookups_top30_peaks.pickle\"\n",
    "if os.path.exists(top30_file):\n",
    "    with open(top30_file, 'rb') as inf:\n",
    "        spectrums_top30 = pickle.load(inf)  # list of matchms.Spectrum.Spectrum\n",
    "else:\n",
    "    print(\"error\")"
   ]
  },
  {
   "cell_type": "code",
   "execution_count": 22,
   "metadata": {},
   "outputs": [],
   "source": [
    "# load processed file\n",
    "processed_file = \"/mnt/scratch/louwe015/Mass_differences/data/gnps_positive_ionmode_cleaned_by_matchms_and_lookups_processed.pickle\"\n",
    "if os.path.exists(processed_file):\n",
    "    with open(processed_file, 'rb') as inf:\n",
    "        spectrums_processed = pickle.load(inf)  # list of matchms.Spectrum.Spectrum\n",
    "else:\n",
    "    print(\"error\")"
   ]
  },
  {
   "cell_type": "code",
   "execution_count": 23,
   "metadata": {},
   "outputs": [
    {
     "data": {
      "text/plain": [
       "[array([456.107544, 469.872314, 515.922852, 538.003174, 539.217773,\n",
       "        554.117432, 556.030396, 582.110107, 599.352783, 600.382812,\n",
       "        696.332397, 724.081909, 830.409302, 839.455811, 847.433594,\n",
       "        851.380859, 852.370605, 866.295654, 868.372192, 909.424438,\n",
       "        919.39624 , 932.351929, 936.552002, 939.61792 , 949.370239,\n",
       "        953.396606, 954.491577, 963.686768, 964.524658, 965.192139]),\n",
       " array([0.13785328, 0.1145734 , 0.10302372, 0.28900242, 0.35616456,\n",
       "        0.09970269, 0.28046377, 0.13351462, 1.        , 0.14946182,\n",
       "        0.15854461, 0.11577153, 0.13417909, 0.09418422, 0.2569733 ,\n",
       "        0.32199162, 0.36216307, 0.14520426, 0.10205448, 0.31933114,\n",
       "        0.11226477, 0.17874806, 0.13489457, 0.10109441, 0.1117298 ,\n",
       "        0.71323034, 0.16211023, 0.34214536, 0.41616014, 0.16272238])]"
      ]
     },
     "execution_count": 23,
     "metadata": {},
     "output_type": "execute_result"
    }
   ],
   "source": [
    "spec0 = spectrums_top30[0]\n",
    "[i for i in spec0.peaks]"
   ]
  },
  {
   "cell_type": "code",
   "execution_count": 24,
   "metadata": {},
   "outputs": [],
   "source": [
    "from matchms.Spikes import Spikes\n",
    "from matchms.typing import SpectrumType\n",
    "\n",
    "def get_mass_differences(spectrum_in: SpectrumType, cutoff: int = 36, n_max: int = 100) -> Spikes:\n",
    "    \"\"\"Returns Spikes with top 100 mass differences and intensities\n",
    "    \n",
    "    Parameters:\n",
    "    spectrum_in:\n",
    "        Spectrum in matchms.Spectrum format\n",
    "    cutoff:\n",
    "        Mass cutoff for mass difference (like Xing et al.)\n",
    "    n_max:\n",
    "        Maximum amount of mass differences to select, ranked on intensity (like Xing et al.)\n",
    "    \"\"\"\n",
    "    if spectrum_in is None:\n",
    "        return None\n",
    "\n",
    "    spectrum = spectrum_in.clone()\n",
    "    peaks_mz, peaks_intensities = spectrum.peaks\n",
    "    mass_diff_mz = []\n",
    "    mass_diff_intensities = []\n",
    "    for i, (mz_i, int_i) in enumerate(zip(peaks_mz[:-1], peaks_intensities[:-1])):\n",
    "        for mz_j, int_j in zip(peaks_mz[i+1:], peaks_intensities[i+1:]):\n",
    "            mz_diff = mz_j-mz_i\n",
    "            if mz_diff > cutoff:\n",
    "                mass_diff_mz.append(mz_diff)\n",
    "                mass_diff_intensities.append(np.mean([int_i, int_j]))\n",
    "    mass_diff_mz = np.array(mass_diff_mz)\n",
    "    mass_diff_intensities = np.array(mass_diff_intensities)\n",
    "    idx = mass_diff_intensities.argsort()[-n_max:]\n",
    "    idx_sort_by_mz = mass_diff_mz[idx].argsort()\n",
    "    mass_diff_peaks = Spikes(mz=mass_diff_mz[idx][idx_sort_by_mz],\n",
    "                             intensities=mass_diff_intensities[idx][idx_sort_by_mz])\n",
    "    return mass_diff_peaks\n"
   ]
  },
  {
   "cell_type": "code",
   "execution_count": 25,
   "metadata": {},
   "outputs": [
    {
     "data": {
      "text/plain": [
       "[array([ 43.322387,  43.972168,  45.128418,  45.235351,  54.26233 ,\n",
       "         55.10022 ,  57.053833,  58.043579,  60.13501 ,  61.165039,\n",
       "         61.349609,  61.990844,  79.981324,  80.97107 ,  83.429931,\n",
       "         85.024414,  87.100952,  96.152466,  96.979614,  98.229004,\n",
       "        101.026001, 102.015747, 102.120972, 105.963012, 111.316163,\n",
       "        112.154053, 112.305909, 112.821534, 113.143799, 113.940795,\n",
       "        116.253174, 117.091064, 122.987304, 124.729126, 125.068847,\n",
       "        129.480469, 134.115356, 143.245239, 156.038208, 157.114624,\n",
       "        229.314697, 231.056519, 240.103028, 240.442749, 248.080811,\n",
       "        251.987793, 252.028076, 253.017822, 257.064209, 266.942871,\n",
       "        268.192261, 269.019409, 291.403198, 295.350463, 296.340209,\n",
       "        308.215821, 309.43042 , 310.071655, 312.163086, 313.152832,\n",
       "        313.377685, 314.367431, 320.043457, 327.077881, 332.999146,\n",
       "        337.199219, 340.265137, 350.017456, 353.013794, 353.394042,\n",
       "        354.043823, 355.138794, 364.141846, 364.333985, 365.171875,\n",
       "        365.839356, 370.206665, 371.286499, 371.421264, 382.414551,\n",
       "        393.134156, 397.36621 , 399.279174, 407.656372, 408.494262,\n",
       "        410.407226, 414.178833, 415.273804, 415.393432, 424.468995,\n",
       "        425.306885, 425.683594, 425.974366, 426.521484, 437.473754,\n",
       "        448.601806, 483.524292, 494.652344, 497.289062, 508.417114]),\n",
       " array([0.64023188, 0.51628074, 0.26421246, 0.54985135, 0.33073825,\n",
       "        0.36774564, 0.34074711, 0.32066138, 0.67808228, 0.25281319,\n",
       "        0.64450121, 0.28815222, 0.27045557, 0.25036984, 0.55151186,\n",
       "        0.40764241, 0.4292173 , 0.25910731, 0.5792723 , 0.2806822 ,\n",
       "        0.53769671, 0.51761098, 0.26213665, 0.48510182, 0.35215422,\n",
       "        0.38916161, 0.33206849, 0.26244273, 0.36907588, 0.40370728,\n",
       "        0.29955933, 0.33656672, 0.42370472, 0.55788577, 0.25517218,\n",
       "        0.5572867 , 0.27516962, 0.56892664, 0.26035384, 0.25735459,\n",
       "        0.41450094, 0.56708954, 0.54709211, 0.26596584, 0.62848665,\n",
       "        0.25581245, 0.66099581, 0.68108154, 0.43588747, 0.57260213,\n",
       "        0.28735238, 0.55102724, 0.26871853, 0.30122769, 0.32131342,\n",
       "        0.30656893, 0.27298786, 0.65966557, 0.33907809, 0.35916382,\n",
       "        0.30549702, 0.32558275, 0.55613239, 0.25068441, 0.58937403,\n",
       "        0.56744728, 0.5505472 , 0.5558649 , 0.43134608, 0.29989745,\n",
       "        0.85661517, 0.58105512, 0.28281098, 0.67107268, 0.70808007,\n",
       "        0.58136119, 0.33774785, 0.42337248, 0.30416678, 0.27483738,\n",
       "        0.26745631, 0.49684705, 0.40646652, 0.31130457, 0.34831195,\n",
       "        0.25793142, 0.53469745, 0.2591374 , 0.50111638, 0.34915496,\n",
       "        0.38616235, 0.31557389, 0.25944347, 0.35258128, 0.40812703,\n",
       "        0.25959193, 0.41390187, 0.26536677, 0.42554181, 0.27700671])]"
      ]
     },
     "execution_count": 25,
     "metadata": {},
     "output_type": "execute_result"
    }
   ],
   "source": [
    "get_mass_differences(spectrums_top30[0])[:]"
   ]
  },
  {
   "cell_type": "code",
   "execution_count": 26,
   "metadata": {},
   "outputs": [],
   "source": [
    "mass_differences = []\n",
    "for spec in spectrums_top30:\n",
    "    mass_differences.append(get_mass_differences(spec))  # list of Spikes"
   ]
  },
  {
   "cell_type": "code",
   "execution_count": 27,
   "metadata": {},
   "outputs": [],
   "source": [
    "# save mass differences file\n",
    "mass_differences_file = \"/mnt/scratch/louwe015/Mass_differences/data/gnps_positive_ionmode_cleaned_by_matchms_and_lookups_top30_mass_differences.pickle\"\n",
    "with open(mass_differences_file, 'wb') as outf:\n",
    "    pickle.dump(mass_differences, outf)"
   ]
  },
  {
   "cell_type": "code",
   "execution_count": 12,
   "metadata": {},
   "outputs": [
    {
     "data": {
      "text/plain": [
       "95320"
      ]
     },
     "execution_count": 12,
     "metadata": {},
     "output_type": "execute_result"
    }
   ],
   "source": [
    "len(mass_differences)"
   ]
  },
  {
   "cell_type": "code",
   "execution_count": 28,
   "metadata": {},
   "outputs": [
    {
     "name": "stdout",
     "output_type": "stream",
     "text": [
      "95320\n"
     ]
    }
   ],
   "source": [
    "# load mass differences file\n",
    "mass_differences_file = \"/mnt/scratch/louwe015/Mass_differences/data/gnps_positive_ionmode_cleaned_by_matchms_and_lookups_top30_mass_differences.pickle\"\n",
    "if os.path.exists(mass_differences_file):\n",
    "    with open(mass_differences_file, 'rb') as inf:\n",
    "        mass_differences = pickle.load(inf)  # list of matchms.Spectrum.Spectrum\n",
    "    print(len(mass_differences))\n",
    "else:\n",
    "    print(\"error\")"
   ]
  }
 ],
 "metadata": {
  "kernelspec": {
   "display_name": "Python 3",
   "language": "python",
   "name": "python3"
  },
  "language_info": {
   "codemirror_mode": {
    "name": "ipython",
    "version": 3
   },
   "file_extension": ".py",
   "mimetype": "text/x-python",
   "name": "python",
   "nbconvert_exporter": "python",
   "pygments_lexer": "ipython3",
   "version": "3.7.9"
  }
 },
 "nbformat": 4,
 "nbformat_minor": 2
}
