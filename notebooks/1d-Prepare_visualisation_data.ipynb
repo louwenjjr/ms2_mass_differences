{
 "cells": [
  {
   "cell_type": "markdown",
   "id": "9d1246b5",
   "metadata": {},
   "source": [
    "# Summary\n",
    "Prepare data for data visualisation team:\n",
    "- Save processed, only annotated with inchikey spectra\n",
    "- Create 2D + 3D tSNE of these spectra after converting these spectra to embedding vectors\n",
    "- Save both tSNE outputs linked by spectrum_ids\n",
    "- Save classifications file linked by spectrum_ids"
   ]
  },
  {
   "cell_type": "code",
   "execution_count": 1,
   "id": "6d3ffe96",
   "metadata": {},
   "outputs": [],
   "source": [
    "import os\n",
    "import gensim\n",
    "import pickle\n",
    "import time\n",
    "import sys\n",
    "import numpy as np\n",
    "import pandas as pd\n",
    "from matplotlib import pyplot as plt"
   ]
  },
  {
   "cell_type": "markdown",
   "id": "01bacf24",
   "metadata": {},
   "source": [
    "### Load preprocessed data"
   ]
  },
  {
   "cell_type": "code",
   "execution_count": 2,
   "id": "2e3d4c3f",
   "metadata": {},
   "outputs": [
    {
     "data": {
      "text/plain": [
       "True"
      ]
     },
     "execution_count": 2,
     "metadata": {},
     "output_type": "execute_result"
    }
   ],
   "source": [
    "data_path = \"/mnt/LTR_userdata/hooft001/mass_spectral_embeddings/datasets/ALL_GNPS_210409_positive/\"\n",
    "embedding_path = \"/mnt/LTR_userdata/hooft001/mass_spectral_embeddings/embeddings/ALL_GNPS_210409_positive/\"\n",
    "\n",
    "base = \"ALL_GNPS_210409_positive_cleaned\"\n",
    "spectrum_file = os.path.join(data_path, base+\".pickle\")\n",
    "os.path.exists(spectrum_file)"
   ]
  },
  {
   "cell_type": "code",
   "execution_count": 9,
   "id": "14121a07",
   "metadata": {},
   "outputs": [
    {
     "data": {
      "text/plain": [
       "199780"
      ]
     },
     "execution_count": 9,
     "metadata": {},
     "output_type": "execute_result"
    }
   ],
   "source": [
    "processed_spectrums_file = os.path.join(data_path, base+\"_peaks_processed_s2v.pickle\")\n",
    "with open(processed_spectrums_file, 'rb') as inf:\n",
    "    spectrums_processed = pickle.load(inf)\n",
    "len(spectrums_processed)"
   ]
  },
  {
   "cell_type": "markdown",
   "id": "73681f7b",
   "metadata": {},
   "source": [
    "### Keep annotated spectra\n",
    "Annotated with inchikey"
   ]
  },
  {
   "cell_type": "code",
   "execution_count": 8,
   "id": "11318da1",
   "metadata": {},
   "outputs": [
    {
     "data": {
      "text/plain": [
       "187152"
      ]
     },
     "execution_count": 8,
     "metadata": {},
     "output_type": "execute_result"
    }
   ],
   "source": [
    "annot_spectrums_processed = []\n",
    "for spec in spectrums_processed:\n",
    "    inchikey = spec.metadata.get(\"inchikey\")\n",
    "    if inchikey:\n",
    "        annot_spectrums_processed.append(spec)\n",
    "len(annot_spectrums_processed)"
   ]
  },
  {
   "cell_type": "code",
   "execution_count": 18,
   "id": "8128bb0b",
   "metadata": {},
   "outputs": [],
   "source": [
    "spectrums_ids = [s.metadata.get(\"spectrum_id\") for s in annot_spectrums_processed]"
   ]
  },
  {
   "cell_type": "code",
   "execution_count": 19,
   "id": "c8ab98ea",
   "metadata": {},
   "outputs": [
    {
     "data": {
      "text/plain": [
       "False"
      ]
     },
     "execution_count": 19,
     "metadata": {},
     "output_type": "execute_result"
    }
   ],
   "source": [
    "any([s==None for s in spectrums_ids])"
   ]
  },
  {
   "cell_type": "markdown",
   "id": "d8ee3d2f",
   "metadata": {},
   "source": [
    "### Save as json"
   ]
  },
  {
   "cell_type": "code",
   "execution_count": 11,
   "id": "bab174d1",
   "metadata": {},
   "outputs": [
    {
     "name": "stdout",
     "output_type": "stream",
     "text": [
      "/mnt/LTR_userdata/hooft001/mass_spectral_embeddings/datasets/ALL_GNPS_210409_positive/ALL_GNPS_210409_positive_cleaned_peaks_processed_s2v_only_annotated.json\n"
     ]
    }
   ],
   "source": [
    "from matchms.exporting import save_as_json\n",
    "out_json = os.path.join(data_path, base+\"_peaks_processed_s2v_only_annotated.json\")\n",
    "print(out_json)\n",
    "save_as_json(annot_spectrums_processed, out_json)"
   ]
  },
  {
   "cell_type": "code",
   "execution_count": 13,
   "id": "5658996d",
   "metadata": {},
   "outputs": [],
   "source": [
    "out_annot_proc = os.path.join(data_path, base+\"_peaks_processed_s2v_only_annotated.pickle\")\n",
    "with open(out_annot_proc, 'wb') as outf:\n",
    "    pickle.dump(annot_spectrums_processed, outf)"
   ]
  },
  {
   "cell_type": "markdown",
   "id": "4cfeac28",
   "metadata": {},
   "source": [
    "### Create spectral embedding vectors"
   ]
  },
  {
   "cell_type": "code",
   "execution_count": 12,
   "id": "708b0385",
   "metadata": {},
   "outputs": [],
   "source": [
    "# import model\n",
    "model_file = os.path.join(embedding_path, \"ALL_GNPS_210409_positive_cleaned_spec2vec_embedding_iter_15.model\")\n",
    "model = gensim.models.Word2Vec.load(model_file)"
   ]
  },
  {
   "cell_type": "code",
   "execution_count": 14,
   "id": "c703db24",
   "metadata": {},
   "outputs": [
    {
     "name": "stdout",
     "output_type": "stream",
     "text": [
      "187152\n"
     ]
    }
   ],
   "source": [
    "from spec2vec import SpectrumDocument\n",
    "documents_spectrums_processed = [SpectrumDocument(s, n_decimals=2) for s in annot_spectrums_processed]\n",
    "print(len(documents_spectrums_processed))"
   ]
  },
  {
   "cell_type": "code",
   "execution_count": 20,
   "id": "c69d607f",
   "metadata": {},
   "outputs": [],
   "source": [
    "from spec2vec.vector_operations import calc_vector\n",
    "spectrum_vectors = [calc_vector(model, s) for s in documents_spectrums_processed]"
   ]
  },
  {
   "cell_type": "markdown",
   "id": "734d972b",
   "metadata": {},
   "source": [
    "### Compute tSNE"
   ]
  },
  {
   "cell_type": "code",
   "execution_count": 23,
   "id": "c564a492",
   "metadata": {},
   "outputs": [],
   "source": [
    "spectrum_vectors = np.vstack(spectrum_vectors)"
   ]
  },
  {
   "cell_type": "code",
   "execution_count": 26,
   "id": "bc3507d1",
   "metadata": {},
   "outputs": [
    {
     "data": {
      "text/plain": [
       "(187152, 300)"
      ]
     },
     "execution_count": 26,
     "metadata": {},
     "output_type": "execute_result"
    }
   ],
   "source": [
    "spectrum_vectors.shape"
   ]
  },
  {
   "cell_type": "code",
   "execution_count": 30,
   "id": "26fb2527",
   "metadata": {},
   "outputs": [],
   "source": [
    "#2d\n",
    "from sklearn.manifold import TSNE\n",
    "tsne_2d = TSNE(n_components=2, random_state=42)\n",
    "tsne_2d_res = tsne_2d.fit_transform(spectrum_vectors)"
   ]
  },
  {
   "cell_type": "code",
   "execution_count": 31,
   "id": "8198957c",
   "metadata": {},
   "outputs": [],
   "source": [
    "#3d\n",
    "from sklearn.manifold import TSNE\n",
    "tsne_3d = TSNE(n_components=3, random_state=42)\n",
    "tsne_3d_res = tsne_3d.fit_transform(spectrum_vectors)"
   ]
  },
  {
   "cell_type": "code",
   "execution_count": 32,
   "id": "457aec4d",
   "metadata": {},
   "outputs": [
    {
     "data": {
      "text/plain": [
       "((187152, 2), (187152, 3))"
      ]
     },
     "execution_count": 32,
     "metadata": {},
     "output_type": "execute_result"
    }
   ],
   "source": [
    "tsne_2d_res.shape, tsne_3d_res.shape"
   ]
  },
  {
   "cell_type": "markdown",
   "id": "6e07c565",
   "metadata": {},
   "source": [
    "### Save tSNE results"
   ]
  },
  {
   "cell_type": "code",
   "execution_count": 40,
   "id": "d437dbca",
   "metadata": {},
   "outputs": [
    {
     "name": "stdout",
     "output_type": "stream",
     "text": [
      "[ -3.786377 -23.733685]\n",
      "-3.786377,-23.733685\n"
     ]
    }
   ],
   "source": [
    "print(tsne_2d_res[0])\n",
    "for a in tsne_2d_res:\n",
    "    print(','.join(map(str,a)))\n",
    "    break"
   ]
  },
  {
   "cell_type": "code",
   "execution_count": 34,
   "id": "7ed46359",
   "metadata": {},
   "outputs": [],
   "source": [
    "tsne_2d_pickle = os.path.join(data_path, base+\"_peaks_processed_s2v_only_annotated_tsne2D.pickle\")\n",
    "tsne_3d_pickle = os.path.join(data_path, base+\"_peaks_processed_s2v_only_annotated_tsne3D.pickle\")\n",
    "pickle.dump(tsne_2d_res, open(tsne_2d_pickle, 'wb'))\n",
    "pickle.dump(tsne_3d_res, open(tsne_3d_pickle, 'wb'))"
   ]
  },
  {
   "cell_type": "code",
   "execution_count": 42,
   "id": "a0a41ee4",
   "metadata": {},
   "outputs": [],
   "source": [
    "tsne_2d_out = os.path.join(data_path, base+\"_peaks_processed_s2v_only_annotated_tsne2D.csv\")\n",
    "with open(tsne_2d_out, 'w') as outf:\n",
    "    for s_id, tsne_r in zip(spectrums_ids, tsne_2d_res):\n",
    "        outf.write(\"{},{}\\n\".format(s_id, ','.join(map(str, tsne_r))))"
   ]
  },
  {
   "cell_type": "code",
   "execution_count": 43,
   "id": "75293fbd",
   "metadata": {},
   "outputs": [],
   "source": [
    "tsne_3d_out = os.path.join(data_path, base+\"_peaks_processed_s2v_only_annotated_tsne3D.csv\")\n",
    "with open(tsne_3d_out, 'w') as outf:\n",
    "    for s_id, tsne_r in zip(spectrums_ids, tsne_3d_res):\n",
    "        outf.write(\"{},{}\\n\".format(s_id, ','.join(map(str, tsne_r))))"
   ]
  },
  {
   "cell_type": "markdown",
   "id": "7a3c3bb9",
   "metadata": {},
   "source": [
    "### Link classifications to selected spectra"
   ]
  },
  {
   "cell_type": "code",
   "execution_count": 44,
   "id": "3c11735b",
   "metadata": {},
   "outputs": [
    {
     "name": "stdout",
     "output_type": "stream",
     "text": [
      "read classes for 19824 inchikeys\n",
      "\n",
      "classes order:\n",
      "['inchi_key', 'smiles', 'cf_kingdom', 'cf_superclass', 'cf_class', 'cf_subclass', 'cf_direct_parent', 'npc_class_results', 'npc_superclass_results', 'npc_pathway_results', 'npc_isglycoside']\n"
     ]
    }
   ],
   "source": [
    "classifications_path = \"/mnt/LTR_userdata/hooft001/mass_spectral_embeddings/classifications/ALL_GNPS_210409_positive/\"\n",
    "classes_file = os.path.join(classifications_path, \"ALL_GNPS_210409_positive_processed_annotated_CF_NPC_classes.txt\")\n",
    "classes = {}  # inchikey: [classes] in order of header\n",
    "with open(classes_file) as inf:\n",
    "    header = inf.readline().strip().split('\\t')\n",
    "    for line in inf:\n",
    "        line = line.strip().split('\\t')\n",
    "        classes[line[0]] = line[2:]\n",
    "print(f'read classes for {len(classes)} inchikeys')\n",
    "print(\"\\nclasses order:\")\n",
    "print(header)"
   ]
  },
  {
   "cell_type": "code",
   "execution_count": 50,
   "id": "86cafd2e",
   "metadata": {},
   "outputs": [
    {
     "name": "stdout",
     "output_type": "stream",
     "text": [
      "187152\n",
      "[['CCMSLIB00000001547', 'Organic compounds', 'Organic acids and derivatives', 'Peptidomimetics', 'Hybrid peptides', 'Hybrid peptides', 'Cyclic peptides; Microcystins', 'Oligopeptides', 'Amino acids and Peptides', '0'], ['CCMSLIB00000001548', 'Organic compounds', 'Organic acids and derivatives', 'Peptidomimetics', 'Depsipeptides', 'Cyclic depsipeptides', 'Cyclic peptides', 'Oligopeptides', 'Amino acids and Peptides', '0']]\n"
     ]
    }
   ],
   "source": [
    "spectra_classes = []\n",
    "empty_class = [\"\" for _ in range(len(header)-2)]\n",
    "assert len(empty_class) == len(header)-2\n",
    "for s_id, spec in zip(spectrums_ids, annot_spectrums_processed):\n",
    "    inchikey = spec.metadata.get(\"inchikey\")\n",
    "    s_classes = classes.get(inchikey, empty_class)\n",
    "    assert len(s_classes) == len(header)-2\n",
    "    res = [s_id] + s_classes\n",
    "    spectra_classes.append(res)\n",
    "print(len(spectra_classes))\n",
    "print(spectra_classes[:2])"
   ]
  },
  {
   "cell_type": "code",
   "execution_count": 49,
   "id": "5754f35f",
   "metadata": {},
   "outputs": [
    {
     "name": "stdout",
     "output_type": "stream",
     "text": [
      "['spectrum_id', 'cf_kingdom', 'cf_superclass', 'cf_class', 'cf_subclass', 'cf_direct_parent', 'npc_class_results', 'npc_superclass_results', 'npc_pathway_results', 'npc_isglycoside']\n"
     ]
    }
   ],
   "source": [
    "new_header = ['spectrum_id'] + header[2:]\n",
    "assert len(new_header) == len(spectra_classes[0])\n",
    "print(new_header)"
   ]
  },
  {
   "cell_type": "code",
   "execution_count": 51,
   "id": "181ea726",
   "metadata": {},
   "outputs": [
    {
     "name": "stdout",
     "output_type": "stream",
     "text": [
      "/mnt/LTR_userdata/hooft001/mass_spectral_embeddings/classifications/ALL_GNPS_210409_positive/ALL_GNPS_210409_positive_cleaned_peaks_processed_s2v_only_annotated_classes.txt\n"
     ]
    }
   ],
   "source": [
    "spectrum_classes_file = os.path.join(classifications_path, \"ALL_GNPS_210409_positive_cleaned_peaks_processed_s2v_only_annotated_classes.txt\")\n",
    "print(spectrum_classes_file)\n",
    "with open(spectrum_classes_file, 'w') as outf:\n",
    "    outf.write(f\"{','.join(new_header)}\\n\")\n",
    "    for line_list in spectra_classes:\n",
    "        outf.write(f\"{','.join(line_list)}\\n\")"
   ]
  }
 ],
 "metadata": {
  "kernelspec": {
   "display_name": "Python 3 (ipykernel)",
   "language": "python",
   "name": "python3"
  },
  "language_info": {
   "codemirror_mode": {
    "name": "ipython",
    "version": 3
   },
   "file_extension": ".py",
   "mimetype": "text/x-python",
   "name": "python",
   "nbconvert_exporter": "python",
   "pygments_lexer": "ipython3",
   "version": "3.8.8"
  }
 },
 "nbformat": 4,
 "nbformat_minor": 5
}
